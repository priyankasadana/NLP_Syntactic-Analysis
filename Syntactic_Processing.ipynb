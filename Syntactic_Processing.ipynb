{
 "cells": [
  {
   "cell_type": "markdown",
   "metadata": {},
   "source": [
    "## POS tagging using modified Viterbi"
   ]
  },
  {
   "cell_type": "markdown",
   "metadata": {},
   "source": [
    "# Problem Statement:\n",
    "Modify vanilla viterbi algorithm to increase the accuracy of finding POS tags."
   ]
  },
  {
   "cell_type": "markdown",
   "metadata": {},
   "source": [
    "### Data Preparation"
   ]
  },
  {
   "cell_type": "code",
   "execution_count": 1,
   "metadata": {},
   "outputs": [],
   "source": [
    "#Importing libraries\n",
    "import nltk\n",
    "import numpy as np\n",
    "import pandas as pd\n",
    "import matplotlib.pyplot as plt\n",
    "import seaborn as sns\n",
    "from sklearn.model_selection import train_test_split\n",
    "import pprint, time\n",
    "import pdb"
   ]
  },
  {
   "cell_type": "code",
   "execution_count": 2,
   "metadata": {},
   "outputs": [],
   "source": [
    "# reading the Treebank tagged sentences\n",
    "nltk_data = list(nltk.corpus.treebank.tagged_sents(tagset='universal'))"
   ]
  },
  {
   "cell_type": "markdown",
   "metadata": {},
   "source": [
    "##### Understanding the tagged data"
   ]
  },
  {
   "cell_type": "code",
   "execution_count": 3,
   "metadata": {},
   "outputs": [
    {
     "data": {
      "text/plain": [
       "[[('Pierre', 'NOUN'),\n",
       "  ('Vinken', 'NOUN'),\n",
       "  (',', '.'),\n",
       "  ('61', 'NUM'),\n",
       "  ('years', 'NOUN'),\n",
       "  ('old', 'ADJ'),\n",
       "  (',', '.'),\n",
       "  ('will', 'VERB'),\n",
       "  ('join', 'VERB'),\n",
       "  ('the', 'DET'),\n",
       "  ('board', 'NOUN'),\n",
       "  ('as', 'ADP'),\n",
       "  ('a', 'DET'),\n",
       "  ('nonexecutive', 'ADJ'),\n",
       "  ('director', 'NOUN'),\n",
       "  ('Nov.', 'NOUN'),\n",
       "  ('29', 'NUM'),\n",
       "  ('.', '.')],\n",
       " [('Mr.', 'NOUN'),\n",
       "  ('Vinken', 'NOUN'),\n",
       "  ('is', 'VERB'),\n",
       "  ('chairman', 'NOUN'),\n",
       "  ('of', 'ADP'),\n",
       "  ('Elsevier', 'NOUN'),\n",
       "  ('N.V.', 'NOUN'),\n",
       "  (',', '.'),\n",
       "  ('the', 'DET'),\n",
       "  ('Dutch', 'NOUN'),\n",
       "  ('publishing', 'VERB'),\n",
       "  ('group', 'NOUN'),\n",
       "  ('.', '.')]]"
      ]
     },
     "execution_count": 3,
     "metadata": {},
     "output_type": "execute_result"
    }
   ],
   "source": [
    "# 1. Let's look at the representation of each sentence in the data set\n",
    "nltk_data[:2]"
   ]
  },
  {
   "cell_type": "markdown",
   "metadata": {},
   "source": [
    "###### Above we can see it is a list of list of tuples i.e. lists of all sentences in a list with word, pos tags in tuples inside each list"
   ]
  },
  {
   "cell_type": "code",
   "execution_count": 4,
   "metadata": {},
   "outputs": [
    {
     "name": "stdout",
     "output_type": "stream",
     "text": [
      "100676\n"
     ]
    }
   ],
   "source": [
    "# 2. Convert the list of sentences into a list of word,pos_tags tuples\n",
    "nltk_data_tagged_words = [tup for sent in nltk_data for tup in sent]\n",
    "print(len(nltk_data_tagged_words))"
   ]
  },
  {
   "cell_type": "markdown",
   "metadata": {},
   "source": [
    "###### Hence, there are 100676 word, pos-tag tuples"
   ]
  },
  {
   "cell_type": "markdown",
   "metadata": {},
   "source": [
    "### Exploratory Data Analysis"
   ]
  },
  {
   "cell_type": "code",
   "execution_count": 5,
   "metadata": {},
   "outputs": [
    {
     "data": {
      "text/plain": [
       "12"
      ]
     },
     "execution_count": 5,
     "metadata": {},
     "output_type": "execute_result"
    }
   ],
   "source": [
    "# 1. How many unique tags exists in Universal tag set\n",
    "tags = [pair[1] for pair in nltk_data_tagged_words]\n",
    "unique_tags = set(tags)\n",
    "len(unique_tags)"
   ]
  },
  {
   "cell_type": "markdown",
   "metadata": {},
   "source": [
    "###### Hence, there are 12 unique tags"
   ]
  },
  {
   "cell_type": "code",
   "execution_count": 6,
   "metadata": {},
   "outputs": [
    {
     "data": {
      "text/plain": [
       "{'.',\n",
       " 'ADJ',\n",
       " 'ADP',\n",
       " 'ADV',\n",
       " 'CONJ',\n",
       " 'DET',\n",
       " 'NOUN',\n",
       " 'NUM',\n",
       " 'PRON',\n",
       " 'PRT',\n",
       " 'VERB',\n",
       " 'X'}"
      ]
     },
     "execution_count": 6,
     "metadata": {},
     "output_type": "execute_result"
    }
   ],
   "source": [
    "# Let's see the list of tags\n",
    "unique_tags"
   ]
  },
  {
   "cell_type": "code",
   "execution_count": 7,
   "metadata": {},
   "outputs": [
    {
     "data": {
      "text/plain": [
       "Counter({'.': 11715,\n",
       "         'ADJ': 6397,\n",
       "         'ADP': 9857,\n",
       "         'ADV': 3171,\n",
       "         'CONJ': 2265,\n",
       "         'DET': 8725,\n",
       "         'NOUN': 28867,\n",
       "         'NUM': 3546,\n",
       "         'PRON': 2737,\n",
       "         'PRT': 3219,\n",
       "         'VERB': 13564,\n",
       "         'X': 6613})"
      ]
     },
     "execution_count": 7,
     "metadata": {},
     "output_type": "execute_result"
    }
   ],
   "source": [
    "# 2. Frequency of tags in the data set and most frequent tag\n",
    "from collections import Counter\n",
    "tag_counts = Counter(tags)\n",
    "tag_counts"
   ]
  },
  {
   "cell_type": "code",
   "execution_count": 8,
   "metadata": {},
   "outputs": [
    {
     "data": {
      "text/plain": [
       "[('NOUN', 28867), ('VERB', 13564), ('.', 11715), ('ADP', 9857), ('DET', 8725)]"
      ]
     },
     "execution_count": 8,
     "metadata": {},
     "output_type": "execute_result"
    }
   ],
   "source": [
    "# Most common tag\n",
    "tag_counts.most_common(5)"
   ]
  },
  {
   "cell_type": "markdown",
   "metadata": {},
   "source": [
    "##### Hence, most common tag is noun followed by verb, ., adpositions(prepositions and postpositions), Determiners"
   ]
  },
  {
   "cell_type": "markdown",
   "metadata": {},
   "source": [
    "### Build the vanilla Viterbi based POS tagger"
   ]
  },
  {
   "cell_type": "code",
   "execution_count": 9,
   "metadata": {},
   "outputs": [
    {
     "name": "stdout",
     "output_type": "stream",
     "text": [
      "3718\n",
      "196\n",
      "[[('This', 'DET'), ('year', 'NOUN'), (',', '.'), ('the', 'DET'), ('average', 'NOUN'), ('of', 'ADP'), ('daily', 'ADJ'), ('contracts', 'NOUN'), ('traded', 'VERB'), ('*', 'X'), ('totaled', 'VERB'), ('9,118', 'NUM'), (',', '.'), ('up', 'ADP'), ('from', 'ADP'), ('4,645', 'NUM'), ('a', 'DET'), ('year', 'NOUN'), ('earlier', 'ADJ'), ('and', 'CONJ'), ('from', 'ADP'), ('917', 'NUM'), ('in', 'ADP'), ('1984', 'NUM'), ('.', '.')], [('First', 'NOUN'), ('of', 'ADP'), ('America', 'NOUN'), (',', '.'), ('which', 'DET'), ('*T*-1', 'X'), ('now', 'ADV'), ('has', 'VERB'), ('45', 'NUM'), ('banks', 'NOUN'), ('and', 'CONJ'), ('$', '.'), ('12.5', 'NUM'), ('billion', 'NUM'), ('*U*', 'X'), ('in', 'ADP'), ('assets', 'NOUN'), (',', '.'), ('announced', 'VERB'), ('an', 'DET'), ('agreement', 'NOUN'), ('*', 'X'), ('to', 'PRT'), ('acquire', 'VERB'), ('the', 'DET'), ('Peoria', 'NOUN'), (',', '.'), ('Ill.', 'NOUN'), (',', '.'), ('bank', 'NOUN'), ('holding', 'VERB'), ('company', 'NOUN'), ('in', 'ADP'), ('January', 'NOUN'), ('.', '.')], [('Meanwhile', 'ADV'), (',', '.'), ('traders', 'NOUN'), ('in', 'ADP'), ('Tokyo', 'NOUN'), ('say', 'VERB'), ('that', 'ADP'), ('the', 'DET'), ('prospect', 'NOUN'), ('of', 'ADP'), ('lower', 'ADJ'), ('U.S.', 'NOUN'), ('interest', 'NOUN'), ('rates', 'NOUN'), ('has', 'VERB'), ('spurred', 'VERB'), ('dollar', 'NOUN'), ('buying', 'VERB'), ('by', 'ADP'), ('Japanese', 'ADJ'), ('institutions', 'NOUN'), ('.', '.')], [('Although', 'ADP'), ('she', 'PRON'), ('was', 'VERB'), ('kind', 'ADJ'), ('and', 'CONJ'), ('playful', 'ADJ'), ('to', 'PRT'), ('her', 'PRON'), ('children', 'NOUN'), (',', '.'), ('she', 'PRON'), ('was', 'VERB'), ('dreadful', 'ADJ'), ('to', 'PRT'), ('her', 'PRON'), ('war-damaged', 'ADJ'), ('husband', 'NOUN'), (';', '.'), ('she', 'PRON'), ('openly', 'ADV'), ('brought', 'VERB'), ('her', 'PRON'), ('lover', 'NOUN'), ('into', 'ADP'), ('their', 'PRON'), ('home', 'NOUN'), ('.', '.')], [('Mr.', 'NOUN'), ('Sidak', 'NOUN'), ('served', 'VERB'), ('as', 'ADP'), ('an', 'DET'), ('attorney', 'NOUN'), ('in', 'ADP'), ('the', 'DET'), ('Reagan', 'NOUN'), ('administration', 'NOUN'), ('.', '.')]]\n"
     ]
    }
   ],
   "source": [
    "# 1. Split the dataset into train and test data - 95% - 5% of sentences\n",
    "np.random.seed(1234)\n",
    "nltk_data_train_set, nltk_data_vali_set = train_test_split(nltk_data,test_size=0.05)\n",
    "print(len(nltk_data_train_set))\n",
    "print(len(nltk_data_vali_set))\n",
    "print(nltk_data_train_set[:5])"
   ]
  },
  {
   "cell_type": "code",
   "execution_count": 10,
   "metadata": {},
   "outputs": [
    {
     "name": "stdout",
     "output_type": "stream",
     "text": [
      "95799\n"
     ]
    }
   ],
   "source": [
    "# 2. create List of tagged words for test and train dataset\n",
    "train_tagged_words = [tup for sent in nltk_data_train_set for tup in sent]\n",
    "print(len(train_tagged_words))"
   ]
  },
  {
   "cell_type": "code",
   "execution_count": 11,
   "metadata": {},
   "outputs": [
    {
     "name": "stdout",
     "output_type": "stream",
     "text": [
      "4877\n"
     ]
    }
   ],
   "source": [
    "validation_tagged_words = [tup for sent in nltk_data_vali_set for tup in sent]\n",
    "print(len(validation_tagged_words))"
   ]
  },
  {
   "cell_type": "code",
   "execution_count": 12,
   "metadata": {},
   "outputs": [],
   "source": [
    "# We could have divided the words in the 95 is to 5 ratio but its better to take dataset as sentences as there may occur sentences\n",
    "# with more number of words compared to others. \n",
    "# As we see 4877 is around 4.84% of total words which is almost near to 5% so, if we would have splitted it after converting list of sentence\n",
    "# to list of word,pos then also that would not have made much difference."
   ]
  },
  {
   "cell_type": "markdown",
   "metadata": {},
   "source": [
    "##### Note (Important): Our aim is to start with vanilla viterbi algorithm and then improve the algorithm to find correct pos-tags for unknown words\n",
    "For doing so we need to look at one important observation. The observation is that the validation data set should have words (unknown) which \n",
    "are not present in training data set in order to evaluate that whether the models are improving or not on unknown words and hence, overall"
   ]
  },
  {
   "cell_type": "code",
   "execution_count": 13,
   "metadata": {},
   "outputs": [
    {
     "name": "stdout",
     "output_type": "stream",
     "text": [
      "12073\n"
     ]
    }
   ],
   "source": [
    "# 3. Check if validation data set has unknown words\n",
    "words_train_set = [pair[0] for pair in train_tagged_words]\n",
    "# Vocablary of training dataset\n",
    "vocab_train_set = set(words_train_set)\n",
    "print(len(vocab_train_set))"
   ]
  },
  {
   "cell_type": "code",
   "execution_count": 14,
   "metadata": {},
   "outputs": [
    {
     "name": "stdout",
     "output_type": "stream",
     "text": [
      "1877\n"
     ]
    }
   ],
   "source": [
    "words_validation_set = [pair[0] for pair in validation_tagged_words]\n",
    "# vocablary of validation dataset\n",
    "vocab_validation_set = set(words_validation_set)\n",
    "print(len(vocab_validation_set))"
   ]
  },
  {
   "cell_type": "code",
   "execution_count": 15,
   "metadata": {},
   "outputs": [],
   "source": [
    "# Get a list of words in validation data set which are not present in training data set"
   ]
  },
  {
   "cell_type": "code",
   "execution_count": 16,
   "metadata": {},
   "outputs": [
    {
     "name": "stdout",
     "output_type": "stream",
     "text": [
      "335\n"
     ]
    }
   ],
   "source": [
    "unknown_words = np.setdiff1d(words_validation_set,words_train_set)\n",
    "print(len(unknown_words))"
   ]
  },
  {
   "cell_type": "code",
   "execution_count": 17,
   "metadata": {},
   "outputs": [
    {
     "data": {
      "text/plain": [
       "array(['*-129', '*-139', '*-158', '*T*-104', '*T*-110', '*T*-120',\n",
       "       '*T*-121', '*T*-151', '*T*-152', '*T*-153', '*T*-194', '*T*-223',\n",
       "       '*T*-230', '*T*-232', '*T*-234', '*T*-260', '0.56', '0.84', '1.24',\n",
       "       '1.39', '11.5', '12-member', '130.7', '14.43', '14.53', '154.2',\n",
       "       '1637', '1917', '1933', '1934', '1961', '1968', '1988-89', '1997',\n",
       "       '3.16', '3.28', '300-113', '300-day', '341.20', '387.8', '422.5',\n",
       "       '446.62', '45.2', '490', '5.57', '5.63', '500-Stock', '6.44',\n",
       "       '62.1', '620', '8.35', '8.60', '8.9', '84.9', '913', 'AC-130U',\n",
       "       'Abbey', 'Activity', 'Agnew', 'Always', 'Ancient', 'Anglian',\n",
       "       'Arabian', 'Asians', 'Back', 'Bears', 'Brenda', 'Bucking', 'Bugs',\n",
       "       'Bunny', 'Carbide', 'Card', 'Cathedral', 'Characters', 'Charlie',\n",
       "       'Clemens', 'Communists', 'Concurrent', 'Cullowhee', 'DEFENSE',\n",
       "       'Dakotas', 'Debt', 'Default', 'Different', 'Dogs', 'Dolan',\n",
       "       'Dolphin', 'Elisabeth', 'GOODY', 'Gingl', 'Glauber', 'Goode',\n",
       "       'Gottlieb', 'Gunmen', 'Having', 'Islamic', 'Jimmy', 'Johnny', 'Jr',\n",
       "       'Kathryn', 'Kerensky', 'Lebanon', 'Lizhi', 'Lonski', 'Macheski',\n",
       "       'Malizia', 'Manfred', 'McAuley', 'Mount', 'N.Y', 'Negus', 'Nine',\n",
       "       'Otherwise', 'PRODUCTS', 'Perch', 'Perritt', 'Petersburg',\n",
       "       'Propaganda', 'Proponents', 'R.D.', 'Rated', 'Rexinger', 'Riyadh',\n",
       "       'Rubinfien', 'Ruth', 'SWITCHING', 'Sacramento-based', 'Salty',\n",
       "       'Seahorse', 'Seattle-based', 'Sherwin', 'Shuxian', 'Similar',\n",
       "       'Something', 'TO', 'Tailors', 'Tarwhine', 'Typical', 'U.S.-Japan',\n",
       "       'Vice', 'Vos', 'Westminster', 'Wilton', 'Yorker', 'Youths',\n",
       "       'accompany', 'accomplishments', 'acquisition-minded', 'actor',\n",
       "       'addressing', 'aesthetic', 'aids', 'alarmed', 'amended',\n",
       "       'approached', 'arrest', 'ascendency', 'assassinated', 'asset-sale',\n",
       "       'assisted', 'avenge', 'bags', 'beforehand', 'beheading',\n",
       "       'bell-ringing', 'bicameral', 'bless', 'blighted', 'blip',\n",
       "       'boarding', 'borough', 'botched', 'breakfast', 'buildup',\n",
       "       'cancer-causing', 'carriers', 'centerpiece', 'chopped', 'clouds',\n",
       "       'coated', 'comedies', 'computer-system-design', 'consisting',\n",
       "       'convert', 'counterweight', 'crapshoot', 'decorator', 'derivative',\n",
       "       'derivatives', 'detail', 'diminish', 'discontent', 'disembodied',\n",
       "       'dissident', 'doctorate', 'double-C', 'drew', 'drinks', 'dust',\n",
       "       'earliest', 'eight-count', 'element', 'emerging', 'everyday',\n",
       "       'execs', 'exists', 'exits', 'famed', 'famous', 'fast-growing',\n",
       "       'fattened', 'favors', 'fires', 'flashy', 'flightiness', 'flooded',\n",
       "       'forthcoming', 'fuller', 'galling', 'galvanized', 'generate',\n",
       "       'gigantic', 'hamstrung', 'hardest-hit', 'heartland', 'hither',\n",
       "       'hung', 'immense', 'implicitly', 'indictment', 'inflated',\n",
       "       'inherently', 'inheritor', 'interior', 'intrusion', 'jeweler',\n",
       "       'knight', 'learning', 'limping', 'lower-priced', 'male-only',\n",
       "       'mania', 'manipulate', 'minority-owned', 'mirrors', 'mistakes',\n",
       "       'money-fund', 'narrowly', 'needy', 'networks', 'nonfinancial',\n",
       "       'north', 'notable', 'occupying', 'one-house', 'outbid',\n",
       "       'outdistanced', 'outlawed', 'outpaced', 'override', 'pain',\n",
       "       'pealing', 'personally', 'pipe', 'polarized', 'pools',\n",
       "       'powerhouse', 'precise', 'presentation', 'printers', 'pro-Iranian',\n",
       "       'prohibiting', 'promised', 'provoke', 'pushes', 'ranging',\n",
       "       'reaped', 'reaping', 'red-carpet', 'redeeming', 'refuge',\n",
       "       'refunded', 'relation', 'reps', 'restored', 'restructurings',\n",
       "       'richer', 'rises', 'risk-free', 'scarce', 'search-and-seizure',\n",
       "       'security-type', 'seized', 'seven-year', 'shaky', 'short-lived',\n",
       "       'side-crash', 'signature', 'slaying', 'sociology', 'sole',\n",
       "       'solvent', 'sparkplugs', 'spin-off', 'spook', 'standpoint',\n",
       "       'stiffer', 'stoked', 'stress', 'structural', 'stuck',\n",
       "       'sufficiently', 'supportive', 'sweatshirts', 'sweepstakes',\n",
       "       'tempts', 'terrorists', 'traced', 'triple-C', 'troublesome',\n",
       "       'unanimous', 'undesirable', 'undisclosed', 'unenticing',\n",
       "       'untrained', 'valuations', 'ventilated', 'wasted', 'wave',\n",
       "       'whistle', 'wildly', 'windfall', 'wizards', 'yen-denominated',\n",
       "       'yon'], dtype='<U22')"
      ]
     },
     "execution_count": 17,
     "metadata": {},
     "output_type": "execute_result"
    }
   ],
   "source": [
    "unknown_words"
   ]
  },
  {
   "cell_type": "code",
   "execution_count": 18,
   "metadata": {},
   "outputs": [
    {
     "name": "stdout",
     "output_type": "stream",
     "text": [
      "12\n"
     ]
    }
   ],
   "source": [
    "# 4. Recheck the number of tags in train data set so that we are sure about all the tags availabilty in training dataset \n",
    "# This will help in creating a good model as all type of data will be avaliable\n",
    "tags_train = [pair[1] for pair in train_tagged_words]\n",
    "unique_tags = set(tags_train)\n",
    "T = len(unique_tags)\n",
    "print(T)"
   ]
  },
  {
   "cell_type": "markdown",
   "metadata": {},
   "source": [
    "##### Yes, there are quite a lot unknown words in validation set and all the 12 tags are available in training dataset"
   ]
  },
  {
   "cell_type": "code",
   "execution_count": 19,
   "metadata": {},
   "outputs": [],
   "source": [
    "# We are ready to run the Vanilla Viterbi algorithm for assigning pos-tags\n",
    "# 5. Emission probabilities calculation - computing P(w/t) and storing in T x V matrix\n",
    "t = len(unique_tags)\n",
    "v = len(vocab_train_set)\n",
    "w_given_t = np.zeros((t, v))"
   ]
  },
  {
   "cell_type": "code",
   "execution_count": 20,
   "metadata": {},
   "outputs": [],
   "source": [
    "# compute word given tag: Emission Probability\n",
    "def word_given_tag(word, tag, train_bag = train_tagged_words):\n",
    "    tag_list = [pair for pair in train_bag if pair[1]==tag]\n",
    "    count_tag = len(tag_list)\n",
    "    w_given_tag_list = [pair[0] for pair in tag_list if pair[0]==word]\n",
    "    count_w_given_tag = len(w_given_tag_list)\n",
    "    \n",
    "    return (count_w_given_tag, count_tag)"
   ]
  },
  {
   "cell_type": "code",
   "execution_count": 21,
   "metadata": {},
   "outputs": [],
   "source": [
    "# 6. Transition probabilities - ompute tag given tag: tag2(t2) given tag1 (t1)\n",
    "def t2_given_t1(t2, t1, train_bag = train_tagged_words):\n",
    "    tags = [pair[1] for pair in train_bag]\n",
    "    count_t1 = len([t for t in tags if t==t1])\n",
    "    count_t2_t1 = 0\n",
    "    for index in range(len(tags)-1):\n",
    "        if tags[index]==t1 and tags[index+1] == t2:\n",
    "            count_t2_t1 += 1\n",
    "    return (count_t2_t1, count_t1)"
   ]
  },
  {
   "cell_type": "code",
   "execution_count": 22,
   "metadata": {},
   "outputs": [],
   "source": [
    "# creating t x t transition matrix of tags\n",
    "# each column is t2, each row is t1\n",
    "# thus M(i, j) represents P(tj given ti)\n",
    "\n",
    "tags_matrix = np.zeros((len(unique_tags), len(unique_tags)), dtype='float32')\n",
    "for i, t1 in enumerate(list(unique_tags)):\n",
    "    for j, t2 in enumerate(list(unique_tags)): \n",
    "        tags_matrix[i, j] = t2_given_t1(t2, t1)[0]/t2_given_t1(t2, t1)[1]"
   ]
  },
  {
   "cell_type": "code",
   "execution_count": 23,
   "metadata": {},
   "outputs": [
    {
     "data": {
      "text/plain": [
       "array([[9.40700844e-02, 2.33602873e-03, 4.46540862e-02, 5.77717870e-02,\n",
       "        8.87690932e-02, 8.05929899e-02, 1.73225522e-01, 9.03863460e-02,\n",
       "        2.23090753e-01, 6.57681972e-02, 2.73135677e-02, 5.19317165e-02],\n",
       "       [4.16938104e-02, 1.95439742e-03, 8.40390846e-02, 2.28013028e-03,\n",
       "        4.02931601e-01, 5.66775240e-02, 9.96742696e-02, 2.11726390e-02,\n",
       "        2.47882739e-01, 1.79153103e-02, 1.40065150e-02, 9.77198686e-03],\n",
       "       [6.58090040e-02, 1.08857006e-02, 6.53142035e-02, 1.66584197e-02,\n",
       "        1.22051788e-02, 2.11116616e-02, 4.94804559e-03, 7.75193796e-02,\n",
       "        6.98499084e-01, 6.59739424e-04, 2.14415304e-02, 4.94804559e-03],\n",
       "       [3.31156701e-02, 5.13059692e-03, 1.18936568e-01, 4.66417900e-04,\n",
       "        1.58582091e-01, 4.15111929e-02, 1.18470147e-01, 5.27052246e-02,\n",
       "        3.48880589e-01, 5.73694035e-02, 8.86194035e-03, 5.59701510e-02],\n",
       "       [3.51665393e-02, 3.12161110e-02, 6.52207583e-02, 5.57707204e-03,\n",
       "        1.67622000e-01, 2.26955842e-02, 1.33617356e-01, 9.14020166e-02,\n",
       "        1.10844307e-01, 3.53214554e-02, 2.17815652e-01, 8.35011601e-02],\n",
       "       [1.15933411e-01, 2.70511303e-02, 3.24019007e-02, 1.33769326e-02,\n",
       "        1.81331746e-02, 1.84898928e-01, 2.97265151e-03, 3.56718190e-02,\n",
       "        3.54637325e-01, 1.48632575e-03, 2.10463732e-01, 2.97265151e-03],\n",
       "       [1.77772399e-02, 2.41867208e-04, 2.03652188e-01, 4.83734417e-04,\n",
       "        3.95452902e-02, 2.23727170e-02, 5.44201257e-03, 9.19095427e-03,\n",
       "        6.38650358e-01, 3.74894193e-03, 4.61966395e-02, 1.26980292e-02],\n",
       "       [3.98423336e-02, 1.49142428e-03, 1.05784595e-01, 9.58772784e-04,\n",
       "        8.52242485e-03, 6.20006397e-02, 3.22893351e-01, 1.65121984e-02,\n",
       "        3.22893351e-01, 7.02034757e-02, 3.50484699e-02, 1.38489399e-02],\n",
       "       [2.39306912e-01, 4.39736433e-02, 1.22310799e-02, 4.22627516e-02,\n",
       "        1.46336138e-01, 9.53732990e-03, 1.32503370e-02, 1.77023038e-01,\n",
       "        2.64897525e-01, 4.76866495e-03, 2.92308256e-02, 1.71817560e-02],\n",
       "       [4.04734649e-02, 1.18365791e-02, 7.36922473e-02, 4.58190171e-03,\n",
       "        4.87972498e-01, 7.25467736e-03, 9.16380342e-03, 2.32913326e-02,\n",
       "        2.07331046e-01, 7.63650239e-03, 9.39289778e-02, 3.28369625e-02],\n",
       "       [1.62816450e-01, 1.84651896e-01, 1.64556969e-02, 1.07594933e-02,\n",
       "        2.04113930e-01, 2.68987333e-03, 5.41139245e-02, 1.44936711e-01,\n",
       "        6.21835440e-02, 5.63291125e-02, 7.48417750e-02, 2.61075944e-02],\n",
       "       [1.34665787e-01, 1.47444298e-02, 1.29750982e-01, 6.88073412e-03,\n",
       "        3.44364345e-01, 3.14547829e-02, 6.84796870e-02, 1.18610747e-01,\n",
       "        3.11271306e-02, 1.53997382e-02, 2.32634339e-02, 8.12581927e-02]],\n",
       "      dtype=float32)"
      ]
     },
     "execution_count": 23,
     "metadata": {},
     "output_type": "execute_result"
    }
   ],
   "source": [
    "tags_matrix"
   ]
  },
  {
   "cell_type": "code",
   "execution_count": 24,
   "metadata": {},
   "outputs": [],
   "source": [
    "# convert the matrix to a df for better readability\n",
    "tags_df = pd.DataFrame(tags_matrix, columns = list(unique_tags), index=list(unique_tags))"
   ]
  },
  {
   "cell_type": "code",
   "execution_count": 25,
   "metadata": {},
   "outputs": [
    {
     "data": {
      "text/html": [
       "<div>\n",
       "<style scoped>\n",
       "    .dataframe tbody tr th:only-of-type {\n",
       "        vertical-align: middle;\n",
       "    }\n",
       "\n",
       "    .dataframe tbody tr th {\n",
       "        vertical-align: top;\n",
       "    }\n",
       "\n",
       "    .dataframe thead th {\n",
       "        text-align: right;\n",
       "    }\n",
       "</style>\n",
       "<table border=\"1\" class=\"dataframe\">\n",
       "  <thead>\n",
       "    <tr style=\"text-align: right;\">\n",
       "      <th></th>\n",
       "      <th>.</th>\n",
       "      <th>PRT</th>\n",
       "      <th>ADJ</th>\n",
       "      <th>CONJ</th>\n",
       "      <th>VERB</th>\n",
       "      <th>NUM</th>\n",
       "      <th>DET</th>\n",
       "      <th>ADP</th>\n",
       "      <th>NOUN</th>\n",
       "      <th>PRON</th>\n",
       "      <th>X</th>\n",
       "      <th>ADV</th>\n",
       "    </tr>\n",
       "  </thead>\n",
       "  <tbody>\n",
       "    <tr>\n",
       "      <th>.</th>\n",
       "      <td>0.094070</td>\n",
       "      <td>0.002336</td>\n",
       "      <td>0.044654</td>\n",
       "      <td>0.057772</td>\n",
       "      <td>0.088769</td>\n",
       "      <td>0.080593</td>\n",
       "      <td>0.173226</td>\n",
       "      <td>0.090386</td>\n",
       "      <td>0.223091</td>\n",
       "      <td>0.065768</td>\n",
       "      <td>0.027314</td>\n",
       "      <td>0.051932</td>\n",
       "    </tr>\n",
       "    <tr>\n",
       "      <th>PRT</th>\n",
       "      <td>0.041694</td>\n",
       "      <td>0.001954</td>\n",
       "      <td>0.084039</td>\n",
       "      <td>0.002280</td>\n",
       "      <td>0.402932</td>\n",
       "      <td>0.056678</td>\n",
       "      <td>0.099674</td>\n",
       "      <td>0.021173</td>\n",
       "      <td>0.247883</td>\n",
       "      <td>0.017915</td>\n",
       "      <td>0.014007</td>\n",
       "      <td>0.009772</td>\n",
       "    </tr>\n",
       "    <tr>\n",
       "      <th>ADJ</th>\n",
       "      <td>0.065809</td>\n",
       "      <td>0.010886</td>\n",
       "      <td>0.065314</td>\n",
       "      <td>0.016658</td>\n",
       "      <td>0.012205</td>\n",
       "      <td>0.021112</td>\n",
       "      <td>0.004948</td>\n",
       "      <td>0.077519</td>\n",
       "      <td>0.698499</td>\n",
       "      <td>0.000660</td>\n",
       "      <td>0.021442</td>\n",
       "      <td>0.004948</td>\n",
       "    </tr>\n",
       "    <tr>\n",
       "      <th>CONJ</th>\n",
       "      <td>0.033116</td>\n",
       "      <td>0.005131</td>\n",
       "      <td>0.118937</td>\n",
       "      <td>0.000466</td>\n",
       "      <td>0.158582</td>\n",
       "      <td>0.041511</td>\n",
       "      <td>0.118470</td>\n",
       "      <td>0.052705</td>\n",
       "      <td>0.348881</td>\n",
       "      <td>0.057369</td>\n",
       "      <td>0.008862</td>\n",
       "      <td>0.055970</td>\n",
       "    </tr>\n",
       "    <tr>\n",
       "      <th>VERB</th>\n",
       "      <td>0.035167</td>\n",
       "      <td>0.031216</td>\n",
       "      <td>0.065221</td>\n",
       "      <td>0.005577</td>\n",
       "      <td>0.167622</td>\n",
       "      <td>0.022696</td>\n",
       "      <td>0.133617</td>\n",
       "      <td>0.091402</td>\n",
       "      <td>0.110844</td>\n",
       "      <td>0.035321</td>\n",
       "      <td>0.217816</td>\n",
       "      <td>0.083501</td>\n",
       "    </tr>\n",
       "    <tr>\n",
       "      <th>NUM</th>\n",
       "      <td>0.115933</td>\n",
       "      <td>0.027051</td>\n",
       "      <td>0.032402</td>\n",
       "      <td>0.013377</td>\n",
       "      <td>0.018133</td>\n",
       "      <td>0.184899</td>\n",
       "      <td>0.002973</td>\n",
       "      <td>0.035672</td>\n",
       "      <td>0.354637</td>\n",
       "      <td>0.001486</td>\n",
       "      <td>0.210464</td>\n",
       "      <td>0.002973</td>\n",
       "    </tr>\n",
       "    <tr>\n",
       "      <th>DET</th>\n",
       "      <td>0.017777</td>\n",
       "      <td>0.000242</td>\n",
       "      <td>0.203652</td>\n",
       "      <td>0.000484</td>\n",
       "      <td>0.039545</td>\n",
       "      <td>0.022373</td>\n",
       "      <td>0.005442</td>\n",
       "      <td>0.009191</td>\n",
       "      <td>0.638650</td>\n",
       "      <td>0.003749</td>\n",
       "      <td>0.046197</td>\n",
       "      <td>0.012698</td>\n",
       "    </tr>\n",
       "    <tr>\n",
       "      <th>ADP</th>\n",
       "      <td>0.039842</td>\n",
       "      <td>0.001491</td>\n",
       "      <td>0.105785</td>\n",
       "      <td>0.000959</td>\n",
       "      <td>0.008522</td>\n",
       "      <td>0.062001</td>\n",
       "      <td>0.322893</td>\n",
       "      <td>0.016512</td>\n",
       "      <td>0.322893</td>\n",
       "      <td>0.070203</td>\n",
       "      <td>0.035048</td>\n",
       "      <td>0.013849</td>\n",
       "    </tr>\n",
       "    <tr>\n",
       "      <th>NOUN</th>\n",
       "      <td>0.239307</td>\n",
       "      <td>0.043974</td>\n",
       "      <td>0.012231</td>\n",
       "      <td>0.042263</td>\n",
       "      <td>0.146336</td>\n",
       "      <td>0.009537</td>\n",
       "      <td>0.013250</td>\n",
       "      <td>0.177023</td>\n",
       "      <td>0.264898</td>\n",
       "      <td>0.004769</td>\n",
       "      <td>0.029231</td>\n",
       "      <td>0.017182</td>\n",
       "    </tr>\n",
       "    <tr>\n",
       "      <th>PRON</th>\n",
       "      <td>0.040473</td>\n",
       "      <td>0.011837</td>\n",
       "      <td>0.073692</td>\n",
       "      <td>0.004582</td>\n",
       "      <td>0.487972</td>\n",
       "      <td>0.007255</td>\n",
       "      <td>0.009164</td>\n",
       "      <td>0.023291</td>\n",
       "      <td>0.207331</td>\n",
       "      <td>0.007637</td>\n",
       "      <td>0.093929</td>\n",
       "      <td>0.032837</td>\n",
       "    </tr>\n",
       "    <tr>\n",
       "      <th>X</th>\n",
       "      <td>0.162816</td>\n",
       "      <td>0.184652</td>\n",
       "      <td>0.016456</td>\n",
       "      <td>0.010759</td>\n",
       "      <td>0.204114</td>\n",
       "      <td>0.002690</td>\n",
       "      <td>0.054114</td>\n",
       "      <td>0.144937</td>\n",
       "      <td>0.062184</td>\n",
       "      <td>0.056329</td>\n",
       "      <td>0.074842</td>\n",
       "      <td>0.026108</td>\n",
       "    </tr>\n",
       "    <tr>\n",
       "      <th>ADV</th>\n",
       "      <td>0.134666</td>\n",
       "      <td>0.014744</td>\n",
       "      <td>0.129751</td>\n",
       "      <td>0.006881</td>\n",
       "      <td>0.344364</td>\n",
       "      <td>0.031455</td>\n",
       "      <td>0.068480</td>\n",
       "      <td>0.118611</td>\n",
       "      <td>0.031127</td>\n",
       "      <td>0.015400</td>\n",
       "      <td>0.023263</td>\n",
       "      <td>0.081258</td>\n",
       "    </tr>\n",
       "  </tbody>\n",
       "</table>\n",
       "</div>"
      ],
      "text/plain": [
       "             .       PRT       ADJ      CONJ      VERB       NUM       DET  \\\n",
       ".     0.094070  0.002336  0.044654  0.057772  0.088769  0.080593  0.173226   \n",
       "PRT   0.041694  0.001954  0.084039  0.002280  0.402932  0.056678  0.099674   \n",
       "ADJ   0.065809  0.010886  0.065314  0.016658  0.012205  0.021112  0.004948   \n",
       "CONJ  0.033116  0.005131  0.118937  0.000466  0.158582  0.041511  0.118470   \n",
       "VERB  0.035167  0.031216  0.065221  0.005577  0.167622  0.022696  0.133617   \n",
       "NUM   0.115933  0.027051  0.032402  0.013377  0.018133  0.184899  0.002973   \n",
       "DET   0.017777  0.000242  0.203652  0.000484  0.039545  0.022373  0.005442   \n",
       "ADP   0.039842  0.001491  0.105785  0.000959  0.008522  0.062001  0.322893   \n",
       "NOUN  0.239307  0.043974  0.012231  0.042263  0.146336  0.009537  0.013250   \n",
       "PRON  0.040473  0.011837  0.073692  0.004582  0.487972  0.007255  0.009164   \n",
       "X     0.162816  0.184652  0.016456  0.010759  0.204114  0.002690  0.054114   \n",
       "ADV   0.134666  0.014744  0.129751  0.006881  0.344364  0.031455  0.068480   \n",
       "\n",
       "           ADP      NOUN      PRON         X       ADV  \n",
       ".     0.090386  0.223091  0.065768  0.027314  0.051932  \n",
       "PRT   0.021173  0.247883  0.017915  0.014007  0.009772  \n",
       "ADJ   0.077519  0.698499  0.000660  0.021442  0.004948  \n",
       "CONJ  0.052705  0.348881  0.057369  0.008862  0.055970  \n",
       "VERB  0.091402  0.110844  0.035321  0.217816  0.083501  \n",
       "NUM   0.035672  0.354637  0.001486  0.210464  0.002973  \n",
       "DET   0.009191  0.638650  0.003749  0.046197  0.012698  \n",
       "ADP   0.016512  0.322893  0.070203  0.035048  0.013849  \n",
       "NOUN  0.177023  0.264898  0.004769  0.029231  0.017182  \n",
       "PRON  0.023291  0.207331  0.007637  0.093929  0.032837  \n",
       "X     0.144937  0.062184  0.056329  0.074842  0.026108  \n",
       "ADV   0.118611  0.031127  0.015400  0.023263  0.081258  "
      ]
     },
     "execution_count": 25,
     "metadata": {},
     "output_type": "execute_result"
    }
   ],
   "source": [
    "tags_df"
   ]
  },
  {
   "cell_type": "code",
   "execution_count": 26,
   "metadata": {},
   "outputs": [
    {
     "data": {
      "image/png": "[encoded data removed]",
      "text/plain": [
       "<matplotlib.figure.Figure at 0x19e28870e48>"
      ]
     },
     "metadata": {},
     "output_type": "display_data"
    }
   ],
   "source": [
    "# frequent tags\n",
    "# 7. filter the df to get P(t2, t1) > 0.5\n",
    "tags_frequent = tags_df[tags_df>0.5]\n",
    "plt.figure(figsize=(18, 12))\n",
    "sns.heatmap(tags_frequent)\n",
    "plt.show()"
   ]
  },
  {
   "cell_type": "markdown",
   "metadata": {},
   "source": [
    "###### Visualize transition matrix as a heat map to see how each of these probabilities look like. It shows noun following adjective has one of the highest probability"
   ]
  },
  {
   "cell_type": "code",
   "execution_count": 27,
   "metadata": {},
   "outputs": [
    {
     "data": {
      "text/plain": [
       "95799"
      ]
     },
     "execution_count": 27,
     "metadata": {},
     "output_type": "execute_result"
    }
   ],
   "source": [
    "len(train_tagged_words)"
   ]
  },
  {
   "cell_type": "code",
   "execution_count": 28,
   "metadata": {},
   "outputs": [],
   "source": [
    "# 8. Viterbi Heuristic\n",
    "def Viterbi(words, train_bag = train_tagged_words):\n",
    "    state = []\n",
    "    T = list(set([pair[1] for pair in train_bag]))\n",
    "    \n",
    "    for key, word in enumerate(words):\n",
    "        #initialise list of probability column for a given observation\n",
    "        p = [] \n",
    "        for tag in T:\n",
    "            if key == 0:\n",
    "                transition_p = tags_df.loc['.', tag]\n",
    "            else:\n",
    "                transition_p = tags_df.loc[state[-1], tag]\n",
    "                \n",
    "            # compute emission and state probabilities\n",
    "            count_w_given_tag, count_tag = word_given_tag(words[key], tag)\n",
    "            emission_p = count_w_given_tag/count_tag\n",
    "            state_probability = emission_p * transition_p    \n",
    "            p.append(state_probability)\n",
    "            \n",
    "        pmax = max(p)\n",
    "        # getting state for which probability is maximum\n",
    "        state_max = T[p.index(pmax)] \n",
    "        state.append(state_max)\n",
    "    return list(zip(words, state))\n"
   ]
  },
  {
   "cell_type": "code",
   "execution_count": 29,
   "metadata": {},
   "outputs": [],
   "source": [
    "# 9. validation untagged words\n",
    "validation_untagged_words = [tup[0] for sent in nltk_data_vali_set for tup in sent]"
   ]
  },
  {
   "cell_type": "code",
   "execution_count": 30,
   "metadata": {},
   "outputs": [
    {
     "data": {
      "text/plain": [
       "4877"
      ]
     },
     "execution_count": 30,
     "metadata": {},
     "output_type": "execute_result"
    }
   ],
   "source": [
    "len(validation_untagged_words)"
   ]
  },
  {
   "cell_type": "code",
   "execution_count": 31,
   "metadata": {},
   "outputs": [],
   "source": [
    "# 9. tagging the validation sentences\n",
    "start = time.time()\n",
    "tagged_seq = Viterbi(validation_untagged_words)\n",
    "end = time.time()\n",
    "difference = end-start"
   ]
  },
  {
   "cell_type": "code",
   "execution_count": 32,
   "metadata": {},
   "outputs": [
    {
     "name": "stdout",
     "output_type": "stream",
     "text": [
      "Time taken in seconds:  471.90437293052673\n",
      "[('Ruth', '.'), ('K.', 'NOUN'), ('Nelson', 'NOUN'), ('Cullowhee', '.'), (',', '.'), ('N.C', 'NOUN'), ('.', '.'), ('Among', 'ADP'), ('other', 'ADJ'), ('Connecticut', 'NOUN'), ('banks', 'NOUN'), ('whose', 'PRON'), ('shares', 'NOUN'), ('*T*-121', '.'), ('trade', 'NOUN'), ('in', 'ADP'), ('the', 'DET'), ('OTC', 'NOUN'), ('market', 'NOUN'), (',', '.'), ('Society', 'NOUN'), ('for', 'ADP'), ('Savings', 'NOUN'), ('Bancorp', 'NOUN'), (',', '.'), ('based', 'VERB'), ('*', 'X'), ('in', 'ADP'), ('Hartford', 'NOUN'), (',', '.'), ('saw', 'VERB'), ('its', 'PRON'), ('stock', 'NOUN'), ('rise', 'VERB'), ('1', 'NUM'), ('3\\\\/4', 'NUM'), ('to', 'PRT'), ('18', 'NUM'), ('1\\\\/4', 'NUM'), ('.', '.'), ('Card', '.'), ('holders', 'NOUN'), ('who', 'PRON'), ('*T*-59', 'X'), ('receive', 'VERB'), ('the', 'DET'), ('letter', 'NOUN'), ('also', 'ADV'), ('are', 'VERB'), ('eligible', 'ADJ'), ('for', 'ADP'), ('a', 'DET'), ('sweepstakes', '.'), ('with', 'ADP'), ('Buick', 'NOUN'), ('cars', 'NOUN'), ('or', 'CONJ'), ('a', 'DET'), ('Hawaii', 'NOUN'), ('vacation', 'NOUN'), ('as', 'ADP'), ('prizes', 'NOUN'), ('.', '.'), ('Maxwell', 'NOUN'), ('R.D.', '.'), ('Vos', '.'), ('Brooklyn', 'NOUN'), (',', '.'), ('N.Y', '.'), ('.', '.'), ('The', 'DET'), ('Perch', '.'), ('and', 'CONJ'), ('Dolphin', '.'), ('fields', 'NOUN'), ('are', 'VERB'), ('expected', 'VERB'), ('*-3', 'X'), ('to', 'PRT'), ('start', 'VERB'), ('*-1', 'X'), ('producing', 'VERB'), ('early', 'ADV'), ('next', 'ADJ'), ('year', 'NOUN'), (',', '.'), ('and', 'CONJ'), ('the', 'DET'), ('Seahorse', '.'), ('and', 'CONJ'), ('Tarwhine', '.'), ('fields', 'NOUN'), ('later', 'ADJ'), ('next', 'ADJ'), ('year', 'NOUN'), ('.', '.'), ('In', 'ADP'), ('August', 'NOUN'), (',', '.'), ('the', 'DET'), ('commission', 'NOUN'), ('ruled', 'VERB'), ('that', 'ADP'), ('between', 'ADP'), ('$', '.'), ('190', 'NUM'), ('million', 'NUM'), ('and', 'CONJ'), ('$', '.'), ('195', 'NUM'), ('million', 'NUM'), ('*U*', 'X'), ('of', 'ADP'), ('the', 'DET'), ('plant', 'NOUN'), (\"'s\", 'PRT'), ('construction', 'NOUN'), ('cost', 'NOUN'), ('was', 'VERB'), ('unreasonable', 'ADJ'), ('and', 'CONJ'), ('should', 'VERB'), ('be', 'VERB'), ('refunded', '.'), ('*-1', 'X'), (',', '.'), ('plus', 'CONJ'), ('interest', 'NOUN'), ('.', '.'), ('The', 'DET'), ('newly', 'ADV'), ('fattened', '.'), ('premiums', 'NOUN'), ('reflect', 'VERB'), ('the', 'DET'), ('increasingly', 'ADV'), ('global', 'ADJ'), ('marketing', 'NOUN'), ('of', 'ADP'), ('some', 'DET'), ('country', 'NOUN'), ('funds', 'NOUN'), (',', '.'), ('Mr.', 'NOUN'), ('Porter', 'NOUN'), ('suggests', 'VERB'), ('0', 'X'), ('*T*-1', 'X'), ('.', '.'), ('``', '.'), ('David', 'NOUN'), ('Dinkins', 'NOUN'), ('failed', 'VERB'), ('*-2', 'X'), ('to', 'PRT'), ('file', 'VERB'), ('his', 'PRON'), ('income', 'NOUN'), ('taxes', 'NOUN'), ('for', 'ADP'), ('four', 'NUM'), ('straight', 'ADJ'), ('years', 'NOUN'), (',', '.'), (\"''\", '.'), ('says', 'VERB'), ('*T*-1', 'X'), ('a', 'DET'), ('disembodied', '.'), ('male', 'ADJ'), ('voice', 'NOUN'), ('.', '.'), ('Otherwise', '.'), (',', '.'), ('actual', 'ADJ'), ('profit', 'NOUN'), ('is', 'VERB'), ('compared', 'VERB'), ('*-1', 'X'), ('with', 'ADP'), ('the', 'DET'), ('300-day', '.'), ('estimate', 'NOUN'), ('.', '.'), ('The', 'DET'), ('oldest', 'ADJ'), ('bell-ringing', '.'), ('group', 'NOUN'), ('in', 'ADP'), ('the', 'DET'), ('country', 'NOUN'), (',', '.'), ('the', 'DET'), ('Ancient', '.'), ('Society', 'NOUN'), ('of', 'ADP'), ('College', 'NOUN'), ('Youths', '.'), (',', '.'), ('founded', 'VERB'), ('*', 'X'), ('in', 'ADP'), ('1637', '.'), (',', '.'), ('remains', 'VERB'), ('male-only', '.'), (',', '.'), ('a', 'DET'), ('fact', 'NOUN'), ('that', 'ADP'), ('*T*-230', '.'), (\"'s\", 'VERB'), ('particularly', 'ADV'), ('galling', '.'), ('to', 'PRT'), ('women', 'NOUN'), ('because', 'ADP'), ('the', 'DET'), ('group', 'NOUN'), ('is', 'VERB'), ('the', 'DET'), ('sole', '.'), ('source', 'NOUN'), ('of', 'ADP'), ('ringers', 'NOUN'), ('for', 'ADP'), ('Britain', 'NOUN'), (\"'s\", 'PRT'), ('most', 'ADJ'), ('prestigious', 'ADJ'), ('churches', 'NOUN'), (',', '.'), ('St.', 'NOUN'), ('Paul', 'NOUN'), (\"'s\", 'PRT'), ('Cathedral', '.'), ('and', 'CONJ'), ('Westminster', '.'), ('Abbey', '.'), ('.', '.'), ('But', 'CONJ'), ('a', 'DET'), ('Soviet', 'ADJ'), ('bank', 'NOUN'), ('here', 'ADV'), ('would', 'VERB'), ('be', 'VERB'), ('crippled', 'VERB'), ('*-51', 'X'), ('unless', 'ADP'), ('Moscow', 'NOUN'), ('found', 'VERB'), ('a', 'DET'), ('way', 'NOUN'), ('0', 'X'), ('*', 'X'), ('to', 'PRT'), ('settle', 'VERB'), ('the', 'DET'), ('$', '.'), ('188', 'NUM'), ('million', 'NUM'), ('*U*', 'X'), ('debt', 'NOUN'), (',', '.'), ('which', 'DET'), ('*T*-1', 'X'), ('was', 'VERB'), ('lent', 'VERB'), ('*-52', 'X'), ('to', 'PRT'), ('the', 'DET'), ('country', 'NOUN'), (\"'s\", 'PRT'), ('short-lived', '.'), ('democratic', 'ADJ'), ('Kerensky', '.'), ('government', 'NOUN'), ('before', 'ADP'), ('the', 'DET'), ('Communists', '.'), ('seized', '.'), ('power', 'NOUN'), ('in', 'ADP'), ('1917', '.'), ('*T*-2', 'X'), ('.', '.'), ('The', 'DET'), ('recent', 'ADJ'), ('explosion', 'NOUN'), ('of', 'ADP'), ('country', 'NOUN'), ('funds', 'NOUN'), ('mirrors', '.'), ('the', 'DET'), ('``', '.'), ('closed-end', 'ADJ'), ('fund', 'NOUN'), ('mania', '.'), (\"''\", '.'), ('of', 'ADP'), ('the', 'DET'), ('1920s', 'NUM'), (',', '.'), ('Mr.', 'NOUN'), ('Foot', 'NOUN'), ('says', 'VERB'), ('0', 'X'), ('*T*-2', 'X'), (',', '.'), ('when', 'ADV'), ('narrowly', '.'), ('focused', 'VERB'), ('funds', 'NOUN'), ('grew', 'VERB'), ('wildly', '.'), ('popular', 'ADJ'), ('*T*-1', 'X'), ('.', '.'), ('The', 'DET'), ('yield', 'NOUN'), ('fell', 'VERB'), ('to', 'PRT'), ('7.88', 'NUM'), ('%', 'NOUN'), ('.', '.'), ('He', 'PRON'), ('cites', 'VERB'), ('the', 'DET'), ('recent', 'ADJ'), ('deal', 'NOUN'), ('between', 'ADP'), ('the', 'DET'), ('Mitsubishi', 'NOUN'), ('Estate', 'NOUN'), ('Co.', 'NOUN'), ('and', 'CONJ'), ('the', 'DET'), ('Rockefeller', 'NOUN'), ('Group', 'NOUN'), (',', '.'), ('as', 'ADP'), ('well', 'ADV'), ('as', 'ADP'), ('the', 'DET'), ('possible', 'ADJ'), ('white', 'NOUN'), ('knight', '.'), ('role', 'NOUN'), ('of', 'ADP'), ('an', 'DET'), ('undisclosed', '.'), ('Japanese', 'ADJ'), ('company', 'NOUN'), ('in', 'ADP'), ('the', 'DET'), ('Georgia-Pacific', 'NOUN'), ('Corp.', 'NOUN'), ('takeover', 'NOUN'), ('bid', 'NOUN'), ('for', 'ADP'), ('Great', 'NOUN'), ('Northern', 'NOUN'), ('Nekoosa', 'NOUN'), ('Corp.', 'NOUN'), ('as', 'ADP'), ('evidence', 'NOUN'), ('.', '.'), ('Mr.', 'NOUN'), ('Hammond', 'NOUN'), ('worries', 'VERB'), ('that', 'ADP'), ('old', 'ADJ'), ('age', 'NOUN'), ('and', 'CONJ'), ('the', 'DET'), ('flightiness', '.'), ('of', 'ADP'), ('youth', 'NOUN'), ('will', 'VERB'), ('diminish', '.'), ('the', 'DET'), ('ranks', 'NOUN'), ('of', 'ADP'), ('the', 'DET'), ('East', 'NOUN'), ('Anglian', '.'), ('group', 'NOUN'), ('that', 'ADP'), ('*T*-223', '.'), ('keeps', 'VERB'), ('the', 'DET'), ('Aslacton', 'NOUN'), ('bells', 'NOUN'), ('pealing', '.'), ('.', '.'), ('Serial', 'ADJ'), ('bonds', 'NOUN'), ('are', 'VERB'), ('priced', 'VERB'), ('*-1', 'X'), ('*', 'X'), ('to', 'PRT'), ('yield', 'VERB'), ('from', 'ADP'), ('6.20', 'NUM'), ('%', 'NOUN'), ('in', 'ADP'), ('1991', 'NUM'), ('to', 'PRT'), ('7', 'NUM'), ('%', 'NOUN'), ('in', 'ADP'), ('2000', 'NUM'), ('.', '.'), ('Yesterday', 'NOUN'), (',', '.'), ('the', 'DET'), ('stock', 'NOUN'), ('market', 'NOUN'), ('rose', 'VERB'), ('strongly', 'ADV'), (',', '.'), ('*', 'X'), ('creating', 'VERB'), ('a', 'DET'), ('more', 'ADJ'), ('defensive', 'ADJ'), ('attitude', 'NOUN'), ('among', 'ADP'), ('precious', 'ADJ'), ('metals', 'NOUN'), ('traders', 'NOUN'), (',', '.'), ('he', 'PRON'), ('said', 'VERB'), ('0', 'X'), ('*T*-1', 'X'), ('.', '.'), ('From', 'ADP'), ('an', 'DET'), ('advertising', 'NOUN'), ('standpoint', '.'), (',', '.'), ('the', 'DET'), ('problem', 'NOUN'), ('is', 'VERB'), ('0', 'X'), ('these', 'DET'), ('offenders', 'NOUN'), ('are', 'VERB'), ('likely', 'ADJ'), ('*-1', 'X'), ('to', 'PRT'), ('be', 'VERB'), ('some', 'DET'), ('of', 'ADP'), ('the', 'DET'), ('same', 'ADJ'), ('folks', 'NOUN'), ('that', 'ADP'), ('*T*-153', '.'), ('are', 'VERB'), ('major', 'ADJ'), ('magazine', 'NOUN'), ('advertisers', 'NOUN'), ('these', 'DET'), ('days', 'NOUN'), ('.', '.'), ('*-1', 'X'), ('Stung', 'VERB'), ('by', 'ADP'), ('charges', 'NOUN'), ('that', 'ADP'), ('their', 'PRON'), ('greed', 'NOUN'), ('is', 'VERB'), ('turning', 'VERB'), ('the', 'DET'), ('stock', 'NOUN'), ('market', 'NOUN'), ('into', 'ADP'), ('a', 'DET'), ('gigantic', '.'), ('crapshoot', '.'), (',', '.'), ('almost', 'ADV'), ('all', 'DET'), ('the', 'DET'), ('big', 'ADJ'), ('investment', 'NOUN'), ('banking', 'NOUN'), ('houses', 'NOUN'), ('have', 'VERB'), ('abandoned', 'VERB'), ('index', 'NOUN'), ('arbitrage', 'NOUN'), (',', '.'), ('a', 'DET'), ('common', 'ADJ'), ('form', 'NOUN'), ('of', 'ADP'), ('program', 'NOUN'), ('trading', 'NOUN'), (',', '.'), ('for', 'ADP'), ('their', 'PRON'), ('own', 'ADJ'), ('accounts', 'NOUN'), ('in', 'ADP'), ('the', 'DET'), ('past', 'ADJ'), ('few', 'ADJ'), ('days', 'NOUN'), ('.', '.'), ('Plans', 'NOUN'), ('*', 'X'), ('to', 'PRT'), ('do', 'VERB'), ('this', 'DET'), ('are', 'VERB'), ('due', 'ADJ'), ('*', 'X'), ('to', 'PRT'), ('be', 'VERB'), ('filed', 'VERB'), ('*-1', 'X'), ('in', 'ADP'), ('a', 'DET'), ('week', 'NOUN'), ('or', 'CONJ'), ('so', 'ADV'), ('.', '.'), ('The', 'DET'), ('appointment', 'NOUN'), ('takes', 'VERB'), ('effect', 'NOUN'), ('Nov.', 'NOUN'), ('13', 'NUM'), ('.', '.'), ('In', 'ADP'), ('1976', 'NUM'), (',', '.'), ('for', 'ADP'), ('example', 'NOUN'), (',', '.'), ('dividends', 'NOUN'), ('on', 'ADP'), ('the', 'DET'), ('stocks', 'NOUN'), ('in', 'ADP'), ('Standard', 'NOUN'), ('&', 'CONJ'), ('Poor', 'NOUN'), (\"'s\", 'PRT'), ('500-stock', 'ADJ'), ('index', 'NOUN'), ('soared', 'VERB'), ('10', 'NUM'), ('%', 'NOUN'), (',', '.'), ('following', 'VERB'), ('much', 'ADV'), ('slower', 'ADJ'), ('growth', 'NOUN'), ('the', 'DET'), ('year', 'NOUN'), ('before', 'ADP'), ('.', '.'), ('A', 'DET'), ('buffet', 'VERB'), ('breakfast', '.'), ('was', 'VERB'), ('held', 'VERB'), ('*-1', 'X'), ('in', 'ADP'), ('the', 'DET'), ('museum', 'NOUN'), (',', '.'), ('where', 'ADV'), ('food', 'NOUN'), ('and', 'CONJ'), ('drinks', '.'), ('are', 'VERB'), ('banned', 'VERB'), ('*-2', 'X'), ('to', 'PRT'), ('everyday', '.'), ('visitors', 'NOUN'), ('*T*-3', 'X'), ('.', '.'), ('At', 'ADP'), ('the', 'DET'), ('same', 'ADJ'), ('time', 'NOUN'), (',', '.'), ('Viacom', 'NOUN'), ('is', 'VERB'), ('trying', 'VERB'), ('*-1', 'X'), ('to', 'PRT'), ('persuade', 'VERB'), ('stations', 'NOUN'), ('*-2', 'X'), ('to', 'PRT'), ('make', 'VERB'), ('commitments', 'NOUN'), ('to', 'PRT'), ('``', '.'), ('A', 'DET'), ('Different', '.'), ('World', 'NOUN'), (',', '.'), (\"''\", '.'), ('a', 'DET'), ('spin-off', '.'), ('of', 'ADP'), ('``', '.'), ('Cosby', 'NOUN'), (\"''\", '.'), ('whose', 'PRON'), ('reruns', 'NOUN'), ('*T*-151', '.'), ('will', 'VERB'), ('become', 'VERB'), ('available', 'ADJ'), ('in', 'ADP'), ('1991', 'NUM'), ('.', '.'), ('The', 'DET'), ('forthcoming', '.'), ('maturity', 'NOUN'), ('in', 'ADP'), ('November', 'NOUN'), ('of', 'ADP'), ('a', 'DET'), ('10-year', 'ADJ'), ('Japanese', 'ADJ'), ('government', 'NOUN'), ('yen-denominated', '.'), ('bond', 'NOUN'), ('issue', 'NOUN'), ('valued', 'VERB'), ('*', 'X'), ('at', 'ADP'), ('about', 'ADP'), ('$', '.'), ('16', 'NUM'), ('billion', 'NUM'), ('*U*', 'X'), ('has', 'VERB'), ('prompted', 'VERB'), ('speculation', 'NOUN'), ('*ICH*-2', 'X'), ('in', 'ADP'), ('the', 'DET'), ('market', 'NOUN'), ('that', 'ADP'), ('investors', 'NOUN'), ('redeeming', '.'), ('the', 'DET'), ('bonds', 'NOUN'), ('will', 'VERB'), ('diversify', 'VERB'), ('into', 'ADP'), ('dollar-denominated', 'ADJ'), ('instruments', 'NOUN'), (',', '.'), ('according', 'VERB'), ('to', 'PRT'), ('Mr.', 'NOUN'), ('Madison', 'NOUN'), ('.', '.'), ('This', 'DET'), ('provision', 'NOUN'), ('amounts', 'NOUN'), ('to', 'PRT'), ('a', 'DET'), ('legislative', 'ADJ'), ('veto', 'NOUN'), ('over', 'ADP'), ('the', 'DET'), ('president', 'NOUN'), (\"'s\", 'PRT'), ('execution', 'NOUN'), ('of', 'ADP'), ('the', 'DET'), ('law', 'NOUN'), (',', '.'), ('since', 'ADP'), ('a', 'DET'), ('one-house', '.'), ('resolution', 'NOUN'), ('could', 'VERB'), ('be', 'VERB'), ('said', 'VERB'), ('*-1', 'X'), ('to', 'PRT'), ('be', 'VERB'), ('``', '.'), ('duly', 'ADV'), ('adopted', 'VERB'), (\"''\", '.'), ('even', 'ADV'), ('though', 'ADP'), ('it', 'PRON'), ('would', 'VERB'), ('require', 'VERB'), ('neither', 'DET'), ('bicameral', '.'), ('action', 'NOUN'), ('in', 'ADP'), ('Congress', 'NOUN'), ('nor', 'CONJ'), ('presentation', '.'), ('to', 'PRT'), ('the', 'DET'), ('president', 'NOUN'), ('for', 'ADP'), ('his', 'PRON'), ('signature', '.'), ('or', 'CONJ'), ('veto', 'NOUN'), ('.', '.'), ('He', 'PRON'), ('and', 'CONJ'), ('other', 'ADJ'), ('critics', 'NOUN'), ('say', 'VERB'), ('0', 'X'), ('such', 'ADJ'), ('coaching', 'NOUN'), ('aids', '.'), ('can', 'VERB'), ('defeat', 'NOUN'), ('the', 'DET'), ('purpose', 'NOUN'), ('of', 'ADP'), ('standardized', 'ADJ'), ('tests', 'NOUN'), (',', '.'), ('which', 'DET'), ('*T*-104', '.'), ('is', 'VERB'), ('*', 'X'), ('to', 'PRT'), ('gauge', 'VERB'), ('learning', '.'), ('progress', 'NOUN'), ('.', '.'), ('Railroad', 'NOUN'), ('companies', 'NOUN'), ('and', 'CONJ'), ('some', 'DET'), ('ports', 'NOUN'), ('are', 'VERB'), ('reaping', '.'), ('a', 'DET'), ('sudden', 'ADJ'), ('windfall', '.'), ('of', 'ADP'), ('business', 'NOUN'), ('.', '.'), ('He', 'PRON'), ('also', 'ADV'), ('claims', 'VERB'), ('0', 'X'), ('the', 'DET'), ('carrier', 'NOUN'), ('costs', 'NOUN'), ('less', 'ADV'), ('and', 'CONJ'), ('takes', 'VERB'), ('up', 'ADV'), ('less', 'ADJ'), ('space', 'NOUN'), ('than', 'ADP'), ('most', 'ADJ'), ('paper', 'NOUN'), ('carriers', '.'), ('.', '.'), ('Although', 'ADP'), ('takeover', 'NOUN'), ('experts', 'NOUN'), ('said', 'VERB'), ('0', 'X'), ('they', 'PRON'), ('doubted', 'VERB'), ('0', 'X'), ('Mr.', 'NOUN'), ('Steinberg', 'NOUN'), ('will', 'VERB'), ('make', 'VERB'), ('a', 'DET'), ('bid', 'NOUN'), ('by', 'ADP'), ('himself', 'PRON'), (',', '.'), ('the', 'DET'), ('application', 'NOUN'), ('by', 'ADP'), ('his', 'PRON'), ('Reliance', 'NOUN'), ('Group', 'NOUN'), ('Holdings', 'NOUN'), ('Inc.', 'NOUN'), ('could', 'VERB'), ('signal', 'VERB'), ('his', 'PRON'), ('interest', 'NOUN'), ('in', 'ADP'), ('*', 'X'), ('helping', 'VERB'), ('*-1', 'X'), ('revive', 'VERB'), ('a', 'DET'), ('failed', 'VERB'), ('labor-management', 'NOUN'), ('bid', 'NOUN'), ('.', '.'), ('Gunmen', '.'), ('in', 'ADP'), ('Lebanon', '.'), ('assassinated', '.'), ('a', 'DET'), ('Saudi', 'NOUN'), ('Arabian', '.'), ('Embassy', 'NOUN'), ('employee', 'NOUN'), (',', '.'), ('and', 'CONJ'), ('the', 'DET'), ('pro-Iranian', '.'), ('Islamic', '.'), ('Jihad', 'NOUN'), ('took', 'VERB'), ('responsibility', 'NOUN'), ('for', 'ADP'), ('the', 'DET'), ('slaying', '.'), ('0', 'X'), ('*T*-1', 'X'), ('to', 'PRT'), ('avenge', '.'), ('the', 'DET'), ('beheading', '.'), ('of', 'ADP'), ('16', 'NUM'), ('terrorists', '.'), ('by', 'ADP'), ('Riyadh', '.'), (\"'s\", 'VERB'), ('government', 'NOUN'), ('in', 'ADP'), ('September', 'NOUN'), ('.', '.'), ('All', 'DET'), ('the', 'DET'), ('contracts', 'NOUN'), ('were', 'VERB'), ('for', 'ADP'), ('computer-system-design', '.'), ('contracts', 'NOUN'), ('and', 'CONJ'), ('involved', 'VERB'), ('no', 'DET'), ('hardware', 'NOUN'), ('or', 'CONJ'), ('software', 'NOUN'), ('.', '.'), ('But', 'CONJ'), ('they', 'PRON'), ('have', 'VERB'), ('obtained', 'VERB'), ('8300', 'NUM'), ('forms', 'NOUN'), ('without', 'ADP'), ('court', 'NOUN'), ('permission', 'NOUN'), ('and', 'CONJ'), ('used', 'VERB'), ('the', 'DET'), ('information', 'NOUN'), ('*-1', 'X'), ('to', 'PRT'), ('help', 'VERB'), ('develop', 'VERB'), ('criminal', 'ADJ'), ('cases', 'NOUN'), ('.', '.'), ('And', 'CONJ'), ('unlike', 'ADJ'), ('some', 'DET'), ('trays', 'NOUN'), (',', '.'), ('there', 'DET'), (\"'s\", 'VERB'), ('no', 'DET'), ('place', 'NOUN'), ('for', 'ADP'), ('food', 'NOUN'), ('.', '.'), (\"Dunkin'\", 'NOUN'), ('is', 'VERB'), ('based', 'VERB'), ('*-1', 'X'), ('in', 'ADP'), ('Randolph', 'NOUN'), (',', '.'), ('Mass', 'NOUN'), ('.', '.'), ('I', 'PRON'), ('have', 'VERB'), ('seen', 'VERB'), ('one', 'NUM'), ('or', 'CONJ'), ('two', 'NUM'), ('men', 'NOUN'), ('die', 'VERB'), (',', '.'), ('*', 'X'), ('bless', '.'), ('them', 'PRON'), ('.', '.'), ('The', 'DET'), ('training', 'NOUN'), ('wage', 'NOUN'), ('covers', 'VERB'), ('only', 'ADV'), ('workers', 'NOUN'), ('who', 'PRON'), ('*T*-260', '.'), ('are', 'VERB'), ('16', 'NUM'), ('to', 'PRT'), ('19', 'NUM'), ('years', 'NOUN'), ('old', 'ADJ'), ('.', '.'), ('Sen.', 'NOUN'), ('Danforth', 'NOUN'), ('and', 'CONJ'), ('others', 'NOUN'), ('also', 'ADV'), ('want', 'VERB'), ('the', 'DET'), ('department', 'NOUN'), ('to', 'PRT'), ('require', 'VERB'), ('additional', 'ADJ'), ('safety', 'NOUN'), ('equipment', 'NOUN'), ('*ICH*-1', 'X'), ('in', 'ADP'), ('light', 'ADJ'), ('trucks', 'NOUN'), ('and', 'CONJ'), ('minivans', 'NOUN'), (',', '.'), ('including', 'VERB'), ('air', 'VERB'), ('bags', '.'), ('or', 'CONJ'), ('automatic', 'ADJ'), ('seat', 'NOUN'), ('belts', 'NOUN'), ('in', 'ADP'), ('front', 'NOUN'), ('seats', 'NOUN'), ('and', 'CONJ'), ('improved', 'VERB'), ('side-crash', '.'), ('protection', 'NOUN'), ('.', '.'), ('GOODY', '.'), ('PRODUCTS', '.'), ('Inc.', 'NOUN'), ('cut', 'VERB'), ('its', 'PRON'), ('quarterly', 'ADJ'), ('dividend', 'NOUN'), ('to', 'PRT'), ('five', 'NUM'), ('cents', 'NOUN'), ('a', 'DET'), ('share', 'NOUN'), ('from', 'ADP'), ('11.5', '.'), ('cents', 'NOUN'), ('a', 'DET'), ('share', 'NOUN'), ('.', '.'), ('In', 'ADP'), ('September', 'NOUN'), (',', '.'), ('she', 'PRON'), ('pleaded', 'VERB'), ('guilty', 'ADJ'), ('and', 'CONJ'), ('paid', 'VERB'), ('a', 'DET'), ('$', '.'), ('500', 'NUM'), ('*U*', 'X'), ('fine', 'NOUN'), ('.', '.'), ('She', 'PRON'), ('was', 'VERB'), ('untrained', '.'), ('and', 'CONJ'), (',', '.'), ('in', 'ADP'), ('one', 'NUM'), ('botched', '.'), ('job', 'NOUN'), ('killed', 'VERB'), ('a', 'DET'), ('client', 'NOUN'), ('.', '.'), ('Yesterday', 'NOUN'), (',', '.'), ('Sea', 'NOUN'), ('Containers', 'NOUN'), (\"'\", 'PRT'), ('chief', 'NOUN'), ('executive', 'NOUN'), ('officer', 'NOUN'), (',', '.'), ('James', 'NOUN'), ('Sherwood', 'NOUN'), (',', '.'), ('said', 'VERB'), ('in', 'ADP'), ('an', 'DET'), ('interview', 'NOUN'), ('that', 'ADP'), (',', '.'), ('under', 'ADP'), ('the', 'DET'), ('asset-sale', '.'), ('plan', 'NOUN'), (',', '.'), ('Sea', 'NOUN'), ('Containers', 'NOUN'), ('would', 'VERB'), ('end', 'NOUN'), ('up', 'PRT'), ('with', 'ADP'), ('a', 'DET'), ('cash', 'NOUN'), ('surplus', 'NOUN'), ('of', 'ADP'), ('approximately', 'ADV'), ('$', '.'), ('620', '.'), ('million', 'NUM'), ('*U*', 'X'), ('.', '.'), ('The', 'DET'), ('St.', 'NOUN'), ('Louis', 'NOUN'), ('company', 'NOUN'), ('earned', 'VERB'), ('$', '.'), ('45.2', '.'), ('million', 'NUM'), ('*U*', 'X'), (',', '.'), ('or', 'CONJ'), ('65', 'NUM'), ('cents', 'NOUN'), ('a', 'DET'), ('share', 'NOUN'), (',', '.'), ('compared', 'VERB'), ('with', 'ADP'), ('$', '.'), ('84.9', '.'), ('million', 'NUM'), ('*U*', 'X'), (',', '.'), ('or', 'CONJ'), ('$', '.'), ('1.24', '.'), ('*U*', 'X'), ('a', 'DET'), ('share', 'NOUN'), (',', '.'), ('a', 'DET'), ('year', 'NOUN'), ('earlier', 'ADV'), ('.', '.'), ('In', 'ADP'), ('an', 'DET'), ('eight-count', '.'), ('indictment', '.'), (',', '.'), ('the', 'DET'), ('government', 'NOUN'), ('has', 'VERB'), ('charged', 'VERB'), ('GAF', 'NOUN'), (',', '.'), ('a', 'DET'), ('Wayne', 'NOUN'), (',', '.'), ('N.J.', 'NOUN'), (',', '.'), ('specialty', 'NOUN'), ('chemical', 'NOUN'), ('maker', 'NOUN'), (',', '.'), ('and', 'CONJ'), ('its', 'PRON'), ('Vice', '.'), ('Chairman', 'NOUN'), ('James', 'NOUN'), ('T.', 'NOUN'), ('Sherwin', '.'), ('with', 'ADP'), ('*-2', 'X'), ('attempting', 'VERB'), ('*-1', 'X'), ('to', 'PRT'), ('manipulate', '.'), ('the', 'DET'), ('common', 'ADJ'), ('stock', 'NOUN'), ('of', 'ADP'), ('Union', 'NOUN'), ('Carbide', '.'), ('Corp.', 'NOUN'), ('in', 'ADP'), ('advance', 'NOUN'), ('of', 'ADP'), ('GAF', 'NOUN'), (\"'s\", 'PRT'), ('planned', 'VERB'), ('sale', 'NOUN'), ('of', 'ADP'), ('a', 'DET'), ('large', 'ADJ'), ('block', 'NOUN'), ('of', 'ADP'), ('the', 'DET'), ('stock', 'NOUN'), ('in', 'ADP'), ('November', 'NOUN'), ('1986', 'NUM'), ('.', '.'), ('All', 'DET'), ('of', 'ADP'), ('the', 'DET'), ('changes', 'NOUN'), ('require', 'VERB'), ('regulatory', 'ADJ'), ('approval', 'NOUN'), (',', '.'), ('which', 'DET'), ('*T*-1', 'X'), ('is', 'VERB'), ('expected', 'VERB'), ('*-129', '.'), ('shortly', 'ADV'), ('.', '.'), ('He', 'PRON'), ('has', 'VERB'), ('promised', '.'), ('stiffer', '.'), ('fines', 'NOUN'), (',', '.'), ('though', 'ADP'), ('the', 'DET'), ('size', 'NOUN'), ('of', 'ADP'), ('penalties', 'NOUN'), ('sought', 'VERB'), ('*', 'X'), ('by', 'ADP'), ('OSHA', 'NOUN'), ('have', 'VERB'), ('been', 'VERB'), ('rising', 'VERB'), ('in', 'ADP'), ('recent', 'ADJ'), ('years', 'NOUN'), ('even', 'ADV'), ('before', 'ADP'), ('he', 'PRON'), ('took', 'VERB'), ('office', 'NOUN'), ('this', 'DET'), ('year', 'NOUN'), ('.', '.'), ('Mr.', 'NOUN'), ('Phelan', 'NOUN'), ('said', 'VERB'), ('0', 'X'), ('the', 'DET'), ('Big', 'NOUN'), ('Board', 'NOUN'), ('is', 'VERB'), ('likely', 'ADJ'), ('*-1', 'X'), ('to', 'PRT'), ('study', 'NOUN'), ('the', 'DET'), ('program-trading', 'ADJ'), ('issue', 'NOUN'), ('.', '.'), ('Sales', 'NOUN'), ('rose', 'VERB'), ('4', 'NUM'), ('%', 'NOUN'), ('to', 'PRT'), ('$', '.'), ('3.28', '.'), ('billion', 'NUM'), ('*U*', 'X'), ('from', 'ADP'), ('$', '.'), ('3.16', '.'), ('billion', 'NUM'), ('*U*', 'X'), ('.', '.'), ('They', 'PRON'), ('succeed', 'VERB'), ('Daniel', 'NOUN'), ('M.', 'NOUN'), ('Rexinger', '.'), (',', '.'), ('retired', 'VERB'), ('Circuit', 'NOUN'), ('City', 'NOUN'), ('executive', 'NOUN'), ('vice', 'NOUN'), ('president', 'NOUN'), (',', '.'), ('and', 'CONJ'), ('Robert', 'NOUN'), ('R.', 'NOUN'), ('Glauber', '.'), (',', '.'), ('U.S.', 'NOUN'), ('Treasury', 'NOUN'), ('undersecretary', 'NOUN'), (',', '.'), ('on', 'ADP'), ('the', 'DET'), ('12-member', '.'), ('board', 'NOUN'), ('.', '.'), ('``', '.'), ('Even', 'ADV'), ('the', 'DET'), ('7.2', 'NUM'), ('%', 'NOUN'), ('return', 'NOUN'), ('from', 'ADP'), ('the', 'DET'), ('risk-free', '.'), ('three-month', 'ADJ'), ('Treasury', 'NOUN'), ('bill', 'NOUN'), ('has', 'VERB'), ('easily', 'ADV'), ('outdistanced', '.'), ('the', 'DET'), ('4.1', 'NUM'), ('%', 'NOUN'), ('return', 'NOUN'), ('from', 'ADP'), ('junk', 'NOUN'), ('bonds', 'NOUN'), (',', '.'), (\"''\", '.'), ('wrote', 'VERB'), ('*T*-1', 'X'), ('Moody', 'NOUN'), (\"'s\", 'PRT'), ('economist', 'NOUN'), ('John', 'NOUN'), ('Lonski', '.'), ('in', 'ADP'), ('yesterday', 'NOUN'), (\"'s\", 'PRT'), ('market', 'NOUN'), ('report', 'NOUN'), ('.', '.'), ('In', 'ADP'), ('most', 'ADJ'), ('of', 'ADP'), ('the', 'DET'), ('British', 'ADJ'), ('transactions', 'NOUN'), (',', '.'), ('the', 'DET'), ('municipalities', 'NOUN'), ('agreed', 'VERB'), ('*-1', 'X'), ('to', 'PRT'), ('make', 'VERB'), ('floating-rate', 'ADJ'), ('payments', 'NOUN'), ('to', 'PRT'), ('banks', 'NOUN'), (',', '.'), ('which', 'DET'), ('*T*-62', 'X'), ('would', 'VERB'), ('make', 'VERB'), ('fixed-rate', 'ADJ'), ('payments', 'NOUN'), ('.', '.'), ('He', 'PRON'), ('said', 'VERB'), ('0', 'X'), ('USX', 'NOUN'), ('also', 'ADV'), ('appeared', 'VERB'), ('*-1', 'X'), ('to', 'PRT'), ('sell', 'VERB'), ('a', 'DET'), ('richer', '.'), ('mix', 'NOUN'), ('of', 'ADP'), ('steel', 'NOUN'), ('products', 'NOUN'), (',', '.'), ('such', 'ADJ'), ('as', 'ADP'), ('the', 'DET'), ('more', 'ADJ'), ('profitable', 'ADJ'), ('pipe', '.'), ('and', 'CONJ'), ('galvanized', '.'), ('coated', '.'), ('sheet', 'NOUN'), (',', '.'), ('than', 'ADP'), ('lower-priced', '.'), ('structural', '.'), ('goods', 'NOUN'), ('.', '.'), ('Says', 'VERB'), ('*ICH*-1', 'X'), ('Kathryn', '.'), ('McAuley', '.'), (',', '.'), ('an', 'DET'), ('analyst', 'NOUN'), ('at', 'ADP'), ('First', 'NOUN'), ('Manhattan', 'NOUN'), ('Co.', 'NOUN'), (':', '.'), ('``', '.'), ('This', 'DET'), ('is', 'VERB'), ('the', 'DET'), ('greatest', 'ADJ'), ('acquisition', 'NOUN'), ('challenge', 'NOUN'), ('0', 'X'), ('he', 'PRON'), ('has', 'VERB'), ('faced', 'VERB'), ('*T*-2', 'X'), ('.', '.'), ('The', 'DET'), ('ultimate', 'ADJ'), ('goal', 'NOUN'), ('of', 'ADP'), ('any', 'DET'), ('investor', 'NOUN'), ('is', 'VERB'), ('a', 'DET'), ('profit', 'NOUN'), ('motive', 'NOUN'), (',', '.'), ('and', 'CONJ'), ('regulators', 'NOUN'), ('should', 'VERB'), ('not', 'ADV'), ('concern', 'NOUN'), ('themselves', 'PRON'), ('with', 'ADP'), ('whether', 'ADP'), ('investors', 'NOUN'), ('are', 'VERB'), ('sufficiently', '.'), ('focused', 'VERB'), ('on', 'ADP'), ('the', 'DET'), ('long', 'ADJ'), ('term', 'NOUN'), ('.', '.'), ('The', 'DET'), ('group', 'NOUN'), ('says', 'VERB'), ('0', 'X'), ('standardized', 'ADJ'), ('achievement', 'NOUN'), ('test', 'NOUN'), ('scores', 'NOUN'), ('are', 'VERB'), ('greatly', 'ADV'), ('inflated', '.'), ('because', 'ADP'), ('teachers', 'NOUN'), ('often', 'ADV'), ('``', '.'), ('teach', 'VERB'), ('the', 'DET'), ('test', 'NOUN'), (\"''\", '.'), ('as', 'ADP'), ('Mrs.', 'NOUN'), ('Yeargin', 'NOUN'), ('did', 'VERB'), ('*?*', 'X'), (',', '.'), ('although', 'ADP'), ('most', 'ADJ'), ('are', 'VERB'), ('never', 'ADV'), ('caught', 'VERB'), ('*-1', 'X'), ('.', '.'), ('For', 'ADP'), ('the', 'DET'), ('fifth', 'ADJ'), ('consecutive', 'ADJ'), ('month', 'NOUN'), (',', '.'), ('purchasing', 'VERB'), ('managers', 'NOUN'), ('said', 'VERB'), ('0', 'X'), ('prices', 'NOUN'), ('for', 'ADP'), ('the', 'DET'), ('goods', 'NOUN'), ('0', 'X'), ('they', 'PRON'), ('purchased', 'VERB'), ('*T*-1', 'X'), ('fell', 'VERB'), ('.', '.'), ('The', 'DET'), ('latest', 'ADJ'), ('two', 'NUM'), ('funds', 'NOUN'), ('were', 'VERB'), ('assembled', 'VERB'), ('*-42', 'X'), ('jointly', 'ADV'), ('by', 'ADP'), ('Goldman', 'NOUN'), (',', '.'), ('Sachs', 'NOUN'), ('&', 'CONJ'), ('Co.', 'NOUN'), ('of', 'ADP'), ('the', 'DET'), ('U.S.', 'NOUN'), ('and', 'CONJ'), ('Japan', 'NOUN'), (\"'s\", 'PRT'), ('Daiwa', 'NOUN'), ('Securities', 'NOUN'), ('Co', 'NOUN'), ('.', '.'), ('Buick', 'NOUN'), ('approached', '.'), ('American', 'NOUN'), ('Express', 'NOUN'), ('about', 'ADP'), ('a', 'DET'), ('joint', 'ADJ'), ('promotion', 'NOUN'), ('because', 'ADP'), ('its', 'PRON'), ('card', 'NOUN'), ('holders', 'NOUN'), ('generally', 'ADV'), ('have', 'VERB'), ('a', 'DET'), ('``', '.'), ('good', 'ADJ'), ('credit', 'NOUN'), ('history', 'NOUN'), (\"''\", '.'), ('and', 'CONJ'), ('are', 'VERB'), ('``', '.'), ('good', 'ADJ'), ('at', 'ADP'), ('*', 'X'), ('making', 'VERB'), ('payments', 'NOUN'), (',', '.'), (\"''\", '.'), ('says', 'VERB'), ('*T*-1', 'X'), ('a', 'DET'), ('spokeswoman', 'NOUN'), ('for', 'ADP'), ('the', 'DET'), ('division', 'NOUN'), ('.', '.'), ('*-1', 'X'), ('Asked', 'VERB'), ('*-2', 'X'), ('whether', 'ADP'), ('the', 'DET'), ('bidding', 'NOUN'), ('flap', 'NOUN'), ('would', 'VERB'), ('hurt', 'VERB'), ('U.S.-Japan', '.'), ('relations', 'NOUN'), (',', '.'), ('Mr.', 'NOUN'), ('Yamamoto', 'NOUN'), ('said', 'VERB'), (',', '.'), ('``', '.'), ('this', 'DET'), ('will', 'VERB'), ('be', 'VERB'), ('a', 'DET'), ('minus', 'CONJ'), ('factor', 'NOUN'), ('.', '.'), (\"''\", '.'), ('As', 'ADP'), ('a', 'DET'), ('result', 'NOUN'), (',', '.'), ('the', 'DET'), ('market', 'NOUN'), (\"'s\", 'PRT'), ('dividend', 'NOUN'), ('yield', 'VERB'), ('--', '.'), ('dividends', 'NOUN'), ('as', 'ADP'), ('a', 'DET'), ('percentage', 'NOUN'), ('of', 'ADP'), ('price', 'NOUN'), ('--', '.'), ('has', 'VERB'), ('slid', 'VERB'), ('to', 'PRT'), ('a', 'DET'), ('level', 'NOUN'), ('that', 'ADP'), ('*T*-232', '.'), ('is', 'VERB'), ('fairly', 'ADV'), ('low', 'ADJ'), ('and', 'CONJ'), ('unenticing', '.'), ('by', 'ADP'), ('historical', 'ADJ'), ('standards', 'NOUN'), ('.', '.'), ('More', 'ADV'), ('often', 'ADV'), ('than', 'ADP'), ('not', 'ADV'), (',', '.'), ('ringers', 'NOUN'), ('think', 'VERB'), ('of', 'ADP'), ('the', 'DET'), ('church', 'NOUN'), ('as', 'ADP'), ('something', 'NOUN'), ('stuck', '.'), ('*', 'X'), ('on', 'ADP'), ('the', 'DET'), ('bottom', 'NOUN'), ('of', 'ADP'), ('the', 'DET'), ('belfry', 'NOUN'), ('.', '.'), ('This', 'DET'), ('trial', 'NOUN'), ('is', 'VERB'), ('expected', 'VERB'), ('*-1', 'X'), ('to', 'PRT'), ('last', 'ADJ'), ('five', 'NUM'), ('weeks', 'NOUN'), ('.', '.'), ('Campbell', 'NOUN'), ('Soup', 'NOUN'), ('forced', 'VERB'), ('out', 'PRT'), ('its', 'PRON'), ('president', 'NOUN'), ('and', 'CONJ'), ('chief', 'NOUN'), ('executive', 'NOUN'), (',', '.'), ('R.', 'NOUN'), ('Gordon', 'NOUN'), ('McGovern', 'NOUN'), (',', '.'), ('the', 'DET'), ('strongest', 'ADJ'), ('indication', 'NOUN'), ('*ICH*-1', 'X'), ('yet', 'ADV'), ('that', 'ADP'), ('the', 'DET'), ('Dorrance', 'NOUN'), ('family', 'NOUN'), ('plans', 'VERB'), ('*', 'X'), ('to', 'PRT'), ('take', 'VERB'), ('charge', 'NOUN'), ('of', 'ADP'), ('*', 'X'), ('reshaping', 'VERB'), ('the', 'DET'), ('troubled', 'ADJ'), ('food', 'NOUN'), ('company', 'NOUN'), ('.', '.'), ('Besides', 'ADP'), (',', '.'), ('Eggers', 'NOUN'), ('says', 'VERB'), ('0', 'X'), ('*T*-1', 'X'), (',', '.'), ('grain', 'NOUN'), ('elevators', 'NOUN'), ('are', 'VERB'), ('worth', 'ADJ'), ('*', 'X'), ('preserving', 'VERB'), ('for', 'ADP'), ('aesthetic', '.'), ('reasons', 'NOUN'), ('--', '.'), ('one', 'NUM'), ('famed', '.'), ('architect', 'NOUN'), ('compared', 'VERB'), ('them', 'PRON'), ('to', 'PRT'), ('the', 'DET'), ('pyramids', 'NOUN'), ('of', 'ADP'), ('Egypt', 'NOUN'), ('.', '.'), ('He', 'PRON'), ('declined', 'VERB'), ('*-1', 'X'), ('to', 'PRT'), ('discuss', 'VERB'), ('other', 'ADJ'), ('terms', 'NOUN'), ('of', 'ADP'), ('the', 'DET'), ('issue', 'NOUN'), ('.', '.'), ('*', 'X'), ('SWITCHING', '.'), ('TO', '.'), ('THE', 'DET'), ('DEFENSE', '.'), (':', '.'), ('Ratners', 'NOUN'), ('Group', 'NOUN'), ('PLC', 'NOUN'), (',', '.'), ('a', 'DET'), ('fast-growing', '.'), (',', '.'), ('acquisition-minded', '.'), ('London-based', 'ADJ'), ('jeweler', '.'), (',', '.'), ('raised', 'VERB'), ('its', 'PRON'), ('price', 'NOUN'), ('for', 'ADP'), ('Seattle-based', '.'), ('specialty', 'NOUN'), ('jeweler', '.'), ('Weisfield', 'NOUN'), (\"'s\", 'PRT'), ('Inc.', 'NOUN'), ('to', 'PRT'), ('$', '.'), ('57.50', 'NUM'), ('*U*', 'X'), ('a', 'DET'), ('share', 'NOUN'), (',', '.'), ('or', 'CONJ'), ('$', '.'), ('62.1', '.'), ('million', 'NUM'), ('*U*', 'X'), (',', '.'), ('from', 'ADP'), ('$', '.'), ('50', 'NUM'), ('*U*', 'X'), ('a', 'DET'), ('share', 'NOUN'), (',', '.'), ('or', 'CONJ'), ('$', '.'), ('55', 'NUM'), ('million', 'NUM'), ('*U*', 'X'), (',', '.'), ('after', 'ADP'), ('another', 'DET'), ('concern', 'NOUN'), ('said', 'VERB'), ('0', 'X'), ('it', 'PRON'), ('would', 'VERB'), ('be', 'VERB'), ('prepared', 'VERB'), ('*-1', 'X'), ('to', 'PRT'), ('outbid', '.'), ('Ratners', 'NOUN'), (\"'s\", 'PRT'), ('initial', 'ADJ'), ('offer', 'NOUN'), ('.', '.'), ('It', 'PRON'), ('plans', 'VERB'), ('*-1', 'X'), ('to', 'PRT'), ('sell', 'VERB'), ('the', 'DET'), ('ad', 'NOUN'), ('time', 'NOUN'), ('to', 'PRT'), ('its', 'PRON'), ('clients', 'NOUN'), ('at', 'ADP'), ('a', 'DET'), ('discount', 'NOUN'), ('.', '.'), ('While', 'ADP'), ('researchers', 'NOUN'), ('believe', 'VERB'), ('0', 'X'), ('such', 'ADJ'), ('transplants', 'NOUN'), ('could', 'VERB'), ('help', 'VERB'), ('*-1', 'X'), ('treat', 'VERB'), ('diseases', 'NOUN'), ('like', 'ADP'), ('Alzheimer', 'NOUN'), (\"'s\", 'PRT'), (',', '.'), ('anti-abortionists', 'NOUN'), ('oppose', 'VERB'), ('the', 'DET'), ('research', 'NOUN'), ('.', '.'), ('Economists', 'NOUN'), ('say', 'VERB'), ('0', 'X'), ('a', 'DET'), ('buildup', '.'), ('in', 'ADP'), ('inventories', 'NOUN'), ('can', 'VERB'), ('provoke', '.'), ('cutbacks', 'NOUN'), ('in', 'ADP'), ('production', 'NOUN'), ('that', 'ADP'), ('*T*-48', 'X'), ('can', 'VERB'), ('lead', 'VERB'), ('to', 'PRT'), ('a', 'DET'), ('recession', 'NOUN'), ('.', '.'), ('*-1', 'X'), ('Bucking', '.'), ('the', 'DET'), ('market', 'NOUN'), ('trend', 'NOUN'), (',', '.'), ('an', 'DET'), ('issue', 'NOUN'), ('of', 'ADP'), ('$', '.'), ('130', 'NUM'), ('million', 'NUM'), ('*U*', 'X'), ('general', 'ADJ'), ('obligation', 'NOUN'), ('distributable', 'ADJ'), ('state', 'NOUN'), ('aid', 'NOUN'), ('bonds', 'NOUN'), ('from', 'ADP'), ('Detroit', 'NOUN'), (',', '.'), ('Mich.', 'NOUN'), (',', '.'), ('apparently', 'ADV'), ('drew', '.'), ('solid', 'ADJ'), ('investor', 'NOUN'), ('interest', 'NOUN'), ('.', '.'), ('By', 'ADP'), ('*', 'X'), ('addressing', '.'), ('those', 'DET'), ('problems', 'NOUN'), (',', '.'), ('Mr.', 'NOUN'), ('Maxwell', 'NOUN'), ('said', 'VERB'), ('0', 'X'), ('*T*-1', 'X'), (',', '.'), ('the', 'DET'), ('new', 'ADJ'), ('funds', 'NOUN'), ('have', 'VERB'), ('become', 'VERB'), ('``', '.'), ('extremely', 'ADV'), ('attractive', 'ADJ'), ('to', 'PRT'), ('Japanese', 'ADJ'), ('and', 'CONJ'), ('other', 'ADJ'), ('investors', 'NOUN'), ('outside', 'ADP'), ('the', 'DET'), ('U.S.', 'NOUN'), ('.', '.'), (\"''\", '.'), ('*-1', 'X'), ('Rated', '.'), ('*-2', 'X'), ('triple-A', 'ADJ'), ('by', 'ADP'), ('both', 'DET'), ('Moody', 'NOUN'), (\"'s\", 'PRT'), ('Investors', 'NOUN'), ('Service', 'NOUN'), ('Inc.', 'NOUN'), ('and', 'CONJ'), ('Standard', 'NOUN'), ('&', 'CONJ'), ('Poor', 'NOUN'), (\"'s\", 'PRT'), ('Corp.', 'NOUN'), (',', '.'), ('the', 'DET'), ('issue', 'NOUN'), ('will', 'VERB'), ('be', 'VERB'), ('sold', 'VERB'), ('*-1', 'X'), ('through', 'ADP'), ('underwriters', 'NOUN'), ('led', 'VERB'), ('*', 'X'), ('by', 'ADP'), ('Salomon', 'NOUN'), ('Brothers', 'NOUN'), ('Inc', 'NOUN'), ('.', '.'), ('``', '.'), ('I', 'PRON'), ('live', 'VERB'), ('in', 'ADP'), ('hopes', 'NOUN'), ('that', 'ADP'), ('the', 'DET'), ('ringers', 'NOUN'), ('themselves', 'PRON'), ('will', 'VERB'), ('be', 'VERB'), ('drawn', 'VERB'), ('*-139', '.'), ('into', 'ADP'), ('that', 'DET'), ('fuller', '.'), ('life', 'NOUN'), ('.', '.'), (\"''\", '.'), ('Concurrent', '.'), ('with', 'ADP'), ('Mr.', 'NOUN'), ('Nichol', 'NOUN'), (\"'s\", 'PRT'), ('appointment', 'NOUN'), (',', '.'), ('Comprehensive', 'NOUN'), ('Care', 'NOUN'), ('moved', 'VERB'), ('its', 'PRON'), ('corporate', 'ADJ'), ('headquarters', 'NOUN'), ('from', 'ADP'), ('Irvine', 'NOUN'), (',', '.'), ('Calif.', 'NOUN'), (',', '.'), ('to', 'PRT'), ('St.', 'NOUN'), ('Louis', 'NOUN'), (',', '.'), ('where', 'ADV'), ('the', 'DET'), ('company', 'NOUN'), ('maintained', 'VERB'), ('its', 'PRON'), ('contract', 'NOUN'), ('services', 'NOUN'), ('offices', 'NOUN'), ('*T*-1', 'X'), ('.', '.'), ('And', 'CONJ'), ('many', 'ADJ'), ('emerging', '.'), ('markets', 'NOUN'), ('have', 'VERB'), ('outpaced', '.'), ('more', 'ADV'), ('mature', 'VERB'), ('markets', 'NOUN'), (',', '.'), ('such', 'ADJ'), ('as', 'ADP'), ('the', 'DET'), ('U.S.', 'NOUN'), ('and', 'CONJ'), ('Japan', 'NOUN'), ('.', '.'), ('Common', 'NOUN'), ('shares', 'NOUN'), ('outstanding', 'ADJ'), (':', '.'), ('19.6', 'NUM'), ('million', 'NUM'), ('In', 'ADP'), ('the', 'DET'), ('past', 'ADJ'), ('five', 'NUM'), ('years', 'NOUN'), (',', '.'), ('Japanese', 'ADJ'), ('companies', 'NOUN'), ('have', 'VERB'), ('tripled', 'VERB'), ('their', 'PRON'), ('commitments', 'NOUN'), ('in', 'ADP'), ('Asia', 'NOUN'), ('to', 'PRT'), ('$', '.'), ('5.57', '.'), ('billion', 'NUM'), ('*U*', 'X'), ('.', '.'), ('Ed', 'NOUN'), ('Macheski', '.'), (',', '.'), ('a', 'DET'), ('Wilton', '.'), (',', '.'), ('Conn.', 'NOUN'), (',', '.'), ('money', 'NOUN'), ('manager', 'NOUN'), ('who', 'PRON'), ('*T*-120', '.'), ('follows', 'VERB'), ('bank', 'NOUN'), ('stocks', 'NOUN'), (',', '.'), ('said', 'VERB'), ('0', 'X'), ('the', 'DET'), ('announcement', 'NOUN'), ('effectively', 'ADV'), ('gives', 'VERB'), ('the', 'DET'), ('deal', 'NOUN'), ('``', '.'), ('the', 'DET'), ('green', 'ADJ'), ('light', 'ADJ'), ('.', '.'), (\"''\", '.'), ('There', 'DET'), ('are', 'VERB'), ('no', 'DET'), ('signs', 'NOUN'), (',', '.'), ('however', 'ADV'), (',', '.'), ('of', 'ADP'), ('China', 'NOUN'), (\"'s\", 'PRT'), ('yielding', 'VERB'), ('on', 'ADP'), ('key', 'ADJ'), ('issues', 'NOUN'), ('.', '.'), ('By', 'ADP'), ('*-3', 'X'), ('using', 'VERB'), ('them', 'PRON'), (',', '.'), ('teachers', 'NOUN'), ('--', '.'), ('with', 'ADP'), ('administrative', 'ADJ'), ('blessing', 'NOUN'), ('--', '.'), ('telegraph', 'NOUN'), ('to', 'PRT'), ('students', 'NOUN'), ('beforehand', '.'), ('the', 'DET'), ('precise', '.'), ('areas', 'NOUN'), ('on', 'ADP'), ('which', 'DET'), ('a', 'DET'), ('test', 'NOUN'), ('will', 'VERB'), ('concentrate', 'VERB'), ('*T*-1', 'X'), (',', '.'), ('and', 'CONJ'), ('sometimes', 'ADV'), ('give', 'VERB'), ('away', 'ADV'), ('a', 'DET'), ('few', 'ADJ'), ('exact', 'ADJ'), ('questions', 'NOUN'), ('and', 'CONJ'), ('answers', 'NOUN'), ('.', '.'), ('Montedison', 'NOUN'), ('currently', 'ADV'), ('owns', 'VERB'), ('about', 'ADP'), ('72', 'NUM'), ('%', 'NOUN'), ('of', 'ADP'), ('Erbamont', 'NOUN'), (\"'s\", 'PRT'), ('common', 'ADJ'), ('shares', 'NOUN'), ('outstanding', 'ADJ'), ('.', '.'), ('Savin', 'NOUN'), ('cited', 'VERB'), ('``', '.'), ('a', 'DET'), ('general', 'ADJ'), ('softening', 'VERB'), ('in', 'ADP'), ('the', 'DET'), ('demand', 'NOUN'), ('for', 'ADP'), ('office', 'NOUN'), ('products', 'NOUN'), ('in', 'ADP'), ('the', 'DET'), ('market', 'NOUN'), ('segments', 'NOUN'), ('in', 'ADP'), ('which', 'DET'), ('Savin', 'NOUN'), ('competes', 'VERB'), ('*T*-1', 'X'), ('.', '.'), ('We', 'PRON'), (\"'re\", 'VERB'), ('seeing', 'VERB'), ('it', 'PRON'), ('partly', 'ADV'), ('because', 'ADP'), ('older', 'ADJ'), ('vintages', 'NOUN'), ('are', 'VERB'), ('growing', 'VERB'), ('more', 'ADV'), ('scarce', '.'), ('.', '.'), (\"''\", '.'), ('``', '.'), ('Public', 'NOUN'), ('policy', 'NOUN'), ('favors', '.'), ('the', 'DET'), ('development', 'NOUN'), ('and', 'CONJ'), ('marketing', 'NOUN'), ('of', 'ADP'), ('beneficial', 'ADJ'), ('new', 'ADJ'), ('drugs', 'NOUN'), (',', '.'), ('even', 'ADV'), ('though', 'ADP'), ('some', 'DET'), ('risks', 'NOUN'), (',', '.'), ('perhaps', 'ADV'), ('serious', 'ADJ'), ('ones', 'NOUN'), (',', '.'), ('might', 'VERB'), ('accompany', '.'), ('their', 'PRON'), ('introduction', 'NOUN'), ('because', 'ADP'), ('drugs', 'NOUN'), ('can', 'VERB'), ('save', 'VERB'), ('lives', 'VERB'), ('and', 'CONJ'), ('reduce', 'VERB'), ('pain', '.'), ('and', 'CONJ'), ('suffering', 'NOUN'), (',', '.'), (\"''\", '.'), ('the', 'DET'), ('unanimous', '.'), ('court', 'NOUN'), ('said', 'VERB'), ('*T*-1', 'X'), ('.', '.'), ('Investors', 'NOUN'), ('switched', 'VERB'), ('trading', 'NOUN'), ('focus', 'VERB'), ('quickly', 'ADV'), ('as', 'ADP'), ('they', 'PRON'), ('did', 'VERB'), ('Tuesday', 'NOUN'), (',', '.'), ('*-1', 'X'), ('reflecting', 'VERB'), ('uncertainty', 'NOUN'), ('about', 'ADP'), ('long-term', 'ADJ'), ('commitments', 'NOUN'), ('to', 'PRT'), ('any', 'DET'), ('issue', 'NOUN'), ('or', 'CONJ'), ('sector', 'NOUN'), (',', '.'), ('traders', 'NOUN'), ('said', 'VERB'), ('0', 'X'), ('*T*-2', 'X'), ('.', '.'), ('The', 'DET'), ('company', 'NOUN'), ('said', 'VERB'), ('0', 'X'), ('Mr.', 'NOUN'), ('Stronach', 'NOUN'), ('will', 'VERB'), ('personally', '.'), ('direct', 'ADJ'), ('the', 'DET'), ('restructuring', 'NOUN'), (',', '.'), ('*-1', 'X'), ('assisted', '.'), ('*-2', 'X'), ('by', 'ADP'), ('Manfred', '.'), ('Gingl', '.'), (',', '.'), ('president', 'NOUN'), ('and', 'CONJ'), ('chief', 'NOUN'), ('executive', 'NOUN'), ('.', '.'), ('The', 'DET'), ('Sacramento-based', '.'), ('S&L', 'NOUN'), (',', '.'), ('which', 'DET'), ('*T*-110', '.'), ('has', 'VERB'), ('44', 'NUM'), ('branch', 'NOUN'), ('offices', 'NOUN'), ('in', 'ADP'), ('north', '.'), ('central', 'ADJ'), ('California', 'NOUN'), (',', '.'), ('had', 'VERB'), ('assets', 'NOUN'), ('of', 'ADP'), ('$', '.'), ('2.4', 'NUM'), ('billion', 'NUM'), ('*U*', 'X'), ('at', 'ADP'), ('the', 'DET'), ('end', 'NOUN'), ('of', 'ADP'), ('September', 'NOUN'), ('.', '.'), ('And', 'CONJ'), ('I', 'PRON'), ('apparently', 'ADV'), ('had', 'VERB'), ('no', 'DET'), ('right', 'NOUN'), ('*', 'X'), ('to', 'PRT'), ('print', 'VERB'), ('hither', '.'), ('what', 'PRON'), ('the', 'DET'), ('Voice', 'NOUN'), ('was', 'VERB'), ('booming', 'VERB'), ('*T*-2', 'X'), ('to', 'PRT'), ('yon', '.'), ('.', '.'), ('*-1', 'X'), ('To', 'PRT'), ('offset', 'VERB'), ('the', 'DET'), ('reduction', 'NOUN'), (',', '.'), ('Congress', 'NOUN'), ('approved', 'VERB'), ('a', 'DET'), ('$', '.'), ('20,000', 'NUM'), ('*U*', 'X'), ('fee', 'NOUN'), ('that', 'ADP'), ('investors', 'NOUN'), ('and', 'CONJ'), ('companies', 'NOUN'), ('will', 'VERB'), ('have', 'VERB'), ('*-3', 'X'), ('to', 'PRT'), ('pay', 'VERB'), ('*T*-2', 'X'), ('each', 'DET'), ('time', 'NOUN'), ('0', 'X'), ('they', 'PRON'), ('make', 'VERB'), ('required', 'VERB'), ('filings', 'NOUN'), ('to', 'PRT'), ('antitrust', 'ADJ'), ('regulators', 'NOUN'), ('about', 'ADP'), ('mergers', 'NOUN'), (',', '.'), ('acquisitions', 'NOUN'), ('and', 'CONJ'), ('certain', 'ADJ'), ('other', 'ADJ'), ('transactions', 'NOUN'), ('*T*-4', 'X'), ('.', '.'), ('Still', 'ADV'), (',', '.'), ('some', 'DET'), ('market', 'NOUN'), ('analysts', 'NOUN'), ('say', 'VERB'), ('0', 'X'), ('the', 'DET'), ('current', 'ADJ'), ('3.3', 'NUM'), ('%', 'NOUN'), ('reading', 'NOUN'), ('is', 'VERB'), (\"n't\", 'ADV'), ('as', 'ADP'), ('troublesome', '.'), ('as', 'ADP'), ('it', 'PRON'), ('might', 'VERB'), ('have', 'VERB'), ('been', 'VERB'), ('*?*', 'X'), ('in', 'ADP'), ('years', 'NOUN'), ('past', 'NOUN'), ('.', '.'), ('In', 'ADP'), ('1970', 'NUM'), (',', '.'), ('Mr.', 'NOUN'), ('Hahn', 'NOUN'), ('called', 'VERB'), ('in', 'ADP'), ('state', 'NOUN'), ('police', 'NOUN'), ('to', 'PRT'), ('arrest', '.'), ('student', 'NOUN'), ('protesters', 'NOUN'), ('who', 'PRON'), ('*T*-3', 'X'), ('were', 'VERB'), ('occupying', '.'), ('a', 'DET'), ('university', 'NOUN'), ('building', 'NOUN'), ('.', '.'), ('Nevertheless', 'ADV'), (',', '.'), ('said', 'VERB'), ('*T*-1', 'X'), ('Brenda', '.'), ('Malizia', '.'), ('Negus', '.'), (',', '.'), ('editor', 'NOUN'), ('of', 'ADP'), ('Money', 'NOUN'), ('Fund', 'NOUN'), ('Report', 'NOUN'), (',', '.'), ('yields', 'NOUN'), ('``', '.'), ('may', 'VERB'), ('blip', '.'), ('up', 'ADV'), ('again', 'ADV'), ('before', 'ADP'), ('they', 'PRON'), ('blip', '.'), ('down', 'ADV'), (\"''\", '.'), ('because', 'ADP'), ('of', 'ADP'), ('recent', 'ADJ'), ('rises', '.'), ('in', 'ADP'), ('short-term', 'ADJ'), ('interest', 'NOUN'), ('rates', 'NOUN'), ('.', '.'), ('Faulding', 'NOUN'), ('said', 'VERB'), ('0', 'X'), ('it', 'PRON'), ('owns', 'VERB'), ('33', 'NUM'), ('%', 'NOUN'), ('of', 'ADP'), ('Moleculon', 'NOUN'), (\"'s\", 'PRT'), ('voting', 'NOUN'), ('stock', 'NOUN'), ('and', 'CONJ'), ('has', 'VERB'), ('an', 'DET'), ('agreement', 'NOUN'), ('*', 'X'), ('to', 'PRT'), ('acquire', 'VERB'), ('an', 'DET'), ('additional', 'ADJ'), ('19', 'NUM'), ('%', 'NOUN'), ('.', '.'), ('The', 'DET'), ('Bush', 'NOUN'), ('administration', 'NOUN'), ('has', 'VERB'), ('threatened', 'VERB'), ('*-1', 'X'), ('to', 'PRT'), ('veto', 'NOUN'), ('such', 'ADJ'), ('a', 'DET'), ('bill', 'NOUN'), ('because', 'ADP'), ('of', 'ADP'), ('what', 'PRON'), ('it', 'PRON'), ('views', 'NOUN'), ('*T*-2', 'X'), ('as', 'ADP'), ('an', 'DET'), ('undesirable', '.'), ('intrusion', '.'), ('into', 'ADP'), ('the', 'DET'), ('affairs', 'NOUN'), ('of', 'ADP'), ('industry', 'NOUN'), (',', '.'), ('but', 'CONJ'), ('the', 'DET'), ('300-113', '.'), ('vote', 'NOUN'), ('suggests', 'VERB'), ('that', 'ADP'), ('supporters', 'NOUN'), ('have', 'VERB'), ('the', 'DET'), ('potential', 'ADJ'), ('0', 'X'), ('*', 'X'), ('to', 'PRT'), ('override', '.'), ('a', 'DET'), ('veto', 'NOUN'), ('*T*-3', 'X'), ('.', '.'), ('During', 'ADP'), ('the', 'DET'), ('current', 'ADJ'), ('crop', 'NOUN'), ('year', 'NOUN'), (',', '.'), ('Brazil', 'NOUN'), ('was', 'VERB'), ('expected', 'VERB'), ('*-1', 'X'), ('to', 'PRT'), ('produce', 'VERB'), ('6.9', 'NUM'), ('million', 'NUM'), ('tons', 'NOUN'), ('of', 'ADP'), ('sugar', 'NOUN'), (',', '.'), ('a', 'DET'), ('drop', 'NOUN'), ('from', 'ADP'), ('8.1', 'NUM'), ('million', 'NUM'), ('tons', 'NOUN'), ('in', 'ADP'), ('1988-89', '.'), ('.', '.'), ('They', 'PRON'), ('mature', 'VERB'), ('in', 'ADP'), ('2005', 'NUM'), (',', '.'), ('2009', 'NUM'), ('and', 'CONJ'), ('2029', 'NUM'), ('.', '.'), ('An', 'DET'), ('index', 'NOUN'), ('of', 'ADP'), ('economic', 'ADJ'), ('activity', 'NOUN'), ('drawn', 'VERB'), ('*', 'X'), ('from', 'ADP'), ('the', 'DET'), ('survey', 'NOUN'), ('stood', 'VERB'), ('last', 'ADJ'), ('month', 'NOUN'), ('at', 'ADP'), ('47.6', 'NUM'), ('%', 'NOUN'), (';', '.'), ('a', 'DET'), ('reading', 'NOUN'), ('above', 'ADP'), ('50', 'NUM'), ('%', 'NOUN'), ('would', 'VERB'), ('have', 'VERB'), ('indicated', 'VERB'), ('that', 'ADP'), ('the', 'DET'), ('manufacturing', 'NOUN'), ('sector', 'NOUN'), ('was', 'VERB'), ('improving', 'VERB'), ('.', '.'), ('Something', '.'), ('like', 'ADP'), ('one-third', 'NOUN'), ('of', 'ADP'), ('the', 'DET'), ('nation', 'NOUN'), (\"'s\", 'PRT'), ('60', 'NUM'), ('largest', 'ADJ'), ('cities', 'NOUN'), ('*ICH*-1', 'X'), ('are', 'VERB'), ('thinking', 'VERB'), ('about', 'ADP'), ('new', 'ADJ'), ('stadiums', 'NOUN'), (',', '.'), ('ranging', '.'), ('from', 'ADP'), ('Cleveland', 'NOUN'), ('to', 'PRT'), ('San', 'NOUN'), ('Antonio', 'NOUN'), ('and', 'CONJ'), ('St.', 'NOUN'), ('Petersburg', '.'), ('.', '.'), ('It', 'PRON'), ('also', 'ADV'), ('hopes', 'VERB'), ('for', 'ADP'), ('ultimate', 'ADJ'), ('gains', 'NOUN'), ('of', 'ADP'), ('as', 'ADP'), ('much', 'ADJ'), ('as', 'ADP'), ('$', '.'), ('300', 'NUM'), ('million', 'NUM'), ('*U*', 'X'), ('on', 'ADP'), ('equity', 'NOUN'), ('investments', 'NOUN'), ('in', 'ADP'), ('buy-outs', 'NOUN'), ('and', 'CONJ'), ('restructurings', '.'), ('.', '.'), ('A', 'DET'), ('Shearson', 'NOUN'), ('spokesman', 'NOUN'), ('had', 'VERB'), ('no', 'DET'), ('comment', 'NOUN'), ('.', '.'), ('There', 'DET'), (\"'s\", 'VERB'), ('never', 'ADV'), ('been', 'VERB'), ('an', 'DET'), ('exception', 'NOUN'), (',', '.'), (\"''\", '.'), ('says', 'VERB'), ('0', 'X'), ('*T*-1', 'X'), ('Gerald', 'NOUN'), ('W.', 'NOUN'), ('Perritt', '.'), (',', '.'), ('a', 'DET'), ('Chicago', 'NOUN'), ('investment', 'NOUN'), ('adviser', 'NOUN'), ('and', 'CONJ'), ('money', 'NOUN'), ('manager', 'NOUN'), (',', '.'), ('based', 'VERB'), ('on', 'ADP'), ('a', 'DET'), ('review', 'NOUN'), ('of', 'ADP'), ('six', 'NUM'), ('decades', 'NOUN'), ('of', 'ADP'), ('stock-market', 'NOUN'), ('data', 'NOUN'), ('.', '.'), ('The', 'DET'), ('March', 'NOUN'), ('delivery', 'NOUN'), (',', '.'), ('which', 'DET'), ('*T*-1', 'X'), ('has', 'VERB'), ('no', 'DET'), ('limits', 'NOUN'), (',', '.'), ('settled', 'VERB'), ('at', 'ADP'), ('14.53', '.'), ('cents', 'NOUN'), (',', '.'), ('up', 'ADV'), ('0.56', '.'), ('cent', 'NOUN'), ('a', 'DET'), ('pound', 'NOUN'), ('.', '.'), ('The', 'DET'), ('total', 'ADJ'), ('marks', 'NOUN'), ('the', 'DET'), ('sixth', 'ADJ'), ('consecutive', 'ADJ'), ('monthly', 'ADJ'), ('decline', 'NOUN'), ('.', '.'), ('``', '.'), ('After', 'ADP'), ('two', 'NUM'), ('months', 'NOUN'), ('of', 'ADP'), ('talks', 'NOUN'), (',', '.'), ('our', 'PRON'), ('rating', 'NOUN'), ('was', 'VERB'), ('maintained', 'VERB'), ('*-1', 'X'), ('.', '.'), (\"''\", '.'), ('``', '.'), ('Do', 'VERB'), ('you', 'PRON'), ('make', 'VERB'), ('sweatshirts', '.'), ('or', 'CONJ'), ('sparkplugs', '.'), ('?', '.'), ('The', 'DET'), ('judge', 'NOUN'), ('declined', 'VERB'), ('*-1', 'X'), ('to', 'PRT'), ('discuss', 'VERB'), ('his', 'PRON'), ('salary', 'NOUN'), ('in', 'ADP'), ('detail', '.'), (',', '.'), ('but', 'CONJ'), ('said', 'VERB'), (':', '.'), ('``', '.'), ('I', 'PRON'), (\"'m\", 'VERB'), ('going', 'VERB'), ('*-2', 'X'), ('to', 'PRT'), ('be', 'VERB'), ('a', 'DET'), ('high-priced', 'ADJ'), ('lawyer', 'NOUN'), ('.', '.'), (\"''\", '.'), ('Relations', 'NOUN'), ('between', 'ADP'), ('China', 'NOUN'), ('and', 'CONJ'), ('the', 'DET'), ('U.S.', 'NOUN'), ('have', 'VERB'), ('been', 'VERB'), ('tense', 'ADJ'), ('since', 'ADP'), ('June', 'NOUN'), ('7', 'NUM'), (',', '.'), ('when', 'ADV'), ('Chinese', 'ADJ'), ('dissident', '.'), ('Fang', 'NOUN'), ('Lizhi', '.'), ('and', 'CONJ'), ('his', 'PRON'), ('wife', 'NOUN'), (',', '.'), ('Li', 'NOUN'), ('Shuxian', '.'), (',', '.'), ('took', 'VERB'), ('refuge', '.'), ('in', 'ADP'), ('the', 'DET'), ('U.S.', 'NOUN'), ('Embassy', 'NOUN'), ('in', 'ADP'), ('Beijing', 'NOUN'), ('*T*-1', 'X'), ('.', '.'), ('How', 'ADV'), ('does', 'VERB'), ('a', 'DET'), ('nice', 'ADJ'), ('new', 'ADJ'), ('tax', 'NOUN'), (',', '.'), ('say', 'VERB'), ('5', 'NUM'), ('%', 'NOUN'), (',', '.'), ('on', 'ADP'), ('any', 'DET'), ('financial', 'ADJ'), ('transaction', 'NOUN'), ('sound', 'NOUN'), ('*T*-1', 'X'), ('?', '.'), ('He', 'PRON'), ('earned', 'VERB'), ('his', 'PRON'), ('doctorate', '.'), ('in', 'ADP'), ('nuclear', 'ADJ'), ('physics', 'NOUN'), ('from', 'ADP'), ('the', 'DET'), ('Massachusetts', 'NOUN'), ('Institute', 'NOUN'), ('of', 'ADP'), ('Technology', 'NOUN'), ('.', '.'), ('Propaganda', '.'), ('is', 'VERB'), ('just', 'ADV'), ('information', 'NOUN'), ('0', 'X'), ('*T*-1', 'X'), ('to', 'PRT'), ('support', 'VERB'), ('a', 'DET'), ('viewpoint', 'NOUN'), (',', '.'), ('and', 'CONJ'), ('the', 'DET'), ('beauty', 'NOUN'), ('of', 'ADP'), ('a', 'DET'), ('democracy', 'NOUN'), ('is', 'VERB'), ('that', 'ADP'), ('it', 'PRON'), ('enables', 'VERB'), ('you', 'PRON'), ('to', 'PRT'), ('hear', 'VERB'), ('or', 'CONJ'), ('read', 'VERB'), ('every', 'DET'), ('viewpoint', 'NOUN'), ('and', 'CONJ'), ('then', 'ADV'), ('make', 'VERB'), ('up', 'ADV'), ('your', 'PRON'), ('own', 'ADJ'), ('mind', 'VERB'), ('on', 'ADP'), ('an', 'DET'), ('issue', 'NOUN'), ('.', '.'), ('Also', 'ADV'), (',', '.'), ('Mr.', 'NOUN'), ('Canepa', 'NOUN'), ('received', 'VERB'), ('a', 'DET'), ('two-week', 'ADJ'), ('suspension', 'NOUN'), ('``', '.'), ('in', 'ADP'), ('a', 'DET'), ('principal', 'NOUN'), ('capacity', 'NOUN'), ('.', '.'), (\"''\", '.'), ('The', 'DET'), ('Nasdaq', 'NOUN'), ('100', 'NUM'), ('index', 'NOUN'), ('of', 'ADP'), ('the', 'DET'), ('biggest', 'ADJ'), ('nonfinancial', '.'), ('stocks', 'NOUN'), ('gained', 'VERB'), ('1.39', '.'), ('to', 'PRT'), ('446.62', '.'), ('.', '.'), ('``', '.'), ('When', 'ADV'), ('the', 'DET'), ('sell', 'VERB'), ('programs', 'NOUN'), ('hit', 'VERB'), ('*T*-1', 'X'), (',', '.'), ('you', 'PRON'), ('can', 'VERB'), ('hear', 'VERB'), ('the', 'DET'), ('order', 'NOUN'), ('printers', '.'), ('start', 'NOUN'), ('*-2', 'X'), ('to', 'PRT'), ('go', 'VERB'), (\"''\", '.'), ('on', 'ADP'), ('the', 'DET'), ('Big', 'NOUN'), ('Board', 'NOUN'), ('trading', 'NOUN'), ('floor', 'NOUN'), (',', '.'), ('says', 'VERB'), ('0', 'X'), ('*T*-3', 'X'), ('one', 'NUM'), ('specialist', 'NOUN'), ('there', 'DET'), ('.', '.'), ('Rep.', 'NOUN'), ('John', 'NOUN'), ('Dingell', 'NOUN'), (',', '.'), ('an', 'DET'), ('important', 'ADJ'), ('sponsor', 'NOUN'), ('of', 'ADP'), ('President', 'NOUN'), ('Bush', 'NOUN'), (\"'s\", 'PRT'), ('clean-air', 'ADJ'), ('bill', 'NOUN'), (',', '.'), ('plans', 'NOUN'), ('*-2', 'X'), ('to', 'PRT'), ('unveil', 'VERB'), ('a', 'DET'), ('surprise', 'NOUN'), ('proposal', 'NOUN'), ('that', 'ADP'), ('*T*-1', 'X'), ('would', 'VERB'), ('break', 'VERB'), ('with', 'ADP'), ('the', 'DET'), ('White', 'NOUN'), ('House', 'NOUN'), ('on', 'ADP'), ('a', 'DET'), ('centerpiece', '.'), ('issue', 'NOUN'), (':', '.'), ('acid', 'NOUN'), ('rain', 'NOUN'), ('.', '.'), ('Even', 'ADV'), ('before', 'ADP'), ('those', 'DET'), ('moves', 'NOUN'), ('added', 'VERB'), ('fuel', 'VERB'), (',', '.'), ('the', 'DET'), ('fires', '.'), ('of', 'ADP'), ('discontent', '.'), ('had', 'VERB'), ('been', 'VERB'), ('well', 'ADV'), ('stoked', '.'), ('*-1', 'X'), ('by', 'ADP'), ('the', 'DET'), ('highly', 'ADV'), ('publicized', 'VERB'), ('experience', 'NOUN'), ('in', 'ADP'), ('Japan', 'NOUN'), ('of', 'ADP'), ('one', 'NUM'), ('U.S.', 'NOUN'), ('investor', 'NOUN'), (',', '.'), ('T.', 'NOUN'), ('Boone', 'NOUN'), ('Pickens', 'NOUN'), ('Jr', '.'), ('.', '.'), ('This', 'DET'), ('compares', 'VERB'), ('with', 'ADP'), ('estimates', 'NOUN'), ('that', 'ADP'), ('the', 'DET'), ('U.S.', 'NOUN'), ('``', '.'), ('derivatives', '.'), (\"''\", '.'), ('market', 'NOUN'), ('is', 'VERB'), ('perhaps', 'ADV'), ('four', 'NUM'), ('times', 'NOUN'), ('as', 'ADP'), ('large', 'ADJ'), ('as', 'ADP'), ('the', 'DET'), ('underlying', 'ADJ'), ('domestic', 'ADJ'), ('market', 'NOUN'), ('.', '.'), ('Besides', 'ADP'), ('*-1', 'X'), ('being', 'VERB'), ('a', 'DET'), ('``', '.'), ('minority-owned', '.'), ('company', 'NOUN'), (\"''\", '.'), ('Wedtech', 'NOUN'), ('was', 'VERB'), ('located', 'VERB'), ('*-1', 'X'), ('in', 'ADP'), ('the', 'DET'), ('South', 'NOUN'), ('Bronx', 'NOUN'), (',', '.'), ('a', 'DET'), ('blighted', '.'), ('area', 'NOUN'), (',', '.'), ('made', 'VERB'), ('*', 'X'), ('famous', '.'), ('by', 'ADP'), ('Jimmy', '.'), ('Carter', 'NOUN'), ('in', 'ADP'), ('his', 'PRON'), ('1976', 'NUM'), ('presidential', 'ADJ'), ('campaign', 'NOUN'), ('.', '.'), ('Standard', 'NOUN'), ('&', 'CONJ'), ('Poor', 'NOUN'), (\"'s\", 'PRT'), ('500-Stock', '.'), ('Index', 'NOUN'), ('added', 'VERB'), ('0.84', '.'), ('to', 'PRT'), ('341.20', '.'), (';', '.'), ('the', 'DET'), ('rise', 'NOUN'), ('was', 'VERB'), ('equivalent', 'NOUN'), ('to', 'PRT'), ('a', 'DET'), ('gain', 'NOUN'), ('of', 'ADP'), ('about', 'ADP'), ('six', 'NUM'), ('points', 'NOUN'), ('in', 'ADP'), ('the', 'DET'), ('industrial', 'ADJ'), ('average', 'ADJ'), ('.', '.'), ('The', 'DET'), ('House', 'NOUN'), ('has', 'VERB'), ('voted', 'VERB'), ('*-1', 'X'), ('to', 'PRT'), ('raise', 'VERB'), ('the', 'DET'), ('ceiling', 'NOUN'), ('to', 'PRT'), ('$', '.'), ('3.1', 'NUM'), ('trillion', 'NUM'), ('*U*', 'X'), (',', '.'), ('but', 'CONJ'), ('the', 'DET'), ('Senate', 'NOUN'), ('is', 'VERB'), (\"n't\", 'ADV'), ('expected', 'VERB'), ('*-2', 'X'), ('to', 'PRT'), ('act', 'VERB'), ('until', 'ADP'), ('next', 'ADJ'), ('week', 'NOUN'), ('at', 'ADP'), ('the', 'DET'), ('earliest', '.'), ('.', '.'), ('There', 'DET'), ('is', 'VERB'), ('something', 'NOUN'), ('inherently', '.'), ('suspect', 'VERB'), ('about', 'ADP'), ('Congress', 'NOUN'), (\"'s\", 'PRT'), ('prohibiting', '.'), ('the', 'DET'), ('executive', 'ADJ'), ('from', 'ADP'), ('*-1', 'X'), ('even', 'ADV'), ('studying', 'VERB'), ('whether', 'ADP'), ('public', 'ADJ'), ('funds', 'NOUN'), ('are', 'VERB'), ('being', 'VERB'), ('wasted', '.'), ('*-57', 'X'), ('in', 'ADP'), ('some', 'DET'), ('favored', 'ADJ'), ('program', 'NOUN'), ('or', 'CONJ'), ('other', 'ADJ'), ('.', '.'), ('Or', 'CONJ'), (',', '.'), ('as', 'ADP'), ('Dorothy', 'NOUN'), ('Arighi', 'NOUN'), (',', '.'), ('an', 'DET'), ('interior', '.'), ('decorator', '.'), ('in', 'ADP'), ('Arnold', 'NOUN'), (',', '.'), ('Calif.', 'NOUN'), (',', '.'), ('puts', 'VERB'), ('it', 'PRON'), (':', '.'), ('``', '.'), ('All', 'DET'), ('kinds', 'NOUN'), ('of', 'ADP'), ('funny', 'ADJ'), ('things', 'NOUN'), ('spook', '.'), ('the', 'DET'), ('market', 'NOUN'), ('these', 'DET'), ('days', 'NOUN'), ('.', '.'), (\"''\", '.'), ('Copperweld', 'NOUN'), ('said', 'VERB'), ('0', 'X'), ('it', 'PRON'), ('does', 'VERB'), (\"n't\", 'ADV'), ('expect', 'VERB'), ('a', 'DET'), ('protracted', 'ADJ'), ('strike', 'NOUN'), ('.', '.'), ('In', 'ADP'), ('the', 'DET'), ('1970s', 'NUM'), (',', '.'), ('scientists', 'NOUN'), ('reported', 'VERB'), ('cancer', 'NOUN'), ('cases', 'NOUN'), ('among', 'ADP'), ('the', 'DET'), ('daughters', 'NOUN'), ('of', 'ADP'), ('DES', 'NOUN'), ('users', 'NOUN'), ('.', '.'), ('Douglas', 'NOUN'), ('Madison', 'NOUN'), (',', '.'), ('a', 'DET'), ('corporate', 'ADJ'), ('trader', 'NOUN'), ('with', 'ADP'), ('Bank', 'NOUN'), ('of', 'ADP'), ('America', 'NOUN'), ('in', 'ADP'), ('Los', 'NOUN'), ('Angeles', 'NOUN'), (',', '.'), ('traced', '.'), ('the', 'DET'), ('dollar', 'NOUN'), (\"'s\", 'PRT'), ('recent', 'ADJ'), ('solid', 'ADJ'), ('performance', 'NOUN'), ('against', 'ADP'), ('the', 'DET'), ('yen', 'NOUN'), ('to', 'PRT'), ('purchases', 'NOUN'), ('of', 'ADP'), ('securities', 'NOUN'), ('by', 'ADP'), ('Japanese', 'ADJ'), ('insurance', 'NOUN'), ('companies', 'NOUN'), ('and', 'CONJ'), ('trust', 'NOUN'), ('banks', 'NOUN'), ('and', 'CONJ'), ('the', 'DET'), ('sense', 'NOUN'), ('that', 'ADP'), ('another', 'DET'), ('wave', '.'), ('of', 'ADP'), ('investment', 'NOUN'), ('is', 'VERB'), ('waiting', 'VERB'), ('in', 'ADP'), ('the', 'DET'), ('wings', 'NOUN'), ('.', '.'), ('Dealers', 'NOUN'), ('said', 'VERB'), ('0', 'X'), ('most', 'ADV'), ('investor', 'NOUN'), ('interest', 'NOUN'), ('was', 'VERB'), ('focused', 'VERB'), ('*-1', 'X'), ('on', 'ADP'), ('defensive', 'ADJ'), ('blue-chip', 'ADJ'), ('stocks', 'NOUN'), (',', '.'), ('particularly', 'ADV'), ('those', 'DET'), ('with', 'ADP'), ('limited', 'ADJ'), ('U.K.', 'NOUN'), ('exposure', 'NOUN'), ('.', '.'), ('The', 'DET'), ('rest', 'NOUN'), ('were', 'VERB'), ('history', 'NOUN'), (',', '.'), ('sociology', '.'), (',', '.'), ('finance', 'NOUN'), ('--', '.'), ('subjects', 'NOUN'), ('0', 'X'), ('they', 'PRON'), ('never', 'ADV'), ('had', 'VERB'), ('*T*-1', 'X'), ('.', '.'), (\"''\", '.'), ('On', 'ADP'), ('London', 'NOUN'), (\"'s\", 'PRT'), ('Stock', 'NOUN'), ('Exchange', 'NOUN'), (',', '.'), ('Reuters', 'NOUN'), ('shares', 'NOUN'), ('rose', 'VERB'), ('five', 'NUM'), ('pence', 'NOUN'), ('to', 'PRT'), ('913', '.'), ('pence', 'NOUN'), ('-LRB-', '.'), ('$', '.'), ('14.43', '.'), ('*U*', 'X'), ('-RRB-', '.'), ('.', '.'), ('That', 'DET'), ('sounded', 'VERB'), ('a', 'DET'), ('lot', 'NOUN'), ('like', 'ADP'), ('censorship', 'NOUN'), (',', '.'), ('so', 'ADV'), ('after', 'ADP'), ('years', 'NOUN'), ('of', 'ADP'), ('letters', 'NOUN'), ('and', 'CONJ'), ('conversations', 'NOUN'), ('that', 'ADP'), ('*T*-22', 'X'), ('went', 'VERB'), ('nowhere', 'ADV'), (',', '.'), ('I', 'PRON'), ('sued', 'VERB'), ('.', '.'), ('Crane', 'NOUN'), ('&', 'CONJ'), ('Co.', 'NOUN'), ('Securities', 'NOUN'), ('Inc.', 'NOUN'), (',', '.'), ('of', 'ADP'), ('Mount', '.'), ('Clemens', '.'), (',', '.'), ('Mich.', 'NOUN'), (',', '.'), ('and', 'CONJ'), ('its', 'PRON'), ('president', 'NOUN'), (',', '.'), ('Glenn', 'NOUN'), ('R.', 'NOUN'), ('Crane', 'NOUN'), (',', '.'), ('of', 'ADP'), ('Sterling', 'NOUN'), ('Heights', 'NOUN'), (',', '.'), ('Mich.', 'NOUN'), (',', '.'), ('consented', 'VERB'), ('to', 'PRT'), ('a', 'DET'), ('joint', 'ADJ'), ('fine', 'NOUN'), ('of', 'ADP'), ('$', '.'), ('10,000', 'NUM'), ('*U*', 'X'), ('.', '.'), ('The', 'DET'), ('United', 'NOUN'), ('Kingdom', 'NOUN'), ('High', 'NOUN'), ('Court', 'NOUN'), ('declared', 'VERB'), ('illegal', 'ADJ'), ('a', 'DET'), ('variety', 'NOUN'), ('of', 'ADP'), ('interest-rate', 'NOUN'), ('swap', 'NOUN'), ('transactions', 'NOUN'), ('and', 'CONJ'), ('options', 'NOUN'), ('deals', 'NOUN'), ('between', 'ADP'), ('a', 'DET'), ('London', 'NOUN'), ('borough', '.'), ('council', 'NOUN'), ('and', 'CONJ'), ('commercial', 'ADJ'), ('banks', 'NOUN'), ('.', '.'), ('There', 'DET'), ('is', 'VERB'), ('also', 'ADV'), ('speculation', 'NOUN'), ('that', 'ADP'), ('Mr.', 'NOUN'), ('Newhouse', 'NOUN'), ('could', 'VERB'), ('bring', 'VERB'), ('in', 'ADP'), ('a', 'DET'), ('powerhouse', '.'), ('businessman', 'NOUN'), ('or', 'CONJ'), ('another', 'DET'), ('Newhouse', 'NOUN'), ('family', 'NOUN'), ('member', 'NOUN'), ('0', 'X'), ('*T*-1', 'X'), ('to', 'PRT'), ('run', 'VERB'), ('the', 'DET'), ('business', 'NOUN'), ('side', 'NOUN'), (',', '.'), ('in', 'ADP'), ('combination', 'NOUN'), ('with', 'ADP'), ('a', 'DET'), ('publishing', 'NOUN'), ('executive', 'NOUN'), ('like', 'ADP'), ('Robert', 'NOUN'), ('Gottlieb', '.'), (',', '.'), ('who', 'PRON'), ('*T*-38', 'X'), ('left', 'VERB'), ('Random', 'NOUN'), ('House', 'NOUN'), (\"'s\", 'PRT'), ('Alfred', 'NOUN'), ('A.', 'NOUN'), ('Knopf', 'NOUN'), ('*-2', 'X'), ('to', 'PRT'), ('run', 'VERB'), ('the', 'DET'), ('New', 'NOUN'), ('Yorker', '.'), (',', '.'), ('also', 'ADV'), ('owned', 'VERB'), ('*', 'X'), ('by', 'ADP'), ('the', 'DET'), ('Newhouse', 'NOUN'), ('family', 'NOUN'), ('.', '.'), ('Typically', 'ADV'), (',', '.'), ('money-fund', '.'), ('yields', 'NOUN'), ('beat', 'VERB'), ('comparable', 'ADJ'), ('short-term', 'ADJ'), ('investments', 'NOUN'), ('because', 'ADP'), ('portfolio', 'NOUN'), ('managers', 'NOUN'), ('can', 'VERB'), ('vary', 'VERB'), ('maturities', 'NOUN'), ('and', 'CONJ'), ('go', 'VERB'), ('after', 'ADP'), ('the', 'DET'), ('highest', 'ADJ'), ('rates', 'NOUN'), ('.', '.'), ('They', 'PRON'), ('want', 'VERB'), ('assets', 'NOUN'), (',', '.'), ('they', 'PRON'), ('want', 'VERB'), ('a', 'DET'), ('balance', 'NOUN'), ('sheet', 'NOUN'), (',', '.'), ('which', 'DET'), ('*T*-194', '.'), ('has', 'VERB'), ('no', 'DET'), ('relation', '.'), ('to', 'PRT'), ('the', 'DET'), ('business', 'NOUN'), ('0', 'X'), ('a', 'DET'), ('company', 'NOUN'), ('can', 'VERB'), ('generate', '.'), ('*T*-1', 'X'), ('.', '.'), (\"''\", '.'), ('Seoul', 'NOUN'), ('also', 'ADV'), ('has', 'VERB'), ('instituted', 'VERB'), ('effective', 'ADJ'), ('search-and-seizure', '.'), ('procedures', 'NOUN'), ('0', 'X'), ('*', 'X'), ('to', 'PRT'), ('aid', 'NOUN'), ('these', 'DET'), ('teams', 'NOUN'), ('*T*-2', 'X'), (',', '.'), ('she', 'PRON'), ('said', 'VERB'), ('0', 'X'), ('*T*-1', 'X'), ('.', '.'), ('The', 'DET'), ('plan', 'NOUN'), ('was', 'VERB'), ('filed', 'VERB'), ('*-1', 'X'), ('jointly', 'ADV'), ('with', 'ADP'), ('unsecured', 'ADJ'), ('creditors', 'NOUN'), ('in', 'ADP'), ('federal', 'ADJ'), ('bankruptcy', 'NOUN'), ('court', 'NOUN'), ('in', 'ADP'), ('New', 'NOUN'), ('York', 'NOUN'), ('and', 'CONJ'), ('must', 'VERB'), ('be', 'VERB'), ('approved', 'VERB'), ('*-1', 'X'), ('by', 'ADP'), ('the', 'DET'), ('court', 'NOUN'), ('.', '.'), ('Some', 'DET'), ('analysts', 'NOUN'), ('say', 'VERB'), ('0', 'X'), ('investors', 'NOUN'), ('should', 'VERB'), ('run', 'VERB'), ('for', 'ADP'), ('the', 'DET'), ('exits', '.'), ('if', 'ADP'), ('a', 'DET'), ('sustained', 'VERB'), ('market', 'NOUN'), ('rebound', 'VERB'), ('pushes', '.'), ('the', 'DET'), ('yield', 'NOUN'), ('below', 'ADP'), ('3', 'NUM'), ('%', 'NOUN'), ('.', '.'), ('An', 'DET'), ('official', 'NOUN'), ('for', 'ADP'), ('the', 'DET'), ('lead', 'NOUN'), ('underwriter', 'NOUN'), ('declined', 'VERB'), ('*-1', 'X'), ('to', 'PRT'), ('comment', 'VERB'), ('on', 'ADP'), ('the', 'DET'), ('reason', 'NOUN'), ('for', 'ADP'), ('the', 'DET'), ('delay', 'VERB'), (',', '.'), ('but', 'CONJ'), ('market', 'NOUN'), ('participants', 'NOUN'), ('speculated', 'VERB'), ('that', 'ADP'), ('a', 'DET'), ('number', 'NOUN'), ('of', 'ADP'), ('factors', 'NOUN'), (',', '.'), ('including', 'VERB'), ('a', 'DET'), ('lack', 'NOUN'), ('of', 'ADP'), ('investor', 'NOUN'), ('interest', 'NOUN'), (',', '.'), ('were', 'VERB'), ('responsible', 'ADJ'), ('.', '.'), ('Always', '.'), ('.', '.'), ('The', 'DET'), ('department', 'NOUN'), ('proposed', 'VERB'), ('*', 'X'), ('requiring', 'VERB'), ('stronger', 'ADJ'), ('roofs', 'NOUN'), ('for', 'ADP'), ('light', 'ADJ'), ('trucks', 'NOUN'), ('and', 'CONJ'), ('minivans', 'NOUN'), (',', '.'), ('*', 'X'), ('beginning', 'VERB'), ('with', 'ADP'), ('1992', 'NUM'), ('models', 'NOUN'), ('.', '.'), ('For', 'ADP'), ('the', 'DET'), ('year', 'NOUN'), ('ended', 'VERB'), ('Sept.', 'NOUN'), ('30', 'NUM'), (',', '.'), ('Ralston', 'NOUN'), ('earned', 'VERB'), ('$', '.'), ('422.5', '.'), ('million', 'NUM'), ('*U*', 'X'), (',', '.'), ('or', 'CONJ'), ('$', '.'), ('6.44', '.'), ('*U*', 'X'), ('a', 'DET'), ('share', 'NOUN'), (',', '.'), ('up', 'ADV'), ('8.9', '.'), ('%', 'NOUN'), ('from', 'ADP'), ('$', '.'), ('387.8', '.'), ('million', 'NUM'), ('*U*', 'X'), (',', '.'), ('or', 'CONJ'), ('$', '.'), ('5.63', '.'), ('*U*', 'X'), ('a', 'DET'), ('share', 'NOUN'), ('.', '.'), ('``', '.'), ('What', 'PRON'), ('*T*-14', 'X'), ('matters', 'NOUN'), ('is', 'VERB'), ('what', 'PRON'), ('advertisers', 'NOUN'), ('are', 'VERB'), ('paying', 'VERB'), ('*T*-15', 'X'), ('per', 'ADP'), ('page', 'NOUN'), (',', '.'), ('and', 'CONJ'), ('in', 'ADP'), ('that', 'DET'), ('department', 'NOUN'), ('we', 'PRON'), ('are', 'VERB'), ('doing', 'VERB'), ('fine', 'NOUN'), ('this', 'DET'), ('fall', 'NOUN'), (',', '.'), (\"''\", '.'), ('said', 'VERB'), ('*T*-1', 'X'), ('Mr.', 'NOUN'), ('Spoon', 'NOUN'), ('.', '.'), ('Your', 'PRON'), ('$', '.'), ('15,000', 'NUM'), ('*U*', 'X'), ('will', 'VERB'), ('help', 'VERB'), ('*-1', 'X'), ('keep', 'VERB'), ('a', 'DET'), ('needy', '.'), ('savings', 'NOUN'), ('and', 'CONJ'), ('loan', 'NOUN'), ('solvent', '.'), ('--', '.'), ('and', 'CONJ'), ('out', 'ADP'), ('of', 'ADP'), ('the', 'DET'), ('federal', 'ADJ'), ('budget', 'NOUN'), ('deficit', 'NOUN'), ('.', '.'), ('About', 'ADP'), ('$', '.'), ('490', '.'), ('million', 'NUM'), ('*U*', 'X'), ('of', 'ADP'), ('that', 'DET'), ('would', 'VERB'), ('be', 'VERB'), ('allocated', 'VERB'), ('*-87', 'X'), ('to', 'PRT'), ('the', 'DET'), ('buy-back', 'ADJ'), (',', '.'), ('*', 'X'), ('leaving', 'VERB'), ('about', 'ADP'), ('$', '.'), ('130', 'NUM'), ('million', 'NUM'), ('*U*', 'X'), (',', '.'), ('he', 'PRON'), ('said', 'VERB'), ('0', 'X'), ('*T*-1', 'X'), ('.', '.'), ('To', 'PRT'), ('the', 'DET'), ('surprise', 'NOUN'), ('of', 'ADP'), ('some', 'DET'), ('analysts', 'NOUN'), (',', '.'), ('net', 'ADJ'), ('cash', 'NOUN'), ('income', 'NOUN'), ('rose', 'VERB'), ('in', 'ADP'), ('some', 'DET'), ('of', 'ADP'), ('the', 'DET'), ('hardest-hit', '.'), ('states', 'NOUN'), (',', '.'), ('including', 'VERB'), ('Indiana', 'NOUN'), (',', '.'), ('Illinois', 'NOUN'), (',', '.'), ('Nebraska', 'NOUN'), ('and', 'CONJ'), ('the', 'DET'), ('Dakotas', '.'), ('.', '.'), ('In', 'ADP'), ('the', 'DET'), ('last', 'ADJ'), ('year', 'NOUN'), ('or', 'CONJ'), ('so', 'ADV'), (',', '.'), ('however', 'ADV'), (',', '.'), ('this', 'DET'), ('exclusive', 'ADJ'), ('club', 'NOUN'), ('has', 'VERB'), ('taken', 'VERB'), ('in', 'ADP'), ('a', 'DET'), ('host', 'NOUN'), ('of', 'ADP'), ('flashy', '.'), ('new', 'ADJ'), ('members', 'NOUN'), ('.', '.'), ('By', 'ADP'), ('1997', '.'), (',', '.'), ('almost', 'ADV'), ('all', 'DET'), ('remaining', 'VERB'), ('uses', 'VERB'), ('of', 'ADP'), ('cancer-causing', '.'), ('asbestos', 'NOUN'), ('will', 'VERB'), ('be', 'VERB'), ('outlawed', '.'), ('*-6', 'X'), ('.', '.'), ('IBM', 'NOUN'), (',', '.'), ('the', 'DET'), ('giant', 'ADJ'), ('computer', 'NOUN'), ('maker', 'NOUN'), (',', '.'), ('offered', 'VERB'), ('$', '.'), ('750', 'NUM'), ('million', 'NUM'), ('*U*', 'X'), ('of', 'ADP'), ('non-callable', 'ADJ'), ('30-year', 'ADJ'), ('debentures', 'NOUN'), ('priced', 'VERB'), ('*', 'X'), ('*-1', 'X'), ('to', 'PRT'), ('yield', 'VERB'), ('8.47', 'NUM'), ('%', 'NOUN'), (',', '.'), ('or', 'CONJ'), ('about', 'ADP'), ('1\\\\/2', 'NUM'), ('percentage', 'NOUN'), ('point', 'NOUN'), ('higher', 'ADJ'), ('than', 'ADP'), ('the', 'DET'), ('yield', 'NOUN'), ('on', 'ADP'), ('30-year', 'ADJ'), ('Treasury', 'NOUN'), ('bonds', 'NOUN'), ('.', '.'), ('Big', 'NOUN'), ('Board', 'NOUN'), ('volume', 'NOUN'), ('totaled', 'VERB'), ('154.2', '.'), ('million', 'NUM'), ('shares', 'NOUN'), ('.', '.'), ('Bears', '.'), ('have', 'VERB'), ('targeted', 'VERB'), ('Columbia', 'NOUN'), (\"'s\", 'PRT'), ('stock', 'NOUN'), ('because', 'ADP'), ('of', 'ADP'), ('the', 'DET'), ('thrift', 'NOUN'), (\"'s\", 'PRT'), ('exposure', 'NOUN'), ('to', 'PRT'), ('the', 'DET'), ('shaky', '.'), ('junk', 'NOUN'), ('market', 'NOUN'), ('.', '.'), ('Freeport-McMoRan', 'NOUN'), ('Inc.', 'NOUN'), ('said', 'VERB'), ('0', 'X'), ('it', 'PRON'), ('will', 'VERB'), ('convert', '.'), ('its', 'PRON'), ('Freeport-McMoRan', 'NOUN'), ('Energy', 'NOUN'), ('Partners', 'NOUN'), ('Ltd.', 'NOUN'), ('partnership', 'NOUN'), ('into', 'ADP'), ('a', 'DET'), ('publicly', 'ADV'), ('traded', 'VERB'), ('company', 'NOUN'), ('through', 'ADP'), ('the', 'DET'), ('exchange', 'NOUN'), ('of', 'ADP'), ('units', 'NOUN'), ('of', 'ADP'), ('the', 'DET'), ('partnership', 'NOUN'), ('for', 'ADP'), ('common', 'ADJ'), ('shares', 'NOUN'), ('.', '.'), ('Similar', '.'), ('levels', 'NOUN'), ('hamstrung', '.'), ('barge', 'NOUN'), ('shipments', 'NOUN'), ('last', 'ADJ'), ('year', 'NOUN'), ('in', 'ADP'), ('the', 'DET'), ('wake', 'NOUN'), ('of', 'ADP'), ('the', 'DET'), ('worst', 'ADJ'), ('drought', 'NOUN'), ('in', 'ADP'), ('50', 'NUM'), ('years', 'NOUN'), ('.', '.'), ('All', 'DET'), ('came', 'VERB'), ('from', 'ADP'), ('Cray', 'NOUN'), ('Research', 'NOUN'), ('.', '.'), ('``', '.'), ('I', 'PRON'), (\"'m\", 'VERB'), ('very', 'ADV'), ('alarmed', '.'), ('*-2', 'X'), ('to', 'PRT'), ('see', 'VERB'), ('these', 'DET'), ('rich', 'ADJ'), ('valuations', '.'), (',', '.'), (\"''\", '.'), ('says', 'VERB'), ('*T*-1', 'X'), ('Smith', 'NOUN'), ('Barney', 'NOUN'), (\"'s\", 'PRT'), ('Mr.', 'NOUN'), ('Porter', 'NOUN'), ('.', '.'), ('More', 'ADV'), ('than', 'ADP'), ('a', 'DET'), ('few', 'ADJ'), ('CEOs', 'NOUN'), ('say', 'VERB'), ('0', 'X'), ('the', 'DET'), ('red-carpet', '.'), ('treatment', 'NOUN'), ('tempts', '.'), ('them', 'PRON'), ('to', 'PRT'), ('return', 'NOUN'), ('to', 'PRT'), ('a', 'DET'), ('heartland', '.'), ('city', 'NOUN'), ('for', 'ADP'), ('future', 'ADJ'), ('meetings', 'NOUN'), ('.', '.'), ('Until', 'ADP'), ('such', 'ADJ'), ('action', 'NOUN'), ('takes', 'VERB'), ('places', 'VERB'), (',', '.'), ('the', 'DET'), ('Treasury', 'NOUN'), ('has', 'VERB'), ('no', 'DET'), ('ability', 'NOUN'), ('*', 'X'), ('to', 'PRT'), ('issue', 'NOUN'), ('new', 'ADJ'), ('debt', 'NOUN'), ('of', 'ADP'), ('any', 'DET'), ('kind', 'NOUN'), ('.', '.'), ('Under', 'ADP'), ('a', 'DET'), ('1934', '.'), ('law', 'NOUN'), (',', '.'), ('the', 'DET'), ('Johnson', 'NOUN'), ('Debt', '.'), ('Default', '.'), ('Act', 'NOUN'), (',', '.'), ('as', 'ADP'), ('*', 'X'), ('amended', '.'), ('*-1', 'X'), (',', '.'), ('it', 'PRON'), ('*EXP*-2', 'X'), (\"'s\", 'PRT'), ('illegal', 'ADJ'), ('for', 'ADP'), ('Americans', 'NOUN'), ('to', 'PRT'), ('extend', 'VERB'), ('credit', 'NOUN'), ('to', 'PRT'), ('countries', 'NOUN'), ('in', 'ADP'), ('default', 'NOUN'), ('to', 'PRT'), ('the', 'DET'), ('U.S.', 'NOUN'), ('government', 'NOUN'), (',', '.'), ('unless', 'ADP'), ('they', 'PRON'), ('are', 'VERB'), ('members', 'NOUN'), ('of', 'ADP'), ('the', 'DET'), ('World', 'NOUN'), ('Bank', 'NOUN'), ('and', 'CONJ'), ('International', 'NOUN'), ('Monetary', 'NOUN'), ('Fund', 'NOUN'), ('.', '.'), ('Standard', 'NOUN'), ('&', 'CONJ'), ('Poor', 'NOUN'), (\"'s\", 'PRT'), ('Corp.', 'NOUN'), ('lowered', 'VERB'), ('to', 'PRT'), ('double-C', '.'), ('from', 'ADP'), ('triple-C', '.'), ('the', 'DET'), ('rating', 'NOUN'), ('on', 'ADP'), ('about', 'ADP'), ('$', '.'), ('130', 'NUM'), ('million', 'NUM'), ('*U*', 'X'), ('of', 'ADP'), ('debt', 'NOUN'), ('.', '.'), ('Of', 'ADP'), ('course', 'NOUN'), (',', '.'), ('regulators', 'NOUN'), ('would', 'VERB'), ('have', 'VERB'), ('*-1', 'X'), ('to', 'PRT'), ('approve', 'VERB'), ('Columbia', 'NOUN'), (\"'s\", 'PRT'), ('reorganization', 'NOUN'), ('.', '.'), ('In', 'ADP'), ('another', 'DET'), ('reflection', 'NOUN'), ('that', 'ADP'), ('the', 'DET'), ('growth', 'NOUN'), ('of', 'ADP'), ('the', 'DET'), ('economy', 'NOUN'), ('is', 'VERB'), ('leveling', 'VERB'), ('off', 'PRT'), (',', '.'), ('the', 'DET'), ('government', 'NOUN'), ('said', 'VERB'), ('that', 'ADP'), ('orders', 'NOUN'), ('for', 'ADP'), ('manufactured', 'VERB'), ('goods', 'NOUN'), ('and', 'CONJ'), ('spending', 'NOUN'), ('on', 'ADP'), ('construction', 'NOUN'), ('failed', 'VERB'), ('*-1', 'X'), ('to', 'PRT'), ('rise', 'VERB'), ('in', 'ADP'), ('September', 'NOUN'), ('.', '.'), ('Activity', '.'), ('was', 'VERB'), ('light', 'ADJ'), ('in', 'ADP'), ('derivative', '.'), ('markets', 'NOUN'), (',', '.'), ('with', 'ADP'), ('no', 'DET'), ('new', 'ADJ'), ('issues', 'NOUN'), ('priced', 'VERB'), ('*-1', 'X'), ('.', '.'), ('``', '.'), ('*', 'X'), ('Having', '.'), ('the', 'DET'), ('dividend', 'NOUN'), ('increases', 'NOUN'), ('is', 'VERB'), ('a', 'DET'), ('supportive', '.'), ('element', '.'), ('in', 'ADP'), ('the', 'DET'), ('market', 'NOUN'), ('outlook', 'NOUN'), (',', '.'), ('but', 'CONJ'), ('I', 'PRON'), ('do', 'VERB'), (\"n't\", 'ADV'), ('think', 'VERB'), ('0', 'X'), ('it', 'PRON'), (\"'s\", 'VERB'), ('a', 'DET'), ('main', 'ADJ'), ('consideration', 'NOUN'), (',', '.'), (\"''\", '.'), ('he', 'PRON'), ('says', 'VERB'), ('*T*-1', 'X'), ('.', '.'), ('But', 'CONJ'), ('since', 'ADP'), ('the', 'DET'), ('1990', 'NUM'), ('model', 'NOUN'), ('year', 'NOUN'), ('began', 'VERB'), ('Oct.', 'NOUN'), ('1', 'NUM'), (',', '.'), ('Buick', 'NOUN'), ('sales', 'NOUN'), ('have', 'VERB'), ('plunged', 'VERB'), ('33', 'NUM'), ('%', 'NOUN'), ('.', '.'), ('Futures', 'NOUN'), ('traders', 'NOUN'), ('respond', 'VERB'), ('that', 'ADP'), ('low', 'ADJ'), ('margins', 'NOUN'), ('help', 'VERB'), ('*-1', 'X'), ('keep', 'VERB'), ('their', 'PRON'), ('markets', 'NOUN'), ('active', 'ADJ'), ('.', '.'), ('Sales', 'NOUN'), ('rose', 'VERB'), ('to', 'PRT'), ('$', '.'), ('9.8', 'NUM'), ('million', 'NUM'), ('*U*', 'X'), ('from', 'ADP'), ('$', '.'), ('8.9', '.'), ('million', 'NUM'), ('*U*', 'X'), ('.', '.'), ('He', 'PRON'), ('and', 'CONJ'), ('his', 'PRON'), ('successor', 'NOUN'), (',', '.'), ('Mary', 'NOUN'), ('Anne', 'NOUN'), ('Dolan', '.'), (',', '.'), ('restored', '.'), ('respect', 'NOUN'), ('for', 'ADP'), ('the', 'DET'), ('editorial', 'NOUN'), ('product', 'NOUN'), (',', '.'), ('and', 'CONJ'), ('though', 'ADP'), ('in', 'ADP'), ('recent', 'ADJ'), ('years', 'NOUN'), ('the', 'DET'), ('paper', 'NOUN'), ('had', 'VERB'), ('been', 'VERB'), ('limping', '.'), ('along', 'ADP'), ('on', 'ADP'), ('limited', 'ADJ'), ('resources', 'NOUN'), (',', '.'), ('its', 'PRON'), ('accomplishments', '.'), ('were', 'VERB'), ('notable', '.'), ('.', '.'), ('The', 'DET'), ('Treasury', 'NOUN'), ('plans', 'VERB'), ('*-1', 'X'), ('to', 'PRT'), ('sell', 'VERB'), ('$', '.'), ('30', 'NUM'), ('billion', 'NUM'), ('*U*', 'X'), ('in', 'ADP'), ('notes', 'NOUN'), ('and', 'CONJ'), ('bonds', 'NOUN'), ('next', 'ADP'), ('week', 'NOUN'), ('but', 'CONJ'), ('will', 'VERB'), ('delay', 'VERB'), ('the', 'DET'), ('auction', 'NOUN'), ('unless', 'ADP'), ('Congress', 'NOUN'), ('quickly', 'ADV'), ('raises', 'VERB'), ('the', 'DET'), ('debt', 'NOUN'), ('ceiling', 'NOUN'), ('.', '.'), ('The', 'DET'), ('biggest', 'ADJ'), ('firms', 'NOUN'), ('still', 'ADV'), ('retain', 'VERB'), ('the', 'DET'), ('highest', 'ADJ'), ('ratings', 'NOUN'), ('on', 'ADP'), ('their', 'PRON'), ('commercial', 'ADJ'), ('paper', 'NOUN'), ('.', '.'), ('More', 'ADV'), ('than', 'ADP'), ('three', 'NUM'), ('in', 'ADP'), ('five', 'NUM'), ('said', 'VERB'), ('0', 'X'), ('they', 'PRON'), ('are', 'VERB'), ('under', 'ADP'), ('a', 'DET'), ('great', 'ADJ'), ('deal', 'NOUN'), ('of', 'ADP'), ('stress', '.'), ('most', 'ADV'), ('of', 'ADP'), ('the', 'DET'), ('time', 'NOUN'), (',', '.'), ('compared', 'VERB'), ('with', 'ADP'), ('less', 'ADJ'), ('than', 'ADP'), ('one', 'NUM'), ('in', 'ADP'), ('two', 'NUM'), ('U.S.', 'NOUN'), ('consumers', 'NOUN'), ('and', 'CONJ'), ('one', 'NUM'), ('in', 'ADP'), ('four', 'NUM'), ('in', 'ADP'), ('Japan', 'NOUN'), ('.', '.'), ('--', '.'), ('Dorothy', 'NOUN'), ('L.', 'NOUN'), ('Sayers', 'NOUN'), (',', '.'), ('``', '.'), ('The', 'DET'), ('Nine', '.'), ('Tailors', '.'), (\"''\", '.'), ('Some', 'DET'), ('U.S.', 'NOUN'), ('firms', 'NOUN'), (',', '.'), ('notably', 'ADV'), ('Salomon', 'NOUN'), ('Inc.', 'NOUN'), ('and', 'CONJ'), ('Morgan', 'NOUN'), ('Stanley', 'NOUN'), ('Group', 'NOUN'), ('Inc.', 'NOUN'), (',', '.'), ('have', 'VERB'), ('reaped', '.'), ('a', 'DET'), ('hefty', 'ADJ'), ('chunk', 'NOUN'), ('of', 'ADP'), ('their', 'PRON'), ('Japanese', 'ADJ'), ('earnings', 'NOUN'), ('from', 'ADP'), ('index', 'NOUN'), ('arbitrage', 'NOUN'), (',', '.'), ('both', 'DET'), ('for', 'ADP'), ('customers', 'NOUN'), ('and', 'CONJ'), ('for', 'ADP'), ('their', 'PRON'), ('own', 'ADJ'), ('accounts', 'NOUN'), ('.', '.'), ('Typical', '.'), ('rates', 'NOUN'), ('in', 'ADP'), ('the', 'DET'), ('secondary', 'ADJ'), ('market', 'NOUN'), (':', '.'), ('8.60', '.'), ('%', 'NOUN'), ('one', 'NUM'), ('month', 'NOUN'), (';', '.'), ('8.55', 'NUM'), ('%', 'NOUN'), ('three', 'NUM'), ('months', 'NOUN'), (';', '.'), ('8.35', '.'), ('%', 'NOUN'), ('six', 'NUM'), ('months', 'NOUN'), ('.', '.'), ('``', '.'), ('The', 'DET'), ('disturbing', 'ADJ'), ('thing', 'NOUN'), ('about', 'ADP'), ('this', 'DET'), ('abortion', 'NOUN'), ('issue', 'NOUN'), ('is', 'VERB'), ('that', 'ADP'), ('the', 'DET'), ('debate', 'NOUN'), ('has', 'VERB'), ('become', 'VERB'), ('polarized', '.'), ('*-1', 'X'), (',', '.'), ('so', 'ADV'), ('that', 'ADP'), ('no', 'DET'), ('mechanism', 'NOUN'), ('*ICH*-2', 'X'), ('exists', '.'), (\"''\", '.'), ('for', 'ADP'), ('*', 'X'), ('finding', 'VERB'), ('a', 'DET'), ('middle', 'NOUN'), ('ground', 'NOUN'), ('.', '.'), ('As', 'ADP'), ('an', 'DET'), ('actor', '.'), (',', '.'), ('Charles', 'NOUN'), ('Lane', 'NOUN'), ('is', 'VERB'), (\"n't\", 'ADV'), ('the', 'DET'), ('inheritor', '.'), ('of', 'ADP'), ('Charlie', '.'), ('Chaplin', 'NOUN'), (\"'s\", 'PRT'), ('spirit', 'NOUN'), ('.', '.'), ('Rudolph', 'NOUN'), ('Agnew', '.'), (',', '.'), ('55', 'NUM'), ('years', 'NOUN'), ('old', 'ADJ'), ('and', 'CONJ'), ('former', 'ADJ'), ('chairman', 'NOUN'), ('of', 'ADP'), ('Consolidated', 'NOUN'), ('Gold', 'NOUN'), ('Fields', 'NOUN'), ('PLC', 'NOUN'), (',', '.'), ('was', 'VERB'), ('named', 'VERB'), ('*-1', 'X'), ('a', 'DET'), ('nonexecutive', 'ADJ'), ('director', 'NOUN'), ('of', 'ADP'), ('this', 'DET'), ('British', 'ADJ'), ('industrial', 'ADJ'), ('conglomerate', 'NOUN'), ('.', '.'), ('The', 'DET'), ('new', 'ADJ'), (',', '.'), ('seven-year', '.'), ('funds', 'NOUN'), ('--', '.'), ('one', 'NUM'), ('offering', 'NOUN'), ('a', 'DET'), ('fixed-rate', 'ADJ'), ('return', 'NOUN'), ('and', 'CONJ'), ('the', 'DET'), ('other', 'ADJ'), ('with', 'ADP'), ('a', 'DET'), ('floating-rate', 'ADJ'), ('return', 'NOUN'), ('linked', 'VERB'), ('*', 'X'), ('to', 'PRT'), ('the', 'DET'), ('London', 'NOUN'), ('interbank', 'NOUN'), ('offered', 'VERB'), ('rate', 'NOUN'), ('--', '.'), ('offer', 'NOUN'), ('two', 'NUM'), ('key', 'ADJ'), ('advantages', 'NOUN'), ('to', 'PRT'), ('Japanese', 'ADJ'), ('investors', 'NOUN'), ('.', '.'), ('A', 'DET'), ('White', 'NOUN'), ('House', 'NOUN'), ('spokesman', 'NOUN'), ('said', 'VERB'), ('last', 'ADJ'), ('week', 'NOUN'), ('that', 'ADP'), ('the', 'DET'), ('president', 'NOUN'), ('is', 'VERB'), ('considering', 'VERB'), ('*-1', 'X'), ('declaring', 'VERB'), ('that', 'ADP'), ('the', 'DET'), ('Constitution', 'NOUN'), ('implicitly', '.'), ('gives', 'VERB'), ('him', 'PRON'), ('the', 'DET'), ('authority', 'NOUN'), ('for', 'ADP'), ('a', 'DET'), ('line-item', 'ADJ'), ('veto', 'NOUN'), ('*-2', 'X'), ('to', 'PRT'), ('provoke', '.'), ('a', 'DET'), ('test', 'NOUN'), ('case', 'NOUN'), ('.', '.'), ('But', 'CONJ'), ('she', 'PRON'), ('did', 'VERB'), (\"n't\", 'ADV'), ('deserve', 'VERB'), ('*-1', 'X'), ('to', 'PRT'), ('have', 'VERB'), ('her', 'PRON'), ('head', 'NOUN'), ('chopped', '.'), ('*-2', 'X'), ('off', 'PRT'), ('.', '.'), ('The', 'DET'), ('report', 'NOUN'), ('from', 'ADP'), ('the', 'DET'), ('Fed', 'NOUN'), ('found', 'VERB'), ('that', 'ADP'), ('manufacturing', 'NOUN'), (',', '.'), ('in', 'ADP'), ('particular', 'ADJ'), (',', '.'), ('has', 'VERB'), ('been', 'VERB'), ('weak', 'ADJ'), ('in', 'ADP'), ('recent', 'ADJ'), ('weeks', 'NOUN'), ('.', '.'), ('Characters', '.'), ('drink', 'NOUN'), ('Salty', '.'), ('Dogs', '.'), (',', '.'), ('whistle', '.'), ('``', '.'), ('Johnny', '.'), ('B.', 'NOUN'), ('Goode', '.'), (\"''\", '.'), ('and', 'CONJ'), ('watch', 'VERB'), ('Bugs', '.'), ('Bunny', '.'), ('reruns', 'NOUN'), ('.', '.'), ('Many', 'ADJ'), ('Asians', '.'), ('regard', 'VERB'), ('a', 'DET'), ('U.S.', 'NOUN'), ('presence', 'NOUN'), ('as', 'ADP'), ('a', 'DET'), ('desirable', 'ADJ'), ('counterweight', '.'), ('to', 'PRT'), ('Japanese', 'ADJ'), ('influence', 'NOUN'), ('.', '.'), ('1', 'NUM'), ('.', '.'), ('*', 'X'), ('Buy', 'VERB'), ('a', 'DET'), ('new', 'ADJ'), ('Chevrolet', 'NOUN'), ('.', '.'), ('Elisabeth', '.'), ('Rubinfien', '.'), ('contributed', 'VERB'), ('to', 'PRT'), ('this', 'DET'), ('article', 'NOUN'), ('.', '.'), ('``', '.'), ('You', 'PRON'), ('either', 'ADV'), ('believe', 'VERB'), ('0', 'X'), ('Seymour', 'NOUN'), ('can', 'VERB'), ('do', 'VERB'), ('it', 'PRON'), ('again', 'ADV'), ('or', 'CONJ'), ('you', 'PRON'), ('do', 'VERB'), (\"n't\", 'ADV'), ('*?*', 'X'), ('.', '.'), (\"''\", '.'), ('There', 'DET'), ('have', 'VERB'), ('been', 'VERB'), ('only', 'ADV'), ('seven', 'NUM'), ('other', 'ADJ'), ('times', 'NOUN'), ('--', '.'), ('in', 'ADP'), ('1929', 'NUM'), (',', '.'), ('1933', '.'), (',', '.'), ('1961', '.'), (',', '.'), ('1965', 'NUM'), (',', '.'), ('1968', '.'), (',', '.'), ('1971', 'NUM'), ('and', 'CONJ'), ('1972', 'NUM'), ('--', '.'), ('when', 'ADV'), ('the', 'DET'), ('yield', 'NOUN'), ('on', 'ADP'), ('the', 'DET'), ('S&P', 'NOUN'), ('500', 'NUM'), ('dropped', 'VERB'), ('below', 'ADP'), ('3', 'NUM'), ('%', 'NOUN'), ('for', 'ADP'), ('at', 'ADP'), ('least', 'ADJ'), ('two', 'NUM'), ('consecutive', 'ADJ'), ('months', 'NOUN'), ('*T*-1', 'X'), (',', '.'), ('Mr.', 'NOUN'), ('Perritt', '.'), ('found', 'VERB'), ('0', 'X'), ('*T*-2', 'X'), ('.', '.'), ('Earnings', 'NOUN'), ('were', 'VERB'), ('hurt', 'VERB'), ('*-1', 'X'), ('by', 'ADP'), ('disposal', 'NOUN'), ('of', 'ADP'), ('operations', 'NOUN'), ('in', 'ADP'), ('its', 'PRON'), ('restructuring', 'NOUN'), (',', '.'), ('Reed', 'NOUN'), ('said', 'VERB'), ('0', 'X'), ('*T*-2', 'X'), ('.', '.'), ('Back', '.'), ('downtown', 'NOUN'), (',', '.'), ('the', 'DET'), ('execs', '.'), ('squeezed', 'VERB'), ('in', 'ADP'), ('a', 'DET'), ('few', 'ADJ'), ('meetings', 'NOUN'), ('at', 'ADP'), ('the', 'DET'), ('hotel', 'NOUN'), ('before', 'ADP'), ('*-1', 'X'), ('boarding', '.'), ('the', 'DET'), ('buses', 'NOUN'), ('again', 'ADV'), ('.', '.'), ('Proponents', '.'), ('of', 'ADP'), ('the', 'DET'), ('funding', 'NOUN'), ('arrangement', 'NOUN'), ('predict', 'VERB'), ('that', 'ADP'), (',', '.'), ('based', 'VERB'), ('on', 'ADP'), ('recent', 'ADJ'), ('filing', 'NOUN'), ('levels', 'NOUN'), ('of', 'ADP'), ('more', 'ADJ'), ('than', 'ADP'), ('2,000', 'NUM'), ('a', 'DET'), ('year', 'NOUN'), (',', '.'), ('the', 'DET'), ('fees', 'NOUN'), ('will', 'VERB'), ('yield', 'VERB'), ('at', 'ADP'), ('least', 'ADJ'), ('$', '.'), ('40', 'NUM'), ('million', 'NUM'), ('*U*', 'X'), ('*ICH*-1', 'X'), ('this', 'DET'), ('fiscal', 'ADJ'), ('year', 'NOUN'), (',', '.'), ('or', 'CONJ'), ('$', '.'), ('10', 'NUM'), ('million', 'NUM'), ('*U*', 'X'), ('more', 'ADV'), ('than', 'ADP'), ('the', 'DET'), ('budget', 'NOUN'), ('cuts', 'NOUN'), ('.', '.'), ('President', 'NOUN'), ('Bush', 'NOUN'), ('should', 'VERB'), ('set', 'VERB'), ('things', 'NOUN'), ('straight', 'ADV'), ('.', '.'), ('Rick', 'NOUN'), ('Brownell', 'NOUN'), (',', '.'), ('senior', 'ADJ'), ('editor', 'NOUN'), ('of', 'ADP'), ('Scoring', 'NOUN'), ('High', 'NOUN'), (',', '.'), ('says', 'VERB'), ('that', 'ADP'), ('Messrs.', 'NOUN'), ('Kaminski', 'NOUN'), ('and', 'CONJ'), ('Mehrens', 'NOUN'), ('are', 'VERB'), ('ignoring', 'VERB'), ('``', '.'), ('the', 'DET'), ('need', 'NOUN'), ('0', 'X'), ('students', 'NOUN'), ('have', 'VERB'), ('*T*-1', 'X'), ('for', 'ADP'), ('*', 'X'), ('becoming', 'VERB'), ('familiar', 'ADJ'), ('with', 'ADP'), ('tests', 'NOUN'), ('and', 'CONJ'), ('testing', 'NOUN'), ('format', 'NOUN'), ('.', '.'), (\"''\", '.'), ('Rockwell', 'NOUN'), ('International', 'NOUN'), ('Corp.', 'NOUN'), ('won', 'VERB'), ('a', 'DET'), ('$', '.'), ('130.7', '.'), ('million', 'NUM'), ('*U*', 'X'), ('Air', 'NOUN'), ('Force', 'NOUN'), ('contract', 'NOUN'), ('for', 'ADP'), ('AC-130U', '.'), ('gunship', 'NOUN'), ('replacement', 'NOUN'), ('aircraft', 'NOUN'), ('.', '.'), ('On', 'ADP'), ('one', 'NUM'), ('side', 'NOUN'), ('of', 'ADP'), ('this', 'DET'), ('power', 'NOUN'), ('struggle', 'NOUN'), ('stand', 'VERB'), ('*T*-1', 'X'), ('the', 'DET'), ('forces', 'NOUN'), ('in', 'ADP'), ('ascendency', '.'), ('on', 'ADP'), ('Wall', 'NOUN'), ('Street', 'NOUN'), ('--', '.'), ('the', 'DET'), ('New', 'NOUN'), ('Guard', 'NOUN'), ('--', '.'), ('consisting', '.'), ('of', 'ADP'), ('high-tech', 'ADJ'), ('computer', 'NOUN'), ('wizards', '.'), ('at', 'ADP'), ('the', 'DET'), ('major', 'ADJ'), ('brokerage', 'NOUN'), ('firms', 'NOUN'), (',', '.'), ('their', 'PRON'), ('pension', 'NOUN'), ('fund', 'NOUN'), ('clients', 'NOUN'), ('with', 'ADP'), ('immense', '.'), ('pools', '.'), ('of', 'ADP'), ('money', 'NOUN'), (',', '.'), ('and', 'CONJ'), ('the', 'DET'), ('traders', 'NOUN'), ('at', 'ADP'), ('the', 'DET'), ('fast-growing', '.'), ('Chicago', 'NOUN'), ('futures', 'NOUN'), ('exchanges', 'NOUN'), ('.', '.'), ('Viacom', 'NOUN'), (\"'s\", 'PRT'), ('move', 'VERB'), ('comes', 'VERB'), ('as', 'ADP'), ('the', 'DET'), ('syndication', 'NOUN'), ('market', 'NOUN'), ('is', 'VERB'), ('being', 'VERB'), ('flooded', '.'), ('*-76', 'X'), ('with', 'ADP'), ('situation', 'NOUN'), ('comedies', '.'), ('that', 'DET'), ('*T*-152', '.'), ('are', 'VERB'), ('still', 'ADV'), ('running', 'VERB'), ('on', 'ADP'), ('the', 'DET'), ('networks', '.'), ('.', '.'), ('What', 'PRON'), ('*T*-234', '.'), ('will', 'VERB'), ('happen', 'VERB'), ('to', 'PRT'), ('dividend', 'NOUN'), ('growth', 'NOUN'), ('next', 'ADP'), ('year', 'NOUN'), ('?', '.'), ('``', '.'), ('Insurance', 'NOUN'), ('agents', 'NOUN'), ('have', 'VERB'), ('been', 'VERB'), ('forced', 'VERB'), ('*-158', '.'), ('by', 'ADP'), ('their', 'PRON'), ('companies', 'NOUN'), ('into', 'ADP'), ('*-2', 'X'), ('becoming', 'VERB'), ('registered', 'VERB'), ('reps', '.'), (',', '.'), (\"''\", '.'), ('he', 'PRON'), ('said', 'VERB'), ('*T*-1', 'X'), (',', '.'), ('``', '.'), ('but', 'CONJ'), ('they', 'PRON'), ('are', 'VERB'), ('not', 'ADV'), ('providing', 'VERB'), ('compliance', 'NOUN'), ('and', 'CONJ'), ('security-type', '.'), ('training', 'NOUN'), ('so', 'ADV'), ('that', 'ADP'), ('we', 'PRON'), ('can', 'VERB'), ('avoid', 'VERB'), ('stupid', 'ADJ'), ('mistakes', '.'), ('.', '.'), (\"''\", '.'), ('Workers', 'NOUN'), ('described', 'VERB'), ('``', '.'), ('clouds', '.'), ('of', 'ADP'), ('blue', 'ADJ'), ('dust', '.'), (\"''\", '.'), ('that', 'DET'), ('*T*-1', 'X'), ('hung', '.'), ('over', 'ADP'), ('parts', 'NOUN'), ('of', 'ADP'), ('the', 'DET'), ('factory', 'NOUN'), (',', '.'), ('even', 'ADV'), ('though', 'ADP'), ('exhaust', 'VERB'), ('fans', 'NOUN'), ('ventilated', '.'), ('the', 'DET'), ('area', 'NOUN'), ('.', '.')]\n"
     ]
    }
   ],
   "source": [
    "print(\"Time taken in seconds: \", difference)\n",
    "print(tagged_seq)"
   ]
  },
  {
   "cell_type": "code",
   "execution_count": 33,
   "metadata": {},
   "outputs": [
    {
     "data": {
      "text/plain": [
       "0.9071150297313922"
      ]
     },
     "execution_count": 33,
     "metadata": {},
     "output_type": "execute_result"
    }
   ],
   "source": [
    "# accuracy on validation dataset\n",
    "check = [i for i, j in zip(tagged_seq, validation_tagged_words) if i == j] \n",
    "accuracy = len(check)/len(tagged_seq)\n",
    "accuracy"
   ]
  },
  {
   "cell_type": "code",
   "execution_count": 34,
   "metadata": {},
   "outputs": [
    {
     "data": {
      "text/plain": [
       "[[('.', '.'), (('Ruth', '.'), ('Ruth', 'NOUN'))],\n",
       " [('Nelson', 'NOUN'), (('Cullowhee', '.'), ('Cullowhee', 'NOUN'))],\n",
       " [('shares', 'NOUN'), (('*T*-121', '.'), ('*T*-121', 'X'))],\n",
       " [('*T*-121', 'X'), (('trade', 'NOUN'), ('trade', 'VERB'))],\n",
       " [('.', '.'), (('Card', '.'), ('Card', 'NOUN'))],\n",
       " [('a', 'DET'), (('sweepstakes', '.'), ('sweepstakes', 'NOUN'))],\n",
       " [('Maxwell', 'NOUN'), (('R.D.', '.'), ('R.D.', 'NOUN'))],\n",
       " [('R.D.', 'NOUN'), (('Vos', '.'), ('Vos', 'NOUN'))],\n",
       " [(',', '.'), (('N.Y', '.'), ('N.Y', 'NOUN'))],\n",
       " [('The', 'DET'), (('Perch', '.'), ('Perch', 'NOUN'))],\n",
       " [('and', 'CONJ'), (('Dolphin', '.'), ('Dolphin', 'NOUN'))],\n",
       " [('producing', 'VERB'), (('early', 'ADV'), ('early', 'ADJ'))],\n",
       " [('the', 'DET'), (('Seahorse', '.'), ('Seahorse', 'NOUN'))],\n",
       " [('and', 'CONJ'), (('Tarwhine', '.'), ('Tarwhine', 'NOUN'))],\n",
       " [('be', 'VERB'), (('refunded', '.'), ('refunded', 'VERB'))],\n",
       " [('newly', 'ADV'), (('fattened', '.'), ('fattened', 'VERB'))],\n",
       " [('a', 'DET'), (('disembodied', '.'), ('disembodied', 'ADJ'))],\n",
       " [('disembodied', 'ADJ'), (('male', 'ADJ'), ('male', 'NOUN'))],\n",
       " [('.', '.'), (('Otherwise', '.'), ('Otherwise', 'ADV'))],\n",
       " [('the', 'DET'), (('300-day', '.'), ('300-day', 'ADJ'))],\n",
       " [('oldest', 'ADJ'), (('bell-ringing', '.'), ('bell-ringing', 'ADJ'))],\n",
       " [('the', 'DET'), (('Ancient', '.'), ('Ancient', 'NOUN'))],\n",
       " [('College', 'NOUN'), (('Youths', '.'), ('Youths', 'NOUN'))],\n",
       " [('in', 'ADP'), (('1637', '.'), ('1637', 'NUM'))],\n",
       " [('remains', 'VERB'), (('male-only', '.'), ('male-only', 'ADJ'))],\n",
       " [('fact', 'NOUN'), (('that', 'ADP'), ('that', 'DET'))],\n",
       " [('that', 'DET'), (('*T*-230', '.'), ('*T*-230', 'X'))],\n",
       " [('particularly', 'ADV'), (('galling', '.'), ('galling', 'ADJ'))],\n",
       " [('the', 'DET'), (('sole', '.'), ('sole', 'ADJ'))],\n",
       " [(\"'s\", 'PRT'), (('Cathedral', '.'), ('Cathedral', 'NOUN'))],\n",
       " [('and', 'CONJ'), (('Westminster', '.'), ('Westminster', 'NOUN'))],\n",
       " [('Westminster', 'NOUN'), (('Abbey', '.'), ('Abbey', 'NOUN'))],\n",
       " [(\"'s\", 'PRT'), (('short-lived', '.'), ('short-lived', 'ADJ'))],\n",
       " [('democratic', 'ADJ'), (('Kerensky', '.'), ('Kerensky', 'NOUN'))],\n",
       " [('the', 'DET'), (('Communists', '.'), ('Communists', 'NOUN'))],\n",
       " [('Communists', 'NOUN'), (('seized', '.'), ('seized', 'VERB'))],\n",
       " [('in', 'ADP'), (('1917', '.'), ('1917', 'NUM'))],\n",
       " [('funds', 'NOUN'), (('mirrors', '.'), ('mirrors', 'VERB'))],\n",
       " [('fund', 'NOUN'), (('mania', '.'), ('mania', 'NOUN'))],\n",
       " [('the', 'DET'), (('1920s', 'NUM'), ('1920s', 'NOUN'))],\n",
       " [('when', 'ADV'), (('narrowly', '.'), ('narrowly', 'ADV'))],\n",
       " [('grew', 'VERB'), (('wildly', '.'), ('wildly', 'ADV'))],\n",
       " [(',', '.'), (('as', 'ADP'), ('as', 'ADV'))],\n",
       " [('possible', 'ADJ'), (('white', 'NOUN'), ('white', 'ADJ'))],\n",
       " [('white', 'ADJ'), (('knight', '.'), ('knight', 'NOUN'))],\n",
       " [('an', 'DET'), (('undisclosed', '.'), ('undisclosed', 'ADJ'))],\n",
       " [('for', 'ADP'), (('Great', 'NOUN'), ('Great', 'ADJ'))],\n",
       " [('the', 'DET'), (('flightiness', '.'), ('flightiness', 'NOUN'))],\n",
       " [('will', 'VERB'), (('diminish', '.'), ('diminish', 'VERB'))],\n",
       " [('the', 'DET'), (('East', 'NOUN'), ('East', 'ADJ'))],\n",
       " [('East', 'ADJ'), (('Anglian', '.'), ('Anglian', 'ADJ'))],\n",
       " [('group', 'NOUN'), (('that', 'ADP'), ('that', 'DET'))],\n",
       " [('that', 'DET'), (('*T*-223', '.'), ('*T*-223', 'X'))],\n",
       " [('bells', 'NOUN'), (('pealing', '.'), ('pealing', 'VERB'))],\n",
       " [('advertising', 'NOUN'), (('standpoint', '.'), ('standpoint', 'NOUN'))],\n",
       " [('folks', 'NOUN'), (('that', 'ADP'), ('that', 'DET'))],\n",
       " [('that', 'DET'), (('*T*-153', '.'), ('*T*-153', 'X'))],\n",
       " [('a', 'DET'), (('gigantic', '.'), ('gigantic', 'ADJ'))],\n",
       " [('gigantic', 'ADJ'), (('crapshoot', '.'), ('crapshoot', 'NOUN'))],\n",
       " [('A', 'DET'), (('buffet', 'VERB'), ('buffet', 'NOUN'))],\n",
       " [('buffet', 'NOUN'), (('breakfast', '.'), ('breakfast', 'NOUN'))],\n",
       " [('and', 'CONJ'), (('drinks', '.'), ('drinks', 'NOUN'))],\n",
       " [('to', 'PRT'), (('everyday', '.'), ('everyday', 'ADJ'))],\n",
       " [('A', 'DET'), (('Different', '.'), ('Different', 'NOUN'))],\n",
       " [('a', 'DET'), (('spin-off', '.'), ('spin-off', 'NOUN'))],\n",
       " [('reruns', 'NOUN'), (('*T*-151', '.'), ('*T*-151', 'X'))],\n",
       " [('The', 'DET'), (('forthcoming', '.'), ('forthcoming', 'ADJ'))],\n",
       " [('a', 'DET'), (('10-year', 'ADJ'), ('10-year', 'NUM'))],\n",
       " [('government', 'NOUN'),\n",
       "  (('yen-denominated', '.'), ('yen-denominated', 'ADJ'))],\n",
       " [('at', 'ADP'), (('about', 'ADP'), ('about', 'ADV'))],\n",
       " [('investors', 'NOUN'), (('redeeming', '.'), ('redeeming', 'VERB'))],\n",
       " [('provision', 'NOUN'), (('amounts', 'NOUN'), ('amounts', 'VERB'))],\n",
       " [('a', 'DET'), (('one-house', '.'), ('one-house', 'ADJ'))],\n",
       " [('neither', 'DET'), (('bicameral', '.'), ('bicameral', 'ADJ'))],\n",
       " [('nor', 'CONJ'), (('presentation', '.'), ('presentation', 'NOUN'))],\n",
       " [('his', 'PRON'), (('signature', '.'), ('signature', 'NOUN'))],\n",
       " [('coaching', 'NOUN'), (('aids', '.'), ('aids', 'NOUN'))],\n",
       " [('can', 'VERB'), (('defeat', 'NOUN'), ('defeat', 'VERB'))],\n",
       " [('which', 'DET'), (('*T*-104', '.'), ('*T*-104', 'X'))],\n",
       " [('gauge', 'VERB'), (('learning', '.'), ('learning', 'NOUN'))],\n",
       " [('are', 'VERB'), (('reaping', '.'), ('reaping', 'VERB'))],\n",
       " [('sudden', 'ADJ'), (('windfall', '.'), ('windfall', 'NOUN'))],\n",
       " [('carrier', 'NOUN'), (('costs', 'NOUN'), ('costs', 'VERB'))],\n",
       " [('costs', 'VERB'), (('less', 'ADV'), ('less', 'ADJ'))],\n",
       " [('takes', 'VERB'), (('up', 'ADV'), ('up', 'PRT'))],\n",
       " [('paper', 'NOUN'), (('carriers', '.'), ('carriers', 'NOUN'))],\n",
       " [('failed', 'VERB'),\n",
       "  (('labor-management', 'NOUN'), ('labor-management', 'ADJ'))],\n",
       " [('.', '.'), (('Gunmen', '.'), ('Gunmen', 'NOUN'))],\n",
       " [('in', 'ADP'), (('Lebanon', '.'), ('Lebanon', 'NOUN'))],\n",
       " [('Lebanon', 'NOUN'), (('assassinated', '.'), ('assassinated', 'VERB'))],\n",
       " [('Saudi', 'NOUN'), (('Arabian', '.'), ('Arabian', 'NOUN'))],\n",
       " [('the', 'DET'), (('pro-Iranian', '.'), ('pro-Iranian', 'ADJ'))],\n",
       " [('pro-Iranian', 'ADJ'), (('Islamic', '.'), ('Islamic', 'NOUN'))],\n",
       " [('the', 'DET'), (('slaying', '.'), ('slaying', 'NOUN'))],\n",
       " [('to', 'PRT'), (('avenge', '.'), ('avenge', 'VERB'))],\n",
       " [('the', 'DET'), (('beheading', '.'), ('beheading', 'NOUN'))],\n",
       " [('16', 'NUM'), (('terrorists', '.'), ('terrorists', 'NOUN'))],\n",
       " [('by', 'ADP'), (('Riyadh', '.'), ('Riyadh', 'NOUN'))],\n",
       " [('Riyadh', 'NOUN'), ((\"'s\", 'VERB'), (\"'s\", 'PRT'))],\n",
       " [('for', 'ADP'),\n",
       "  (('computer-system-design', '.'), ('computer-system-design', 'ADJ'))],\n",
       " [('obtained', 'VERB'), (('8300', 'NUM'), ('8300', 'ADJ'))],\n",
       " [('And', 'CONJ'), (('unlike', 'ADJ'), ('unlike', 'ADP'))],\n",
       " [('*', 'X'), (('bless', '.'), ('bless', 'VERB'))],\n",
       " [('covers', 'VERB'), (('only', 'ADV'), ('only', 'ADJ'))],\n",
       " [('who', 'PRON'), (('*T*-260', '.'), ('*T*-260', 'X'))],\n",
       " [('including', 'VERB'), (('air', 'VERB'), ('air', 'NOUN'))],\n",
       " [('air', 'NOUN'), (('bags', '.'), ('bags', 'NOUN'))],\n",
       " [('in', 'ADP'), (('front', 'NOUN'), ('front', 'ADJ'))],\n",
       " [('improved', 'VERB'), (('side-crash', '.'), ('side-crash', 'ADJ'))],\n",
       " [('.', '.'), (('GOODY', '.'), ('GOODY', 'NOUN'))],\n",
       " [('GOODY', 'NOUN'), (('PRODUCTS', '.'), ('PRODUCTS', 'NOUN'))],\n",
       " [('from', 'ADP'), (('11.5', '.'), ('11.5', 'NUM'))],\n",
       " [('was', 'VERB'), (('untrained', '.'), ('untrained', 'ADJ'))],\n",
       " [('one', 'NUM'), (('botched', '.'), ('botched', 'ADJ'))],\n",
       " [(\"'\", 'PRT'), (('chief', 'NOUN'), ('chief', 'ADJ'))],\n",
       " [('the', 'DET'), (('asset-sale', '.'), ('asset-sale', 'ADJ'))],\n",
       " [('would', 'VERB'), (('end', 'NOUN'), ('end', 'VERB'))],\n",
       " [('$', '.'), (('620', '.'), ('620', 'NUM'))],\n",
       " [('$', '.'), (('45.2', '.'), ('45.2', 'NUM'))],\n",
       " [('$', '.'), (('84.9', '.'), ('84.9', 'NUM'))],\n",
       " [('$', '.'), (('1.24', '.'), ('1.24', 'NUM'))],\n",
       " [('year', 'NOUN'), (('earlier', 'ADV'), ('earlier', 'ADJ'))],\n",
       " [('an', 'DET'), (('eight-count', '.'), ('eight-count', 'ADJ'))],\n",
       " [('eight-count', 'ADJ'), (('indictment', '.'), ('indictment', 'NOUN'))],\n",
       " [('its', 'PRON'), (('Vice', '.'), ('Vice', 'NOUN'))],\n",
       " [('T.', 'NOUN'), (('Sherwin', '.'), ('Sherwin', 'NOUN'))],\n",
       " [('to', 'PRT'), (('manipulate', '.'), ('manipulate', 'VERB'))],\n",
       " [('Union', 'NOUN'), (('Carbide', '.'), ('Carbide', 'NOUN'))],\n",
       " [(\"'s\", 'PRT'), (('planned', 'VERB'), ('planned', 'ADJ'))],\n",
       " [('expected', 'VERB'), (('*-129', '.'), ('*-129', 'X'))],\n",
       " [('has', 'VERB'), (('promised', '.'), ('promised', 'VERB'))],\n",
       " [('promised', 'VERB'), (('stiffer', '.'), ('stiffer', 'ADJ'))],\n",
       " [('to', 'PRT'), (('study', 'NOUN'), ('study', 'VERB'))],\n",
       " [('$', '.'), (('3.28', '.'), ('3.28', 'NUM'))],\n",
       " [('$', '.'), (('3.16', '.'), ('3.16', 'NUM'))],\n",
       " [('M.', 'NOUN'), (('Rexinger', '.'), ('Rexinger', 'NOUN'))],\n",
       " [('City', 'NOUN'), (('executive', 'NOUN'), ('executive', 'ADJ'))],\n",
       " [('R.', 'NOUN'), (('Glauber', '.'), ('Glauber', 'NOUN'))],\n",
       " [('the', 'DET'), (('12-member', '.'), ('12-member', 'ADJ'))],\n",
       " [('the', 'DET'), (('risk-free', '.'), ('risk-free', 'ADJ'))],\n",
       " [('easily', 'ADV'), (('outdistanced', '.'), ('outdistanced', 'VERB'))],\n",
       " [('John', 'NOUN'), (('Lonski', '.'), ('Lonski', 'NOUN'))],\n",
       " [('a', 'DET'), (('richer', '.'), ('richer', 'ADJ'))],\n",
       " [('the', 'DET'), (('more', 'ADJ'), ('more', 'ADV'))],\n",
       " [('profitable', 'ADJ'), (('pipe', '.'), ('pipe', 'NOUN'))],\n",
       " [('and', 'CONJ'), (('galvanized', '.'), ('galvanized', 'ADJ'))],\n",
       " [('galvanized', 'ADJ'), (('coated', '.'), ('coated', 'VERB'))],\n",
       " [('than', 'ADP'), (('lower-priced', '.'), ('lower-priced', 'ADJ'))],\n",
       " [('lower-priced', 'ADJ'), (('structural', '.'), ('structural', 'ADJ'))],\n",
       " [('*ICH*-1', 'X'), (('Kathryn', '.'), ('Kathryn', 'NOUN'))],\n",
       " [('Kathryn', 'NOUN'), (('McAuley', '.'), ('McAuley', 'NOUN'))],\n",
       " [('not', 'ADV'), (('concern', 'NOUN'), ('concern', 'VERB'))],\n",
       " [('are', 'VERB'), (('sufficiently', '.'), ('sufficiently', 'ADV'))],\n",
       " [('greatly', 'ADV'), (('inflated', '.'), ('inflated', 'VERB'))],\n",
       " [('Buick', 'NOUN'), (('approached', '.'), ('approached', 'VERB'))],\n",
       " [('hurt', 'VERB'), (('U.S.-Japan', '.'), ('U.S.-Japan', 'ADJ'))],\n",
       " [('a', 'DET'), (('minus', 'CONJ'), ('minus', 'NOUN'))],\n",
       " [('dividend', 'NOUN'), (('yield', 'VERB'), ('yield', 'NOUN'))],\n",
       " [('level', 'NOUN'), (('that', 'ADP'), ('that', 'DET'))],\n",
       " [('that', 'DET'), (('*T*-232', '.'), ('*T*-232', 'X'))],\n",
       " [('and', 'CONJ'), (('unenticing', '.'), ('unenticing', 'ADJ'))],\n",
       " [('something', 'NOUN'), (('stuck', '.'), ('stuck', 'VERB'))],\n",
       " [('to', 'PRT'), (('last', 'ADJ'), ('last', 'VERB'))],\n",
       " [('are', 'VERB'), (('worth', 'ADJ'), ('worth', 'ADP'))],\n",
       " [('for', 'ADP'), (('aesthetic', '.'), ('aesthetic', 'ADJ'))],\n",
       " [('one', 'NUM'), (('famed', '.'), ('famed', 'ADJ'))],\n",
       " [('*', 'X'), (('SWITCHING', '.'), ('SWITCHING', 'VERB'))],\n",
       " [('SWITCHING', 'VERB'), (('TO', '.'), ('TO', 'PRT'))],\n",
       " [('THE', 'DET'), (('DEFENSE', '.'), ('DEFENSE', 'NOUN'))],\n",
       " [('a', 'DET'), (('fast-growing', '.'), ('fast-growing', 'ADJ'))],\n",
       " [(',', '.'), (('acquisition-minded', '.'), ('acquisition-minded', 'ADJ'))],\n",
       " [('London-based', 'ADJ'), (('jeweler', '.'), ('jeweler', 'NOUN'))],\n",
       " [('for', 'ADP'), (('Seattle-based', '.'), ('Seattle-based', 'ADJ'))],\n",
       " [('specialty', 'NOUN'), (('jeweler', '.'), ('jeweler', 'NOUN'))],\n",
       " [('$', '.'), (('62.1', '.'), ('62.1', 'NUM'))],\n",
       " [('to', 'PRT'), (('outbid', '.'), ('outbid', 'VERB'))],\n",
       " [('a', 'DET'), (('buildup', '.'), ('buildup', 'NOUN'))],\n",
       " [('can', 'VERB'), (('provoke', '.'), ('provoke', 'VERB'))],\n",
       " [('production', 'NOUN'), (('that', 'ADP'), ('that', 'DET'))],\n",
       " [('*-1', 'X'), (('Bucking', '.'), ('Bucking', 'VERB'))],\n",
       " [('apparently', 'ADV'), (('drew', '.'), ('drew', 'VERB'))],\n",
       " [('*', 'X'), (('addressing', '.'), ('addressing', 'VERB'))],\n",
       " [('*-1', 'X'), (('Rated', '.'), ('Rated', 'VERB'))],\n",
       " [('drawn', 'VERB'), (('*-139', '.'), ('*-139', 'X'))],\n",
       " [('that', 'DET'), (('fuller', '.'), ('fuller', 'ADJ'))],\n",
       " [(\"''\", '.'), (('Concurrent', '.'), ('Concurrent', 'ADJ'))],\n",
       " [('many', 'ADJ'), (('emerging', '.'), ('emerging', 'VERB'))],\n",
       " [('have', 'VERB'), (('outpaced', '.'), ('outpaced', 'VERB'))],\n",
       " [('more', 'ADV'), (('mature', 'VERB'), ('mature', 'ADJ'))],\n",
       " [('.', '.'), (('Common', 'NOUN'), ('Common', 'ADJ'))],\n",
       " [('$', '.'), (('5.57', '.'), ('5.57', 'NUM'))],\n",
       " [('Ed', 'NOUN'), (('Macheski', '.'), ('Macheski', 'NOUN'))],\n",
       " [('a', 'DET'), (('Wilton', '.'), ('Wilton', 'NOUN'))],\n",
       " [('who', 'PRON'), (('*T*-120', '.'), ('*T*-120', 'X'))],\n",
       " [('green', 'ADJ'), (('light', 'ADJ'), ('light', 'NOUN'))],\n",
       " [(\"'s\", 'PRT'), (('yielding', 'VERB'), ('yielding', 'NOUN'))],\n",
       " [('--', '.'), (('telegraph', 'NOUN'), ('telegraph', 'VERB'))],\n",
       " [('students', 'NOUN'), (('beforehand', '.'), ('beforehand', 'ADV'))],\n",
       " [('the', 'DET'), (('precise', '.'), ('precise', 'ADJ'))],\n",
       " [('give', 'VERB'), (('away', 'ADV'), ('away', 'PRT'))],\n",
       " [('general', 'ADJ'), (('softening', 'VERB'), ('softening', 'NOUN'))],\n",
       " [('more', 'ADV'), (('scarce', '.'), ('scarce', 'ADJ'))],\n",
       " [('``', '.'), (('Public', 'NOUN'), ('Public', 'ADJ'))],\n",
       " [('policy', 'NOUN'), (('favors', '.'), ('favors', 'VERB'))],\n",
       " [('might', 'VERB'), (('accompany', '.'), ('accompany', 'VERB'))],\n",
       " [('save', 'VERB'), (('lives', 'VERB'), ('lives', 'NOUN'))],\n",
       " [('reduce', 'VERB'), (('pain', '.'), ('pain', 'NOUN'))],\n",
       " [('the', 'DET'), (('unanimous', '.'), ('unanimous', 'ADJ'))],\n",
       " [('trading', 'NOUN'), (('focus', 'VERB'), ('focus', 'NOUN'))],\n",
       " [('will', 'VERB'), (('personally', '.'), ('personally', 'ADV'))],\n",
       " [('personally', 'ADV'), (('direct', 'ADJ'), ('direct', 'VERB'))],\n",
       " [('*-1', 'X'), (('assisted', '.'), ('assisted', 'VERB'))],\n",
       " [('by', 'ADP'), (('Manfred', '.'), ('Manfred', 'NOUN'))],\n",
       " [('Manfred', 'NOUN'), (('Gingl', '.'), ('Gingl', 'NOUN'))],\n",
       " [('The', 'DET'), (('Sacramento-based', '.'), ('Sacramento-based', 'ADJ'))],\n",
       " [('which', 'DET'), (('*T*-110', '.'), ('*T*-110', 'X'))],\n",
       " [('in', 'ADP'), (('north', '.'), ('north', 'ADJ'))],\n",
       " [('print', 'VERB'), (('hither', '.'), ('hither', 'ADV'))],\n",
       " [('to', 'PRT'), (('yon', '.'), ('yon', 'ADV'))],\n",
       " [(\"n't\", 'ADV'), (('as', 'ADP'), ('as', 'ADV'))],\n",
       " [('as', 'ADV'), (('troublesome', '.'), ('troublesome', 'ADJ'))],\n",
       " [('called', 'VERB'), (('in', 'ADP'), ('in', 'PRT'))],\n",
       " [('to', 'PRT'), (('arrest', '.'), ('arrest', 'VERB'))],\n",
       " [('were', 'VERB'), (('occupying', '.'), ('occupying', 'VERB'))],\n",
       " [('*T*-1', 'X'), (('Brenda', '.'), ('Brenda', 'NOUN'))],\n",
       " [('Brenda', 'NOUN'), (('Malizia', '.'), ('Malizia', 'NOUN'))],\n",
       " [('Malizia', 'NOUN'), (('Negus', '.'), ('Negus', 'NOUN'))],\n",
       " [('may', 'VERB'), (('blip', '.'), ('blip', 'VERB'))],\n",
       " [('blip', 'VERB'), (('up', 'ADV'), ('up', 'PRT'))],\n",
       " [('they', 'PRON'), (('blip', '.'), ('blip', 'VERB'))],\n",
       " [('blip', 'VERB'), (('down', 'ADV'), ('down', 'PRT'))],\n",
       " [('recent', 'ADJ'), (('rises', '.'), ('rises', 'NOUN'))],\n",
       " [('to', 'PRT'), (('veto', 'NOUN'), ('veto', 'VERB'))],\n",
       " [('veto', 'VERB'), (('such', 'ADJ'), ('such', 'DET'))],\n",
       " [('it', 'PRON'), (('views', 'NOUN'), ('views', 'VERB'))],\n",
       " [('an', 'DET'), (('undesirable', '.'), ('undesirable', 'ADJ'))],\n",
       " [('undesirable', 'ADJ'), (('intrusion', '.'), ('intrusion', 'NOUN'))],\n",
       " [('the', 'DET'), (('300-113', '.'), ('300-113', 'NUM'))],\n",
       " [('the', 'DET'), (('potential', 'ADJ'), ('potential', 'NOUN'))],\n",
       " [('to', 'PRT'), (('override', '.'), ('override', 'VERB'))],\n",
       " [('in', 'ADP'), (('1988-89', '.'), ('1988-89', 'NUM'))],\n",
       " [('the', 'DET'), (('manufacturing', 'NOUN'), ('manufacturing', 'VERB'))],\n",
       " [('.', '.'), (('Something', '.'), ('Something', 'NOUN'))],\n",
       " [(',', '.'), (('ranging', '.'), ('ranging', 'VERB'))],\n",
       " [('St.', 'NOUN'), (('Petersburg', '.'), ('Petersburg', 'NOUN'))],\n",
       " [('of', 'ADP'), (('as', 'ADP'), ('as', 'ADV'))],\n",
       " [('and', 'CONJ'), (('restructurings', '.'), ('restructurings', 'NOUN'))],\n",
       " [('W.', 'NOUN'), (('Perritt', '.'), ('Perritt', 'NOUN'))],\n",
       " [('at', 'ADP'), (('14.53', '.'), ('14.53', 'NUM'))],\n",
       " [('up', 'ADV'), (('0.56', '.'), ('0.56', 'NUM'))],\n",
       " [('The', 'DET'), (('total', 'ADJ'), ('total', 'NOUN'))],\n",
       " [('total', 'NOUN'), (('marks', 'NOUN'), ('marks', 'VERB'))],\n",
       " [('make', 'VERB'), (('sweatshirts', '.'), ('sweatshirts', 'NOUN'))],\n",
       " [('or', 'CONJ'), (('sparkplugs', '.'), ('sparkplugs', 'NOUN'))],\n",
       " [('in', 'ADP'), (('detail', '.'), ('detail', 'NOUN'))],\n",
       " [('Chinese', 'ADJ'), (('dissident', '.'), ('dissident', 'NOUN'))],\n",
       " [('Fang', 'NOUN'), (('Lizhi', '.'), ('Lizhi', 'NOUN'))],\n",
       " [('Li', 'NOUN'), (('Shuxian', '.'), ('Shuxian', 'NOUN'))],\n",
       " [('took', 'VERB'), (('refuge', '.'), ('refuge', 'NOUN'))],\n",
       " [('transaction', 'NOUN'), (('sound', 'NOUN'), ('sound', 'VERB'))],\n",
       " [('his', 'PRON'), (('doctorate', '.'), ('doctorate', 'NOUN'))],\n",
       " [('.', '.'), (('Propaganda', '.'), ('Propaganda', 'NOUN'))],\n",
       " [('make', 'VERB'), (('up', 'ADV'), ('up', 'PRT'))],\n",
       " [('own', 'ADJ'), (('mind', 'VERB'), ('mind', 'NOUN'))],\n",
       " [('a', 'DET'), (('principal', 'NOUN'), ('principal', 'ADJ'))],\n",
       " [('biggest', 'ADJ'), (('nonfinancial', '.'), ('nonfinancial', 'ADJ'))],\n",
       " [('gained', 'VERB'), (('1.39', '.'), ('1.39', 'NUM'))],\n",
       " [('to', 'PRT'), (('446.62', '.'), ('446.62', 'NUM'))],\n",
       " [('the', 'DET'), (('sell', 'VERB'), ('sell', 'NOUN'))],\n",
       " [('order', 'NOUN'), (('printers', '.'), ('printers', 'NOUN'))],\n",
       " [('printers', 'NOUN'), (('start', 'NOUN'), ('start', 'VERB'))],\n",
       " [('specialist', 'NOUN'), (('there', 'DET'), ('there', 'ADV'))],\n",
       " [(',', '.'), (('plans', 'NOUN'), ('plans', 'VERB'))],\n",
       " [('proposal', 'NOUN'), (('that', 'ADP'), ('that', 'DET'))],\n",
       " [('a', 'DET'), (('centerpiece', '.'), ('centerpiece', 'NOUN'))],\n",
       " [(':', '.'), (('acid', 'NOUN'), ('acid', 'ADJ'))],\n",
       " [('added', 'VERB'), (('fuel', 'VERB'), ('fuel', 'NOUN'))],\n",
       " [('the', 'DET'), (('fires', '.'), ('fires', 'NOUN'))],\n",
       " [('of', 'ADP'), (('discontent', '.'), ('discontent', 'NOUN'))],\n",
       " [('well', 'ADV'), (('stoked', '.'), ('stoked', 'VERB'))],\n",
       " [('Pickens', 'NOUN'), (('Jr', '.'), ('Jr', 'NOUN'))],\n",
       " [('``', '.'), (('derivatives', '.'), ('derivatives', 'NOUN'))],\n",
       " [('times', 'NOUN'), (('as', 'ADP'), ('as', 'ADV'))],\n",
       " [('the', 'DET'), (('underlying', 'ADJ'), ('underlying', 'VERB'))],\n",
       " [('``', '.'), (('minority-owned', '.'), ('minority-owned', 'ADJ'))],\n",
       " [('a', 'DET'), (('blighted', '.'), ('blighted', 'ADJ'))],\n",
       " [('*', 'X'), (('famous', '.'), ('famous', 'ADJ'))],\n",
       " [('by', 'ADP'), (('Jimmy', '.'), ('Jimmy', 'NOUN'))],\n",
       " [(\"'s\", 'PRT'), (('500-Stock', '.'), ('500-Stock', 'NOUN'))],\n",
       " [('added', 'VERB'), (('0.84', '.'), ('0.84', 'NUM'))],\n",
       " [('to', 'PRT'), (('341.20', '.'), ('341.20', 'NUM'))],\n",
       " [('was', 'VERB'), (('equivalent', 'NOUN'), ('equivalent', 'ADJ'))],\n",
       " [('industrial', 'ADJ'), (('average', 'ADJ'), ('average', 'NOUN'))],\n",
       " [('the', 'DET'), (('earliest', '.'), ('earliest', 'ADJ'))],\n",
       " [('something', 'NOUN'), (('inherently', '.'), ('inherently', 'ADV'))],\n",
       " [('inherently', 'ADV'), (('suspect', 'VERB'), ('suspect', 'ADJ'))],\n",
       " [(\"'s\", 'PRT'), (('prohibiting', '.'), ('prohibiting', 'VERB'))],\n",
       " [('the', 'DET'), (('executive', 'ADJ'), ('executive', 'NOUN'))],\n",
       " [('being', 'VERB'), (('wasted', '.'), ('wasted', 'VERB'))],\n",
       " [('some', 'DET'), (('favored', 'ADJ'), ('favored', 'VERB'))],\n",
       " [('an', 'DET'), (('interior', '.'), ('interior', 'ADJ'))],\n",
       " [('interior', 'ADJ'), (('decorator', '.'), ('decorator', 'NOUN'))],\n",
       " [('things', 'NOUN'), (('spook', '.'), ('spook', 'VERB'))],\n",
       " [(',', '.'), (('traced', '.'), ('traced', 'VERB'))],\n",
       " [('another', 'DET'), (('wave', '.'), ('wave', 'NOUN'))],\n",
       " [('0', 'X'), (('most', 'ADV'), ('most', 'ADJ'))],\n",
       " [(',', '.'), (('sociology', '.'), ('sociology', 'NOUN'))],\n",
       " [('to', 'PRT'), (('913', '.'), ('913', 'NUM'))],\n",
       " [('$', '.'), (('14.43', '.'), ('14.43', 'NUM'))],\n",
       " [('conversations', 'NOUN'), (('that', 'ADP'), ('that', 'DET'))],\n",
       " [('of', 'ADP'), (('Mount', '.'), ('Mount', 'NOUN'))],\n",
       " [('Mount', 'NOUN'), (('Clemens', '.'), ('Clemens', 'NOUN'))],\n",
       " [('London', 'NOUN'), (('borough', '.'), ('borough', 'NOUN'))],\n",
       " [('a', 'DET'), (('powerhouse', '.'), ('powerhouse', 'NOUN'))],\n",
       " [('Robert', 'NOUN'), (('Gottlieb', '.'), ('Gottlieb', 'NOUN'))],\n",
       " [('New', 'NOUN'), (('Yorker', '.'), ('Yorker', 'NOUN'))],\n",
       " [(',', '.'), (('money-fund', '.'), ('money-fund', 'NOUN'))],\n",
       " [('which', 'DET'), (('*T*-194', '.'), ('*T*-194', 'X'))],\n",
       " [('no', 'DET'), (('relation', '.'), ('relation', 'NOUN'))],\n",
       " [('can', 'VERB'), (('generate', '.'), ('generate', 'VERB'))],\n",
       " [('effective', 'ADJ'),\n",
       "  (('search-and-seizure', '.'), ('search-and-seizure', 'ADJ'))],\n",
       " [('to', 'PRT'), (('aid', 'NOUN'), ('aid', 'VERB'))],\n",
       " [('the', 'DET'), (('exits', '.'), ('exits', 'NOUN'))],\n",
       " [('market', 'NOUN'), (('rebound', 'VERB'), ('rebound', 'NOUN'))],\n",
       " [('rebound', 'NOUN'), (('pushes', '.'), ('pushes', 'VERB'))],\n",
       " [('the', 'DET'), (('delay', 'VERB'), ('delay', 'NOUN'))],\n",
       " [('.', '.'), (('Always', '.'), ('Always', 'ADV'))],\n",
       " [('$', '.'), (('422.5', '.'), ('422.5', 'NUM'))],\n",
       " [('$', '.'), (('6.44', '.'), ('6.44', 'NUM'))],\n",
       " [('up', 'ADV'), (('8.9', '.'), ('8.9', 'NUM'))],\n",
       " [('$', '.'), (('387.8', '.'), ('387.8', 'NUM'))],\n",
       " [('$', '.'), (('5.63', '.'), ('5.63', 'NUM'))],\n",
       " [('*T*-14', 'X'), (('matters', 'NOUN'), ('matters', 'VERB'))],\n",
       " [('doing', 'VERB'), (('fine', 'NOUN'), ('fine', 'ADV'))],\n",
       " [('a', 'DET'), (('needy', '.'), ('needy', 'ADJ'))],\n",
       " [('loan', 'NOUN'), (('solvent', '.'), ('solvent', 'ADJ'))],\n",
       " [('$', '.'), (('490', '.'), ('490', 'NUM'))],\n",
       " [('the', 'DET'), (('buy-back', 'ADJ'), ('buy-back', 'NOUN'))],\n",
       " [('the', 'DET'), (('hardest-hit', '.'), ('hardest-hit', 'ADJ'))],\n",
       " [('the', 'DET'), (('Dakotas', '.'), ('Dakotas', 'NOUN'))],\n",
       " [('of', 'ADP'), (('flashy', '.'), ('flashy', 'ADJ'))],\n",
       " [('By', 'ADP'), (('1997', '.'), ('1997', 'NUM'))],\n",
       " [('remaining', 'VERB'), (('uses', 'VERB'), ('uses', 'NOUN'))],\n",
       " [('of', 'ADP'), (('cancer-causing', '.'), ('cancer-causing', 'ADJ'))],\n",
       " [('be', 'VERB'), (('outlawed', '.'), ('outlawed', 'VERB'))],\n",
       " [('totaled', 'VERB'), (('154.2', '.'), ('154.2', 'NUM'))],\n",
       " [('.', '.'), (('Bears', '.'), ('Bears', 'NOUN'))],\n",
       " [('the', 'DET'), (('shaky', '.'), ('shaky', 'ADJ'))],\n",
       " [('will', 'VERB'), (('convert', '.'), ('convert', 'VERB'))],\n",
       " [('.', '.'), (('Similar', '.'), ('Similar', 'ADJ'))],\n",
       " [('levels', 'NOUN'), (('hamstrung', '.'), ('hamstrung', 'VERB'))],\n",
       " [('very', 'ADV'), (('alarmed', '.'), ('alarmed', 'VERB'))],\n",
       " [('rich', 'ADJ'), (('valuations', '.'), ('valuations', 'NOUN'))],\n",
       " [('.', '.'), (('More', 'ADV'), ('More', 'ADJ'))],\n",
       " [('the', 'DET'), (('red-carpet', '.'), ('red-carpet', 'ADJ'))],\n",
       " [('treatment', 'NOUN'), (('tempts', '.'), ('tempts', 'VERB'))],\n",
       " [('to', 'PRT'), (('return', 'NOUN'), ('return', 'VERB'))],\n",
       " [('a', 'DET'), (('heartland', '.'), ('heartland', 'NOUN'))],\n",
       " [('takes', 'VERB'), (('places', 'VERB'), ('places', 'NOUN'))],\n",
       " [('to', 'PRT'), (('issue', 'NOUN'), ('issue', 'VERB'))],\n",
       " [('a', 'DET'), (('1934', '.'), ('1934', 'NUM'))],\n",
       " [('Johnson', 'NOUN'), (('Debt', '.'), ('Debt', 'NOUN'))],\n",
       " [('Debt', 'NOUN'), (('Default', '.'), ('Default', 'NOUN'))],\n",
       " [(',', '.'), (('as', 'ADP'), ('as', 'ADV'))],\n",
       " [('*', 'X'), (('amended', '.'), ('amended', 'VERB'))],\n",
       " [('*EXP*-2', 'X'), ((\"'s\", 'PRT'), (\"'s\", 'VERB'))],\n",
       " [('to', 'PRT'), (('double-C', '.'), ('double-C', 'NOUN'))],\n",
       " [('from', 'ADP'), (('triple-C', '.'), ('triple-C', 'NOUN'))],\n",
       " [('.', '.'), (('Activity', '.'), ('Activity', 'NOUN'))],\n",
       " [('in', 'ADP'), (('derivative', '.'), ('derivative', 'ADJ'))],\n",
       " [('*', 'X'), (('Having', '.'), ('Having', 'VERB'))],\n",
       " [('a', 'DET'), (('supportive', '.'), ('supportive', 'ADJ'))],\n",
       " [('supportive', 'ADJ'), (('element', '.'), ('element', 'NOUN'))],\n",
       " [('$', '.'), (('8.9', '.'), ('8.9', 'NUM'))],\n",
       " [('Anne', 'NOUN'), (('Dolan', '.'), ('Dolan', 'NOUN'))],\n",
       " [(',', '.'), (('restored', '.'), ('restored', 'VERB'))],\n",
       " [('been', 'VERB'), (('limping', '.'), ('limping', 'VERB'))],\n",
       " [('on', 'ADP'), (('limited', 'ADJ'), ('limited', 'VERB'))],\n",
       " [('its', 'PRON'), (('accomplishments', '.'), ('accomplishments', 'NOUN'))],\n",
       " [('were', 'VERB'), (('notable', '.'), ('notable', 'ADJ'))],\n",
       " [('.', '.'), (('More', 'ADV'), ('More', 'ADJ'))],\n",
       " [('of', 'ADP'), (('stress', '.'), ('stress', 'NOUN'))],\n",
       " [('stress', 'NOUN'), (('most', 'ADV'), ('most', 'ADJ'))],\n",
       " [('The', 'DET'), (('Nine', '.'), ('Nine', 'NUM'))],\n",
       " [('Nine', 'NUM'), (('Tailors', '.'), ('Tailors', 'NOUN'))],\n",
       " [('have', 'VERB'), (('reaped', '.'), ('reaped', 'VERB'))],\n",
       " [('.', '.'), (('Typical', '.'), ('Typical', 'ADJ'))],\n",
       " [(':', '.'), (('8.60', '.'), ('8.60', 'NUM'))],\n",
       " [(';', '.'), (('8.35', '.'), ('8.35', 'NUM'))],\n",
       " [('become', 'VERB'), (('polarized', '.'), ('polarized', 'VERB'))],\n",
       " [(',', '.'), (('so', 'ADV'), ('so', 'ADP'))],\n",
       " [('*ICH*-2', 'X'), (('exists', '.'), ('exists', 'VERB'))],\n",
       " [('a', 'DET'), (('middle', 'NOUN'), ('middle', 'ADJ'))],\n",
       " [('an', 'DET'), (('actor', '.'), ('actor', 'NOUN'))],\n",
       " [('the', 'DET'), (('inheritor', '.'), ('inheritor', 'NOUN'))],\n",
       " [('of', 'ADP'), (('Charlie', '.'), ('Charlie', 'NOUN'))],\n",
       " [('Rudolph', 'NOUN'), (('Agnew', '.'), ('Agnew', 'NOUN'))],\n",
       " [(',', '.'), (('seven-year', '.'), ('seven-year', 'ADJ'))],\n",
       " [('one', 'NUM'), (('offering', 'NOUN'), ('offering', 'VERB'))],\n",
       " [('--', '.'), (('offer', 'NOUN'), ('offer', 'VERB'))],\n",
       " [('Constitution', 'NOUN'), (('implicitly', '.'), ('implicitly', 'ADV'))],\n",
       " [('to', 'PRT'), (('provoke', '.'), ('provoke', 'VERB'))],\n",
       " [('head', 'NOUN'), (('chopped', '.'), ('chopped', 'VERB'))],\n",
       " [('.', '.'), (('Characters', '.'), ('Characters', 'NOUN'))],\n",
       " [('Characters', 'NOUN'), (('drink', 'NOUN'), ('drink', 'VERB'))],\n",
       " [('drink', 'VERB'), (('Salty', '.'), ('Salty', 'NOUN'))],\n",
       " [('Salty', 'NOUN'), (('Dogs', '.'), ('Dogs', 'NOUN'))],\n",
       " [(',', '.'), (('whistle', '.'), ('whistle', 'VERB'))],\n",
       " [('``', '.'), (('Johnny', '.'), ('Johnny', 'NOUN'))],\n",
       " [('B.', 'NOUN'), (('Goode', '.'), ('Goode', 'NOUN'))],\n",
       " [('watch', 'VERB'), (('Bugs', '.'), ('Bugs', 'NOUN'))],\n",
       " [('Bugs', 'NOUN'), (('Bunny', '.'), ('Bunny', 'NOUN'))],\n",
       " [('Many', 'ADJ'), (('Asians', '.'), ('Asians', 'NOUN'))],\n",
       " [('desirable', 'ADJ'), (('counterweight', '.'), ('counterweight', 'NOUN'))],\n",
       " [('.', '.'), (('1', 'NUM'), ('1', 'X'))],\n",
       " [('.', '.'), (('Elisabeth', '.'), ('Elisabeth', 'NOUN'))],\n",
       " [('Elisabeth', 'NOUN'), (('Rubinfien', '.'), ('Rubinfien', 'NOUN'))],\n",
       " [('--', '.'), (('in', 'ADP'), ('in', 'NOUN'))],\n",
       " [(',', '.'), (('1933', '.'), ('1933', 'NUM'))],\n",
       " [(',', '.'), (('1961', '.'), ('1961', 'NUM'))],\n",
       " [(',', '.'), (('1968', '.'), ('1968', 'NUM'))],\n",
       " [('Mr.', 'NOUN'), (('Perritt', '.'), ('Perritt', 'NOUN'))],\n",
       " [('.', '.'), (('Back', '.'), ('Back', 'ADV'))],\n",
       " [('the', 'DET'), (('execs', '.'), ('execs', 'NOUN'))],\n",
       " [('squeezed', 'VERB'), (('in', 'ADP'), ('in', 'PRT'))],\n",
       " [('*-1', 'X'), (('boarding', '.'), ('boarding', 'VERB'))],\n",
       " [('.', '.'), (('Proponents', '.'), ('Proponents', 'NOUN'))],\n",
       " [('*U*', 'X'), (('more', 'ADV'), ('more', 'ADJ'))],\n",
       " [('$', '.'), (('130.7', '.'), ('130.7', 'NUM'))],\n",
       " [('for', 'ADP'), (('AC-130U', '.'), ('AC-130U', 'NOUN'))],\n",
       " [('in', 'ADP'), (('ascendency', '.'), ('ascendency', 'NOUN'))],\n",
       " [('--', '.'), (('consisting', '.'), ('consisting', 'VERB'))],\n",
       " [('computer', 'NOUN'), (('wizards', '.'), ('wizards', 'NOUN'))],\n",
       " [('with', 'ADP'), (('immense', '.'), ('immense', 'NOUN'))],\n",
       " [('immense', 'NOUN'), (('pools', '.'), ('pools', 'NOUN'))],\n",
       " [('the', 'DET'), (('fast-growing', '.'), ('fast-growing', 'ADJ'))],\n",
       " [(\"'s\", 'PRT'), (('move', 'VERB'), ('move', 'NOUN'))],\n",
       " [('being', 'VERB'), (('flooded', '.'), ('flooded', 'VERB'))],\n",
       " [('situation', 'NOUN'), (('comedies', '.'), ('comedies', 'NOUN'))],\n",
       " [('that', 'DET'), (('*T*-152', '.'), ('*T*-152', 'X'))],\n",
       " [('the', 'DET'), (('networks', '.'), ('networks', 'NOUN'))],\n",
       " [('What', 'PRON'), (('*T*-234', '.'), ('*T*-234', 'X'))],\n",
       " [('growth', 'NOUN'), (('next', 'ADP'), ('next', 'ADJ'))],\n",
       " [('forced', 'VERB'), (('*-158', '.'), ('*-158', 'X'))],\n",
       " [('registered', 'VERB'), (('reps', '.'), ('reps', 'NOUN'))],\n",
       " [('and', 'CONJ'), (('security-type', '.'), ('security-type', 'ADJ'))],\n",
       " [('training', 'NOUN'), (('so', 'ADV'), ('so', 'ADP'))],\n",
       " [('stupid', 'ADJ'), (('mistakes', '.'), ('mistakes', 'NOUN'))],\n",
       " [('``', '.'), (('clouds', '.'), ('clouds', 'NOUN'))],\n",
       " [('blue', 'ADJ'), (('dust', '.'), ('dust', 'NOUN'))],\n",
       " [('*T*-1', 'X'), (('hung', '.'), ('hung', 'VERB'))],\n",
       " [('though', 'ADP'), (('exhaust', 'VERB'), ('exhaust', 'NOUN'))],\n",
       " [('fans', 'NOUN'), (('ventilated', '.'), ('ventilated', 'VERB'))]]"
      ]
     },
     "execution_count": 34,
     "metadata": {},
     "output_type": "execute_result"
    }
   ],
   "source": [
    "incorrect_tagged_cases = [[validation_tagged_words[i-1],j] for i, j in enumerate(zip(tagged_seq, validation_tagged_words)) if j[0]!=j[1]]\n",
    "incorrect_tagged_cases"
   ]
  },
  {
   "cell_type": "code",
   "execution_count": 35,
   "metadata": {},
   "outputs": [
    {
     "data": {
      "text/plain": [
       "453"
      ]
     },
     "execution_count": 35,
     "metadata": {},
     "output_type": "execute_result"
    }
   ],
   "source": [
    "len(incorrect_tagged_cases)"
   ]
  },
  {
   "cell_type": "markdown",
   "metadata": {},
   "source": [
    "### Read test_sentences file and understand the word patterns in it"
   ]
  },
  {
   "cell_type": "code",
   "execution_count": 36,
   "metadata": {},
   "outputs": [
    {
     "data": {
      "text/html": [
       "<div>\n",
       "<style scoped>\n",
       "    .dataframe tbody tr th:only-of-type {\n",
       "        vertical-align: middle;\n",
       "    }\n",
       "\n",
       "    .dataframe tbody tr th {\n",
       "        vertical-align: top;\n",
       "    }\n",
       "\n",
       "    .dataframe thead th {\n",
       "        text-align: right;\n",
       "    }\n",
       "</style>\n",
       "<table border=\"1\" class=\"dataframe\">\n",
       "  <thead>\n",
       "    <tr style=\"text-align: right;\">\n",
       "      <th></th>\n",
       "      <th>Android is a mobile operating system developed by Google.</th>\n",
       "    </tr>\n",
       "  </thead>\n",
       "  <tbody>\n",
       "    <tr>\n",
       "      <th>0</th>\n",
       "      <td>Android has been the best-selling OS worldwide...</td>\n",
       "    </tr>\n",
       "    <tr>\n",
       "      <th>1</th>\n",
       "      <td>Google and Twitter made a deal in 2015 that ga...</td>\n",
       "    </tr>\n",
       "    <tr>\n",
       "      <th>2</th>\n",
       "      <td>Twitter is an online news and social networkin...</td>\n",
       "    </tr>\n",
       "    <tr>\n",
       "      <th>3</th>\n",
       "      <td>Before entering politics, Donald Trump was a d...</td>\n",
       "    </tr>\n",
       "    <tr>\n",
       "      <th>4</th>\n",
       "      <td>The 2018 FIFA World Cup is the 21st FIFA World...</td>\n",
       "    </tr>\n",
       "    <tr>\n",
       "      <th>5</th>\n",
       "      <td>This is the first World Cup to be held in East...</td>\n",
       "    </tr>\n",
       "    <tr>\n",
       "      <th>6</th>\n",
       "      <td>Show me the cheapest round trips from Dallas t...</td>\n",
       "    </tr>\n",
       "    <tr>\n",
       "      <th>7</th>\n",
       "      <td>I would like to see flights from Denver to Phi...</td>\n",
       "    </tr>\n",
       "    <tr>\n",
       "      <th>8</th>\n",
       "      <td>Show me the price of the flights leaving Atlan...</td>\n",
       "    </tr>\n",
       "    <tr>\n",
       "      <th>9</th>\n",
       "      <td>NASA invited social media users to experience ...</td>\n",
       "    </tr>\n",
       "  </tbody>\n",
       "</table>\n",
       "</div>"
      ],
      "text/plain": [
       "  Android is a mobile operating system developed by Google.\n",
       "0  Android has been the best-selling OS worldwide...       \n",
       "1  Google and Twitter made a deal in 2015 that ga...       \n",
       "2  Twitter is an online news and social networkin...       \n",
       "3  Before entering politics, Donald Trump was a d...       \n",
       "4  The 2018 FIFA World Cup is the 21st FIFA World...       \n",
       "5  This is the first World Cup to be held in East...       \n",
       "6  Show me the cheapest round trips from Dallas t...       \n",
       "7  I would like to see flights from Denver to Phi...       \n",
       "8  Show me the price of the flights leaving Atlan...       \n",
       "9  NASA invited social media users to experience ...       "
      ]
     },
     "execution_count": 36,
     "metadata": {},
     "output_type": "execute_result"
    }
   ],
   "source": [
    "# Let's read the test sentences sample file given to see and understand the pattern of words and tag sequence \n",
    "testfile = pd.read_csv(\"Test_sentences.txt\", sep = '\\t')\n",
    "testfile"
   ]
  },
  {
   "cell_type": "code",
   "execution_count": 37,
   "metadata": {},
   "outputs": [
    {
     "data": {
      "text/plain": [
       "[['Android has been the best-selling OS worldwide on smartphones since 2011 and on tablets since 2013.'],\n",
       " [\"Google and Twitter made a deal in 2015 that gave Google access to Twitter's firehose.\"],\n",
       " ['Twitter is an online news and social networking service on which users post and interact with messages known as tweets.'],\n",
       " ['Before entering politics, Donald Trump was a domineering businessman and a television personality.'],\n",
       " ['The 2018 FIFA World Cup is the 21st FIFA World Cup, an international football tournament contested once every four years.'],\n",
       " ['This is the first World Cup to be held in Eastern Europe and the 11th time that it has been held in Europe.'],\n",
       " ['Show me the cheapest round trips from Dallas to Atlanta'],\n",
       " ['I would like to see flights from Denver to Philadelphia.'],\n",
       " ['Show me the price of the flights leaving Atlanta at about 3 in the afternoon and arriving in San Francisco.'],\n",
       " ['NASA invited social media users to experience the launch of ICESAT-2 Satellite.']]"
      ]
     },
     "execution_count": 37,
     "metadata": {},
     "output_type": "execute_result"
    }
   ],
   "source": [
    "listOfSent = testfile.values.tolist()\n",
    "listOfSent"
   ]
  },
  {
   "cell_type": "code",
   "execution_count": 38,
   "metadata": {},
   "outputs": [
    {
     "name": "stdout",
     "output_type": "stream",
     "text": [
      "[['Android', 'has', 'been', 'the', 'best-selling', 'OS', 'worldwide', 'on', 'smartphones', 'since', '2011', 'and', 'on', 'tablets', 'since', '2013', '.'], ['Google', 'and', 'Twitter', 'made', 'a', 'deal', 'in', '2015', 'that', 'gave', 'Google', 'access', 'to', \"Twitter's\", 'firehose', '.'], ['Twitter', 'is', 'an', 'online', 'news', 'and', 'social', 'networking', 'service', 'on', 'which', 'users', 'post', 'and', 'interact', 'with', 'messages', 'known', 'as', 'tweets', '.'], ['Before', 'entering', 'politics', ',', 'Donald', 'Trump', 'was', 'a', 'domineering', 'businessman', 'and', 'a', 'television', 'personality', '.'], ['The', '2018', 'FIFA', 'World', 'Cup', 'is', 'the', '21st', 'FIFA', 'World', 'Cup', ',', 'an', 'international', 'football', 'tournament', 'contested', 'once', 'every', 'four', 'years', '.'], ['This', 'is', 'the', 'first', 'World', 'Cup', 'to', 'be', 'held', 'in', 'Eastern', 'Europe', 'and', 'the', '11th', 'time', 'that', 'it', 'has', 'been', 'held', 'in', 'Europe', '.'], ['Show', 'me', 'the', 'cheapest', 'round', 'trips', 'from', 'Dallas', 'to', 'Atlanta'], ['I', 'would', 'like', 'to', 'see', 'flights', 'from', 'Denver', 'to', 'Philadelphia', '.'], ['Show', 'me', 'the', 'price', 'of', 'the', 'flights', 'leaving', 'Atlanta', 'at', 'about', '3', 'in', 'the', 'afternoon', 'and', 'arriving', 'in', 'San', 'Francisco', '.'], ['NASA', 'invited', 'social', 'media', 'users', 'to', 'experience', 'the', 'launch', 'of', 'ICESAT-2', 'Satellite', '.']]\n"
     ]
    }
   ],
   "source": [
    "listaOfWordsInSent = []\n",
    "import re\n",
    "for j in listOfSent:\n",
    "    str1 = ''.join(j)\n",
    "    str1 = re.sub(r'[.]',' .',str1)\n",
    "    str1 = re.sub(r'[,]',' ,',str1)\n",
    "    a = str1.split(\" \")\n",
    "    listaOfWordsInSent.append(a)\n",
    "print(listaOfWordsInSent)\n"
   ]
  },
  {
   "cell_type": "code",
   "execution_count": 39,
   "metadata": {},
   "outputs": [
    {
     "data": {
      "text/plain": [
       "['Android',\n",
       " 'has',\n",
       " 'been',\n",
       " 'the',\n",
       " 'best-selling',\n",
       " 'OS',\n",
       " 'worldwide',\n",
       " 'on',\n",
       " 'smartphones',\n",
       " 'since',\n",
       " '2011',\n",
       " 'and',\n",
       " 'on',\n",
       " 'tablets',\n",
       " 'since',\n",
       " '2013',\n",
       " '.',\n",
       " 'Google',\n",
       " 'and',\n",
       " 'Twitter',\n",
       " 'made',\n",
       " 'a',\n",
       " 'deal',\n",
       " 'in',\n",
       " '2015',\n",
       " 'that',\n",
       " 'gave',\n",
       " 'Google',\n",
       " 'access',\n",
       " 'to',\n",
       " \"Twitter's\",\n",
       " 'firehose',\n",
       " '.',\n",
       " 'Twitter',\n",
       " 'is',\n",
       " 'an',\n",
       " 'online',\n",
       " 'news',\n",
       " 'and',\n",
       " 'social',\n",
       " 'networking',\n",
       " 'service',\n",
       " 'on',\n",
       " 'which',\n",
       " 'users',\n",
       " 'post',\n",
       " 'and',\n",
       " 'interact',\n",
       " 'with',\n",
       " 'messages',\n",
       " 'known',\n",
       " 'as',\n",
       " 'tweets',\n",
       " '.',\n",
       " 'Before',\n",
       " 'entering',\n",
       " 'politics',\n",
       " ',',\n",
       " 'Donald',\n",
       " 'Trump',\n",
       " 'was',\n",
       " 'a',\n",
       " 'domineering',\n",
       " 'businessman',\n",
       " 'and',\n",
       " 'a',\n",
       " 'television',\n",
       " 'personality',\n",
       " '.',\n",
       " 'The',\n",
       " '2018',\n",
       " 'FIFA',\n",
       " 'World',\n",
       " 'Cup',\n",
       " 'is',\n",
       " 'the',\n",
       " '21st',\n",
       " 'FIFA',\n",
       " 'World',\n",
       " 'Cup',\n",
       " ',',\n",
       " 'an',\n",
       " 'international',\n",
       " 'football',\n",
       " 'tournament',\n",
       " 'contested',\n",
       " 'once',\n",
       " 'every',\n",
       " 'four',\n",
       " 'years',\n",
       " '.',\n",
       " 'This',\n",
       " 'is',\n",
       " 'the',\n",
       " 'first',\n",
       " 'World',\n",
       " 'Cup',\n",
       " 'to',\n",
       " 'be',\n",
       " 'held',\n",
       " 'in',\n",
       " 'Eastern',\n",
       " 'Europe',\n",
       " 'and',\n",
       " 'the',\n",
       " '11th',\n",
       " 'time',\n",
       " 'that',\n",
       " 'it',\n",
       " 'has',\n",
       " 'been',\n",
       " 'held',\n",
       " 'in',\n",
       " 'Europe',\n",
       " '.',\n",
       " 'Show',\n",
       " 'me',\n",
       " 'the',\n",
       " 'cheapest',\n",
       " 'round',\n",
       " 'trips',\n",
       " 'from',\n",
       " 'Dallas',\n",
       " 'to',\n",
       " 'Atlanta',\n",
       " 'I',\n",
       " 'would',\n",
       " 'like',\n",
       " 'to',\n",
       " 'see',\n",
       " 'flights',\n",
       " 'from',\n",
       " 'Denver',\n",
       " 'to',\n",
       " 'Philadelphia',\n",
       " '.',\n",
       " 'Show',\n",
       " 'me',\n",
       " 'the',\n",
       " 'price',\n",
       " 'of',\n",
       " 'the',\n",
       " 'flights',\n",
       " 'leaving',\n",
       " 'Atlanta',\n",
       " 'at',\n",
       " 'about',\n",
       " '3',\n",
       " 'in',\n",
       " 'the',\n",
       " 'afternoon',\n",
       " 'and',\n",
       " 'arriving',\n",
       " 'in',\n",
       " 'San',\n",
       " 'Francisco',\n",
       " '.',\n",
       " 'NASA',\n",
       " 'invited',\n",
       " 'social',\n",
       " 'media',\n",
       " 'users',\n",
       " 'to',\n",
       " 'experience',\n",
       " 'the',\n",
       " 'launch',\n",
       " 'of',\n",
       " 'ICESAT-2',\n",
       " 'Satellite',\n",
       " '.']"
      ]
     },
     "execution_count": 39,
     "metadata": {},
     "output_type": "execute_result"
    }
   ],
   "source": [
    "listOfWords = [word for sent in listaOfWordsInSent for word in sent]\n",
    "listOfWords"
   ]
  },
  {
   "cell_type": "code",
   "execution_count": 40,
   "metadata": {},
   "outputs": [
    {
     "data": {
      "text/plain": [
       "['This', 'year', ',', 'the', 'average']"
      ]
     },
     "execution_count": 40,
     "metadata": {},
     "output_type": "execute_result"
    }
   ],
   "source": [
    "words_train_set[0:5]"
   ]
  },
  {
   "cell_type": "code",
   "execution_count": 41,
   "metadata": {},
   "outputs": [
    {
     "name": "stdout",
     "output_type": "stream",
     "text": [
      "34\n"
     ]
    }
   ],
   "source": [
    "# words which are present in test_sentences file but are not present in train set\n",
    "# unknown_words_in_file = np.setdiff1d(listOfWords,words_train_set) - this gives a set of unique words\n",
    "unknown_words_in_file = [word for word in listOfWords if word not in words_train_set]\n",
    "print(len(unknown_words_in_file))"
   ]
  },
  {
   "cell_type": "code",
   "execution_count": 42,
   "metadata": {},
   "outputs": [
    {
     "data": {
      "text/plain": [
       "['Android',\n",
       " 'OS',\n",
       " 'worldwide',\n",
       " 'smartphones',\n",
       " '2011',\n",
       " '2013',\n",
       " 'Google',\n",
       " 'Twitter',\n",
       " '2015',\n",
       " 'Google',\n",
       " \"Twitter's\",\n",
       " 'firehose',\n",
       " 'Twitter',\n",
       " 'online',\n",
       " 'interact',\n",
       " 'messages',\n",
       " 'tweets',\n",
       " 'domineering',\n",
       " 'personality',\n",
       " '2018',\n",
       " 'FIFA',\n",
       " 'Cup',\n",
       " '21st',\n",
       " 'FIFA',\n",
       " 'Cup',\n",
       " 'tournament',\n",
       " 'contested',\n",
       " 'Cup',\n",
       " 'trips',\n",
       " 'arriving',\n",
       " 'NASA',\n",
       " 'invited',\n",
       " 'ICESAT-2',\n",
       " 'Satellite']"
      ]
     },
     "execution_count": 42,
     "metadata": {},
     "output_type": "execute_result"
    }
   ],
   "source": [
    "unknown_words_in_file"
   ]
  },
  {
   "cell_type": "code",
   "execution_count": 43,
   "metadata": {},
   "outputs": [],
   "source": [
    "# Let's see what tag should be assigned to these words\n",
    "# List of tags available\n",
    "#'.', 'ADJ','ADP','ADV','CONJ','DET','NOUN','NUM','PRON','PRT','VERB','X'\n",
    "\n",
    "# Real tags on words in test_sentences file\n",
    "# Android - Noun, 2011 - number, 2013 - number, 2015 - number, 2018 - number, 21st - number, Cup - noun, FIFA - noun, \n",
    "# Google - noun, ICESAT-2 - noun, NASA - noun, OS - noun, Satellite- noun, Twitter - noun, Twitters - noun, arriving - verb,\n",
    "# best-selling - adjective, contested - verb, domineering - adjective, firehose - noun, interact - verb, invented - verb,\n",
    "# messages - noun, online - adjective, personality - noun, smartphones - noun, tournament - noun, trips - noun, tweets - noun\n",
    "# worldwide - noun etc..\n",
    "\n",
    "# Let's form some rule (regular expression that takes care of the correct tags for these words)\n"
   ]
  },
  {
   "cell_type": "markdown",
   "metadata": {},
   "source": [
    "### Solve the problem of unknown words"
   ]
  },
  {
   "cell_type": "markdown",
   "metadata": {},
   "source": [
    "#### Approach 1"
   ]
  },
  {
   "cell_type": "code",
   "execution_count": 44,
   "metadata": {},
   "outputs": [],
   "source": [
    "# 1. make rules from words in test_sentence file\n",
    "# Steps:\n",
    "#Step 1: if the word has all numeric values \n",
    "#       then it is a number\n",
    "#Step 2: else if the word ends with ing or ed \n",
    "#        then it is a verb \n",
    "# but there are multiple words like best-selling which have hyphen in between and \n",
    "# end with ed or ing and are not verb but adjective so, change step 2 \n",
    "# Real Step 2: else if word ends with inf or ed and has one hyphen (-) \n",
    "#       then it is an adjective\n",
    "# Step 3: previous step 2 becomes step 3\n",
    "# Step 4: else if words that start with capital letter\n",
    "#       then it is a noun\n",
    "# Also in rest of the case most of the words are noun. Therefore, for this case step 4 is not as such required\n"
   ]
  },
  {
   "cell_type": "code",
   "execution_count": 45,
   "metadata": {},
   "outputs": [],
   "source": [
    "# 2. Modified Viterbi Heuristic\n",
    "def Viterbi_modified_1(words, train_bag = train_tagged_words):\n",
    "    train_words = [pair[0] for pair in train_bag]\n",
    "    unknown_W = [x for x in words if x not in train_words]\n",
    "    known_W =   [x for x in words  if x not in unknown_W]\n",
    "    state = []\n",
    "    T = list(set([pair[1] for pair in train_bag]))\n",
    "    \n",
    "    for key, word in enumerate(words):\n",
    "        if word in known_W:\n",
    "        #initialise list of probability column for a given observation\n",
    "            p = [] \n",
    "            for tag in T:\n",
    "                if key == 0:\n",
    "                    transition_p = tags_df.loc['.', tag]\n",
    "                else:\n",
    "                    transition_p = tags_df.loc[state[-1], tag]\n",
    "                \n",
    "            # compute emission and state probabilities\n",
    "                count_w_given_tag, count_tag = word_given_tag(words[key], tag)\n",
    "                emission_p = count_w_given_tag/count_tag\n",
    "                state_probability = emission_p * transition_p    \n",
    "                p.append(state_probability)\n",
    "            \n",
    "            pmax = max(p)\n",
    "            # getting state for which probability is maximum\n",
    "            state_max = T[p.index(pmax)] \n",
    "            state.append(state_max)\n",
    "        elif word in unknown_W:\n",
    "            if re.search(r'^[0-9]+$',word):\n",
    "                state.append('NUM')\n",
    "            elif (word.endswith('ing') or word.endswith('ed')) and (re.search(r'[-]+',word)):\n",
    "                state.append('ADJ')\n",
    "            elif word.endswith('ing') or word.endswith('ed'):\n",
    "                state.append('VERB')\n",
    "            elif re.search(r'^[A-Z]+\\w',word):\n",
    "                state.append('NOUN')\n",
    "            else:\n",
    "                state.append('NOUN')\n",
    "    return list(zip(words, state))"
   ]
  },
  {
   "cell_type": "code",
   "execution_count": 46,
   "metadata": {},
   "outputs": [
    {
     "name": "stdout",
     "output_type": "stream",
     "text": [
      "4877\n"
     ]
    }
   ],
   "source": [
    "print(len(validation_untagged_words))"
   ]
  },
  {
   "cell_type": "code",
   "execution_count": 47,
   "metadata": {},
   "outputs": [],
   "source": [
    "# tagging the validation sentences\n",
    "start = time.time()\n",
    "tagged_seq = Viterbi_modified_1(validation_untagged_words)\n",
    "end = time.time()\n",
    "difference = end-start"
   ]
  },
  {
   "cell_type": "code",
   "execution_count": 48,
   "metadata": {},
   "outputs": [
    {
     "name": "stdout",
     "output_type": "stream",
     "text": [
      "Time taken in seconds:  435.7170526981354\n",
      "[('Ruth', 'NOUN'), ('K.', 'NOUN'), ('Nelson', 'NOUN'), ('Cullowhee', 'NOUN'), (',', '.'), ('N.C', 'NOUN'), ('.', '.'), ('Among', 'ADP'), ('other', 'ADJ'), ('Connecticut', 'NOUN'), ('banks', 'NOUN'), ('whose', 'PRON'), ('shares', 'NOUN'), ('*T*-121', 'NOUN'), ('trade', 'NOUN'), ('in', 'ADP'), ('the', 'DET'), ('OTC', 'NOUN'), ('market', 'NOUN'), (',', '.'), ('Society', 'NOUN'), ('for', 'ADP'), ('Savings', 'NOUN'), ('Bancorp', 'NOUN'), (',', '.'), ('based', 'VERB'), ('*', 'X'), ('in', 'ADP'), ('Hartford', 'NOUN'), (',', '.'), ('saw', 'VERB'), ('its', 'PRON'), ('stock', 'NOUN'), ('rise', 'VERB'), ('1', 'NUM'), ('3\\\\/4', 'NUM'), ('to', 'PRT'), ('18', 'NUM'), ('1\\\\/4', 'NUM'), ('.', '.'), ('Card', 'NOUN'), ('holders', 'NOUN'), ('who', 'PRON'), ('*T*-59', 'X'), ('receive', 'VERB'), ('the', 'DET'), ('letter', 'NOUN'), ('also', 'ADV'), ('are', 'VERB'), ('eligible', 'ADJ'), ('for', 'ADP'), ('a', 'DET'), ('sweepstakes', 'NOUN'), ('with', 'ADP'), ('Buick', 'NOUN'), ('cars', 'NOUN'), ('or', 'CONJ'), ('a', 'DET'), ('Hawaii', 'NOUN'), ('vacation', 'NOUN'), ('as', 'ADP'), ('prizes', 'NOUN'), ('.', '.'), ('Maxwell', 'NOUN'), ('R.D.', 'NOUN'), ('Vos', 'NOUN'), ('Brooklyn', 'NOUN'), (',', '.'), ('N.Y', 'NOUN'), ('.', '.'), ('The', 'DET'), ('Perch', 'NOUN'), ('and', 'CONJ'), ('Dolphin', 'NOUN'), ('fields', 'NOUN'), ('are', 'VERB'), ('expected', 'VERB'), ('*-3', 'X'), ('to', 'PRT'), ('start', 'VERB'), ('*-1', 'X'), ('producing', 'VERB'), ('early', 'ADV'), ('next', 'ADJ'), ('year', 'NOUN'), (',', '.'), ('and', 'CONJ'), ('the', 'DET'), ('Seahorse', 'NOUN'), ('and', 'CONJ'), ('Tarwhine', 'NOUN'), ('fields', 'NOUN'), ('later', 'ADJ'), ('next', 'ADJ'), ('year', 'NOUN'), ('.', '.'), ('In', 'ADP'), ('August', 'NOUN'), (',', '.'), ('the', 'DET'), ('commission', 'NOUN'), ('ruled', 'VERB'), ('that', 'ADP'), ('between', 'ADP'), ('$', '.'), ('190', 'NUM'), ('million', 'NUM'), ('and', 'CONJ'), ('$', '.'), ('195', 'NUM'), ('million', 'NUM'), ('*U*', 'X'), ('of', 'ADP'), ('the', 'DET'), ('plant', 'NOUN'), (\"'s\", 'PRT'), ('construction', 'NOUN'), ('cost', 'NOUN'), ('was', 'VERB'), ('unreasonable', 'ADJ'), ('and', 'CONJ'), ('should', 'VERB'), ('be', 'VERB'), ('refunded', 'VERB'), ('*-1', 'X'), (',', '.'), ('plus', 'CONJ'), ('interest', 'NOUN'), ('.', '.'), ('The', 'DET'), ('newly', 'ADV'), ('fattened', 'VERB'), ('premiums', 'NOUN'), ('reflect', 'VERB'), ('the', 'DET'), ('increasingly', 'ADV'), ('global', 'ADJ'), ('marketing', 'NOUN'), ('of', 'ADP'), ('some', 'DET'), ('country', 'NOUN'), ('funds', 'NOUN'), (',', '.'), ('Mr.', 'NOUN'), ('Porter', 'NOUN'), ('suggests', 'VERB'), ('0', 'X'), ('*T*-1', 'X'), ('.', '.'), ('``', '.'), ('David', 'NOUN'), ('Dinkins', 'NOUN'), ('failed', 'VERB'), ('*-2', 'X'), ('to', 'PRT'), ('file', 'VERB'), ('his', 'PRON'), ('income', 'NOUN'), ('taxes', 'NOUN'), ('for', 'ADP'), ('four', 'NUM'), ('straight', 'ADJ'), ('years', 'NOUN'), (',', '.'), (\"''\", '.'), ('says', 'VERB'), ('*T*-1', 'X'), ('a', 'DET'), ('disembodied', 'VERB'), ('male', 'ADJ'), ('voice', 'NOUN'), ('.', '.'), ('Otherwise', 'NOUN'), (',', '.'), ('actual', 'ADJ'), ('profit', 'NOUN'), ('is', 'VERB'), ('compared', 'VERB'), ('*-1', 'X'), ('with', 'ADP'), ('the', 'DET'), ('300-day', 'NOUN'), ('estimate', 'NOUN'), ('.', '.'), ('The', 'DET'), ('oldest', 'ADJ'), ('bell-ringing', 'ADJ'), ('group', 'NOUN'), ('in', 'ADP'), ('the', 'DET'), ('country', 'NOUN'), (',', '.'), ('the', 'DET'), ('Ancient', 'NOUN'), ('Society', 'NOUN'), ('of', 'ADP'), ('College', 'NOUN'), ('Youths', 'NOUN'), (',', '.'), ('founded', 'VERB'), ('*', 'X'), ('in', 'ADP'), ('1637', 'NUM'), (',', '.'), ('remains', 'VERB'), ('male-only', 'NOUN'), (',', '.'), ('a', 'DET'), ('fact', 'NOUN'), ('that', 'ADP'), ('*T*-230', 'NOUN'), (\"'s\", 'PRT'), ('particularly', 'ADV'), ('galling', 'VERB'), ('to', 'PRT'), ('women', 'NOUN'), ('because', 'ADP'), ('the', 'DET'), ('group', 'NOUN'), ('is', 'VERB'), ('the', 'DET'), ('sole', 'NOUN'), ('source', 'NOUN'), ('of', 'ADP'), ('ringers', 'NOUN'), ('for', 'ADP'), ('Britain', 'NOUN'), (\"'s\", 'PRT'), ('most', 'ADJ'), ('prestigious', 'ADJ'), ('churches', 'NOUN'), (',', '.'), ('St.', 'NOUN'), ('Paul', 'NOUN'), (\"'s\", 'PRT'), ('Cathedral', 'NOUN'), ('and', 'CONJ'), ('Westminster', 'NOUN'), ('Abbey', 'NOUN'), ('.', '.'), ('But', 'CONJ'), ('a', 'DET'), ('Soviet', 'ADJ'), ('bank', 'NOUN'), ('here', 'ADV'), ('would', 'VERB'), ('be', 'VERB'), ('crippled', 'VERB'), ('*-51', 'X'), ('unless', 'ADP'), ('Moscow', 'NOUN'), ('found', 'VERB'), ('a', 'DET'), ('way', 'NOUN'), ('0', 'X'), ('*', 'X'), ('to', 'PRT'), ('settle', 'VERB'), ('the', 'DET'), ('$', '.'), ('188', 'NUM'), ('million', 'NUM'), ('*U*', 'X'), ('debt', 'NOUN'), (',', '.'), ('which', 'DET'), ('*T*-1', 'X'), ('was', 'VERB'), ('lent', 'VERB'), ('*-52', 'X'), ('to', 'PRT'), ('the', 'DET'), ('country', 'NOUN'), (\"'s\", 'PRT'), ('short-lived', 'ADJ'), ('democratic', 'ADJ'), ('Kerensky', 'NOUN'), ('government', 'NOUN'), ('before', 'ADP'), ('the', 'DET'), ('Communists', 'NOUN'), ('seized', 'VERB'), ('power', 'NOUN'), ('in', 'ADP'), ('1917', 'NUM'), ('*T*-2', 'X'), ('.', '.'), ('The', 'DET'), ('recent', 'ADJ'), ('explosion', 'NOUN'), ('of', 'ADP'), ('country', 'NOUN'), ('funds', 'NOUN'), ('mirrors', 'NOUN'), ('the', 'DET'), ('``', '.'), ('closed-end', 'ADJ'), ('fund', 'NOUN'), ('mania', 'NOUN'), (\"''\", '.'), ('of', 'ADP'), ('the', 'DET'), ('1920s', 'NUM'), (',', '.'), ('Mr.', 'NOUN'), ('Foot', 'NOUN'), ('says', 'VERB'), ('0', 'X'), ('*T*-2', 'X'), (',', '.'), ('when', 'ADV'), ('narrowly', 'NOUN'), ('focused', 'VERB'), ('funds', 'NOUN'), ('grew', 'VERB'), ('wildly', 'NOUN'), ('popular', 'ADJ'), ('*T*-1', 'X'), ('.', '.'), ('The', 'DET'), ('yield', 'NOUN'), ('fell', 'VERB'), ('to', 'PRT'), ('7.88', 'NUM'), ('%', 'NOUN'), ('.', '.'), ('He', 'PRON'), ('cites', 'VERB'), ('the', 'DET'), ('recent', 'ADJ'), ('deal', 'NOUN'), ('between', 'ADP'), ('the', 'DET'), ('Mitsubishi', 'NOUN'), ('Estate', 'NOUN'), ('Co.', 'NOUN'), ('and', 'CONJ'), ('the', 'DET'), ('Rockefeller', 'NOUN'), ('Group', 'NOUN'), (',', '.'), ('as', 'ADP'), ('well', 'ADV'), ('as', 'ADP'), ('the', 'DET'), ('possible', 'ADJ'), ('white', 'NOUN'), ('knight', 'NOUN'), ('role', 'NOUN'), ('of', 'ADP'), ('an', 'DET'), ('undisclosed', 'VERB'), ('Japanese', 'ADJ'), ('company', 'NOUN'), ('in', 'ADP'), ('the', 'DET'), ('Georgia-Pacific', 'NOUN'), ('Corp.', 'NOUN'), ('takeover', 'NOUN'), ('bid', 'NOUN'), ('for', 'ADP'), ('Great', 'NOUN'), ('Northern', 'NOUN'), ('Nekoosa', 'NOUN'), ('Corp.', 'NOUN'), ('as', 'ADP'), ('evidence', 'NOUN'), ('.', '.'), ('Mr.', 'NOUN'), ('Hammond', 'NOUN'), ('worries', 'VERB'), ('that', 'ADP'), ('old', 'ADJ'), ('age', 'NOUN'), ('and', 'CONJ'), ('the', 'DET'), ('flightiness', 'NOUN'), ('of', 'ADP'), ('youth', 'NOUN'), ('will', 'VERB'), ('diminish', 'NOUN'), ('the', 'DET'), ('ranks', 'NOUN'), ('of', 'ADP'), ('the', 'DET'), ('East', 'NOUN'), ('Anglian', 'NOUN'), ('group', 'NOUN'), ('that', 'ADP'), ('*T*-223', 'NOUN'), ('keeps', 'VERB'), ('the', 'DET'), ('Aslacton', 'NOUN'), ('bells', 'NOUN'), ('pealing', 'VERB'), ('.', '.'), ('Serial', 'ADJ'), ('bonds', 'NOUN'), ('are', 'VERB'), ('priced', 'VERB'), ('*-1', 'X'), ('*', 'X'), ('to', 'PRT'), ('yield', 'VERB'), ('from', 'ADP'), ('6.20', 'NUM'), ('%', 'NOUN'), ('in', 'ADP'), ('1991', 'NUM'), ('to', 'PRT'), ('7', 'NUM'), ('%', 'NOUN'), ('in', 'ADP'), ('2000', 'NUM'), ('.', '.'), ('Yesterday', 'NOUN'), (',', '.'), ('the', 'DET'), ('stock', 'NOUN'), ('market', 'NOUN'), ('rose', 'VERB'), ('strongly', 'ADV'), (',', '.'), ('*', 'X'), ('creating', 'VERB'), ('a', 'DET'), ('more', 'ADJ'), ('defensive', 'ADJ'), ('attitude', 'NOUN'), ('among', 'ADP'), ('precious', 'ADJ'), ('metals', 'NOUN'), ('traders', 'NOUN'), (',', '.'), ('he', 'PRON'), ('said', 'VERB'), ('0', 'X'), ('*T*-1', 'X'), ('.', '.'), ('From', 'ADP'), ('an', 'DET'), ('advertising', 'NOUN'), ('standpoint', 'NOUN'), (',', '.'), ('the', 'DET'), ('problem', 'NOUN'), ('is', 'VERB'), ('0', 'X'), ('these', 'DET'), ('offenders', 'NOUN'), ('are', 'VERB'), ('likely', 'ADJ'), ('*-1', 'X'), ('to', 'PRT'), ('be', 'VERB'), ('some', 'DET'), ('of', 'ADP'), ('the', 'DET'), ('same', 'ADJ'), ('folks', 'NOUN'), ('that', 'ADP'), ('*T*-153', 'NOUN'), ('are', 'VERB'), ('major', 'ADJ'), ('magazine', 'NOUN'), ('advertisers', 'NOUN'), ('these', 'DET'), ('days', 'NOUN'), ('.', '.'), ('*-1', 'X'), ('Stung', 'VERB'), ('by', 'ADP'), ('charges', 'NOUN'), ('that', 'ADP'), ('their', 'PRON'), ('greed', 'NOUN'), ('is', 'VERB'), ('turning', 'VERB'), ('the', 'DET'), ('stock', 'NOUN'), ('market', 'NOUN'), ('into', 'ADP'), ('a', 'DET'), ('gigantic', 'NOUN'), ('crapshoot', 'NOUN'), (',', '.'), ('almost', 'ADV'), ('all', 'DET'), ('the', 'DET'), ('big', 'ADJ'), ('investment', 'NOUN'), ('banking', 'NOUN'), ('houses', 'NOUN'), ('have', 'VERB'), ('abandoned', 'VERB'), ('index', 'NOUN'), ('arbitrage', 'NOUN'), (',', '.'), ('a', 'DET'), ('common', 'ADJ'), ('form', 'NOUN'), ('of', 'ADP'), ('program', 'NOUN'), ('trading', 'NOUN'), (',', '.'), ('for', 'ADP'), ('their', 'PRON'), ('own', 'ADJ'), ('accounts', 'NOUN'), ('in', 'ADP'), ('the', 'DET'), ('past', 'ADJ'), ('few', 'ADJ'), ('days', 'NOUN'), ('.', '.'), ('Plans', 'NOUN'), ('*', 'X'), ('to', 'PRT'), ('do', 'VERB'), ('this', 'DET'), ('are', 'VERB'), ('due', 'ADJ'), ('*', 'X'), ('to', 'PRT'), ('be', 'VERB'), ('filed', 'VERB'), ('*-1', 'X'), ('in', 'ADP'), ('a', 'DET'), ('week', 'NOUN'), ('or', 'CONJ'), ('so', 'ADV'), ('.', '.'), ('The', 'DET'), ('appointment', 'NOUN'), ('takes', 'VERB'), ('effect', 'NOUN'), ('Nov.', 'NOUN'), ('13', 'NUM'), ('.', '.'), ('In', 'ADP'), ('1976', 'NUM'), (',', '.'), ('for', 'ADP'), ('example', 'NOUN'), (',', '.'), ('dividends', 'NOUN'), ('on', 'ADP'), ('the', 'DET'), ('stocks', 'NOUN'), ('in', 'ADP'), ('Standard', 'NOUN'), ('&', 'CONJ'), ('Poor', 'NOUN'), (\"'s\", 'PRT'), ('500-stock', 'ADJ'), ('index', 'NOUN'), ('soared', 'VERB'), ('10', 'NUM'), ('%', 'NOUN'), (',', '.'), ('following', 'VERB'), ('much', 'ADV'), ('slower', 'ADJ'), ('growth', 'NOUN'), ('the', 'DET'), ('year', 'NOUN'), ('before', 'ADP'), ('.', '.'), ('A', 'DET'), ('buffet', 'VERB'), ('breakfast', 'NOUN'), ('was', 'VERB'), ('held', 'VERB'), ('*-1', 'X'), ('in', 'ADP'), ('the', 'DET'), ('museum', 'NOUN'), (',', '.'), ('where', 'ADV'), ('food', 'NOUN'), ('and', 'CONJ'), ('drinks', 'NOUN'), ('are', 'VERB'), ('banned', 'VERB'), ('*-2', 'X'), ('to', 'PRT'), ('everyday', 'NOUN'), ('visitors', 'NOUN'), ('*T*-3', 'X'), ('.', '.'), ('At', 'ADP'), ('the', 'DET'), ('same', 'ADJ'), ('time', 'NOUN'), (',', '.'), ('Viacom', 'NOUN'), ('is', 'VERB'), ('trying', 'VERB'), ('*-1', 'X'), ('to', 'PRT'), ('persuade', 'VERB'), ('stations', 'NOUN'), ('*-2', 'X'), ('to', 'PRT'), ('make', 'VERB'), ('commitments', 'NOUN'), ('to', 'PRT'), ('``', '.'), ('A', 'DET'), ('Different', 'NOUN'), ('World', 'NOUN'), (',', '.'), (\"''\", '.'), ('a', 'DET'), ('spin-off', 'NOUN'), ('of', 'ADP'), ('``', '.'), ('Cosby', 'NOUN'), (\"''\", '.'), ('whose', 'PRON'), ('reruns', 'NOUN'), ('*T*-151', 'NOUN'), ('will', 'VERB'), ('become', 'VERB'), ('available', 'ADJ'), ('in', 'ADP'), ('1991', 'NUM'), ('.', '.'), ('The', 'DET'), ('forthcoming', 'VERB'), ('maturity', 'NOUN'), ('in', 'ADP'), ('November', 'NOUN'), ('of', 'ADP'), ('a', 'DET'), ('10-year', 'ADJ'), ('Japanese', 'ADJ'), ('government', 'NOUN'), ('yen-denominated', 'ADJ'), ('bond', 'NOUN'), ('issue', 'NOUN'), ('valued', 'VERB'), ('*', 'X'), ('at', 'ADP'), ('about', 'ADP'), ('$', '.'), ('16', 'NUM'), ('billion', 'NUM'), ('*U*', 'X'), ('has', 'VERB'), ('prompted', 'VERB'), ('speculation', 'NOUN'), ('*ICH*-2', 'X'), ('in', 'ADP'), ('the', 'DET'), ('market', 'NOUN'), ('that', 'ADP'), ('investors', 'NOUN'), ('redeeming', 'VERB'), ('the', 'DET'), ('bonds', 'NOUN'), ('will', 'VERB'), ('diversify', 'VERB'), ('into', 'ADP'), ('dollar-denominated', 'ADJ'), ('instruments', 'NOUN'), (',', '.'), ('according', 'VERB'), ('to', 'PRT'), ('Mr.', 'NOUN'), ('Madison', 'NOUN'), ('.', '.'), ('This', 'DET'), ('provision', 'NOUN'), ('amounts', 'NOUN'), ('to', 'PRT'), ('a', 'DET'), ('legislative', 'ADJ'), ('veto', 'NOUN'), ('over', 'ADP'), ('the', 'DET'), ('president', 'NOUN'), (\"'s\", 'PRT'), ('execution', 'NOUN'), ('of', 'ADP'), ('the', 'DET'), ('law', 'NOUN'), (',', '.'), ('since', 'ADP'), ('a', 'DET'), ('one-house', 'NOUN'), ('resolution', 'NOUN'), ('could', 'VERB'), ('be', 'VERB'), ('said', 'VERB'), ('*-1', 'X'), ('to', 'PRT'), ('be', 'VERB'), ('``', '.'), ('duly', 'ADV'), ('adopted', 'VERB'), (\"''\", '.'), ('even', 'ADV'), ('though', 'ADP'), ('it', 'PRON'), ('would', 'VERB'), ('require', 'VERB'), ('neither', 'DET'), ('bicameral', 'NOUN'), ('action', 'NOUN'), ('in', 'ADP'), ('Congress', 'NOUN'), ('nor', 'CONJ'), ('presentation', 'NOUN'), ('to', 'PRT'), ('the', 'DET'), ('president', 'NOUN'), ('for', 'ADP'), ('his', 'PRON'), ('signature', 'NOUN'), ('or', 'CONJ'), ('veto', 'NOUN'), ('.', '.'), ('He', 'PRON'), ('and', 'CONJ'), ('other', 'ADJ'), ('critics', 'NOUN'), ('say', 'VERB'), ('0', 'X'), ('such', 'ADJ'), ('coaching', 'NOUN'), ('aids', 'NOUN'), ('can', 'VERB'), ('defeat', 'NOUN'), ('the', 'DET'), ('purpose', 'NOUN'), ('of', 'ADP'), ('standardized', 'ADJ'), ('tests', 'NOUN'), (',', '.'), ('which', 'DET'), ('*T*-104', 'NOUN'), ('is', 'VERB'), ('*', 'X'), ('to', 'PRT'), ('gauge', 'VERB'), ('learning', 'VERB'), ('progress', 'NOUN'), ('.', '.'), ('Railroad', 'NOUN'), ('companies', 'NOUN'), ('and', 'CONJ'), ('some', 'DET'), ('ports', 'NOUN'), ('are', 'VERB'), ('reaping', 'VERB'), ('a', 'DET'), ('sudden', 'ADJ'), ('windfall', 'NOUN'), ('of', 'ADP'), ('business', 'NOUN'), ('.', '.'), ('He', 'PRON'), ('also', 'ADV'), ('claims', 'VERB'), ('0', 'X'), ('the', 'DET'), ('carrier', 'NOUN'), ('costs', 'NOUN'), ('less', 'ADV'), ('and', 'CONJ'), ('takes', 'VERB'), ('up', 'ADV'), ('less', 'ADJ'), ('space', 'NOUN'), ('than', 'ADP'), ('most', 'ADJ'), ('paper', 'NOUN'), ('carriers', 'NOUN'), ('.', '.'), ('Although', 'ADP'), ('takeover', 'NOUN'), ('experts', 'NOUN'), ('said', 'VERB'), ('0', 'X'), ('they', 'PRON'), ('doubted', 'VERB'), ('0', 'X'), ('Mr.', 'NOUN'), ('Steinberg', 'NOUN'), ('will', 'VERB'), ('make', 'VERB'), ('a', 'DET'), ('bid', 'NOUN'), ('by', 'ADP'), ('himself', 'PRON'), (',', '.'), ('the', 'DET'), ('application', 'NOUN'), ('by', 'ADP'), ('his', 'PRON'), ('Reliance', 'NOUN'), ('Group', 'NOUN'), ('Holdings', 'NOUN'), ('Inc.', 'NOUN'), ('could', 'VERB'), ('signal', 'VERB'), ('his', 'PRON'), ('interest', 'NOUN'), ('in', 'ADP'), ('*', 'X'), ('helping', 'VERB'), ('*-1', 'X'), ('revive', 'VERB'), ('a', 'DET'), ('failed', 'VERB'), ('labor-management', 'NOUN'), ('bid', 'NOUN'), ('.', '.'), ('Gunmen', 'NOUN'), ('in', 'ADP'), ('Lebanon', 'NOUN'), ('assassinated', 'VERB'), ('a', 'DET'), ('Saudi', 'NOUN'), ('Arabian', 'NOUN'), ('Embassy', 'NOUN'), ('employee', 'NOUN'), (',', '.'), ('and', 'CONJ'), ('the', 'DET'), ('pro-Iranian', 'NOUN'), ('Islamic', 'NOUN'), ('Jihad', 'NOUN'), ('took', 'VERB'), ('responsibility', 'NOUN'), ('for', 'ADP'), ('the', 'DET'), ('slaying', 'VERB'), ('0', 'X'), ('*T*-1', 'X'), ('to', 'PRT'), ('avenge', 'NOUN'), ('the', 'DET'), ('beheading', 'VERB'), ('of', 'ADP'), ('16', 'NUM'), ('terrorists', 'NOUN'), ('by', 'ADP'), ('Riyadh', 'NOUN'), (\"'s\", 'PRT'), ('government', 'NOUN'), ('in', 'ADP'), ('September', 'NOUN'), ('.', '.'), ('All', 'DET'), ('the', 'DET'), ('contracts', 'NOUN'), ('were', 'VERB'), ('for', 'ADP'), ('computer-system-design', 'NOUN'), ('contracts', 'NOUN'), ('and', 'CONJ'), ('involved', 'VERB'), ('no', 'DET'), ('hardware', 'NOUN'), ('or', 'CONJ'), ('software', 'NOUN'), ('.', '.'), ('But', 'CONJ'), ('they', 'PRON'), ('have', 'VERB'), ('obtained', 'VERB'), ('8300', 'NUM'), ('forms', 'NOUN'), ('without', 'ADP'), ('court', 'NOUN'), ('permission', 'NOUN'), ('and', 'CONJ'), ('used', 'VERB'), ('the', 'DET'), ('information', 'NOUN'), ('*-1', 'X'), ('to', 'PRT'), ('help', 'VERB'), ('develop', 'VERB'), ('criminal', 'ADJ'), ('cases', 'NOUN'), ('.', '.'), ('And', 'CONJ'), ('unlike', 'ADJ'), ('some', 'DET'), ('trays', 'NOUN'), (',', '.'), ('there', 'DET'), (\"'s\", 'VERB'), ('no', 'DET'), ('place', 'NOUN'), ('for', 'ADP'), ('food', 'NOUN'), ('.', '.'), (\"Dunkin'\", 'NOUN'), ('is', 'VERB'), ('based', 'VERB'), ('*-1', 'X'), ('in', 'ADP'), ('Randolph', 'NOUN'), (',', '.'), ('Mass', 'NOUN'), ('.', '.'), ('I', 'PRON'), ('have', 'VERB'), ('seen', 'VERB'), ('one', 'NUM'), ('or', 'CONJ'), ('two', 'NUM'), ('men', 'NOUN'), ('die', 'VERB'), (',', '.'), ('*', 'X'), ('bless', 'NOUN'), ('them', 'PRON'), ('.', '.'), ('The', 'DET'), ('training', 'NOUN'), ('wage', 'NOUN'), ('covers', 'VERB'), ('only', 'ADV'), ('workers', 'NOUN'), ('who', 'PRON'), ('*T*-260', 'NOUN'), ('are', 'VERB'), ('16', 'NUM'), ('to', 'PRT'), ('19', 'NUM'), ('years', 'NOUN'), ('old', 'ADJ'), ('.', '.'), ('Sen.', 'NOUN'), ('Danforth', 'NOUN'), ('and', 'CONJ'), ('others', 'NOUN'), ('also', 'ADV'), ('want', 'VERB'), ('the', 'DET'), ('department', 'NOUN'), ('to', 'PRT'), ('require', 'VERB'), ('additional', 'ADJ'), ('safety', 'NOUN'), ('equipment', 'NOUN'), ('*ICH*-1', 'X'), ('in', 'ADP'), ('light', 'ADJ'), ('trucks', 'NOUN'), ('and', 'CONJ'), ('minivans', 'NOUN'), (',', '.'), ('including', 'VERB'), ('air', 'VERB'), ('bags', 'NOUN'), ('or', 'CONJ'), ('automatic', 'ADJ'), ('seat', 'NOUN'), ('belts', 'NOUN'), ('in', 'ADP'), ('front', 'NOUN'), ('seats', 'NOUN'), ('and', 'CONJ'), ('improved', 'VERB'), ('side-crash', 'NOUN'), ('protection', 'NOUN'), ('.', '.'), ('GOODY', 'NOUN'), ('PRODUCTS', 'NOUN'), ('Inc.', 'NOUN'), ('cut', 'VERB'), ('its', 'PRON'), ('quarterly', 'ADJ'), ('dividend', 'NOUN'), ('to', 'PRT'), ('five', 'NUM'), ('cents', 'NOUN'), ('a', 'DET'), ('share', 'NOUN'), ('from', 'ADP'), ('11.5', 'NOUN'), ('cents', 'NOUN'), ('a', 'DET'), ('share', 'NOUN'), ('.', '.'), ('In', 'ADP'), ('September', 'NOUN'), (',', '.'), ('she', 'PRON'), ('pleaded', 'VERB'), ('guilty', 'ADJ'), ('and', 'CONJ'), ('paid', 'VERB'), ('a', 'DET'), ('$', '.'), ('500', 'NUM'), ('*U*', 'X'), ('fine', 'NOUN'), ('.', '.'), ('She', 'PRON'), ('was', 'VERB'), ('untrained', 'VERB'), ('and', 'CONJ'), (',', '.'), ('in', 'ADP'), ('one', 'NUM'), ('botched', 'VERB'), ('job', 'NOUN'), ('killed', 'VERB'), ('a', 'DET'), ('client', 'NOUN'), ('.', '.'), ('Yesterday', 'NOUN'), (',', '.'), ('Sea', 'NOUN'), ('Containers', 'NOUN'), (\"'\", 'PRT'), ('chief', 'NOUN'), ('executive', 'NOUN'), ('officer', 'NOUN'), (',', '.'), ('James', 'NOUN'), ('Sherwood', 'NOUN'), (',', '.'), ('said', 'VERB'), ('in', 'ADP'), ('an', 'DET'), ('interview', 'NOUN'), ('that', 'ADP'), (',', '.'), ('under', 'ADP'), ('the', 'DET'), ('asset-sale', 'NOUN'), ('plan', 'NOUN'), (',', '.'), ('Sea', 'NOUN'), ('Containers', 'NOUN'), ('would', 'VERB'), ('end', 'NOUN'), ('up', 'PRT'), ('with', 'ADP'), ('a', 'DET'), ('cash', 'NOUN'), ('surplus', 'NOUN'), ('of', 'ADP'), ('approximately', 'ADV'), ('$', '.'), ('620', 'NUM'), ('million', 'NUM'), ('*U*', 'X'), ('.', '.'), ('The', 'DET'), ('St.', 'NOUN'), ('Louis', 'NOUN'), ('company', 'NOUN'), ('earned', 'VERB'), ('$', '.'), ('45.2', 'NOUN'), ('million', 'NUM'), ('*U*', 'X'), (',', '.'), ('or', 'CONJ'), ('65', 'NUM'), ('cents', 'NOUN'), ('a', 'DET'), ('share', 'NOUN'), (',', '.'), ('compared', 'VERB'), ('with', 'ADP'), ('$', '.'), ('84.9', 'NOUN'), ('million', 'NUM'), ('*U*', 'X'), (',', '.'), ('or', 'CONJ'), ('$', '.'), ('1.24', 'NOUN'), ('*U*', 'X'), ('a', 'DET'), ('share', 'NOUN'), (',', '.'), ('a', 'DET'), ('year', 'NOUN'), ('earlier', 'ADV'), ('.', '.'), ('In', 'ADP'), ('an', 'DET'), ('eight-count', 'NOUN'), ('indictment', 'NOUN'), (',', '.'), ('the', 'DET'), ('government', 'NOUN'), ('has', 'VERB'), ('charged', 'VERB'), ('GAF', 'NOUN'), (',', '.'), ('a', 'DET'), ('Wayne', 'NOUN'), (',', '.'), ('N.J.', 'NOUN'), (',', '.'), ('specialty', 'NOUN'), ('chemical', 'NOUN'), ('maker', 'NOUN'), (',', '.'), ('and', 'CONJ'), ('its', 'PRON'), ('Vice', 'NOUN'), ('Chairman', 'NOUN'), ('James', 'NOUN'), ('T.', 'NOUN'), ('Sherwin', 'NOUN'), ('with', 'ADP'), ('*-2', 'X'), ('attempting', 'VERB'), ('*-1', 'X'), ('to', 'PRT'), ('manipulate', 'NOUN'), ('the', 'DET'), ('common', 'ADJ'), ('stock', 'NOUN'), ('of', 'ADP'), ('Union', 'NOUN'), ('Carbide', 'NOUN'), ('Corp.', 'NOUN'), ('in', 'ADP'), ('advance', 'NOUN'), ('of', 'ADP'), ('GAF', 'NOUN'), (\"'s\", 'PRT'), ('planned', 'VERB'), ('sale', 'NOUN'), ('of', 'ADP'), ('a', 'DET'), ('large', 'ADJ'), ('block', 'NOUN'), ('of', 'ADP'), ('the', 'DET'), ('stock', 'NOUN'), ('in', 'ADP'), ('November', 'NOUN'), ('1986', 'NUM'), ('.', '.'), ('All', 'DET'), ('of', 'ADP'), ('the', 'DET'), ('changes', 'NOUN'), ('require', 'VERB'), ('regulatory', 'ADJ'), ('approval', 'NOUN'), (',', '.'), ('which', 'DET'), ('*T*-1', 'X'), ('is', 'VERB'), ('expected', 'VERB'), ('*-129', 'NOUN'), ('shortly', 'ADV'), ('.', '.'), ('He', 'PRON'), ('has', 'VERB'), ('promised', 'VERB'), ('stiffer', 'NOUN'), ('fines', 'NOUN'), (',', '.'), ('though', 'ADP'), ('the', 'DET'), ('size', 'NOUN'), ('of', 'ADP'), ('penalties', 'NOUN'), ('sought', 'VERB'), ('*', 'X'), ('by', 'ADP'), ('OSHA', 'NOUN'), ('have', 'VERB'), ('been', 'VERB'), ('rising', 'VERB'), ('in', 'ADP'), ('recent', 'ADJ'), ('years', 'NOUN'), ('even', 'ADV'), ('before', 'ADP'), ('he', 'PRON'), ('took', 'VERB'), ('office', 'NOUN'), ('this', 'DET'), ('year', 'NOUN'), ('.', '.'), ('Mr.', 'NOUN'), ('Phelan', 'NOUN'), ('said', 'VERB'), ('0', 'X'), ('the', 'DET'), ('Big', 'NOUN'), ('Board', 'NOUN'), ('is', 'VERB'), ('likely', 'ADJ'), ('*-1', 'X'), ('to', 'PRT'), ('study', 'NOUN'), ('the', 'DET'), ('program-trading', 'ADJ'), ('issue', 'NOUN'), ('.', '.'), ('Sales', 'NOUN'), ('rose', 'VERB'), ('4', 'NUM'), ('%', 'NOUN'), ('to', 'PRT'), ('$', '.'), ('3.28', 'NOUN'), ('billion', 'NUM'), ('*U*', 'X'), ('from', 'ADP'), ('$', '.'), ('3.16', 'NOUN'), ('billion', 'NUM'), ('*U*', 'X'), ('.', '.'), ('They', 'PRON'), ('succeed', 'VERB'), ('Daniel', 'NOUN'), ('M.', 'NOUN'), ('Rexinger', 'NOUN'), (',', '.'), ('retired', 'VERB'), ('Circuit', 'NOUN'), ('City', 'NOUN'), ('executive', 'NOUN'), ('vice', 'NOUN'), ('president', 'NOUN'), (',', '.'), ('and', 'CONJ'), ('Robert', 'NOUN'), ('R.', 'NOUN'), ('Glauber', 'NOUN'), (',', '.'), ('U.S.', 'NOUN'), ('Treasury', 'NOUN'), ('undersecretary', 'NOUN'), (',', '.'), ('on', 'ADP'), ('the', 'DET'), ('12-member', 'NOUN'), ('board', 'NOUN'), ('.', '.'), ('``', '.'), ('Even', 'ADV'), ('the', 'DET'), ('7.2', 'NUM'), ('%', 'NOUN'), ('return', 'NOUN'), ('from', 'ADP'), ('the', 'DET'), ('risk-free', 'NOUN'), ('three-month', 'ADJ'), ('Treasury', 'NOUN'), ('bill', 'NOUN'), ('has', 'VERB'), ('easily', 'ADV'), ('outdistanced', 'VERB'), ('the', 'DET'), ('4.1', 'NUM'), ('%', 'NOUN'), ('return', 'NOUN'), ('from', 'ADP'), ('junk', 'NOUN'), ('bonds', 'NOUN'), (',', '.'), (\"''\", '.'), ('wrote', 'VERB'), ('*T*-1', 'X'), ('Moody', 'NOUN'), (\"'s\", 'PRT'), ('economist', 'NOUN'), ('John', 'NOUN'), ('Lonski', 'NOUN'), ('in', 'ADP'), ('yesterday', 'NOUN'), (\"'s\", 'PRT'), ('market', 'NOUN'), ('report', 'NOUN'), ('.', '.'), ('In', 'ADP'), ('most', 'ADJ'), ('of', 'ADP'), ('the', 'DET'), ('British', 'ADJ'), ('transactions', 'NOUN'), (',', '.'), ('the', 'DET'), ('municipalities', 'NOUN'), ('agreed', 'VERB'), ('*-1', 'X'), ('to', 'PRT'), ('make', 'VERB'), ('floating-rate', 'ADJ'), ('payments', 'NOUN'), ('to', 'PRT'), ('banks', 'NOUN'), (',', '.'), ('which', 'DET'), ('*T*-62', 'X'), ('would', 'VERB'), ('make', 'VERB'), ('fixed-rate', 'ADJ'), ('payments', 'NOUN'), ('.', '.'), ('He', 'PRON'), ('said', 'VERB'), ('0', 'X'), ('USX', 'NOUN'), ('also', 'ADV'), ('appeared', 'VERB'), ('*-1', 'X'), ('to', 'PRT'), ('sell', 'VERB'), ('a', 'DET'), ('richer', 'NOUN'), ('mix', 'NOUN'), ('of', 'ADP'), ('steel', 'NOUN'), ('products', 'NOUN'), (',', '.'), ('such', 'ADJ'), ('as', 'ADP'), ('the', 'DET'), ('more', 'ADJ'), ('profitable', 'ADJ'), ('pipe', 'NOUN'), ('and', 'CONJ'), ('galvanized', 'VERB'), ('coated', 'VERB'), ('sheet', 'NOUN'), (',', '.'), ('than', 'ADP'), ('lower-priced', 'ADJ'), ('structural', 'NOUN'), ('goods', 'NOUN'), ('.', '.'), ('Says', 'VERB'), ('*ICH*-1', 'X'), ('Kathryn', 'NOUN'), ('McAuley', 'NOUN'), (',', '.'), ('an', 'DET'), ('analyst', 'NOUN'), ('at', 'ADP'), ('First', 'NOUN'), ('Manhattan', 'NOUN'), ('Co.', 'NOUN'), (':', '.'), ('``', '.'), ('This', 'DET'), ('is', 'VERB'), ('the', 'DET'), ('greatest', 'ADJ'), ('acquisition', 'NOUN'), ('challenge', 'NOUN'), ('0', 'X'), ('he', 'PRON'), ('has', 'VERB'), ('faced', 'VERB'), ('*T*-2', 'X'), ('.', '.'), ('The', 'DET'), ('ultimate', 'ADJ'), ('goal', 'NOUN'), ('of', 'ADP'), ('any', 'DET'), ('investor', 'NOUN'), ('is', 'VERB'), ('a', 'DET'), ('profit', 'NOUN'), ('motive', 'NOUN'), (',', '.'), ('and', 'CONJ'), ('regulators', 'NOUN'), ('should', 'VERB'), ('not', 'ADV'), ('concern', 'NOUN'), ('themselves', 'PRON'), ('with', 'ADP'), ('whether', 'ADP'), ('investors', 'NOUN'), ('are', 'VERB'), ('sufficiently', 'NOUN'), ('focused', 'VERB'), ('on', 'ADP'), ('the', 'DET'), ('long', 'ADJ'), ('term', 'NOUN'), ('.', '.'), ('The', 'DET'), ('group', 'NOUN'), ('says', 'VERB'), ('0', 'X'), ('standardized', 'ADJ'), ('achievement', 'NOUN'), ('test', 'NOUN'), ('scores', 'NOUN'), ('are', 'VERB'), ('greatly', 'ADV'), ('inflated', 'VERB'), ('because', 'ADP'), ('teachers', 'NOUN'), ('often', 'ADV'), ('``', '.'), ('teach', 'VERB'), ('the', 'DET'), ('test', 'NOUN'), (\"''\", '.'), ('as', 'ADP'), ('Mrs.', 'NOUN'), ('Yeargin', 'NOUN'), ('did', 'VERB'), ('*?*', 'X'), (',', '.'), ('although', 'ADP'), ('most', 'ADJ'), ('are', 'VERB'), ('never', 'ADV'), ('caught', 'VERB'), ('*-1', 'X'), ('.', '.'), ('For', 'ADP'), ('the', 'DET'), ('fifth', 'ADJ'), ('consecutive', 'ADJ'), ('month', 'NOUN'), (',', '.'), ('purchasing', 'VERB'), ('managers', 'NOUN'), ('said', 'VERB'), ('0', 'X'), ('prices', 'NOUN'), ('for', 'ADP'), ('the', 'DET'), ('goods', 'NOUN'), ('0', 'X'), ('they', 'PRON'), ('purchased', 'VERB'), ('*T*-1', 'X'), ('fell', 'VERB'), ('.', '.'), ('The', 'DET'), ('latest', 'ADJ'), ('two', 'NUM'), ('funds', 'NOUN'), ('were', 'VERB'), ('assembled', 'VERB'), ('*-42', 'X'), ('jointly', 'ADV'), ('by', 'ADP'), ('Goldman', 'NOUN'), (',', '.'), ('Sachs', 'NOUN'), ('&', 'CONJ'), ('Co.', 'NOUN'), ('of', 'ADP'), ('the', 'DET'), ('U.S.', 'NOUN'), ('and', 'CONJ'), ('Japan', 'NOUN'), (\"'s\", 'PRT'), ('Daiwa', 'NOUN'), ('Securities', 'NOUN'), ('Co', 'NOUN'), ('.', '.'), ('Buick', 'NOUN'), ('approached', 'VERB'), ('American', 'ADJ'), ('Express', 'NOUN'), ('about', 'ADP'), ('a', 'DET'), ('joint', 'ADJ'), ('promotion', 'NOUN'), ('because', 'ADP'), ('its', 'PRON'), ('card', 'NOUN'), ('holders', 'NOUN'), ('generally', 'ADV'), ('have', 'VERB'), ('a', 'DET'), ('``', '.'), ('good', 'ADJ'), ('credit', 'NOUN'), ('history', 'NOUN'), (\"''\", '.'), ('and', 'CONJ'), ('are', 'VERB'), ('``', '.'), ('good', 'ADJ'), ('at', 'ADP'), ('*', 'X'), ('making', 'VERB'), ('payments', 'NOUN'), (',', '.'), (\"''\", '.'), ('says', 'VERB'), ('*T*-1', 'X'), ('a', 'DET'), ('spokeswoman', 'NOUN'), ('for', 'ADP'), ('the', 'DET'), ('division', 'NOUN'), ('.', '.'), ('*-1', 'X'), ('Asked', 'VERB'), ('*-2', 'X'), ('whether', 'ADP'), ('the', 'DET'), ('bidding', 'NOUN'), ('flap', 'NOUN'), ('would', 'VERB'), ('hurt', 'VERB'), ('U.S.-Japan', 'NOUN'), ('relations', 'NOUN'), (',', '.'), ('Mr.', 'NOUN'), ('Yamamoto', 'NOUN'), ('said', 'VERB'), (',', '.'), ('``', '.'), ('this', 'DET'), ('will', 'VERB'), ('be', 'VERB'), ('a', 'DET'), ('minus', 'CONJ'), ('factor', 'NOUN'), ('.', '.'), (\"''\", '.'), ('As', 'ADP'), ('a', 'DET'), ('result', 'NOUN'), (',', '.'), ('the', 'DET'), ('market', 'NOUN'), (\"'s\", 'PRT'), ('dividend', 'NOUN'), ('yield', 'VERB'), ('--', '.'), ('dividends', 'NOUN'), ('as', 'ADP'), ('a', 'DET'), ('percentage', 'NOUN'), ('of', 'ADP'), ('price', 'NOUN'), ('--', '.'), ('has', 'VERB'), ('slid', 'VERB'), ('to', 'PRT'), ('a', 'DET'), ('level', 'NOUN'), ('that', 'ADP'), ('*T*-232', 'NOUN'), ('is', 'VERB'), ('fairly', 'ADV'), ('low', 'ADJ'), ('and', 'CONJ'), ('unenticing', 'VERB'), ('by', 'ADP'), ('historical', 'ADJ'), ('standards', 'NOUN'), ('.', '.'), ('More', 'ADV'), ('often', 'ADV'), ('than', 'ADP'), ('not', 'ADV'), (',', '.'), ('ringers', 'NOUN'), ('think', 'VERB'), ('of', 'ADP'), ('the', 'DET'), ('church', 'NOUN'), ('as', 'ADP'), ('something', 'NOUN'), ('stuck', 'NOUN'), ('*', 'X'), ('on', 'ADP'), ('the', 'DET'), ('bottom', 'NOUN'), ('of', 'ADP'), ('the', 'DET'), ('belfry', 'NOUN'), ('.', '.'), ('This', 'DET'), ('trial', 'NOUN'), ('is', 'VERB'), ('expected', 'VERB'), ('*-1', 'X'), ('to', 'PRT'), ('last', 'ADJ'), ('five', 'NUM'), ('weeks', 'NOUN'), ('.', '.'), ('Campbell', 'NOUN'), ('Soup', 'NOUN'), ('forced', 'VERB'), ('out', 'PRT'), ('its', 'PRON'), ('president', 'NOUN'), ('and', 'CONJ'), ('chief', 'NOUN'), ('executive', 'NOUN'), (',', '.'), ('R.', 'NOUN'), ('Gordon', 'NOUN'), ('McGovern', 'NOUN'), (',', '.'), ('the', 'DET'), ('strongest', 'ADJ'), ('indication', 'NOUN'), ('*ICH*-1', 'X'), ('yet', 'ADV'), ('that', 'ADP'), ('the', 'DET'), ('Dorrance', 'NOUN'), ('family', 'NOUN'), ('plans', 'VERB'), ('*', 'X'), ('to', 'PRT'), ('take', 'VERB'), ('charge', 'NOUN'), ('of', 'ADP'), ('*', 'X'), ('reshaping', 'VERB'), ('the', 'DET'), ('troubled', 'ADJ'), ('food', 'NOUN'), ('company', 'NOUN'), ('.', '.'), ('Besides', 'ADP'), (',', '.'), ('Eggers', 'NOUN'), ('says', 'VERB'), ('0', 'X'), ('*T*-1', 'X'), (',', '.'), ('grain', 'NOUN'), ('elevators', 'NOUN'), ('are', 'VERB'), ('worth', 'ADJ'), ('*', 'X'), ('preserving', 'VERB'), ('for', 'ADP'), ('aesthetic', 'NOUN'), ('reasons', 'NOUN'), ('--', '.'), ('one', 'NUM'), ('famed', 'VERB'), ('architect', 'NOUN'), ('compared', 'VERB'), ('them', 'PRON'), ('to', 'PRT'), ('the', 'DET'), ('pyramids', 'NOUN'), ('of', 'ADP'), ('Egypt', 'NOUN'), ('.', '.'), ('He', 'PRON'), ('declined', 'VERB'), ('*-1', 'X'), ('to', 'PRT'), ('discuss', 'VERB'), ('other', 'ADJ'), ('terms', 'NOUN'), ('of', 'ADP'), ('the', 'DET'), ('issue', 'NOUN'), ('.', '.'), ('*', 'X'), ('SWITCHING', 'NOUN'), ('TO', 'NOUN'), ('THE', 'DET'), ('DEFENSE', 'NOUN'), (':', '.'), ('Ratners', 'NOUN'), ('Group', 'NOUN'), ('PLC', 'NOUN'), (',', '.'), ('a', 'DET'), ('fast-growing', 'ADJ'), (',', '.'), ('acquisition-minded', 'ADJ'), ('London-based', 'ADJ'), ('jeweler', 'NOUN'), (',', '.'), ('raised', 'VERB'), ('its', 'PRON'), ('price', 'NOUN'), ('for', 'ADP'), ('Seattle-based', 'ADJ'), ('specialty', 'NOUN'), ('jeweler', 'NOUN'), ('Weisfield', 'NOUN'), (\"'s\", 'PRT'), ('Inc.', 'NOUN'), ('to', 'PRT'), ('$', '.'), ('57.50', 'NUM'), ('*U*', 'X'), ('a', 'DET'), ('share', 'NOUN'), (',', '.'), ('or', 'CONJ'), ('$', '.'), ('62.1', 'NOUN'), ('million', 'NUM'), ('*U*', 'X'), (',', '.'), ('from', 'ADP'), ('$', '.'), ('50', 'NUM'), ('*U*', 'X'), ('a', 'DET'), ('share', 'NOUN'), (',', '.'), ('or', 'CONJ'), ('$', '.'), ('55', 'NUM'), ('million', 'NUM'), ('*U*', 'X'), (',', '.'), ('after', 'ADP'), ('another', 'DET'), ('concern', 'NOUN'), ('said', 'VERB'), ('0', 'X'), ('it', 'PRON'), ('would', 'VERB'), ('be', 'VERB'), ('prepared', 'VERB'), ('*-1', 'X'), ('to', 'PRT'), ('outbid', 'NOUN'), ('Ratners', 'NOUN'), (\"'s\", 'PRT'), ('initial', 'ADJ'), ('offer', 'NOUN'), ('.', '.'), ('It', 'PRON'), ('plans', 'VERB'), ('*-1', 'X'), ('to', 'PRT'), ('sell', 'VERB'), ('the', 'DET'), ('ad', 'NOUN'), ('time', 'NOUN'), ('to', 'PRT'), ('its', 'PRON'), ('clients', 'NOUN'), ('at', 'ADP'), ('a', 'DET'), ('discount', 'NOUN'), ('.', '.'), ('While', 'ADP'), ('researchers', 'NOUN'), ('believe', 'VERB'), ('0', 'X'), ('such', 'ADJ'), ('transplants', 'NOUN'), ('could', 'VERB'), ('help', 'VERB'), ('*-1', 'X'), ('treat', 'VERB'), ('diseases', 'NOUN'), ('like', 'ADP'), ('Alzheimer', 'NOUN'), (\"'s\", 'PRT'), (',', '.'), ('anti-abortionists', 'NOUN'), ('oppose', 'VERB'), ('the', 'DET'), ('research', 'NOUN'), ('.', '.'), ('Economists', 'NOUN'), ('say', 'VERB'), ('0', 'X'), ('a', 'DET'), ('buildup', 'NOUN'), ('in', 'ADP'), ('inventories', 'NOUN'), ('can', 'VERB'), ('provoke', 'NOUN'), ('cutbacks', 'NOUN'), ('in', 'ADP'), ('production', 'NOUN'), ('that', 'ADP'), ('*T*-48', 'X'), ('can', 'VERB'), ('lead', 'VERB'), ('to', 'PRT'), ('a', 'DET'), ('recession', 'NOUN'), ('.', '.'), ('*-1', 'X'), ('Bucking', 'VERB'), ('the', 'DET'), ('market', 'NOUN'), ('trend', 'NOUN'), (',', '.'), ('an', 'DET'), ('issue', 'NOUN'), ('of', 'ADP'), ('$', '.'), ('130', 'NUM'), ('million', 'NUM'), ('*U*', 'X'), ('general', 'ADJ'), ('obligation', 'NOUN'), ('distributable', 'ADJ'), ('state', 'NOUN'), ('aid', 'NOUN'), ('bonds', 'NOUN'), ('from', 'ADP'), ('Detroit', 'NOUN'), (',', '.'), ('Mich.', 'NOUN'), (',', '.'), ('apparently', 'ADV'), ('drew', 'NOUN'), ('solid', 'ADJ'), ('investor', 'NOUN'), ('interest', 'NOUN'), ('.', '.'), ('By', 'ADP'), ('*', 'X'), ('addressing', 'VERB'), ('those', 'DET'), ('problems', 'NOUN'), (',', '.'), ('Mr.', 'NOUN'), ('Maxwell', 'NOUN'), ('said', 'VERB'), ('0', 'X'), ('*T*-1', 'X'), (',', '.'), ('the', 'DET'), ('new', 'ADJ'), ('funds', 'NOUN'), ('have', 'VERB'), ('become', 'VERB'), ('``', '.'), ('extremely', 'ADV'), ('attractive', 'ADJ'), ('to', 'PRT'), ('Japanese', 'ADJ'), ('and', 'CONJ'), ('other', 'ADJ'), ('investors', 'NOUN'), ('outside', 'ADP'), ('the', 'DET'), ('U.S.', 'NOUN'), ('.', '.'), (\"''\", '.'), ('*-1', 'X'), ('Rated', 'VERB'), ('*-2', 'X'), ('triple-A', 'ADJ'), ('by', 'ADP'), ('both', 'DET'), ('Moody', 'NOUN'), (\"'s\", 'PRT'), ('Investors', 'NOUN'), ('Service', 'NOUN'), ('Inc.', 'NOUN'), ('and', 'CONJ'), ('Standard', 'NOUN'), ('&', 'CONJ'), ('Poor', 'NOUN'), (\"'s\", 'PRT'), ('Corp.', 'NOUN'), (',', '.'), ('the', 'DET'), ('issue', 'NOUN'), ('will', 'VERB'), ('be', 'VERB'), ('sold', 'VERB'), ('*-1', 'X'), ('through', 'ADP'), ('underwriters', 'NOUN'), ('led', 'VERB'), ('*', 'X'), ('by', 'ADP'), ('Salomon', 'NOUN'), ('Brothers', 'NOUN'), ('Inc', 'NOUN'), ('.', '.'), ('``', '.'), ('I', 'PRON'), ('live', 'VERB'), ('in', 'ADP'), ('hopes', 'NOUN'), ('that', 'ADP'), ('the', 'DET'), ('ringers', 'NOUN'), ('themselves', 'PRON'), ('will', 'VERB'), ('be', 'VERB'), ('drawn', 'VERB'), ('*-139', 'NOUN'), ('into', 'ADP'), ('that', 'DET'), ('fuller', 'NOUN'), ('life', 'NOUN'), ('.', '.'), (\"''\", '.'), ('Concurrent', 'NOUN'), ('with', 'ADP'), ('Mr.', 'NOUN'), ('Nichol', 'NOUN'), (\"'s\", 'PRT'), ('appointment', 'NOUN'), (',', '.'), ('Comprehensive', 'NOUN'), ('Care', 'NOUN'), ('moved', 'VERB'), ('its', 'PRON'), ('corporate', 'ADJ'), ('headquarters', 'NOUN'), ('from', 'ADP'), ('Irvine', 'NOUN'), (',', '.'), ('Calif.', 'NOUN'), (',', '.'), ('to', 'PRT'), ('St.', 'NOUN'), ('Louis', 'NOUN'), (',', '.'), ('where', 'ADV'), ('the', 'DET'), ('company', 'NOUN'), ('maintained', 'VERB'), ('its', 'PRON'), ('contract', 'NOUN'), ('services', 'NOUN'), ('offices', 'NOUN'), ('*T*-1', 'X'), ('.', '.'), ('And', 'CONJ'), ('many', 'ADJ'), ('emerging', 'VERB'), ('markets', 'NOUN'), ('have', 'VERB'), ('outpaced', 'VERB'), ('more', 'ADV'), ('mature', 'VERB'), ('markets', 'NOUN'), (',', '.'), ('such', 'ADJ'), ('as', 'ADP'), ('the', 'DET'), ('U.S.', 'NOUN'), ('and', 'CONJ'), ('Japan', 'NOUN'), ('.', '.'), ('Common', 'NOUN'), ('shares', 'NOUN'), ('outstanding', 'ADJ'), (':', '.'), ('19.6', 'NUM'), ('million', 'NUM'), ('In', 'ADP'), ('the', 'DET'), ('past', 'ADJ'), ('five', 'NUM'), ('years', 'NOUN'), (',', '.'), ('Japanese', 'ADJ'), ('companies', 'NOUN'), ('have', 'VERB'), ('tripled', 'VERB'), ('their', 'PRON'), ('commitments', 'NOUN'), ('in', 'ADP'), ('Asia', 'NOUN'), ('to', 'PRT'), ('$', '.'), ('5.57', 'NOUN'), ('billion', 'NUM'), ('*U*', 'X'), ('.', '.'), ('Ed', 'NOUN'), ('Macheski', 'NOUN'), (',', '.'), ('a', 'DET'), ('Wilton', 'NOUN'), (',', '.'), ('Conn.', 'NOUN'), (',', '.'), ('money', 'NOUN'), ('manager', 'NOUN'), ('who', 'PRON'), ('*T*-120', 'NOUN'), ('follows', 'VERB'), ('bank', 'NOUN'), ('stocks', 'NOUN'), (',', '.'), ('said', 'VERB'), ('0', 'X'), ('the', 'DET'), ('announcement', 'NOUN'), ('effectively', 'ADV'), ('gives', 'VERB'), ('the', 'DET'), ('deal', 'NOUN'), ('``', '.'), ('the', 'DET'), ('green', 'ADJ'), ('light', 'ADJ'), ('.', '.'), (\"''\", '.'), ('There', 'DET'), ('are', 'VERB'), ('no', 'DET'), ('signs', 'NOUN'), (',', '.'), ('however', 'ADV'), (',', '.'), ('of', 'ADP'), ('China', 'NOUN'), (\"'s\", 'PRT'), ('yielding', 'VERB'), ('on', 'ADP'), ('key', 'ADJ'), ('issues', 'NOUN'), ('.', '.'), ('By', 'ADP'), ('*-3', 'X'), ('using', 'VERB'), ('them', 'PRON'), (',', '.'), ('teachers', 'NOUN'), ('--', '.'), ('with', 'ADP'), ('administrative', 'ADJ'), ('blessing', 'NOUN'), ('--', '.'), ('telegraph', 'NOUN'), ('to', 'PRT'), ('students', 'NOUN'), ('beforehand', 'NOUN'), ('the', 'DET'), ('precise', 'NOUN'), ('areas', 'NOUN'), ('on', 'ADP'), ('which', 'DET'), ('a', 'DET'), ('test', 'NOUN'), ('will', 'VERB'), ('concentrate', 'VERB'), ('*T*-1', 'X'), (',', '.'), ('and', 'CONJ'), ('sometimes', 'ADV'), ('give', 'VERB'), ('away', 'ADV'), ('a', 'DET'), ('few', 'ADJ'), ('exact', 'ADJ'), ('questions', 'NOUN'), ('and', 'CONJ'), ('answers', 'NOUN'), ('.', '.'), ('Montedison', 'NOUN'), ('currently', 'ADV'), ('owns', 'VERB'), ('about', 'ADP'), ('72', 'NUM'), ('%', 'NOUN'), ('of', 'ADP'), ('Erbamont', 'NOUN'), (\"'s\", 'PRT'), ('common', 'ADJ'), ('shares', 'NOUN'), ('outstanding', 'ADJ'), ('.', '.'), ('Savin', 'NOUN'), ('cited', 'VERB'), ('``', '.'), ('a', 'DET'), ('general', 'ADJ'), ('softening', 'VERB'), ('in', 'ADP'), ('the', 'DET'), ('demand', 'NOUN'), ('for', 'ADP'), ('office', 'NOUN'), ('products', 'NOUN'), ('in', 'ADP'), ('the', 'DET'), ('market', 'NOUN'), ('segments', 'NOUN'), ('in', 'ADP'), ('which', 'DET'), ('Savin', 'NOUN'), ('competes', 'VERB'), ('*T*-1', 'X'), ('.', '.'), ('We', 'PRON'), (\"'re\", 'VERB'), ('seeing', 'VERB'), ('it', 'PRON'), ('partly', 'ADV'), ('because', 'ADP'), ('older', 'ADJ'), ('vintages', 'NOUN'), ('are', 'VERB'), ('growing', 'VERB'), ('more', 'ADV'), ('scarce', 'NOUN'), ('.', '.'), (\"''\", '.'), ('``', '.'), ('Public', 'NOUN'), ('policy', 'NOUN'), ('favors', 'NOUN'), ('the', 'DET'), ('development', 'NOUN'), ('and', 'CONJ'), ('marketing', 'NOUN'), ('of', 'ADP'), ('beneficial', 'ADJ'), ('new', 'ADJ'), ('drugs', 'NOUN'), (',', '.'), ('even', 'ADV'), ('though', 'ADP'), ('some', 'DET'), ('risks', 'NOUN'), (',', '.'), ('perhaps', 'ADV'), ('serious', 'ADJ'), ('ones', 'NOUN'), (',', '.'), ('might', 'VERB'), ('accompany', 'NOUN'), ('their', 'PRON'), ('introduction', 'NOUN'), ('because', 'ADP'), ('drugs', 'NOUN'), ('can', 'VERB'), ('save', 'VERB'), ('lives', 'VERB'), ('and', 'CONJ'), ('reduce', 'VERB'), ('pain', 'NOUN'), ('and', 'CONJ'), ('suffering', 'NOUN'), (',', '.'), (\"''\", '.'), ('the', 'DET'), ('unanimous', 'NOUN'), ('court', 'NOUN'), ('said', 'VERB'), ('*T*-1', 'X'), ('.', '.'), ('Investors', 'NOUN'), ('switched', 'VERB'), ('trading', 'NOUN'), ('focus', 'VERB'), ('quickly', 'ADV'), ('as', 'ADP'), ('they', 'PRON'), ('did', 'VERB'), ('Tuesday', 'NOUN'), (',', '.'), ('*-1', 'X'), ('reflecting', 'VERB'), ('uncertainty', 'NOUN'), ('about', 'ADP'), ('long-term', 'ADJ'), ('commitments', 'NOUN'), ('to', 'PRT'), ('any', 'DET'), ('issue', 'NOUN'), ('or', 'CONJ'), ('sector', 'NOUN'), (',', '.'), ('traders', 'NOUN'), ('said', 'VERB'), ('0', 'X'), ('*T*-2', 'X'), ('.', '.'), ('The', 'DET'), ('company', 'NOUN'), ('said', 'VERB'), ('0', 'X'), ('Mr.', 'NOUN'), ('Stronach', 'NOUN'), ('will', 'VERB'), ('personally', 'NOUN'), ('direct', 'VERB'), ('the', 'DET'), ('restructuring', 'NOUN'), (',', '.'), ('*-1', 'X'), ('assisted', 'VERB'), ('*-2', 'X'), ('by', 'ADP'), ('Manfred', 'VERB'), ('Gingl', 'NOUN'), (',', '.'), ('president', 'NOUN'), ('and', 'CONJ'), ('chief', 'NOUN'), ('executive', 'NOUN'), ('.', '.'), ('The', 'DET'), ('Sacramento-based', 'ADJ'), ('S&L', 'NOUN'), (',', '.'), ('which', 'DET'), ('*T*-110', 'NOUN'), ('has', 'VERB'), ('44', 'NUM'), ('branch', 'NOUN'), ('offices', 'NOUN'), ('in', 'ADP'), ('north', 'NOUN'), ('central', 'ADJ'), ('California', 'NOUN'), (',', '.'), ('had', 'VERB'), ('assets', 'NOUN'), ('of', 'ADP'), ('$', '.'), ('2.4', 'NUM'), ('billion', 'NUM'), ('*U*', 'X'), ('at', 'ADP'), ('the', 'DET'), ('end', 'NOUN'), ('of', 'ADP'), ('September', 'NOUN'), ('.', '.'), ('And', 'CONJ'), ('I', 'PRON'), ('apparently', 'ADV'), ('had', 'VERB'), ('no', 'DET'), ('right', 'NOUN'), ('*', 'X'), ('to', 'PRT'), ('print', 'VERB'), ('hither', 'NOUN'), ('what', 'PRON'), ('the', 'DET'), ('Voice', 'NOUN'), ('was', 'VERB'), ('booming', 'VERB'), ('*T*-2', 'X'), ('to', 'PRT'), ('yon', 'NOUN'), ('.', '.'), ('*-1', 'X'), ('To', 'PRT'), ('offset', 'VERB'), ('the', 'DET'), ('reduction', 'NOUN'), (',', '.'), ('Congress', 'NOUN'), ('approved', 'VERB'), ('a', 'DET'), ('$', '.'), ('20,000', 'NUM'), ('*U*', 'X'), ('fee', 'NOUN'), ('that', 'ADP'), ('investors', 'NOUN'), ('and', 'CONJ'), ('companies', 'NOUN'), ('will', 'VERB'), ('have', 'VERB'), ('*-3', 'X'), ('to', 'PRT'), ('pay', 'VERB'), ('*T*-2', 'X'), ('each', 'DET'), ('time', 'NOUN'), ('0', 'X'), ('they', 'PRON'), ('make', 'VERB'), ('required', 'VERB'), ('filings', 'NOUN'), ('to', 'PRT'), ('antitrust', 'ADJ'), ('regulators', 'NOUN'), ('about', 'ADP'), ('mergers', 'NOUN'), (',', '.'), ('acquisitions', 'NOUN'), ('and', 'CONJ'), ('certain', 'ADJ'), ('other', 'ADJ'), ('transactions', 'NOUN'), ('*T*-4', 'X'), ('.', '.'), ('Still', 'ADV'), (',', '.'), ('some', 'DET'), ('market', 'NOUN'), ('analysts', 'NOUN'), ('say', 'VERB'), ('0', 'X'), ('the', 'DET'), ('current', 'ADJ'), ('3.3', 'NUM'), ('%', 'NOUN'), ('reading', 'NOUN'), ('is', 'VERB'), (\"n't\", 'ADV'), ('as', 'ADP'), ('troublesome', 'NOUN'), ('as', 'ADP'), ('it', 'PRON'), ('might', 'VERB'), ('have', 'VERB'), ('been', 'VERB'), ('*?*', 'X'), ('in', 'ADP'), ('years', 'NOUN'), ('past', 'NOUN'), ('.', '.'), ('In', 'ADP'), ('1970', 'NUM'), (',', '.'), ('Mr.', 'NOUN'), ('Hahn', 'NOUN'), ('called', 'VERB'), ('in', 'ADP'), ('state', 'NOUN'), ('police', 'NOUN'), ('to', 'PRT'), ('arrest', 'NOUN'), ('student', 'NOUN'), ('protesters', 'NOUN'), ('who', 'PRON'), ('*T*-3', 'X'), ('were', 'VERB'), ('occupying', 'VERB'), ('a', 'DET'), ('university', 'NOUN'), ('building', 'NOUN'), ('.', '.'), ('Nevertheless', 'ADV'), (',', '.'), ('said', 'VERB'), ('*T*-1', 'X'), ('Brenda', 'NOUN'), ('Malizia', 'NOUN'), ('Negus', 'NOUN'), (',', '.'), ('editor', 'NOUN'), ('of', 'ADP'), ('Money', 'NOUN'), ('Fund', 'NOUN'), ('Report', 'NOUN'), (',', '.'), ('yields', 'NOUN'), ('``', '.'), ('may', 'VERB'), ('blip', 'NOUN'), ('up', 'PRT'), ('again', 'ADV'), ('before', 'ADP'), ('they', 'PRON'), ('blip', 'NOUN'), ('down', 'ADP'), (\"''\", '.'), ('because', 'ADP'), ('of', 'ADP'), ('recent', 'ADJ'), ('rises', 'NOUN'), ('in', 'ADP'), ('short-term', 'ADJ'), ('interest', 'NOUN'), ('rates', 'NOUN'), ('.', '.'), ('Faulding', 'NOUN'), ('said', 'VERB'), ('0', 'X'), ('it', 'PRON'), ('owns', 'VERB'), ('33', 'NUM'), ('%', 'NOUN'), ('of', 'ADP'), ('Moleculon', 'NOUN'), (\"'s\", 'PRT'), ('voting', 'NOUN'), ('stock', 'NOUN'), ('and', 'CONJ'), ('has', 'VERB'), ('an', 'DET'), ('agreement', 'NOUN'), ('*', 'X'), ('to', 'PRT'), ('acquire', 'VERB'), ('an', 'DET'), ('additional', 'ADJ'), ('19', 'NUM'), ('%', 'NOUN'), ('.', '.'), ('The', 'DET'), ('Bush', 'NOUN'), ('administration', 'NOUN'), ('has', 'VERB'), ('threatened', 'VERB'), ('*-1', 'X'), ('to', 'PRT'), ('veto', 'NOUN'), ('such', 'ADJ'), ('a', 'DET'), ('bill', 'NOUN'), ('because', 'ADP'), ('of', 'ADP'), ('what', 'PRON'), ('it', 'PRON'), ('views', 'NOUN'), ('*T*-2', 'X'), ('as', 'ADP'), ('an', 'DET'), ('undesirable', 'NOUN'), ('intrusion', 'NOUN'), ('into', 'ADP'), ('the', 'DET'), ('affairs', 'NOUN'), ('of', 'ADP'), ('industry', 'NOUN'), (',', '.'), ('but', 'CONJ'), ('the', 'DET'), ('300-113', 'NOUN'), ('vote', 'NOUN'), ('suggests', 'VERB'), ('that', 'ADP'), ('supporters', 'NOUN'), ('have', 'VERB'), ('the', 'DET'), ('potential', 'ADJ'), ('0', 'X'), ('*', 'X'), ('to', 'PRT'), ('override', 'NOUN'), ('a', 'DET'), ('veto', 'NOUN'), ('*T*-3', 'X'), ('.', '.'), ('During', 'ADP'), ('the', 'DET'), ('current', 'ADJ'), ('crop', 'NOUN'), ('year', 'NOUN'), (',', '.'), ('Brazil', 'NOUN'), ('was', 'VERB'), ('expected', 'VERB'), ('*-1', 'X'), ('to', 'PRT'), ('produce', 'VERB'), ('6.9', 'NUM'), ('million', 'NUM'), ('tons', 'NOUN'), ('of', 'ADP'), ('sugar', 'NOUN'), (',', '.'), ('a', 'DET'), ('drop', 'NOUN'), ('from', 'ADP'), ('8.1', 'NUM'), ('million', 'NUM'), ('tons', 'NOUN'), ('in', 'ADP'), ('1988-89', 'NOUN'), ('.', '.'), ('They', 'PRON'), ('mature', 'VERB'), ('in', 'ADP'), ('2005', 'NUM'), (',', '.'), ('2009', 'NUM'), ('and', 'CONJ'), ('2029', 'NUM'), ('.', '.'), ('An', 'DET'), ('index', 'NOUN'), ('of', 'ADP'), ('economic', 'ADJ'), ('activity', 'NOUN'), ('drawn', 'VERB'), ('*', 'X'), ('from', 'ADP'), ('the', 'DET'), ('survey', 'NOUN'), ('stood', 'VERB'), ('last', 'ADJ'), ('month', 'NOUN'), ('at', 'ADP'), ('47.6', 'NUM'), ('%', 'NOUN'), (';', '.'), ('a', 'DET'), ('reading', 'NOUN'), ('above', 'ADP'), ('50', 'NUM'), ('%', 'NOUN'), ('would', 'VERB'), ('have', 'VERB'), ('indicated', 'VERB'), ('that', 'ADP'), ('the', 'DET'), ('manufacturing', 'NOUN'), ('sector', 'NOUN'), ('was', 'VERB'), ('improving', 'VERB'), ('.', '.'), ('Something', 'VERB'), ('like', 'ADP'), ('one-third', 'NOUN'), ('of', 'ADP'), ('the', 'DET'), ('nation', 'NOUN'), (\"'s\", 'PRT'), ('60', 'NUM'), ('largest', 'ADJ'), ('cities', 'NOUN'), ('*ICH*-1', 'X'), ('are', 'VERB'), ('thinking', 'VERB'), ('about', 'ADP'), ('new', 'ADJ'), ('stadiums', 'NOUN'), (',', '.'), ('ranging', 'VERB'), ('from', 'ADP'), ('Cleveland', 'NOUN'), ('to', 'PRT'), ('San', 'NOUN'), ('Antonio', 'NOUN'), ('and', 'CONJ'), ('St.', 'NOUN'), ('Petersburg', 'NOUN'), ('.', '.'), ('It', 'PRON'), ('also', 'ADV'), ('hopes', 'VERB'), ('for', 'ADP'), ('ultimate', 'ADJ'), ('gains', 'NOUN'), ('of', 'ADP'), ('as', 'ADP'), ('much', 'ADJ'), ('as', 'ADP'), ('$', '.'), ('300', 'NUM'), ('million', 'NUM'), ('*U*', 'X'), ('on', 'ADP'), ('equity', 'NOUN'), ('investments', 'NOUN'), ('in', 'ADP'), ('buy-outs', 'NOUN'), ('and', 'CONJ'), ('restructurings', 'NOUN'), ('.', '.'), ('A', 'DET'), ('Shearson', 'NOUN'), ('spokesman', 'NOUN'), ('had', 'VERB'), ('no', 'DET'), ('comment', 'NOUN'), ('.', '.'), ('There', 'DET'), (\"'s\", 'VERB'), ('never', 'ADV'), ('been', 'VERB'), ('an', 'DET'), ('exception', 'NOUN'), (',', '.'), (\"''\", '.'), ('says', 'VERB'), ('0', 'X'), ('*T*-1', 'X'), ('Gerald', 'NOUN'), ('W.', 'NOUN'), ('Perritt', 'NOUN'), (',', '.'), ('a', 'DET'), ('Chicago', 'NOUN'), ('investment', 'NOUN'), ('adviser', 'NOUN'), ('and', 'CONJ'), ('money', 'NOUN'), ('manager', 'NOUN'), (',', '.'), ('based', 'VERB'), ('on', 'ADP'), ('a', 'DET'), ('review', 'NOUN'), ('of', 'ADP'), ('six', 'NUM'), ('decades', 'NOUN'), ('of', 'ADP'), ('stock-market', 'NOUN'), ('data', 'NOUN'), ('.', '.'), ('The', 'DET'), ('March', 'NOUN'), ('delivery', 'NOUN'), (',', '.'), ('which', 'DET'), ('*T*-1', 'X'), ('has', 'VERB'), ('no', 'DET'), ('limits', 'NOUN'), (',', '.'), ('settled', 'VERB'), ('at', 'ADP'), ('14.53', 'NOUN'), ('cents', 'NOUN'), (',', '.'), ('up', 'ADV'), ('0.56', 'NOUN'), ('cent', 'NOUN'), ('a', 'DET'), ('pound', 'NOUN'), ('.', '.'), ('The', 'DET'), ('total', 'ADJ'), ('marks', 'NOUN'), ('the', 'DET'), ('sixth', 'ADJ'), ('consecutive', 'ADJ'), ('monthly', 'ADJ'), ('decline', 'NOUN'), ('.', '.'), ('``', '.'), ('After', 'ADP'), ('two', 'NUM'), ('months', 'NOUN'), ('of', 'ADP'), ('talks', 'NOUN'), (',', '.'), ('our', 'PRON'), ('rating', 'NOUN'), ('was', 'VERB'), ('maintained', 'VERB'), ('*-1', 'X'), ('.', '.'), (\"''\", '.'), ('``', '.'), ('Do', 'VERB'), ('you', 'PRON'), ('make', 'VERB'), ('sweatshirts', 'NOUN'), ('or', 'CONJ'), ('sparkplugs', 'NOUN'), ('?', '.'), ('The', 'DET'), ('judge', 'NOUN'), ('declined', 'VERB'), ('*-1', 'X'), ('to', 'PRT'), ('discuss', 'VERB'), ('his', 'PRON'), ('salary', 'NOUN'), ('in', 'ADP'), ('detail', 'NOUN'), (',', '.'), ('but', 'CONJ'), ('said', 'VERB'), (':', '.'), ('``', '.'), ('I', 'PRON'), (\"'m\", 'VERB'), ('going', 'VERB'), ('*-2', 'X'), ('to', 'PRT'), ('be', 'VERB'), ('a', 'DET'), ('high-priced', 'ADJ'), ('lawyer', 'NOUN'), ('.', '.'), (\"''\", '.'), ('Relations', 'NOUN'), ('between', 'ADP'), ('China', 'NOUN'), ('and', 'CONJ'), ('the', 'DET'), ('U.S.', 'NOUN'), ('have', 'VERB'), ('been', 'VERB'), ('tense', 'ADJ'), ('since', 'ADP'), ('June', 'NOUN'), ('7', 'NUM'), (',', '.'), ('when', 'ADV'), ('Chinese', 'ADJ'), ('dissident', 'NOUN'), ('Fang', 'NOUN'), ('Lizhi', 'NOUN'), ('and', 'CONJ'), ('his', 'PRON'), ('wife', 'NOUN'), (',', '.'), ('Li', 'NOUN'), ('Shuxian', 'NOUN'), (',', '.'), ('took', 'VERB'), ('refuge', 'NOUN'), ('in', 'ADP'), ('the', 'DET'), ('U.S.', 'NOUN'), ('Embassy', 'NOUN'), ('in', 'ADP'), ('Beijing', 'NOUN'), ('*T*-1', 'X'), ('.', '.'), ('How', 'ADV'), ('does', 'VERB'), ('a', 'DET'), ('nice', 'ADJ'), ('new', 'ADJ'), ('tax', 'NOUN'), (',', '.'), ('say', 'VERB'), ('5', 'NUM'), ('%', 'NOUN'), (',', '.'), ('on', 'ADP'), ('any', 'DET'), ('financial', 'ADJ'), ('transaction', 'NOUN'), ('sound', 'NOUN'), ('*T*-1', 'X'), ('?', '.'), ('He', 'PRON'), ('earned', 'VERB'), ('his', 'PRON'), ('doctorate', 'NOUN'), ('in', 'ADP'), ('nuclear', 'ADJ'), ('physics', 'NOUN'), ('from', 'ADP'), ('the', 'DET'), ('Massachusetts', 'NOUN'), ('Institute', 'NOUN'), ('of', 'ADP'), ('Technology', 'NOUN'), ('.', '.'), ('Propaganda', 'NOUN'), ('is', 'VERB'), ('just', 'ADV'), ('information', 'NOUN'), ('0', 'X'), ('*T*-1', 'X'), ('to', 'PRT'), ('support', 'VERB'), ('a', 'DET'), ('viewpoint', 'NOUN'), (',', '.'), ('and', 'CONJ'), ('the', 'DET'), ('beauty', 'NOUN'), ('of', 'ADP'), ('a', 'DET'), ('democracy', 'NOUN'), ('is', 'VERB'), ('that', 'ADP'), ('it', 'PRON'), ('enables', 'VERB'), ('you', 'PRON'), ('to', 'PRT'), ('hear', 'VERB'), ('or', 'CONJ'), ('read', 'VERB'), ('every', 'DET'), ('viewpoint', 'NOUN'), ('and', 'CONJ'), ('then', 'ADV'), ('make', 'VERB'), ('up', 'ADV'), ('your', 'PRON'), ('own', 'ADJ'), ('mind', 'VERB'), ('on', 'ADP'), ('an', 'DET'), ('issue', 'NOUN'), ('.', '.'), ('Also', 'ADV'), (',', '.'), ('Mr.', 'NOUN'), ('Canepa', 'NOUN'), ('received', 'VERB'), ('a', 'DET'), ('two-week', 'ADJ'), ('suspension', 'NOUN'), ('``', '.'), ('in', 'ADP'), ('a', 'DET'), ('principal', 'NOUN'), ('capacity', 'NOUN'), ('.', '.'), (\"''\", '.'), ('The', 'DET'), ('Nasdaq', 'NOUN'), ('100', 'NUM'), ('index', 'NOUN'), ('of', 'ADP'), ('the', 'DET'), ('biggest', 'ADJ'), ('nonfinancial', 'NOUN'), ('stocks', 'NOUN'), ('gained', 'VERB'), ('1.39', 'NOUN'), ('to', 'PRT'), ('446.62', 'NOUN'), ('.', '.'), ('``', '.'), ('When', 'ADV'), ('the', 'DET'), ('sell', 'VERB'), ('programs', 'NOUN'), ('hit', 'VERB'), ('*T*-1', 'X'), (',', '.'), ('you', 'PRON'), ('can', 'VERB'), ('hear', 'VERB'), ('the', 'DET'), ('order', 'NOUN'), ('printers', 'NOUN'), ('start', 'VERB'), ('*-2', 'X'), ('to', 'PRT'), ('go', 'VERB'), (\"''\", '.'), ('on', 'ADP'), ('the', 'DET'), ('Big', 'NOUN'), ('Board', 'NOUN'), ('trading', 'NOUN'), ('floor', 'NOUN'), (',', '.'), ('says', 'VERB'), ('0', 'X'), ('*T*-3', 'X'), ('one', 'NUM'), ('specialist', 'NOUN'), ('there', 'DET'), ('.', '.'), ('Rep.', 'NOUN'), ('John', 'NOUN'), ('Dingell', 'NOUN'), (',', '.'), ('an', 'DET'), ('important', 'ADJ'), ('sponsor', 'NOUN'), ('of', 'ADP'), ('President', 'NOUN'), ('Bush', 'NOUN'), (\"'s\", 'PRT'), ('clean-air', 'ADJ'), ('bill', 'NOUN'), (',', '.'), ('plans', 'NOUN'), ('*-2', 'X'), ('to', 'PRT'), ('unveil', 'VERB'), ('a', 'DET'), ('surprise', 'NOUN'), ('proposal', 'NOUN'), ('that', 'ADP'), ('*T*-1', 'X'), ('would', 'VERB'), ('break', 'VERB'), ('with', 'ADP'), ('the', 'DET'), ('White', 'NOUN'), ('House', 'NOUN'), ('on', 'ADP'), ('a', 'DET'), ('centerpiece', 'NOUN'), ('issue', 'NOUN'), (':', '.'), ('acid', 'NOUN'), ('rain', 'NOUN'), ('.', '.'), ('Even', 'ADV'), ('before', 'ADP'), ('those', 'DET'), ('moves', 'NOUN'), ('added', 'VERB'), ('fuel', 'VERB'), (',', '.'), ('the', 'DET'), ('fires', 'NOUN'), ('of', 'ADP'), ('discontent', 'NOUN'), ('had', 'VERB'), ('been', 'VERB'), ('well', 'ADV'), ('stoked', 'VERB'), ('*-1', 'X'), ('by', 'ADP'), ('the', 'DET'), ('highly', 'ADV'), ('publicized', 'VERB'), ('experience', 'NOUN'), ('in', 'ADP'), ('Japan', 'NOUN'), ('of', 'ADP'), ('one', 'NUM'), ('U.S.', 'NOUN'), ('investor', 'NOUN'), (',', '.'), ('T.', 'NOUN'), ('Boone', 'NOUN'), ('Pickens', 'NOUN'), ('Jr', 'NOUN'), ('.', '.'), ('This', 'DET'), ('compares', 'VERB'), ('with', 'ADP'), ('estimates', 'NOUN'), ('that', 'ADP'), ('the', 'DET'), ('U.S.', 'NOUN'), ('``', '.'), ('derivatives', 'NOUN'), (\"''\", '.'), ('market', 'NOUN'), ('is', 'VERB'), ('perhaps', 'ADV'), ('four', 'NUM'), ('times', 'NOUN'), ('as', 'ADP'), ('large', 'ADJ'), ('as', 'ADP'), ('the', 'DET'), ('underlying', 'ADJ'), ('domestic', 'ADJ'), ('market', 'NOUN'), ('.', '.'), ('Besides', 'ADP'), ('*-1', 'X'), ('being', 'VERB'), ('a', 'DET'), ('``', '.'), ('minority-owned', 'ADJ'), ('company', 'NOUN'), (\"''\", '.'), ('Wedtech', 'NOUN'), ('was', 'VERB'), ('located', 'VERB'), ('*-1', 'X'), ('in', 'ADP'), ('the', 'DET'), ('South', 'NOUN'), ('Bronx', 'NOUN'), (',', '.'), ('a', 'DET'), ('blighted', 'VERB'), ('area', 'NOUN'), (',', '.'), ('made', 'VERB'), ('*', 'X'), ('famous', 'NOUN'), ('by', 'ADP'), ('Jimmy', 'NOUN'), ('Carter', 'NOUN'), ('in', 'ADP'), ('his', 'PRON'), ('1976', 'NUM'), ('presidential', 'ADJ'), ('campaign', 'NOUN'), ('.', '.'), ('Standard', 'NOUN'), ('&', 'CONJ'), ('Poor', 'NOUN'), (\"'s\", 'PRT'), ('500-Stock', 'NOUN'), ('Index', 'NOUN'), ('added', 'VERB'), ('0.84', 'NOUN'), ('to', 'PRT'), ('341.20', 'NOUN'), (';', '.'), ('the', 'DET'), ('rise', 'NOUN'), ('was', 'VERB'), ('equivalent', 'NOUN'), ('to', 'PRT'), ('a', 'DET'), ('gain', 'NOUN'), ('of', 'ADP'), ('about', 'ADP'), ('six', 'NUM'), ('points', 'NOUN'), ('in', 'ADP'), ('the', 'DET'), ('industrial', 'ADJ'), ('average', 'ADJ'), ('.', '.'), ('The', 'DET'), ('House', 'NOUN'), ('has', 'VERB'), ('voted', 'VERB'), ('*-1', 'X'), ('to', 'PRT'), ('raise', 'VERB'), ('the', 'DET'), ('ceiling', 'NOUN'), ('to', 'PRT'), ('$', '.'), ('3.1', 'NUM'), ('trillion', 'NUM'), ('*U*', 'X'), (',', '.'), ('but', 'CONJ'), ('the', 'DET'), ('Senate', 'NOUN'), ('is', 'VERB'), (\"n't\", 'ADV'), ('expected', 'VERB'), ('*-2', 'X'), ('to', 'PRT'), ('act', 'VERB'), ('until', 'ADP'), ('next', 'ADJ'), ('week', 'NOUN'), ('at', 'ADP'), ('the', 'DET'), ('earliest', 'NOUN'), ('.', '.'), ('There', 'DET'), ('is', 'VERB'), ('something', 'NOUN'), ('inherently', 'NOUN'), ('suspect', 'VERB'), ('about', 'ADP'), ('Congress', 'NOUN'), (\"'s\", 'PRT'), ('prohibiting', 'VERB'), ('the', 'DET'), ('executive', 'ADJ'), ('from', 'ADP'), ('*-1', 'X'), ('even', 'ADV'), ('studying', 'VERB'), ('whether', 'ADP'), ('public', 'ADJ'), ('funds', 'NOUN'), ('are', 'VERB'), ('being', 'VERB'), ('wasted', 'VERB'), ('*-57', 'X'), ('in', 'ADP'), ('some', 'DET'), ('favored', 'ADJ'), ('program', 'NOUN'), ('or', 'CONJ'), ('other', 'ADJ'), ('.', '.'), ('Or', 'CONJ'), (',', '.'), ('as', 'ADP'), ('Dorothy', 'NOUN'), ('Arighi', 'NOUN'), (',', '.'), ('an', 'DET'), ('interior', 'NOUN'), ('decorator', 'NOUN'), ('in', 'ADP'), ('Arnold', 'NOUN'), (',', '.'), ('Calif.', 'NOUN'), (',', '.'), ('puts', 'VERB'), ('it', 'PRON'), (':', '.'), ('``', '.'), ('All', 'DET'), ('kinds', 'NOUN'), ('of', 'ADP'), ('funny', 'ADJ'), ('things', 'NOUN'), ('spook', 'NOUN'), ('the', 'DET'), ('market', 'NOUN'), ('these', 'DET'), ('days', 'NOUN'), ('.', '.'), (\"''\", '.'), ('Copperweld', 'NOUN'), ('said', 'VERB'), ('0', 'X'), ('it', 'PRON'), ('does', 'VERB'), (\"n't\", 'ADV'), ('expect', 'VERB'), ('a', 'DET'), ('protracted', 'ADJ'), ('strike', 'NOUN'), ('.', '.'), ('In', 'ADP'), ('the', 'DET'), ('1970s', 'NUM'), (',', '.'), ('scientists', 'NOUN'), ('reported', 'VERB'), ('cancer', 'NOUN'), ('cases', 'NOUN'), ('among', 'ADP'), ('the', 'DET'), ('daughters', 'NOUN'), ('of', 'ADP'), ('DES', 'NOUN'), ('users', 'NOUN'), ('.', '.'), ('Douglas', 'NOUN'), ('Madison', 'NOUN'), (',', '.'), ('a', 'DET'), ('corporate', 'ADJ'), ('trader', 'NOUN'), ('with', 'ADP'), ('Bank', 'NOUN'), ('of', 'ADP'), ('America', 'NOUN'), ('in', 'ADP'), ('Los', 'NOUN'), ('Angeles', 'NOUN'), (',', '.'), ('traced', 'VERB'), ('the', 'DET'), ('dollar', 'NOUN'), (\"'s\", 'PRT'), ('recent', 'ADJ'), ('solid', 'ADJ'), ('performance', 'NOUN'), ('against', 'ADP'), ('the', 'DET'), ('yen', 'NOUN'), ('to', 'PRT'), ('purchases', 'NOUN'), ('of', 'ADP'), ('securities', 'NOUN'), ('by', 'ADP'), ('Japanese', 'ADJ'), ('insurance', 'NOUN'), ('companies', 'NOUN'), ('and', 'CONJ'), ('trust', 'NOUN'), ('banks', 'NOUN'), ('and', 'CONJ'), ('the', 'DET'), ('sense', 'NOUN'), ('that', 'ADP'), ('another', 'DET'), ('wave', 'NOUN'), ('of', 'ADP'), ('investment', 'NOUN'), ('is', 'VERB'), ('waiting', 'VERB'), ('in', 'ADP'), ('the', 'DET'), ('wings', 'NOUN'), ('.', '.'), ('Dealers', 'NOUN'), ('said', 'VERB'), ('0', 'X'), ('most', 'ADV'), ('investor', 'NOUN'), ('interest', 'NOUN'), ('was', 'VERB'), ('focused', 'VERB'), ('*-1', 'X'), ('on', 'ADP'), ('defensive', 'ADJ'), ('blue-chip', 'ADJ'), ('stocks', 'NOUN'), (',', '.'), ('particularly', 'ADV'), ('those', 'DET'), ('with', 'ADP'), ('limited', 'ADJ'), ('U.K.', 'NOUN'), ('exposure', 'NOUN'), ('.', '.'), ('The', 'DET'), ('rest', 'NOUN'), ('were', 'VERB'), ('history', 'NOUN'), (',', '.'), ('sociology', 'NOUN'), (',', '.'), ('finance', 'NOUN'), ('--', '.'), ('subjects', 'NOUN'), ('0', 'X'), ('they', 'PRON'), ('never', 'ADV'), ('had', 'VERB'), ('*T*-1', 'X'), ('.', '.'), (\"''\", '.'), ('On', 'ADP'), ('London', 'NOUN'), (\"'s\", 'PRT'), ('Stock', 'NOUN'), ('Exchange', 'NOUN'), (',', '.'), ('Reuters', 'NOUN'), ('shares', 'NOUN'), ('rose', 'VERB'), ('five', 'NUM'), ('pence', 'NOUN'), ('to', 'PRT'), ('913', 'NUM'), ('pence', 'NOUN'), ('-LRB-', '.'), ('$', '.'), ('14.43', 'NOUN'), ('*U*', 'X'), ('-RRB-', '.'), ('.', '.'), ('That', 'DET'), ('sounded', 'VERB'), ('a', 'DET'), ('lot', 'NOUN'), ('like', 'ADP'), ('censorship', 'NOUN'), (',', '.'), ('so', 'ADV'), ('after', 'ADP'), ('years', 'NOUN'), ('of', 'ADP'), ('letters', 'NOUN'), ('and', 'CONJ'), ('conversations', 'NOUN'), ('that', 'ADP'), ('*T*-22', 'X'), ('went', 'VERB'), ('nowhere', 'ADV'), (',', '.'), ('I', 'PRON'), ('sued', 'VERB'), ('.', '.'), ('Crane', 'NOUN'), ('&', 'CONJ'), ('Co.', 'NOUN'), ('Securities', 'NOUN'), ('Inc.', 'NOUN'), (',', '.'), ('of', 'ADP'), ('Mount', 'NOUN'), ('Clemens', 'NOUN'), (',', '.'), ('Mich.', 'NOUN'), (',', '.'), ('and', 'CONJ'), ('its', 'PRON'), ('president', 'NOUN'), (',', '.'), ('Glenn', 'NOUN'), ('R.', 'NOUN'), ('Crane', 'NOUN'), (',', '.'), ('of', 'ADP'), ('Sterling', 'NOUN'), ('Heights', 'NOUN'), (',', '.'), ('Mich.', 'NOUN'), (',', '.'), ('consented', 'VERB'), ('to', 'PRT'), ('a', 'DET'), ('joint', 'ADJ'), ('fine', 'NOUN'), ('of', 'ADP'), ('$', '.'), ('10,000', 'NUM'), ('*U*', 'X'), ('.', '.'), ('The', 'DET'), ('United', 'NOUN'), ('Kingdom', 'NOUN'), ('High', 'NOUN'), ('Court', 'NOUN'), ('declared', 'VERB'), ('illegal', 'ADJ'), ('a', 'DET'), ('variety', 'NOUN'), ('of', 'ADP'), ('interest-rate', 'NOUN'), ('swap', 'NOUN'), ('transactions', 'NOUN'), ('and', 'CONJ'), ('options', 'NOUN'), ('deals', 'NOUN'), ('between', 'ADP'), ('a', 'DET'), ('London', 'NOUN'), ('borough', 'NOUN'), ('council', 'NOUN'), ('and', 'CONJ'), ('commercial', 'ADJ'), ('banks', 'NOUN'), ('.', '.'), ('There', 'DET'), ('is', 'VERB'), ('also', 'ADV'), ('speculation', 'NOUN'), ('that', 'ADP'), ('Mr.', 'NOUN'), ('Newhouse', 'NOUN'), ('could', 'VERB'), ('bring', 'VERB'), ('in', 'ADP'), ('a', 'DET'), ('powerhouse', 'NOUN'), ('businessman', 'NOUN'), ('or', 'CONJ'), ('another', 'DET'), ('Newhouse', 'NOUN'), ('family', 'NOUN'), ('member', 'NOUN'), ('0', 'X'), ('*T*-1', 'X'), ('to', 'PRT'), ('run', 'VERB'), ('the', 'DET'), ('business', 'NOUN'), ('side', 'NOUN'), (',', '.'), ('in', 'ADP'), ('combination', 'NOUN'), ('with', 'ADP'), ('a', 'DET'), ('publishing', 'NOUN'), ('executive', 'NOUN'), ('like', 'ADP'), ('Robert', 'NOUN'), ('Gottlieb', 'NOUN'), (',', '.'), ('who', 'PRON'), ('*T*-38', 'X'), ('left', 'VERB'), ('Random', 'NOUN'), ('House', 'NOUN'), (\"'s\", 'PRT'), ('Alfred', 'NOUN'), ('A.', 'NOUN'), ('Knopf', 'NOUN'), ('*-2', 'X'), ('to', 'PRT'), ('run', 'VERB'), ('the', 'DET'), ('New', 'NOUN'), ('Yorker', 'NOUN'), (',', '.'), ('also', 'ADV'), ('owned', 'VERB'), ('*', 'X'), ('by', 'ADP'), ('the', 'DET'), ('Newhouse', 'NOUN'), ('family', 'NOUN'), ('.', '.'), ('Typically', 'ADV'), (',', '.'), ('money-fund', 'NOUN'), ('yields', 'NOUN'), ('beat', 'VERB'), ('comparable', 'ADJ'), ('short-term', 'ADJ'), ('investments', 'NOUN'), ('because', 'ADP'), ('portfolio', 'NOUN'), ('managers', 'NOUN'), ('can', 'VERB'), ('vary', 'VERB'), ('maturities', 'NOUN'), ('and', 'CONJ'), ('go', 'VERB'), ('after', 'ADP'), ('the', 'DET'), ('highest', 'ADJ'), ('rates', 'NOUN'), ('.', '.'), ('They', 'PRON'), ('want', 'VERB'), ('assets', 'NOUN'), (',', '.'), ('they', 'PRON'), ('want', 'VERB'), ('a', 'DET'), ('balance', 'NOUN'), ('sheet', 'NOUN'), (',', '.'), ('which', 'DET'), ('*T*-194', 'NOUN'), ('has', 'VERB'), ('no', 'DET'), ('relation', 'NOUN'), ('to', 'PRT'), ('the', 'DET'), ('business', 'NOUN'), ('0', 'X'), ('a', 'DET'), ('company', 'NOUN'), ('can', 'VERB'), ('generate', 'NOUN'), ('*T*-1', 'X'), ('.', '.'), (\"''\", '.'), ('Seoul', 'NOUN'), ('also', 'ADV'), ('has', 'VERB'), ('instituted', 'VERB'), ('effective', 'ADJ'), ('search-and-seizure', 'NOUN'), ('procedures', 'NOUN'), ('0', 'X'), ('*', 'X'), ('to', 'PRT'), ('aid', 'NOUN'), ('these', 'DET'), ('teams', 'NOUN'), ('*T*-2', 'X'), (',', '.'), ('she', 'PRON'), ('said', 'VERB'), ('0', 'X'), ('*T*-1', 'X'), ('.', '.'), ('The', 'DET'), ('plan', 'NOUN'), ('was', 'VERB'), ('filed', 'VERB'), ('*-1', 'X'), ('jointly', 'ADV'), ('with', 'ADP'), ('unsecured', 'ADJ'), ('creditors', 'NOUN'), ('in', 'ADP'), ('federal', 'ADJ'), ('bankruptcy', 'NOUN'), ('court', 'NOUN'), ('in', 'ADP'), ('New', 'NOUN'), ('York', 'NOUN'), ('and', 'CONJ'), ('must', 'VERB'), ('be', 'VERB'), ('approved', 'VERB'), ('*-1', 'X'), ('by', 'ADP'), ('the', 'DET'), ('court', 'NOUN'), ('.', '.'), ('Some', 'DET'), ('analysts', 'NOUN'), ('say', 'VERB'), ('0', 'X'), ('investors', 'NOUN'), ('should', 'VERB'), ('run', 'VERB'), ('for', 'ADP'), ('the', 'DET'), ('exits', 'NOUN'), ('if', 'ADP'), ('a', 'DET'), ('sustained', 'VERB'), ('market', 'NOUN'), ('rebound', 'VERB'), ('pushes', 'NOUN'), ('the', 'DET'), ('yield', 'NOUN'), ('below', 'ADP'), ('3', 'NUM'), ('%', 'NOUN'), ('.', '.'), ('An', 'DET'), ('official', 'NOUN'), ('for', 'ADP'), ('the', 'DET'), ('lead', 'NOUN'), ('underwriter', 'NOUN'), ('declined', 'VERB'), ('*-1', 'X'), ('to', 'PRT'), ('comment', 'VERB'), ('on', 'ADP'), ('the', 'DET'), ('reason', 'NOUN'), ('for', 'ADP'), ('the', 'DET'), ('delay', 'VERB'), (',', '.'), ('but', 'CONJ'), ('market', 'NOUN'), ('participants', 'NOUN'), ('speculated', 'VERB'), ('that', 'ADP'), ('a', 'DET'), ('number', 'NOUN'), ('of', 'ADP'), ('factors', 'NOUN'), (',', '.'), ('including', 'VERB'), ('a', 'DET'), ('lack', 'NOUN'), ('of', 'ADP'), ('investor', 'NOUN'), ('interest', 'NOUN'), (',', '.'), ('were', 'VERB'), ('responsible', 'ADJ'), ('.', '.'), ('Always', 'NOUN'), ('.', '.'), ('The', 'DET'), ('department', 'NOUN'), ('proposed', 'VERB'), ('*', 'X'), ('requiring', 'VERB'), ('stronger', 'ADJ'), ('roofs', 'NOUN'), ('for', 'ADP'), ('light', 'ADJ'), ('trucks', 'NOUN'), ('and', 'CONJ'), ('minivans', 'NOUN'), (',', '.'), ('*', 'X'), ('beginning', 'VERB'), ('with', 'ADP'), ('1992', 'NUM'), ('models', 'NOUN'), ('.', '.'), ('For', 'ADP'), ('the', 'DET'), ('year', 'NOUN'), ('ended', 'VERB'), ('Sept.', 'NOUN'), ('30', 'NUM'), (',', '.'), ('Ralston', 'NOUN'), ('earned', 'VERB'), ('$', '.'), ('422.5', 'NOUN'), ('million', 'NUM'), ('*U*', 'X'), (',', '.'), ('or', 'CONJ'), ('$', '.'), ('6.44', 'NOUN'), ('*U*', 'X'), ('a', 'DET'), ('share', 'NOUN'), (',', '.'), ('up', 'ADV'), ('8.9', 'NOUN'), ('%', 'NOUN'), ('from', 'ADP'), ('$', '.'), ('387.8', 'NOUN'), ('million', 'NUM'), ('*U*', 'X'), (',', '.'), ('or', 'CONJ'), ('$', '.'), ('5.63', 'NOUN'), ('*U*', 'X'), ('a', 'DET'), ('share', 'NOUN'), ('.', '.'), ('``', '.'), ('What', 'PRON'), ('*T*-14', 'X'), ('matters', 'NOUN'), ('is', 'VERB'), ('what', 'PRON'), ('advertisers', 'NOUN'), ('are', 'VERB'), ('paying', 'VERB'), ('*T*-15', 'X'), ('per', 'ADP'), ('page', 'NOUN'), (',', '.'), ('and', 'CONJ'), ('in', 'ADP'), ('that', 'DET'), ('department', 'NOUN'), ('we', 'PRON'), ('are', 'VERB'), ('doing', 'VERB'), ('fine', 'NOUN'), ('this', 'DET'), ('fall', 'NOUN'), (',', '.'), (\"''\", '.'), ('said', 'VERB'), ('*T*-1', 'X'), ('Mr.', 'NOUN'), ('Spoon', 'NOUN'), ('.', '.'), ('Your', 'PRON'), ('$', '.'), ('15,000', 'NUM'), ('*U*', 'X'), ('will', 'VERB'), ('help', 'VERB'), ('*-1', 'X'), ('keep', 'VERB'), ('a', 'DET'), ('needy', 'NOUN'), ('savings', 'NOUN'), ('and', 'CONJ'), ('loan', 'NOUN'), ('solvent', 'NOUN'), ('--', '.'), ('and', 'CONJ'), ('out', 'ADP'), ('of', 'ADP'), ('the', 'DET'), ('federal', 'ADJ'), ('budget', 'NOUN'), ('deficit', 'NOUN'), ('.', '.'), ('About', 'ADP'), ('$', '.'), ('490', 'NUM'), ('million', 'NUM'), ('*U*', 'X'), ('of', 'ADP'), ('that', 'DET'), ('would', 'VERB'), ('be', 'VERB'), ('allocated', 'VERB'), ('*-87', 'X'), ('to', 'PRT'), ('the', 'DET'), ('buy-back', 'ADJ'), (',', '.'), ('*', 'X'), ('leaving', 'VERB'), ('about', 'ADP'), ('$', '.'), ('130', 'NUM'), ('million', 'NUM'), ('*U*', 'X'), (',', '.'), ('he', 'PRON'), ('said', 'VERB'), ('0', 'X'), ('*T*-1', 'X'), ('.', '.'), ('To', 'PRT'), ('the', 'DET'), ('surprise', 'NOUN'), ('of', 'ADP'), ('some', 'DET'), ('analysts', 'NOUN'), (',', '.'), ('net', 'ADJ'), ('cash', 'NOUN'), ('income', 'NOUN'), ('rose', 'VERB'), ('in', 'ADP'), ('some', 'DET'), ('of', 'ADP'), ('the', 'DET'), ('hardest-hit', 'NOUN'), ('states', 'NOUN'), (',', '.'), ('including', 'VERB'), ('Indiana', 'NOUN'), (',', '.'), ('Illinois', 'NOUN'), (',', '.'), ('Nebraska', 'NOUN'), ('and', 'CONJ'), ('the', 'DET'), ('Dakotas', 'NOUN'), ('.', '.'), ('In', 'ADP'), ('the', 'DET'), ('last', 'ADJ'), ('year', 'NOUN'), ('or', 'CONJ'), ('so', 'ADV'), (',', '.'), ('however', 'ADV'), (',', '.'), ('this', 'DET'), ('exclusive', 'ADJ'), ('club', 'NOUN'), ('has', 'VERB'), ('taken', 'VERB'), ('in', 'ADP'), ('a', 'DET'), ('host', 'NOUN'), ('of', 'ADP'), ('flashy', 'NOUN'), ('new', 'ADJ'), ('members', 'NOUN'), ('.', '.'), ('By', 'ADP'), ('1997', 'NUM'), (',', '.'), ('almost', 'ADV'), ('all', 'DET'), ('remaining', 'VERB'), ('uses', 'VERB'), ('of', 'ADP'), ('cancer-causing', 'ADJ'), ('asbestos', 'NOUN'), ('will', 'VERB'), ('be', 'VERB'), ('outlawed', 'VERB'), ('*-6', 'X'), ('.', '.'), ('IBM', 'NOUN'), (',', '.'), ('the', 'DET'), ('giant', 'ADJ'), ('computer', 'NOUN'), ('maker', 'NOUN'), (',', '.'), ('offered', 'VERB'), ('$', '.'), ('750', 'NUM'), ('million', 'NUM'), ('*U*', 'X'), ('of', 'ADP'), ('non-callable', 'ADJ'), ('30-year', 'ADJ'), ('debentures', 'NOUN'), ('priced', 'VERB'), ('*', 'X'), ('*-1', 'X'), ('to', 'PRT'), ('yield', 'VERB'), ('8.47', 'NUM'), ('%', 'NOUN'), (',', '.'), ('or', 'CONJ'), ('about', 'ADP'), ('1\\\\/2', 'NUM'), ('percentage', 'NOUN'), ('point', 'NOUN'), ('higher', 'ADJ'), ('than', 'ADP'), ('the', 'DET'), ('yield', 'NOUN'), ('on', 'ADP'), ('30-year', 'ADJ'), ('Treasury', 'NOUN'), ('bonds', 'NOUN'), ('.', '.'), ('Big', 'NOUN'), ('Board', 'NOUN'), ('volume', 'NOUN'), ('totaled', 'VERB'), ('154.2', 'NOUN'), ('million', 'NUM'), ('shares', 'NOUN'), ('.', '.'), ('Bears', 'NOUN'), ('have', 'VERB'), ('targeted', 'VERB'), ('Columbia', 'NOUN'), (\"'s\", 'PRT'), ('stock', 'NOUN'), ('because', 'ADP'), ('of', 'ADP'), ('the', 'DET'), ('thrift', 'NOUN'), (\"'s\", 'PRT'), ('exposure', 'NOUN'), ('to', 'PRT'), ('the', 'DET'), ('shaky', 'NOUN'), ('junk', 'NOUN'), ('market', 'NOUN'), ('.', '.'), ('Freeport-McMoRan', 'NOUN'), ('Inc.', 'NOUN'), ('said', 'VERB'), ('0', 'X'), ('it', 'PRON'), ('will', 'VERB'), ('convert', 'NOUN'), ('its', 'PRON'), ('Freeport-McMoRan', 'NOUN'), ('Energy', 'NOUN'), ('Partners', 'NOUN'), ('Ltd.', 'NOUN'), ('partnership', 'NOUN'), ('into', 'ADP'), ('a', 'DET'), ('publicly', 'ADV'), ('traded', 'VERB'), ('company', 'NOUN'), ('through', 'ADP'), ('the', 'DET'), ('exchange', 'NOUN'), ('of', 'ADP'), ('units', 'NOUN'), ('of', 'ADP'), ('the', 'DET'), ('partnership', 'NOUN'), ('for', 'ADP'), ('common', 'ADJ'), ('shares', 'NOUN'), ('.', '.'), ('Similar', 'NOUN'), ('levels', 'NOUN'), ('hamstrung', 'NOUN'), ('barge', 'NOUN'), ('shipments', 'NOUN'), ('last', 'ADJ'), ('year', 'NOUN'), ('in', 'ADP'), ('the', 'DET'), ('wake', 'NOUN'), ('of', 'ADP'), ('the', 'DET'), ('worst', 'ADJ'), ('drought', 'NOUN'), ('in', 'ADP'), ('50', 'NUM'), ('years', 'NOUN'), ('.', '.'), ('All', 'DET'), ('came', 'VERB'), ('from', 'ADP'), ('Cray', 'NOUN'), ('Research', 'NOUN'), ('.', '.'), ('``', '.'), ('I', 'PRON'), (\"'m\", 'VERB'), ('very', 'ADV'), ('alarmed', 'VERB'), ('*-2', 'X'), ('to', 'PRT'), ('see', 'VERB'), ('these', 'DET'), ('rich', 'ADJ'), ('valuations', 'NOUN'), (',', '.'), (\"''\", '.'), ('says', 'VERB'), ('*T*-1', 'X'), ('Smith', 'NOUN'), ('Barney', 'NOUN'), (\"'s\", 'PRT'), ('Mr.', 'NOUN'), ('Porter', 'NOUN'), ('.', '.'), ('More', 'ADV'), ('than', 'ADP'), ('a', 'DET'), ('few', 'ADJ'), ('CEOs', 'NOUN'), ('say', 'VERB'), ('0', 'X'), ('the', 'DET'), ('red-carpet', 'NOUN'), ('treatment', 'NOUN'), ('tempts', 'NOUN'), ('them', 'PRON'), ('to', 'PRT'), ('return', 'NOUN'), ('to', 'PRT'), ('a', 'DET'), ('heartland', 'NOUN'), ('city', 'NOUN'), ('for', 'ADP'), ('future', 'ADJ'), ('meetings', 'NOUN'), ('.', '.'), ('Until', 'ADP'), ('such', 'ADJ'), ('action', 'NOUN'), ('takes', 'VERB'), ('places', 'VERB'), (',', '.'), ('the', 'DET'), ('Treasury', 'NOUN'), ('has', 'VERB'), ('no', 'DET'), ('ability', 'NOUN'), ('*', 'X'), ('to', 'PRT'), ('issue', 'NOUN'), ('new', 'ADJ'), ('debt', 'NOUN'), ('of', 'ADP'), ('any', 'DET'), ('kind', 'NOUN'), ('.', '.'), ('Under', 'ADP'), ('a', 'DET'), ('1934', 'NUM'), ('law', 'NOUN'), (',', '.'), ('the', 'DET'), ('Johnson', 'NOUN'), ('Debt', 'NOUN'), ('Default', 'NOUN'), ('Act', 'NOUN'), (',', '.'), ('as', 'ADP'), ('*', 'X'), ('amended', 'VERB'), ('*-1', 'X'), (',', '.'), ('it', 'PRON'), ('*EXP*-2', 'X'), (\"'s\", 'PRT'), ('illegal', 'ADJ'), ('for', 'ADP'), ('Americans', 'NOUN'), ('to', 'PRT'), ('extend', 'VERB'), ('credit', 'NOUN'), ('to', 'PRT'), ('countries', 'NOUN'), ('in', 'ADP'), ('default', 'NOUN'), ('to', 'PRT'), ('the', 'DET'), ('U.S.', 'NOUN'), ('government', 'NOUN'), (',', '.'), ('unless', 'ADP'), ('they', 'PRON'), ('are', 'VERB'), ('members', 'NOUN'), ('of', 'ADP'), ('the', 'DET'), ('World', 'NOUN'), ('Bank', 'NOUN'), ('and', 'CONJ'), ('International', 'NOUN'), ('Monetary', 'NOUN'), ('Fund', 'NOUN'), ('.', '.'), ('Standard', 'NOUN'), ('&', 'CONJ'), ('Poor', 'NOUN'), (\"'s\", 'PRT'), ('Corp.', 'NOUN'), ('lowered', 'VERB'), ('to', 'PRT'), ('double-C', 'NOUN'), ('from', 'ADP'), ('triple-C', 'NOUN'), ('the', 'DET'), ('rating', 'NOUN'), ('on', 'ADP'), ('about', 'ADP'), ('$', '.'), ('130', 'NUM'), ('million', 'NUM'), ('*U*', 'X'), ('of', 'ADP'), ('debt', 'NOUN'), ('.', '.'), ('Of', 'ADP'), ('course', 'NOUN'), (',', '.'), ('regulators', 'NOUN'), ('would', 'VERB'), ('have', 'VERB'), ('*-1', 'X'), ('to', 'PRT'), ('approve', 'VERB'), ('Columbia', 'NOUN'), (\"'s\", 'PRT'), ('reorganization', 'NOUN'), ('.', '.'), ('In', 'ADP'), ('another', 'DET'), ('reflection', 'NOUN'), ('that', 'ADP'), ('the', 'DET'), ('growth', 'NOUN'), ('of', 'ADP'), ('the', 'DET'), ('economy', 'NOUN'), ('is', 'VERB'), ('leveling', 'VERB'), ('off', 'PRT'), (',', '.'), ('the', 'DET'), ('government', 'NOUN'), ('said', 'VERB'), ('that', 'ADP'), ('orders', 'NOUN'), ('for', 'ADP'), ('manufactured', 'VERB'), ('goods', 'NOUN'), ('and', 'CONJ'), ('spending', 'NOUN'), ('on', 'ADP'), ('construction', 'NOUN'), ('failed', 'VERB'), ('*-1', 'X'), ('to', 'PRT'), ('rise', 'VERB'), ('in', 'ADP'), ('September', 'NOUN'), ('.', '.'), ('Activity', 'NOUN'), ('was', 'VERB'), ('light', 'ADJ'), ('in', 'ADP'), ('derivative', 'NOUN'), ('markets', 'NOUN'), (',', '.'), ('with', 'ADP'), ('no', 'DET'), ('new', 'ADJ'), ('issues', 'NOUN'), ('priced', 'VERB'), ('*-1', 'X'), ('.', '.'), ('``', '.'), ('*', 'X'), ('Having', 'VERB'), ('the', 'DET'), ('dividend', 'NOUN'), ('increases', 'NOUN'), ('is', 'VERB'), ('a', 'DET'), ('supportive', 'NOUN'), ('element', 'NOUN'), ('in', 'ADP'), ('the', 'DET'), ('market', 'NOUN'), ('outlook', 'NOUN'), (',', '.'), ('but', 'CONJ'), ('I', 'PRON'), ('do', 'VERB'), (\"n't\", 'ADV'), ('think', 'VERB'), ('0', 'X'), ('it', 'PRON'), (\"'s\", 'VERB'), ('a', 'DET'), ('main', 'ADJ'), ('consideration', 'NOUN'), (',', '.'), (\"''\", '.'), ('he', 'PRON'), ('says', 'VERB'), ('*T*-1', 'X'), ('.', '.'), ('But', 'CONJ'), ('since', 'ADP'), ('the', 'DET'), ('1990', 'NUM'), ('model', 'NOUN'), ('year', 'NOUN'), ('began', 'VERB'), ('Oct.', 'NOUN'), ('1', 'NUM'), (',', '.'), ('Buick', 'NOUN'), ('sales', 'NOUN'), ('have', 'VERB'), ('plunged', 'VERB'), ('33', 'NUM'), ('%', 'NOUN'), ('.', '.'), ('Futures', 'NOUN'), ('traders', 'NOUN'), ('respond', 'VERB'), ('that', 'ADP'), ('low', 'ADJ'), ('margins', 'NOUN'), ('help', 'VERB'), ('*-1', 'X'), ('keep', 'VERB'), ('their', 'PRON'), ('markets', 'NOUN'), ('active', 'ADJ'), ('.', '.'), ('Sales', 'NOUN'), ('rose', 'VERB'), ('to', 'PRT'), ('$', '.'), ('9.8', 'NUM'), ('million', 'NUM'), ('*U*', 'X'), ('from', 'ADP'), ('$', '.'), ('8.9', 'NOUN'), ('million', 'NUM'), ('*U*', 'X'), ('.', '.'), ('He', 'PRON'), ('and', 'CONJ'), ('his', 'PRON'), ('successor', 'NOUN'), (',', '.'), ('Mary', 'NOUN'), ('Anne', 'NOUN'), ('Dolan', 'NOUN'), (',', '.'), ('restored', 'VERB'), ('respect', 'NOUN'), ('for', 'ADP'), ('the', 'DET'), ('editorial', 'NOUN'), ('product', 'NOUN'), (',', '.'), ('and', 'CONJ'), ('though', 'ADP'), ('in', 'ADP'), ('recent', 'ADJ'), ('years', 'NOUN'), ('the', 'DET'), ('paper', 'NOUN'), ('had', 'VERB'), ('been', 'VERB'), ('limping', 'VERB'), ('along', 'ADP'), ('on', 'ADP'), ('limited', 'ADJ'), ('resources', 'NOUN'), (',', '.'), ('its', 'PRON'), ('accomplishments', 'NOUN'), ('were', 'VERB'), ('notable', 'NOUN'), ('.', '.'), ('The', 'DET'), ('Treasury', 'NOUN'), ('plans', 'VERB'), ('*-1', 'X'), ('to', 'PRT'), ('sell', 'VERB'), ('$', '.'), ('30', 'NUM'), ('billion', 'NUM'), ('*U*', 'X'), ('in', 'ADP'), ('notes', 'NOUN'), ('and', 'CONJ'), ('bonds', 'NOUN'), ('next', 'ADP'), ('week', 'NOUN'), ('but', 'CONJ'), ('will', 'VERB'), ('delay', 'VERB'), ('the', 'DET'), ('auction', 'NOUN'), ('unless', 'ADP'), ('Congress', 'NOUN'), ('quickly', 'ADV'), ('raises', 'VERB'), ('the', 'DET'), ('debt', 'NOUN'), ('ceiling', 'NOUN'), ('.', '.'), ('The', 'DET'), ('biggest', 'ADJ'), ('firms', 'NOUN'), ('still', 'ADV'), ('retain', 'VERB'), ('the', 'DET'), ('highest', 'ADJ'), ('ratings', 'NOUN'), ('on', 'ADP'), ('their', 'PRON'), ('commercial', 'ADJ'), ('paper', 'NOUN'), ('.', '.'), ('More', 'ADV'), ('than', 'ADP'), ('three', 'NUM'), ('in', 'ADP'), ('five', 'NUM'), ('said', 'VERB'), ('0', 'X'), ('they', 'PRON'), ('are', 'VERB'), ('under', 'ADP'), ('a', 'DET'), ('great', 'ADJ'), ('deal', 'NOUN'), ('of', 'ADP'), ('stress', 'NOUN'), ('most', 'ADV'), ('of', 'ADP'), ('the', 'DET'), ('time', 'NOUN'), (',', '.'), ('compared', 'VERB'), ('with', 'ADP'), ('less', 'ADJ'), ('than', 'ADP'), ('one', 'NUM'), ('in', 'ADP'), ('two', 'NUM'), ('U.S.', 'NOUN'), ('consumers', 'NOUN'), ('and', 'CONJ'), ('one', 'NUM'), ('in', 'ADP'), ('four', 'NUM'), ('in', 'ADP'), ('Japan', 'NOUN'), ('.', '.'), ('--', '.'), ('Dorothy', 'NOUN'), ('L.', 'NOUN'), ('Sayers', 'NOUN'), (',', '.'), ('``', '.'), ('The', 'DET'), ('Nine', 'NOUN'), ('Tailors', 'NOUN'), (\"''\", '.'), ('Some', 'DET'), ('U.S.', 'NOUN'), ('firms', 'NOUN'), (',', '.'), ('notably', 'ADV'), ('Salomon', 'NOUN'), ('Inc.', 'NOUN'), ('and', 'CONJ'), ('Morgan', 'NOUN'), ('Stanley', 'NOUN'), ('Group', 'NOUN'), ('Inc.', 'NOUN'), (',', '.'), ('have', 'VERB'), ('reaped', 'VERB'), ('a', 'DET'), ('hefty', 'ADJ'), ('chunk', 'NOUN'), ('of', 'ADP'), ('their', 'PRON'), ('Japanese', 'ADJ'), ('earnings', 'NOUN'), ('from', 'ADP'), ('index', 'NOUN'), ('arbitrage', 'NOUN'), (',', '.'), ('both', 'DET'), ('for', 'ADP'), ('customers', 'NOUN'), ('and', 'CONJ'), ('for', 'ADP'), ('their', 'PRON'), ('own', 'ADJ'), ('accounts', 'NOUN'), ('.', '.'), ('Typical', 'NOUN'), ('rates', 'NOUN'), ('in', 'ADP'), ('the', 'DET'), ('secondary', 'ADJ'), ('market', 'NOUN'), (':', '.'), ('8.60', 'NOUN'), ('%', 'NOUN'), ('one', 'NUM'), ('month', 'NOUN'), (';', '.'), ('8.55', 'NUM'), ('%', 'NOUN'), ('three', 'NUM'), ('months', 'NOUN'), (';', '.'), ('8.35', 'NOUN'), ('%', 'NOUN'), ('six', 'NUM'), ('months', 'NOUN'), ('.', '.'), ('``', '.'), ('The', 'DET'), ('disturbing', 'ADJ'), ('thing', 'NOUN'), ('about', 'ADP'), ('this', 'DET'), ('abortion', 'NOUN'), ('issue', 'NOUN'), ('is', 'VERB'), ('that', 'ADP'), ('the', 'DET'), ('debate', 'NOUN'), ('has', 'VERB'), ('become', 'VERB'), ('polarized', 'VERB'), ('*-1', 'X'), (',', '.'), ('so', 'ADV'), ('that', 'ADP'), ('no', 'DET'), ('mechanism', 'NOUN'), ('*ICH*-2', 'X'), ('exists', 'NOUN'), (\"''\", '.'), ('for', 'ADP'), ('*', 'X'), ('finding', 'VERB'), ('a', 'DET'), ('middle', 'NOUN'), ('ground', 'NOUN'), ('.', '.'), ('As', 'ADP'), ('an', 'DET'), ('actor', 'NOUN'), (',', '.'), ('Charles', 'NOUN'), ('Lane', 'NOUN'), ('is', 'VERB'), (\"n't\", 'ADV'), ('the', 'DET'), ('inheritor', 'NOUN'), ('of', 'ADP'), ('Charlie', 'NOUN'), ('Chaplin', 'NOUN'), (\"'s\", 'PRT'), ('spirit', 'NOUN'), ('.', '.'), ('Rudolph', 'NOUN'), ('Agnew', 'NOUN'), (',', '.'), ('55', 'NUM'), ('years', 'NOUN'), ('old', 'ADJ'), ('and', 'CONJ'), ('former', 'ADJ'), ('chairman', 'NOUN'), ('of', 'ADP'), ('Consolidated', 'NOUN'), ('Gold', 'NOUN'), ('Fields', 'NOUN'), ('PLC', 'NOUN'), (',', '.'), ('was', 'VERB'), ('named', 'VERB'), ('*-1', 'X'), ('a', 'DET'), ('nonexecutive', 'ADJ'), ('director', 'NOUN'), ('of', 'ADP'), ('this', 'DET'), ('British', 'ADJ'), ('industrial', 'ADJ'), ('conglomerate', 'NOUN'), ('.', '.'), ('The', 'DET'), ('new', 'ADJ'), (',', '.'), ('seven-year', 'NOUN'), ('funds', 'NOUN'), ('--', '.'), ('one', 'NUM'), ('offering', 'NOUN'), ('a', 'DET'), ('fixed-rate', 'ADJ'), ('return', 'NOUN'), ('and', 'CONJ'), ('the', 'DET'), ('other', 'ADJ'), ('with', 'ADP'), ('a', 'DET'), ('floating-rate', 'ADJ'), ('return', 'NOUN'), ('linked', 'VERB'), ('*', 'X'), ('to', 'PRT'), ('the', 'DET'), ('London', 'NOUN'), ('interbank', 'NOUN'), ('offered', 'VERB'), ('rate', 'NOUN'), ('--', '.'), ('offer', 'NOUN'), ('two', 'NUM'), ('key', 'ADJ'), ('advantages', 'NOUN'), ('to', 'PRT'), ('Japanese', 'ADJ'), ('investors', 'NOUN'), ('.', '.'), ('A', 'DET'), ('White', 'NOUN'), ('House', 'NOUN'), ('spokesman', 'NOUN'), ('said', 'VERB'), ('last', 'ADJ'), ('week', 'NOUN'), ('that', 'ADP'), ('the', 'DET'), ('president', 'NOUN'), ('is', 'VERB'), ('considering', 'VERB'), ('*-1', 'X'), ('declaring', 'VERB'), ('that', 'ADP'), ('the', 'DET'), ('Constitution', 'NOUN'), ('implicitly', 'NOUN'), ('gives', 'VERB'), ('him', 'PRON'), ('the', 'DET'), ('authority', 'NOUN'), ('for', 'ADP'), ('a', 'DET'), ('line-item', 'ADJ'), ('veto', 'NOUN'), ('*-2', 'X'), ('to', 'PRT'), ('provoke', 'NOUN'), ('a', 'DET'), ('test', 'NOUN'), ('case', 'NOUN'), ('.', '.'), ('But', 'CONJ'), ('she', 'PRON'), ('did', 'VERB'), (\"n't\", 'ADV'), ('deserve', 'VERB'), ('*-1', 'X'), ('to', 'PRT'), ('have', 'VERB'), ('her', 'PRON'), ('head', 'NOUN'), ('chopped', 'VERB'), ('*-2', 'X'), ('off', 'PRT'), ('.', '.'), ('The', 'DET'), ('report', 'NOUN'), ('from', 'ADP'), ('the', 'DET'), ('Fed', 'NOUN'), ('found', 'VERB'), ('that', 'ADP'), ('manufacturing', 'NOUN'), (',', '.'), ('in', 'ADP'), ('particular', 'ADJ'), (',', '.'), ('has', 'VERB'), ('been', 'VERB'), ('weak', 'ADJ'), ('in', 'ADP'), ('recent', 'ADJ'), ('weeks', 'NOUN'), ('.', '.'), ('Characters', 'NOUN'), ('drink', 'VERB'), ('Salty', 'NOUN'), ('Dogs', 'NOUN'), (',', '.'), ('whistle', 'NOUN'), ('``', '.'), ('Johnny', 'NOUN'), ('B.', 'NOUN'), ('Goode', 'NOUN'), (\"''\", '.'), ('and', 'CONJ'), ('watch', 'VERB'), ('Bugs', 'NOUN'), ('Bunny', 'NOUN'), ('reruns', 'NOUN'), ('.', '.'), ('Many', 'ADJ'), ('Asians', 'NOUN'), ('regard', 'VERB'), ('a', 'DET'), ('U.S.', 'NOUN'), ('presence', 'NOUN'), ('as', 'ADP'), ('a', 'DET'), ('desirable', 'ADJ'), ('counterweight', 'NOUN'), ('to', 'PRT'), ('Japanese', 'ADJ'), ('influence', 'NOUN'), ('.', '.'), ('1', 'NUM'), ('.', '.'), ('*', 'X'), ('Buy', 'VERB'), ('a', 'DET'), ('new', 'ADJ'), ('Chevrolet', 'NOUN'), ('.', '.'), ('Elisabeth', 'NOUN'), ('Rubinfien', 'NOUN'), ('contributed', 'VERB'), ('to', 'PRT'), ('this', 'DET'), ('article', 'NOUN'), ('.', '.'), ('``', '.'), ('You', 'PRON'), ('either', 'ADV'), ('believe', 'VERB'), ('0', 'X'), ('Seymour', 'NOUN'), ('can', 'VERB'), ('do', 'VERB'), ('it', 'PRON'), ('again', 'ADV'), ('or', 'CONJ'), ('you', 'PRON'), ('do', 'VERB'), (\"n't\", 'ADV'), ('*?*', 'X'), ('.', '.'), (\"''\", '.'), ('There', 'DET'), ('have', 'VERB'), ('been', 'VERB'), ('only', 'ADV'), ('seven', 'NUM'), ('other', 'ADJ'), ('times', 'NOUN'), ('--', '.'), ('in', 'ADP'), ('1929', 'NUM'), (',', '.'), ('1933', 'NUM'), (',', '.'), ('1961', 'NUM'), (',', '.'), ('1965', 'NUM'), (',', '.'), ('1968', 'NUM'), (',', '.'), ('1971', 'NUM'), ('and', 'CONJ'), ('1972', 'NUM'), ('--', '.'), ('when', 'ADV'), ('the', 'DET'), ('yield', 'NOUN'), ('on', 'ADP'), ('the', 'DET'), ('S&P', 'NOUN'), ('500', 'NUM'), ('dropped', 'VERB'), ('below', 'ADP'), ('3', 'NUM'), ('%', 'NOUN'), ('for', 'ADP'), ('at', 'ADP'), ('least', 'ADJ'), ('two', 'NUM'), ('consecutive', 'ADJ'), ('months', 'NOUN'), ('*T*-1', 'X'), (',', '.'), ('Mr.', 'NOUN'), ('Perritt', 'NOUN'), ('found', 'VERB'), ('0', 'X'), ('*T*-2', 'X'), ('.', '.'), ('Earnings', 'NOUN'), ('were', 'VERB'), ('hurt', 'VERB'), ('*-1', 'X'), ('by', 'ADP'), ('disposal', 'NOUN'), ('of', 'ADP'), ('operations', 'NOUN'), ('in', 'ADP'), ('its', 'PRON'), ('restructuring', 'NOUN'), (',', '.'), ('Reed', 'NOUN'), ('said', 'VERB'), ('0', 'X'), ('*T*-2', 'X'), ('.', '.'), ('Back', 'NOUN'), ('downtown', 'NOUN'), (',', '.'), ('the', 'DET'), ('execs', 'NOUN'), ('squeezed', 'VERB'), ('in', 'ADP'), ('a', 'DET'), ('few', 'ADJ'), ('meetings', 'NOUN'), ('at', 'ADP'), ('the', 'DET'), ('hotel', 'NOUN'), ('before', 'ADP'), ('*-1', 'X'), ('boarding', 'VERB'), ('the', 'DET'), ('buses', 'NOUN'), ('again', 'ADV'), ('.', '.'), ('Proponents', 'NOUN'), ('of', 'ADP'), ('the', 'DET'), ('funding', 'NOUN'), ('arrangement', 'NOUN'), ('predict', 'VERB'), ('that', 'ADP'), (',', '.'), ('based', 'VERB'), ('on', 'ADP'), ('recent', 'ADJ'), ('filing', 'NOUN'), ('levels', 'NOUN'), ('of', 'ADP'), ('more', 'ADJ'), ('than', 'ADP'), ('2,000', 'NUM'), ('a', 'DET'), ('year', 'NOUN'), (',', '.'), ('the', 'DET'), ('fees', 'NOUN'), ('will', 'VERB'), ('yield', 'VERB'), ('at', 'ADP'), ('least', 'ADJ'), ('$', '.'), ('40', 'NUM'), ('million', 'NUM'), ('*U*', 'X'), ('*ICH*-1', 'X'), ('this', 'DET'), ('fiscal', 'ADJ'), ('year', 'NOUN'), (',', '.'), ('or', 'CONJ'), ('$', '.'), ('10', 'NUM'), ('million', 'NUM'), ('*U*', 'X'), ('more', 'ADV'), ('than', 'ADP'), ('the', 'DET'), ('budget', 'NOUN'), ('cuts', 'NOUN'), ('.', '.'), ('President', 'NOUN'), ('Bush', 'NOUN'), ('should', 'VERB'), ('set', 'VERB'), ('things', 'NOUN'), ('straight', 'ADV'), ('.', '.'), ('Rick', 'NOUN'), ('Brownell', 'NOUN'), (',', '.'), ('senior', 'ADJ'), ('editor', 'NOUN'), ('of', 'ADP'), ('Scoring', 'NOUN'), ('High', 'NOUN'), (',', '.'), ('says', 'VERB'), ('that', 'ADP'), ('Messrs.', 'NOUN'), ('Kaminski', 'NOUN'), ('and', 'CONJ'), ('Mehrens', 'NOUN'), ('are', 'VERB'), ('ignoring', 'VERB'), ('``', '.'), ('the', 'DET'), ('need', 'NOUN'), ('0', 'X'), ('students', 'NOUN'), ('have', 'VERB'), ('*T*-1', 'X'), ('for', 'ADP'), ('*', 'X'), ('becoming', 'VERB'), ('familiar', 'ADJ'), ('with', 'ADP'), ('tests', 'NOUN'), ('and', 'CONJ'), ('testing', 'NOUN'), ('format', 'NOUN'), ('.', '.'), (\"''\", '.'), ('Rockwell', 'NOUN'), ('International', 'NOUN'), ('Corp.', 'NOUN'), ('won', 'VERB'), ('a', 'DET'), ('$', '.'), ('130.7', 'NOUN'), ('million', 'NUM'), ('*U*', 'X'), ('Air', 'NOUN'), ('Force', 'NOUN'), ('contract', 'NOUN'), ('for', 'ADP'), ('AC-130U', 'NOUN'), ('gunship', 'NOUN'), ('replacement', 'NOUN'), ('aircraft', 'NOUN'), ('.', '.'), ('On', 'ADP'), ('one', 'NUM'), ('side', 'NOUN'), ('of', 'ADP'), ('this', 'DET'), ('power', 'NOUN'), ('struggle', 'NOUN'), ('stand', 'VERB'), ('*T*-1', 'X'), ('the', 'DET'), ('forces', 'NOUN'), ('in', 'ADP'), ('ascendency', 'NOUN'), ('on', 'ADP'), ('Wall', 'NOUN'), ('Street', 'NOUN'), ('--', '.'), ('the', 'DET'), ('New', 'NOUN'), ('Guard', 'NOUN'), ('--', '.'), ('consisting', 'VERB'), ('of', 'ADP'), ('high-tech', 'ADJ'), ('computer', 'NOUN'), ('wizards', 'NOUN'), ('at', 'ADP'), ('the', 'DET'), ('major', 'ADJ'), ('brokerage', 'NOUN'), ('firms', 'NOUN'), (',', '.'), ('their', 'PRON'), ('pension', 'NOUN'), ('fund', 'NOUN'), ('clients', 'NOUN'), ('with', 'ADP'), ('immense', 'NOUN'), ('pools', 'NOUN'), ('of', 'ADP'), ('money', 'NOUN'), (',', '.'), ('and', 'CONJ'), ('the', 'DET'), ('traders', 'NOUN'), ('at', 'ADP'), ('the', 'DET'), ('fast-growing', 'ADJ'), ('Chicago', 'NOUN'), ('futures', 'NOUN'), ('exchanges', 'NOUN'), ('.', '.'), ('Viacom', 'NOUN'), (\"'s\", 'PRT'), ('move', 'VERB'), ('comes', 'VERB'), ('as', 'ADP'), ('the', 'DET'), ('syndication', 'NOUN'), ('market', 'NOUN'), ('is', 'VERB'), ('being', 'VERB'), ('flooded', 'VERB'), ('*-76', 'X'), ('with', 'ADP'), ('situation', 'NOUN'), ('comedies', 'NOUN'), ('that', 'ADP'), ('*T*-152', 'NOUN'), ('are', 'VERB'), ('still', 'ADV'), ('running', 'VERB'), ('on', 'ADP'), ('the', 'DET'), ('networks', 'NOUN'), ('.', '.'), ('What', 'PRON'), ('*T*-234', 'NOUN'), ('will', 'VERB'), ('happen', 'VERB'), ('to', 'PRT'), ('dividend', 'NOUN'), ('growth', 'NOUN'), ('next', 'ADP'), ('year', 'NOUN'), ('?', '.'), ('``', '.'), ('Insurance', 'NOUN'), ('agents', 'NOUN'), ('have', 'VERB'), ('been', 'VERB'), ('forced', 'VERB'), ('*-158', 'NOUN'), ('by', 'ADP'), ('their', 'PRON'), ('companies', 'NOUN'), ('into', 'ADP'), ('*-2', 'X'), ('becoming', 'VERB'), ('registered', 'VERB'), ('reps', 'NOUN'), (',', '.'), (\"''\", '.'), ('he', 'PRON'), ('said', 'VERB'), ('*T*-1', 'X'), (',', '.'), ('``', '.'), ('but', 'CONJ'), ('they', 'PRON'), ('are', 'VERB'), ('not', 'ADV'), ('providing', 'VERB'), ('compliance', 'NOUN'), ('and', 'CONJ'), ('security-type', 'NOUN'), ('training', 'NOUN'), ('so', 'ADV'), ('that', 'ADP'), ('we', 'PRON'), ('can', 'VERB'), ('avoid', 'VERB'), ('stupid', 'ADJ'), ('mistakes', 'NOUN'), ('.', '.'), (\"''\", '.'), ('Workers', 'NOUN'), ('described', 'VERB'), ('``', '.'), ('clouds', 'NOUN'), ('of', 'ADP'), ('blue', 'ADJ'), ('dust', 'NOUN'), (\"''\", '.'), ('that', 'DET'), ('*T*-1', 'X'), ('hung', 'NOUN'), ('over', 'ADP'), ('parts', 'NOUN'), ('of', 'ADP'), ('the', 'DET'), ('factory', 'NOUN'), (',', '.'), ('even', 'ADV'), ('though', 'ADP'), ('exhaust', 'VERB'), ('fans', 'NOUN'), ('ventilated', 'VERB'), ('the', 'DET'), ('area', 'NOUN'), ('.', '.')]\n"
     ]
    }
   ],
   "source": [
    "print(\"Time taken in seconds: \", difference)\n",
    "print(tagged_seq)"
   ]
  },
  {
   "cell_type": "markdown",
   "metadata": {},
   "source": [
    "#### Evaluating tagging accuracy"
   ]
  },
  {
   "cell_type": "code",
   "execution_count": 49,
   "metadata": {},
   "outputs": [],
   "source": [
    "# accuracy\n",
    "check = [i for i, j in zip(tagged_seq, validation_tagged_words) if i == j] "
   ]
  },
  {
   "cell_type": "code",
   "execution_count": 50,
   "metadata": {},
   "outputs": [],
   "source": [
    "accuracy = len(check)/len(tagged_seq)"
   ]
  },
  {
   "cell_type": "code",
   "execution_count": 51,
   "metadata": {},
   "outputs": [
    {
     "data": {
      "text/plain": [
       "0.9479188025425467"
      ]
     },
     "execution_count": 51,
     "metadata": {},
     "output_type": "execute_result"
    }
   ],
   "source": [
    "accuracy"
   ]
  },
  {
   "cell_type": "code",
   "execution_count": 52,
   "metadata": {},
   "outputs": [],
   "source": [
    "incorrect_tagged_cases = [[validation_tagged_words[i-1],j] for i, j in enumerate(zip(tagged_seq, validation_tagged_words)) if j[0]!=j[1]]"
   ]
  },
  {
   "cell_type": "code",
   "execution_count": 53,
   "metadata": {},
   "outputs": [
    {
     "data": {
      "text/plain": [
       "[[('shares', 'NOUN'), (('*T*-121', 'NOUN'), ('*T*-121', 'X'))],\n",
       " [('*T*-121', 'X'), (('trade', 'NOUN'), ('trade', 'VERB'))],\n",
       " [('producing', 'VERB'), (('early', 'ADV'), ('early', 'ADJ'))],\n",
       " [('a', 'DET'), (('disembodied', 'VERB'), ('disembodied', 'ADJ'))],\n",
       " [('disembodied', 'ADJ'), (('male', 'ADJ'), ('male', 'NOUN'))],\n",
       " [('.', '.'), (('Otherwise', 'NOUN'), ('Otherwise', 'ADV'))],\n",
       " [('the', 'DET'), (('300-day', 'NOUN'), ('300-day', 'ADJ'))],\n",
       " [('remains', 'VERB'), (('male-only', 'NOUN'), ('male-only', 'ADJ'))],\n",
       " [('fact', 'NOUN'), (('that', 'ADP'), ('that', 'DET'))],\n",
       " [('that', 'DET'), (('*T*-230', 'NOUN'), ('*T*-230', 'X'))],\n",
       " [('*T*-230', 'X'), ((\"'s\", 'PRT'), (\"'s\", 'VERB'))],\n",
       " [('particularly', 'ADV'), (('galling', 'VERB'), ('galling', 'ADJ'))],\n",
       " [('the', 'DET'), (('sole', 'NOUN'), ('sole', 'ADJ'))],\n",
       " [('funds', 'NOUN'), (('mirrors', 'NOUN'), ('mirrors', 'VERB'))],\n",
       " [('the', 'DET'), (('1920s', 'NUM'), ('1920s', 'NOUN'))],\n",
       " [('when', 'ADV'), (('narrowly', 'NOUN'), ('narrowly', 'ADV'))],\n",
       " [('grew', 'VERB'), (('wildly', 'NOUN'), ('wildly', 'ADV'))],\n",
       " [(',', '.'), (('as', 'ADP'), ('as', 'ADV'))],\n",
       " [('possible', 'ADJ'), (('white', 'NOUN'), ('white', 'ADJ'))],\n",
       " [('an', 'DET'), (('undisclosed', 'VERB'), ('undisclosed', 'ADJ'))],\n",
       " [('for', 'ADP'), (('Great', 'NOUN'), ('Great', 'ADJ'))],\n",
       " [('will', 'VERB'), (('diminish', 'NOUN'), ('diminish', 'VERB'))],\n",
       " [('the', 'DET'), (('East', 'NOUN'), ('East', 'ADJ'))],\n",
       " [('East', 'ADJ'), (('Anglian', 'NOUN'), ('Anglian', 'ADJ'))],\n",
       " [('group', 'NOUN'), (('that', 'ADP'), ('that', 'DET'))],\n",
       " [('that', 'DET'), (('*T*-223', 'NOUN'), ('*T*-223', 'X'))],\n",
       " [('folks', 'NOUN'), (('that', 'ADP'), ('that', 'DET'))],\n",
       " [('that', 'DET'), (('*T*-153', 'NOUN'), ('*T*-153', 'X'))],\n",
       " [('a', 'DET'), (('gigantic', 'NOUN'), ('gigantic', 'ADJ'))],\n",
       " [('A', 'DET'), (('buffet', 'VERB'), ('buffet', 'NOUN'))],\n",
       " [('to', 'PRT'), (('everyday', 'NOUN'), ('everyday', 'ADJ'))],\n",
       " [('reruns', 'NOUN'), (('*T*-151', 'NOUN'), ('*T*-151', 'X'))],\n",
       " [('The', 'DET'), (('forthcoming', 'VERB'), ('forthcoming', 'ADJ'))],\n",
       " [('a', 'DET'), (('10-year', 'ADJ'), ('10-year', 'NUM'))],\n",
       " [('at', 'ADP'), (('about', 'ADP'), ('about', 'ADV'))],\n",
       " [('provision', 'NOUN'), (('amounts', 'NOUN'), ('amounts', 'VERB'))],\n",
       " [('a', 'DET'), (('one-house', 'NOUN'), ('one-house', 'ADJ'))],\n",
       " [('neither', 'DET'), (('bicameral', 'NOUN'), ('bicameral', 'ADJ'))],\n",
       " [('can', 'VERB'), (('defeat', 'NOUN'), ('defeat', 'VERB'))],\n",
       " [('which', 'DET'), (('*T*-104', 'NOUN'), ('*T*-104', 'X'))],\n",
       " [('gauge', 'VERB'), (('learning', 'VERB'), ('learning', 'NOUN'))],\n",
       " [('carrier', 'NOUN'), (('costs', 'NOUN'), ('costs', 'VERB'))],\n",
       " [('costs', 'VERB'), (('less', 'ADV'), ('less', 'ADJ'))],\n",
       " [('takes', 'VERB'), (('up', 'ADV'), ('up', 'PRT'))],\n",
       " [('failed', 'VERB'),\n",
       "  (('labor-management', 'NOUN'), ('labor-management', 'ADJ'))],\n",
       " [('the', 'DET'), (('pro-Iranian', 'NOUN'), ('pro-Iranian', 'ADJ'))],\n",
       " [('the', 'DET'), (('slaying', 'VERB'), ('slaying', 'NOUN'))],\n",
       " [('to', 'PRT'), (('avenge', 'NOUN'), ('avenge', 'VERB'))],\n",
       " [('the', 'DET'), (('beheading', 'VERB'), ('beheading', 'NOUN'))],\n",
       " [('for', 'ADP'),\n",
       "  (('computer-system-design', 'NOUN'), ('computer-system-design', 'ADJ'))],\n",
       " [('obtained', 'VERB'), (('8300', 'NUM'), ('8300', 'ADJ'))],\n",
       " [('And', 'CONJ'), (('unlike', 'ADJ'), ('unlike', 'ADP'))],\n",
       " [('*', 'X'), (('bless', 'NOUN'), ('bless', 'VERB'))],\n",
       " [('covers', 'VERB'), (('only', 'ADV'), ('only', 'ADJ'))],\n",
       " [('who', 'PRON'), (('*T*-260', 'NOUN'), ('*T*-260', 'X'))],\n",
       " [('including', 'VERB'), (('air', 'VERB'), ('air', 'NOUN'))],\n",
       " [('in', 'ADP'), (('front', 'NOUN'), ('front', 'ADJ'))],\n",
       " [('improved', 'VERB'), (('side-crash', 'NOUN'), ('side-crash', 'ADJ'))],\n",
       " [('from', 'ADP'), (('11.5', 'NOUN'), ('11.5', 'NUM'))],\n",
       " [('was', 'VERB'), (('untrained', 'VERB'), ('untrained', 'ADJ'))],\n",
       " [('one', 'NUM'), (('botched', 'VERB'), ('botched', 'ADJ'))],\n",
       " [(\"'\", 'PRT'), (('chief', 'NOUN'), ('chief', 'ADJ'))],\n",
       " [('the', 'DET'), (('asset-sale', 'NOUN'), ('asset-sale', 'ADJ'))],\n",
       " [('would', 'VERB'), (('end', 'NOUN'), ('end', 'VERB'))],\n",
       " [('$', '.'), (('45.2', 'NOUN'), ('45.2', 'NUM'))],\n",
       " [('$', '.'), (('84.9', 'NOUN'), ('84.9', 'NUM'))],\n",
       " [('$', '.'), (('1.24', 'NOUN'), ('1.24', 'NUM'))],\n",
       " [('year', 'NOUN'), (('earlier', 'ADV'), ('earlier', 'ADJ'))],\n",
       " [('an', 'DET'), (('eight-count', 'NOUN'), ('eight-count', 'ADJ'))],\n",
       " [('to', 'PRT'), (('manipulate', 'NOUN'), ('manipulate', 'VERB'))],\n",
       " [(\"'s\", 'PRT'), (('planned', 'VERB'), ('planned', 'ADJ'))],\n",
       " [('expected', 'VERB'), (('*-129', 'NOUN'), ('*-129', 'X'))],\n",
       " [('promised', 'VERB'), (('stiffer', 'NOUN'), ('stiffer', 'ADJ'))],\n",
       " [('to', 'PRT'), (('study', 'NOUN'), ('study', 'VERB'))],\n",
       " [('$', '.'), (('3.28', 'NOUN'), ('3.28', 'NUM'))],\n",
       " [('$', '.'), (('3.16', 'NOUN'), ('3.16', 'NUM'))],\n",
       " [('City', 'NOUN'), (('executive', 'NOUN'), ('executive', 'ADJ'))],\n",
       " [('the', 'DET'), (('12-member', 'NOUN'), ('12-member', 'ADJ'))],\n",
       " [('the', 'DET'), (('risk-free', 'NOUN'), ('risk-free', 'ADJ'))],\n",
       " [('a', 'DET'), (('richer', 'NOUN'), ('richer', 'ADJ'))],\n",
       " [('the', 'DET'), (('more', 'ADJ'), ('more', 'ADV'))],\n",
       " [('and', 'CONJ'), (('galvanized', 'VERB'), ('galvanized', 'ADJ'))],\n",
       " [('lower-priced', 'ADJ'), (('structural', 'NOUN'), ('structural', 'ADJ'))],\n",
       " [('not', 'ADV'), (('concern', 'NOUN'), ('concern', 'VERB'))],\n",
       " [('are', 'VERB'), (('sufficiently', 'NOUN'), ('sufficiently', 'ADV'))],\n",
       " [('approached', 'VERB'), (('American', 'ADJ'), ('American', 'NOUN'))],\n",
       " [('hurt', 'VERB'), (('U.S.-Japan', 'NOUN'), ('U.S.-Japan', 'ADJ'))],\n",
       " [('a', 'DET'), (('minus', 'CONJ'), ('minus', 'NOUN'))],\n",
       " [('dividend', 'NOUN'), (('yield', 'VERB'), ('yield', 'NOUN'))],\n",
       " [('level', 'NOUN'), (('that', 'ADP'), ('that', 'DET'))],\n",
       " [('that', 'DET'), (('*T*-232', 'NOUN'), ('*T*-232', 'X'))],\n",
       " [('and', 'CONJ'), (('unenticing', 'VERB'), ('unenticing', 'ADJ'))],\n",
       " [('something', 'NOUN'), (('stuck', 'NOUN'), ('stuck', 'VERB'))],\n",
       " [('to', 'PRT'), (('last', 'ADJ'), ('last', 'VERB'))],\n",
       " [('are', 'VERB'), (('worth', 'ADJ'), ('worth', 'ADP'))],\n",
       " [('for', 'ADP'), (('aesthetic', 'NOUN'), ('aesthetic', 'ADJ'))],\n",
       " [('one', 'NUM'), (('famed', 'VERB'), ('famed', 'ADJ'))],\n",
       " [('*', 'X'), (('SWITCHING', 'NOUN'), ('SWITCHING', 'VERB'))],\n",
       " [('SWITCHING', 'VERB'), (('TO', 'NOUN'), ('TO', 'PRT'))],\n",
       " [('$', '.'), (('62.1', 'NOUN'), ('62.1', 'NUM'))],\n",
       " [('to', 'PRT'), (('outbid', 'NOUN'), ('outbid', 'VERB'))],\n",
       " [('can', 'VERB'), (('provoke', 'NOUN'), ('provoke', 'VERB'))],\n",
       " [('production', 'NOUN'), (('that', 'ADP'), ('that', 'DET'))],\n",
       " [('apparently', 'ADV'), (('drew', 'NOUN'), ('drew', 'VERB'))],\n",
       " [('drawn', 'VERB'), (('*-139', 'NOUN'), ('*-139', 'X'))],\n",
       " [('that', 'DET'), (('fuller', 'NOUN'), ('fuller', 'ADJ'))],\n",
       " [(\"''\", '.'), (('Concurrent', 'NOUN'), ('Concurrent', 'ADJ'))],\n",
       " [('more', 'ADV'), (('mature', 'VERB'), ('mature', 'ADJ'))],\n",
       " [('.', '.'), (('Common', 'NOUN'), ('Common', 'ADJ'))],\n",
       " [('$', '.'), (('5.57', 'NOUN'), ('5.57', 'NUM'))],\n",
       " [('who', 'PRON'), (('*T*-120', 'NOUN'), ('*T*-120', 'X'))],\n",
       " [('green', 'ADJ'), (('light', 'ADJ'), ('light', 'NOUN'))],\n",
       " [(\"'s\", 'PRT'), (('yielding', 'VERB'), ('yielding', 'NOUN'))],\n",
       " [('--', '.'), (('telegraph', 'NOUN'), ('telegraph', 'VERB'))],\n",
       " [('students', 'NOUN'), (('beforehand', 'NOUN'), ('beforehand', 'ADV'))],\n",
       " [('the', 'DET'), (('precise', 'NOUN'), ('precise', 'ADJ'))],\n",
       " [('give', 'VERB'), (('away', 'ADV'), ('away', 'PRT'))],\n",
       " [('general', 'ADJ'), (('softening', 'VERB'), ('softening', 'NOUN'))],\n",
       " [('more', 'ADV'), (('scarce', 'NOUN'), ('scarce', 'ADJ'))],\n",
       " [('``', '.'), (('Public', 'NOUN'), ('Public', 'ADJ'))],\n",
       " [('policy', 'NOUN'), (('favors', 'NOUN'), ('favors', 'VERB'))],\n",
       " [('might', 'VERB'), (('accompany', 'NOUN'), ('accompany', 'VERB'))],\n",
       " [('save', 'VERB'), (('lives', 'VERB'), ('lives', 'NOUN'))],\n",
       " [('the', 'DET'), (('unanimous', 'NOUN'), ('unanimous', 'ADJ'))],\n",
       " [('trading', 'NOUN'), (('focus', 'VERB'), ('focus', 'NOUN'))],\n",
       " [('will', 'VERB'), (('personally', 'NOUN'), ('personally', 'ADV'))],\n",
       " [('by', 'ADP'), (('Manfred', 'VERB'), ('Manfred', 'NOUN'))],\n",
       " [('which', 'DET'), (('*T*-110', 'NOUN'), ('*T*-110', 'X'))],\n",
       " [('in', 'ADP'), (('north', 'NOUN'), ('north', 'ADJ'))],\n",
       " [('print', 'VERB'), (('hither', 'NOUN'), ('hither', 'ADV'))],\n",
       " [('to', 'PRT'), (('yon', 'NOUN'), ('yon', 'ADV'))],\n",
       " [(\"n't\", 'ADV'), (('as', 'ADP'), ('as', 'ADV'))],\n",
       " [('as', 'ADV'), (('troublesome', 'NOUN'), ('troublesome', 'ADJ'))],\n",
       " [('called', 'VERB'), (('in', 'ADP'), ('in', 'PRT'))],\n",
       " [('to', 'PRT'), (('arrest', 'NOUN'), ('arrest', 'VERB'))],\n",
       " [('may', 'VERB'), (('blip', 'NOUN'), ('blip', 'VERB'))],\n",
       " [('they', 'PRON'), (('blip', 'NOUN'), ('blip', 'VERB'))],\n",
       " [('blip', 'VERB'), (('down', 'ADP'), ('down', 'PRT'))],\n",
       " [('to', 'PRT'), (('veto', 'NOUN'), ('veto', 'VERB'))],\n",
       " [('veto', 'VERB'), (('such', 'ADJ'), ('such', 'DET'))],\n",
       " [('it', 'PRON'), (('views', 'NOUN'), ('views', 'VERB'))],\n",
       " [('an', 'DET'), (('undesirable', 'NOUN'), ('undesirable', 'ADJ'))],\n",
       " [('the', 'DET'), (('300-113', 'NOUN'), ('300-113', 'NUM'))],\n",
       " [('the', 'DET'), (('potential', 'ADJ'), ('potential', 'NOUN'))],\n",
       " [('to', 'PRT'), (('override', 'NOUN'), ('override', 'VERB'))],\n",
       " [('in', 'ADP'), (('1988-89', 'NOUN'), ('1988-89', 'NUM'))],\n",
       " [('the', 'DET'), (('manufacturing', 'NOUN'), ('manufacturing', 'VERB'))],\n",
       " [('.', '.'), (('Something', 'VERB'), ('Something', 'NOUN'))],\n",
       " [('of', 'ADP'), (('as', 'ADP'), ('as', 'ADV'))],\n",
       " [('at', 'ADP'), (('14.53', 'NOUN'), ('14.53', 'NUM'))],\n",
       " [('up', 'ADV'), (('0.56', 'NOUN'), ('0.56', 'NUM'))],\n",
       " [('The', 'DET'), (('total', 'ADJ'), ('total', 'NOUN'))],\n",
       " [('total', 'NOUN'), (('marks', 'NOUN'), ('marks', 'VERB'))],\n",
       " [('transaction', 'NOUN'), (('sound', 'NOUN'), ('sound', 'VERB'))],\n",
       " [('make', 'VERB'), (('up', 'ADV'), ('up', 'PRT'))],\n",
       " [('own', 'ADJ'), (('mind', 'VERB'), ('mind', 'NOUN'))],\n",
       " [('a', 'DET'), (('principal', 'NOUN'), ('principal', 'ADJ'))],\n",
       " [('biggest', 'ADJ'), (('nonfinancial', 'NOUN'), ('nonfinancial', 'ADJ'))],\n",
       " [('gained', 'VERB'), (('1.39', 'NOUN'), ('1.39', 'NUM'))],\n",
       " [('to', 'PRT'), (('446.62', 'NOUN'), ('446.62', 'NUM'))],\n",
       " [('the', 'DET'), (('sell', 'VERB'), ('sell', 'NOUN'))],\n",
       " [('specialist', 'NOUN'), (('there', 'DET'), ('there', 'ADV'))],\n",
       " [(',', '.'), (('plans', 'NOUN'), ('plans', 'VERB'))],\n",
       " [('proposal', 'NOUN'), (('that', 'ADP'), ('that', 'DET'))],\n",
       " [(':', '.'), (('acid', 'NOUN'), ('acid', 'ADJ'))],\n",
       " [('added', 'VERB'), (('fuel', 'VERB'), ('fuel', 'NOUN'))],\n",
       " [('times', 'NOUN'), (('as', 'ADP'), ('as', 'ADV'))],\n",
       " [('the', 'DET'), (('underlying', 'ADJ'), ('underlying', 'VERB'))],\n",
       " [('a', 'DET'), (('blighted', 'VERB'), ('blighted', 'ADJ'))],\n",
       " [('*', 'X'), (('famous', 'NOUN'), ('famous', 'ADJ'))],\n",
       " [('added', 'VERB'), (('0.84', 'NOUN'), ('0.84', 'NUM'))],\n",
       " [('to', 'PRT'), (('341.20', 'NOUN'), ('341.20', 'NUM'))],\n",
       " [('was', 'VERB'), (('equivalent', 'NOUN'), ('equivalent', 'ADJ'))],\n",
       " [('industrial', 'ADJ'), (('average', 'ADJ'), ('average', 'NOUN'))],\n",
       " [('the', 'DET'), (('earliest', 'NOUN'), ('earliest', 'ADJ'))],\n",
       " [('something', 'NOUN'), (('inherently', 'NOUN'), ('inherently', 'ADV'))],\n",
       " [('inherently', 'ADV'), (('suspect', 'VERB'), ('suspect', 'ADJ'))],\n",
       " [('the', 'DET'), (('executive', 'ADJ'), ('executive', 'NOUN'))],\n",
       " [('some', 'DET'), (('favored', 'ADJ'), ('favored', 'VERB'))],\n",
       " [('an', 'DET'), (('interior', 'NOUN'), ('interior', 'ADJ'))],\n",
       " [('things', 'NOUN'), (('spook', 'NOUN'), ('spook', 'VERB'))],\n",
       " [('0', 'X'), (('most', 'ADV'), ('most', 'ADJ'))],\n",
       " [('$', '.'), (('14.43', 'NOUN'), ('14.43', 'NUM'))],\n",
       " [('conversations', 'NOUN'), (('that', 'ADP'), ('that', 'DET'))],\n",
       " [('which', 'DET'), (('*T*-194', 'NOUN'), ('*T*-194', 'X'))],\n",
       " [('can', 'VERB'), (('generate', 'NOUN'), ('generate', 'VERB'))],\n",
       " [('effective', 'ADJ'),\n",
       "  (('search-and-seizure', 'NOUN'), ('search-and-seizure', 'ADJ'))],\n",
       " [('to', 'PRT'), (('aid', 'NOUN'), ('aid', 'VERB'))],\n",
       " [('market', 'NOUN'), (('rebound', 'VERB'), ('rebound', 'NOUN'))],\n",
       " [('rebound', 'NOUN'), (('pushes', 'NOUN'), ('pushes', 'VERB'))],\n",
       " [('the', 'DET'), (('delay', 'VERB'), ('delay', 'NOUN'))],\n",
       " [('.', '.'), (('Always', 'NOUN'), ('Always', 'ADV'))],\n",
       " [('$', '.'), (('422.5', 'NOUN'), ('422.5', 'NUM'))],\n",
       " [('$', '.'), (('6.44', 'NOUN'), ('6.44', 'NUM'))],\n",
       " [('up', 'ADV'), (('8.9', 'NOUN'), ('8.9', 'NUM'))],\n",
       " [('$', '.'), (('387.8', 'NOUN'), ('387.8', 'NUM'))],\n",
       " [('$', '.'), (('5.63', 'NOUN'), ('5.63', 'NUM'))],\n",
       " [('*T*-14', 'X'), (('matters', 'NOUN'), ('matters', 'VERB'))],\n",
       " [('doing', 'VERB'), (('fine', 'NOUN'), ('fine', 'ADV'))],\n",
       " [('a', 'DET'), (('needy', 'NOUN'), ('needy', 'ADJ'))],\n",
       " [('loan', 'NOUN'), (('solvent', 'NOUN'), ('solvent', 'ADJ'))],\n",
       " [('the', 'DET'), (('buy-back', 'ADJ'), ('buy-back', 'NOUN'))],\n",
       " [('the', 'DET'), (('hardest-hit', 'NOUN'), ('hardest-hit', 'ADJ'))],\n",
       " [('of', 'ADP'), (('flashy', 'NOUN'), ('flashy', 'ADJ'))],\n",
       " [('remaining', 'VERB'), (('uses', 'VERB'), ('uses', 'NOUN'))],\n",
       " [('totaled', 'VERB'), (('154.2', 'NOUN'), ('154.2', 'NUM'))],\n",
       " [('the', 'DET'), (('shaky', 'NOUN'), ('shaky', 'ADJ'))],\n",
       " [('will', 'VERB'), (('convert', 'NOUN'), ('convert', 'VERB'))],\n",
       " [('.', '.'), (('Similar', 'NOUN'), ('Similar', 'ADJ'))],\n",
       " [('levels', 'NOUN'), (('hamstrung', 'NOUN'), ('hamstrung', 'VERB'))],\n",
       " [('.', '.'), (('More', 'ADV'), ('More', 'ADJ'))],\n",
       " [('the', 'DET'), (('red-carpet', 'NOUN'), ('red-carpet', 'ADJ'))],\n",
       " [('treatment', 'NOUN'), (('tempts', 'NOUN'), ('tempts', 'VERB'))],\n",
       " [('to', 'PRT'), (('return', 'NOUN'), ('return', 'VERB'))],\n",
       " [('takes', 'VERB'), (('places', 'VERB'), ('places', 'NOUN'))],\n",
       " [('to', 'PRT'), (('issue', 'NOUN'), ('issue', 'VERB'))],\n",
       " [(',', '.'), (('as', 'ADP'), ('as', 'ADV'))],\n",
       " [('*EXP*-2', 'X'), ((\"'s\", 'PRT'), (\"'s\", 'VERB'))],\n",
       " [('in', 'ADP'), (('derivative', 'NOUN'), ('derivative', 'ADJ'))],\n",
       " [('a', 'DET'), (('supportive', 'NOUN'), ('supportive', 'ADJ'))],\n",
       " [('$', '.'), (('8.9', 'NOUN'), ('8.9', 'NUM'))],\n",
       " [('on', 'ADP'), (('limited', 'ADJ'), ('limited', 'VERB'))],\n",
       " [('were', 'VERB'), (('notable', 'NOUN'), ('notable', 'ADJ'))],\n",
       " [('.', '.'), (('More', 'ADV'), ('More', 'ADJ'))],\n",
       " [('stress', 'NOUN'), (('most', 'ADV'), ('most', 'ADJ'))],\n",
       " [('The', 'DET'), (('Nine', 'NOUN'), ('Nine', 'NUM'))],\n",
       " [('.', '.'), (('Typical', 'NOUN'), ('Typical', 'ADJ'))],\n",
       " [(':', '.'), (('8.60', 'NOUN'), ('8.60', 'NUM'))],\n",
       " [(';', '.'), (('8.35', 'NOUN'), ('8.35', 'NUM'))],\n",
       " [(',', '.'), (('so', 'ADV'), ('so', 'ADP'))],\n",
       " [('*ICH*-2', 'X'), (('exists', 'NOUN'), ('exists', 'VERB'))],\n",
       " [('a', 'DET'), (('middle', 'NOUN'), ('middle', 'ADJ'))],\n",
       " [(',', '.'), (('seven-year', 'NOUN'), ('seven-year', 'ADJ'))],\n",
       " [('one', 'NUM'), (('offering', 'NOUN'), ('offering', 'VERB'))],\n",
       " [('--', '.'), (('offer', 'NOUN'), ('offer', 'VERB'))],\n",
       " [('Constitution', 'NOUN'), (('implicitly', 'NOUN'), ('implicitly', 'ADV'))],\n",
       " [('to', 'PRT'), (('provoke', 'NOUN'), ('provoke', 'VERB'))],\n",
       " [(',', '.'), (('whistle', 'NOUN'), ('whistle', 'VERB'))],\n",
       " [('.', '.'), (('1', 'NUM'), ('1', 'X'))],\n",
       " [('--', '.'), (('in', 'ADP'), ('in', 'NOUN'))],\n",
       " [('.', '.'), (('Back', 'NOUN'), ('Back', 'ADV'))],\n",
       " [('squeezed', 'VERB'), (('in', 'ADP'), ('in', 'PRT'))],\n",
       " [('*U*', 'X'), (('more', 'ADV'), ('more', 'ADJ'))],\n",
       " [('$', '.'), (('130.7', 'NOUN'), ('130.7', 'NUM'))],\n",
       " [(\"'s\", 'PRT'), (('move', 'VERB'), ('move', 'NOUN'))],\n",
       " [('comedies', 'NOUN'), (('that', 'ADP'), ('that', 'DET'))],\n",
       " [('that', 'DET'), (('*T*-152', 'NOUN'), ('*T*-152', 'X'))],\n",
       " [('What', 'PRON'), (('*T*-234', 'NOUN'), ('*T*-234', 'X'))],\n",
       " [('growth', 'NOUN'), (('next', 'ADP'), ('next', 'ADJ'))],\n",
       " [('forced', 'VERB'), (('*-158', 'NOUN'), ('*-158', 'X'))],\n",
       " [('and', 'CONJ'), (('security-type', 'NOUN'), ('security-type', 'ADJ'))],\n",
       " [('training', 'NOUN'), (('so', 'ADV'), ('so', 'ADP'))],\n",
       " [('*T*-1', 'X'), (('hung', 'NOUN'), ('hung', 'VERB'))],\n",
       " [('though', 'ADP'), (('exhaust', 'VERB'), ('exhaust', 'NOUN'))]]"
      ]
     },
     "execution_count": 53,
     "metadata": {},
     "output_type": "execute_result"
    }
   ],
   "source": [
    "incorrect_tagged_cases"
   ]
  },
  {
   "cell_type": "code",
   "execution_count": 54,
   "metadata": {},
   "outputs": [
    {
     "name": "stdout",
     "output_type": "stream",
     "text": [
      "254\n"
     ]
    }
   ],
   "source": [
    "print(len(incorrect_tagged_cases))"
   ]
  },
  {
   "cell_type": "markdown",
   "metadata": {},
   "source": [
    "#### Approach 2"
   ]
  },
  {
   "cell_type": "code",
   "execution_count": 55,
   "metadata": {},
   "outputs": [],
   "source": [
    "#Note: \n",
    "#Viterbi algorithm uses emission probability which is probability that an observation is \n",
    "#emitted by a particular state. Here state is tag. For unknown words, emission probability is zero.\n",
    "# Which results in choosing arbitrarily first tag for unknown words. So, if only transmission probability is\n",
    "# considered for unknown words then it will more accurately tag unknown words"
   ]
  },
  {
   "cell_type": "code",
   "execution_count": 56,
   "metadata": {},
   "outputs": [],
   "source": [
    "# 1. Viterbi Heuristic\n",
    "def Viterbi_modified_2(words, train_bag = train_tagged_words):\n",
    "    train_words = [pair[0] for pair in train_bag]\n",
    "    unknown_W = [x for x in words if x not in train_words]\n",
    "    known_W =   [x for x in words  if x not in unknown_W]\n",
    "    state = []\n",
    "    T = list(set([pair[1] for pair in train_bag]))\n",
    "    \n",
    "    for key, word in enumerate(words): \n",
    "            #initialise list of probability column for a given observation\n",
    "        p = [] \n",
    "        for tag in T:\n",
    "            if key == 0:\n",
    "                transition_p = tags_df.loc['.', tag]\n",
    "            else:\n",
    "                transition_p = tags_df.loc[state[-1], tag]\n",
    "                \n",
    "            # compute emission and state probabilities\n",
    "            if word in known_W:\n",
    "                count_w_given_tag, count_tag = word_given_tag(words[key], tag)\n",
    "                emission_p = count_w_given_tag/count_tag\n",
    "                state_probability = emission_p * transition_p  \n",
    "            elif word in unknown_W:\n",
    "                state_probability = transition_p\n",
    "            p.append(state_probability)\n",
    "        \n",
    "        pmax = max(p)\n",
    "        # getting state for which probability is maximum\n",
    "        state_max = T[p.index(pmax)] \n",
    "        state.append(state_max)\n",
    "        \n",
    "    return list(zip(words, state))"
   ]
  },
  {
   "cell_type": "code",
   "execution_count": 57,
   "metadata": {},
   "outputs": [],
   "source": [
    "# tagging the validation sentences\n",
    "start = time.time()\n",
    "tagged_seq = Viterbi_modified_2(validation_untagged_words)\n",
    "end = time.time()\n",
    "difference = end-start"
   ]
  },
  {
   "cell_type": "code",
   "execution_count": 58,
   "metadata": {},
   "outputs": [
    {
     "name": "stdout",
     "output_type": "stream",
     "text": [
      "Time taken in seconds:  431.0918960571289\n",
      "[('Ruth', 'NOUN'), ('K.', 'NOUN'), ('Nelson', 'NOUN'), ('Cullowhee', 'NOUN'), (',', '.'), ('N.C', 'NOUN'), ('.', '.'), ('Among', 'ADP'), ('other', 'ADJ'), ('Connecticut', 'NOUN'), ('banks', 'NOUN'), ('whose', 'PRON'), ('shares', 'NOUN'), ('*T*-121', 'NOUN'), ('trade', 'NOUN'), ('in', 'ADP'), ('the', 'DET'), ('OTC', 'NOUN'), ('market', 'NOUN'), (',', '.'), ('Society', 'NOUN'), ('for', 'ADP'), ('Savings', 'NOUN'), ('Bancorp', 'NOUN'), (',', '.'), ('based', 'VERB'), ('*', 'X'), ('in', 'ADP'), ('Hartford', 'NOUN'), (',', '.'), ('saw', 'VERB'), ('its', 'PRON'), ('stock', 'NOUN'), ('rise', 'VERB'), ('1', 'NUM'), ('3\\\\/4', 'NUM'), ('to', 'PRT'), ('18', 'NUM'), ('1\\\\/4', 'NUM'), ('.', '.'), ('Card', 'NOUN'), ('holders', 'NOUN'), ('who', 'PRON'), ('*T*-59', 'X'), ('receive', 'VERB'), ('the', 'DET'), ('letter', 'NOUN'), ('also', 'ADV'), ('are', 'VERB'), ('eligible', 'ADJ'), ('for', 'ADP'), ('a', 'DET'), ('sweepstakes', 'NOUN'), ('with', 'ADP'), ('Buick', 'NOUN'), ('cars', 'NOUN'), ('or', 'CONJ'), ('a', 'DET'), ('Hawaii', 'NOUN'), ('vacation', 'NOUN'), ('as', 'ADP'), ('prizes', 'NOUN'), ('.', '.'), ('Maxwell', 'NOUN'), ('R.D.', 'NOUN'), ('Vos', 'NOUN'), ('Brooklyn', 'NOUN'), (',', '.'), ('N.Y', 'NOUN'), ('.', '.'), ('The', 'DET'), ('Perch', 'NOUN'), ('and', 'CONJ'), ('Dolphin', 'NOUN'), ('fields', 'NOUN'), ('are', 'VERB'), ('expected', 'VERB'), ('*-3', 'X'), ('to', 'PRT'), ('start', 'VERB'), ('*-1', 'X'), ('producing', 'VERB'), ('early', 'ADV'), ('next', 'ADJ'), ('year', 'NOUN'), (',', '.'), ('and', 'CONJ'), ('the', 'DET'), ('Seahorse', 'NOUN'), ('and', 'CONJ'), ('Tarwhine', 'NOUN'), ('fields', 'NOUN'), ('later', 'ADJ'), ('next', 'ADJ'), ('year', 'NOUN'), ('.', '.'), ('In', 'ADP'), ('August', 'NOUN'), (',', '.'), ('the', 'DET'), ('commission', 'NOUN'), ('ruled', 'VERB'), ('that', 'ADP'), ('between', 'ADP'), ('$', '.'), ('190', 'NUM'), ('million', 'NUM'), ('and', 'CONJ'), ('$', '.'), ('195', 'NUM'), ('million', 'NUM'), ('*U*', 'X'), ('of', 'ADP'), ('the', 'DET'), ('plant', 'NOUN'), (\"'s\", 'PRT'), ('construction', 'NOUN'), ('cost', 'NOUN'), ('was', 'VERB'), ('unreasonable', 'ADJ'), ('and', 'CONJ'), ('should', 'VERB'), ('be', 'VERB'), ('refunded', 'X'), ('*-1', 'X'), (',', '.'), ('plus', 'CONJ'), ('interest', 'NOUN'), ('.', '.'), ('The', 'DET'), ('newly', 'ADV'), ('fattened', 'VERB'), ('premiums', 'NOUN'), ('reflect', 'VERB'), ('the', 'DET'), ('increasingly', 'ADV'), ('global', 'ADJ'), ('marketing', 'NOUN'), ('of', 'ADP'), ('some', 'DET'), ('country', 'NOUN'), ('funds', 'NOUN'), (',', '.'), ('Mr.', 'NOUN'), ('Porter', 'NOUN'), ('suggests', 'VERB'), ('0', 'X'), ('*T*-1', 'X'), ('.', '.'), ('``', '.'), ('David', 'NOUN'), ('Dinkins', 'NOUN'), ('failed', 'VERB'), ('*-2', 'X'), ('to', 'PRT'), ('file', 'VERB'), ('his', 'PRON'), ('income', 'NOUN'), ('taxes', 'NOUN'), ('for', 'ADP'), ('four', 'NUM'), ('straight', 'ADJ'), ('years', 'NOUN'), (',', '.'), (\"''\", '.'), ('says', 'VERB'), ('*T*-1', 'X'), ('a', 'DET'), ('disembodied', 'NOUN'), ('male', 'NOUN'), ('voice', 'NOUN'), ('.', '.'), ('Otherwise', 'NOUN'), (',', '.'), ('actual', 'ADJ'), ('profit', 'NOUN'), ('is', 'VERB'), ('compared', 'VERB'), ('*-1', 'X'), ('with', 'ADP'), ('the', 'DET'), ('300-day', 'NOUN'), ('estimate', 'NOUN'), ('.', '.'), ('The', 'DET'), ('oldest', 'ADJ'), ('bell-ringing', 'NOUN'), ('group', 'NOUN'), ('in', 'ADP'), ('the', 'DET'), ('country', 'NOUN'), (',', '.'), ('the', 'DET'), ('Ancient', 'NOUN'), ('Society', 'NOUN'), ('of', 'ADP'), ('College', 'NOUN'), ('Youths', 'NOUN'), (',', '.'), ('founded', 'VERB'), ('*', 'X'), ('in', 'ADP'), ('1637', 'DET'), (',', '.'), ('remains', 'VERB'), ('male-only', 'X'), (',', '.'), ('a', 'DET'), ('fact', 'NOUN'), ('that', 'ADP'), ('*T*-230', 'DET'), (\"'s\", 'VERB'), ('particularly', 'ADV'), ('galling', 'VERB'), ('to', 'PRT'), ('women', 'NOUN'), ('because', 'ADP'), ('the', 'DET'), ('group', 'NOUN'), ('is', 'VERB'), ('the', 'DET'), ('sole', 'NOUN'), ('source', 'NOUN'), ('of', 'ADP'), ('ringers', 'NOUN'), ('for', 'ADP'), ('Britain', 'NOUN'), (\"'s\", 'PRT'), ('most', 'ADJ'), ('prestigious', 'ADJ'), ('churches', 'NOUN'), (',', '.'), ('St.', 'NOUN'), ('Paul', 'NOUN'), (\"'s\", 'PRT'), ('Cathedral', 'VERB'), ('and', 'CONJ'), ('Westminster', 'NOUN'), ('Abbey', 'NOUN'), ('.', '.'), ('But', 'CONJ'), ('a', 'DET'), ('Soviet', 'ADJ'), ('bank', 'NOUN'), ('here', 'ADV'), ('would', 'VERB'), ('be', 'VERB'), ('crippled', 'VERB'), ('*-51', 'X'), ('unless', 'ADP'), ('Moscow', 'NOUN'), ('found', 'VERB'), ('a', 'DET'), ('way', 'NOUN'), ('0', 'X'), ('*', 'X'), ('to', 'PRT'), ('settle', 'VERB'), ('the', 'DET'), ('$', '.'), ('188', 'NUM'), ('million', 'NUM'), ('*U*', 'X'), ('debt', 'NOUN'), (',', '.'), ('which', 'DET'), ('*T*-1', 'X'), ('was', 'VERB'), ('lent', 'VERB'), ('*-52', 'X'), ('to', 'PRT'), ('the', 'DET'), ('country', 'NOUN'), (\"'s\", 'PRT'), ('short-lived', 'VERB'), ('democratic', 'ADJ'), ('Kerensky', 'NOUN'), ('government', 'NOUN'), ('before', 'ADP'), ('the', 'DET'), ('Communists', 'NOUN'), ('seized', 'NOUN'), ('power', 'NOUN'), ('in', 'ADP'), ('1917', 'DET'), ('*T*-2', 'X'), ('.', '.'), ('The', 'DET'), ('recent', 'ADJ'), ('explosion', 'NOUN'), ('of', 'ADP'), ('country', 'NOUN'), ('funds', 'NOUN'), ('mirrors', 'NOUN'), ('the', 'DET'), ('``', '.'), ('closed-end', 'ADJ'), ('fund', 'NOUN'), ('mania', 'NOUN'), (\"''\", '.'), ('of', 'ADP'), ('the', 'DET'), ('1920s', 'NUM'), (',', '.'), ('Mr.', 'NOUN'), ('Foot', 'NOUN'), ('says', 'VERB'), ('0', 'X'), ('*T*-2', 'X'), (',', '.'), ('when', 'ADV'), ('narrowly', 'VERB'), ('focused', 'VERB'), ('funds', 'NOUN'), ('grew', 'VERB'), ('wildly', 'X'), ('popular', 'ADJ'), ('*T*-1', 'X'), ('.', '.'), ('The', 'DET'), ('yield', 'NOUN'), ('fell', 'VERB'), ('to', 'PRT'), ('7.88', 'NUM'), ('%', 'NOUN'), ('.', '.'), ('He', 'PRON'), ('cites', 'VERB'), ('the', 'DET'), ('recent', 'ADJ'), ('deal', 'NOUN'), ('between', 'ADP'), ('the', 'DET'), ('Mitsubishi', 'NOUN'), ('Estate', 'NOUN'), ('Co.', 'NOUN'), ('and', 'CONJ'), ('the', 'DET'), ('Rockefeller', 'NOUN'), ('Group', 'NOUN'), (',', '.'), ('as', 'ADP'), ('well', 'ADV'), ('as', 'ADP'), ('the', 'DET'), ('possible', 'ADJ'), ('white', 'NOUN'), ('knight', 'NOUN'), ('role', 'NOUN'), ('of', 'ADP'), ('an', 'DET'), ('undisclosed', 'NOUN'), ('Japanese', 'ADJ'), ('company', 'NOUN'), ('in', 'ADP'), ('the', 'DET'), ('Georgia-Pacific', 'NOUN'), ('Corp.', 'NOUN'), ('takeover', 'NOUN'), ('bid', 'NOUN'), ('for', 'ADP'), ('Great', 'NOUN'), ('Northern', 'NOUN'), ('Nekoosa', 'NOUN'), ('Corp.', 'NOUN'), ('as', 'ADP'), ('evidence', 'NOUN'), ('.', '.'), ('Mr.', 'NOUN'), ('Hammond', 'NOUN'), ('worries', 'VERB'), ('that', 'ADP'), ('old', 'ADJ'), ('age', 'NOUN'), ('and', 'CONJ'), ('the', 'DET'), ('flightiness', 'NOUN'), ('of', 'ADP'), ('youth', 'NOUN'), ('will', 'VERB'), ('diminish', 'X'), ('the', 'DET'), ('ranks', 'NOUN'), ('of', 'ADP'), ('the', 'DET'), ('East', 'NOUN'), ('Anglian', 'NOUN'), ('group', 'NOUN'), ('that', 'ADP'), ('*T*-223', 'DET'), ('keeps', 'VERB'), ('the', 'DET'), ('Aslacton', 'NOUN'), ('bells', 'NOUN'), ('pealing', 'NOUN'), ('.', '.'), ('Serial', 'ADJ'), ('bonds', 'NOUN'), ('are', 'VERB'), ('priced', 'VERB'), ('*-1', 'X'), ('*', 'X'), ('to', 'PRT'), ('yield', 'VERB'), ('from', 'ADP'), ('6.20', 'NUM'), ('%', 'NOUN'), ('in', 'ADP'), ('1991', 'NUM'), ('to', 'PRT'), ('7', 'NUM'), ('%', 'NOUN'), ('in', 'ADP'), ('2000', 'NUM'), ('.', '.'), ('Yesterday', 'NOUN'), (',', '.'), ('the', 'DET'), ('stock', 'NOUN'), ('market', 'NOUN'), ('rose', 'VERB'), ('strongly', 'ADV'), (',', '.'), ('*', 'X'), ('creating', 'VERB'), ('a', 'DET'), ('more', 'ADJ'), ('defensive', 'ADJ'), ('attitude', 'NOUN'), ('among', 'ADP'), ('precious', 'ADJ'), ('metals', 'NOUN'), ('traders', 'NOUN'), (',', '.'), ('he', 'PRON'), ('said', 'VERB'), ('0', 'X'), ('*T*-1', 'X'), ('.', '.'), ('From', 'ADP'), ('an', 'DET'), ('advertising', 'NOUN'), ('standpoint', 'NOUN'), (',', '.'), ('the', 'DET'), ('problem', 'NOUN'), ('is', 'VERB'), ('0', 'X'), ('these', 'DET'), ('offenders', 'NOUN'), ('are', 'VERB'), ('likely', 'ADJ'), ('*-1', 'X'), ('to', 'PRT'), ('be', 'VERB'), ('some', 'DET'), ('of', 'ADP'), ('the', 'DET'), ('same', 'ADJ'), ('folks', 'NOUN'), ('that', 'ADP'), ('*T*-153', 'DET'), ('are', 'VERB'), ('major', 'ADJ'), ('magazine', 'NOUN'), ('advertisers', 'NOUN'), ('these', 'DET'), ('days', 'NOUN'), ('.', '.'), ('*-1', 'X'), ('Stung', 'VERB'), ('by', 'ADP'), ('charges', 'NOUN'), ('that', 'ADP'), ('their', 'PRON'), ('greed', 'NOUN'), ('is', 'VERB'), ('turning', 'VERB'), ('the', 'DET'), ('stock', 'NOUN'), ('market', 'NOUN'), ('into', 'ADP'), ('a', 'DET'), ('gigantic', 'NOUN'), ('crapshoot', 'NOUN'), (',', '.'), ('almost', 'ADV'), ('all', 'DET'), ('the', 'DET'), ('big', 'ADJ'), ('investment', 'NOUN'), ('banking', 'NOUN'), ('houses', 'NOUN'), ('have', 'VERB'), ('abandoned', 'VERB'), ('index', 'NOUN'), ('arbitrage', 'NOUN'), (',', '.'), ('a', 'DET'), ('common', 'ADJ'), ('form', 'NOUN'), ('of', 'ADP'), ('program', 'NOUN'), ('trading', 'NOUN'), (',', '.'), ('for', 'ADP'), ('their', 'PRON'), ('own', 'ADJ'), ('accounts', 'NOUN'), ('in', 'ADP'), ('the', 'DET'), ('past', 'ADJ'), ('few', 'ADJ'), ('days', 'NOUN'), ('.', '.'), ('Plans', 'NOUN'), ('*', 'X'), ('to', 'PRT'), ('do', 'VERB'), ('this', 'DET'), ('are', 'VERB'), ('due', 'ADJ'), ('*', 'X'), ('to', 'PRT'), ('be', 'VERB'), ('filed', 'VERB'), ('*-1', 'X'), ('in', 'ADP'), ('a', 'DET'), ('week', 'NOUN'), ('or', 'CONJ'), ('so', 'ADV'), ('.', '.'), ('The', 'DET'), ('appointment', 'NOUN'), ('takes', 'VERB'), ('effect', 'NOUN'), ('Nov.', 'NOUN'), ('13', 'NUM'), ('.', '.'), ('In', 'ADP'), ('1976', 'NUM'), (',', '.'), ('for', 'ADP'), ('example', 'NOUN'), (',', '.'), ('dividends', 'NOUN'), ('on', 'ADP'), ('the', 'DET'), ('stocks', 'NOUN'), ('in', 'ADP'), ('Standard', 'NOUN'), ('&', 'CONJ'), ('Poor', 'NOUN'), (\"'s\", 'PRT'), ('500-stock', 'ADJ'), ('index', 'NOUN'), ('soared', 'VERB'), ('10', 'NUM'), ('%', 'NOUN'), (',', '.'), ('following', 'VERB'), ('much', 'ADV'), ('slower', 'ADJ'), ('growth', 'NOUN'), ('the', 'DET'), ('year', 'NOUN'), ('before', 'ADP'), ('.', '.'), ('A', 'DET'), ('buffet', 'VERB'), ('breakfast', 'X'), ('was', 'VERB'), ('held', 'VERB'), ('*-1', 'X'), ('in', 'ADP'), ('the', 'DET'), ('museum', 'NOUN'), (',', '.'), ('where', 'ADV'), ('food', 'NOUN'), ('and', 'CONJ'), ('drinks', 'NOUN'), ('are', 'VERB'), ('banned', 'VERB'), ('*-2', 'X'), ('to', 'PRT'), ('everyday', 'VERB'), ('visitors', 'NOUN'), ('*T*-3', 'X'), ('.', '.'), ('At', 'ADP'), ('the', 'DET'), ('same', 'ADJ'), ('time', 'NOUN'), (',', '.'), ('Viacom', 'NOUN'), ('is', 'VERB'), ('trying', 'VERB'), ('*-1', 'X'), ('to', 'PRT'), ('persuade', 'VERB'), ('stations', 'NOUN'), ('*-2', 'X'), ('to', 'PRT'), ('make', 'VERB'), ('commitments', 'NOUN'), ('to', 'PRT'), ('``', '.'), ('A', 'DET'), ('Different', 'NOUN'), ('World', 'NOUN'), (',', '.'), (\"''\", '.'), ('a', 'DET'), ('spin-off', 'NOUN'), ('of', 'ADP'), ('``', '.'), ('Cosby', 'NOUN'), (\"''\", '.'), ('whose', 'PRON'), ('reruns', 'NOUN'), ('*T*-151', 'NOUN'), ('will', 'VERB'), ('become', 'VERB'), ('available', 'ADJ'), ('in', 'ADP'), ('1991', 'NUM'), ('.', '.'), ('The', 'DET'), ('forthcoming', 'NOUN'), ('maturity', 'NOUN'), ('in', 'ADP'), ('November', 'NOUN'), ('of', 'ADP'), ('a', 'DET'), ('10-year', 'ADJ'), ('Japanese', 'ADJ'), ('government', 'NOUN'), ('yen-denominated', 'NOUN'), ('bond', 'NOUN'), ('issue', 'NOUN'), ('valued', 'VERB'), ('*', 'X'), ('at', 'ADP'), ('about', 'ADP'), ('$', '.'), ('16', 'NUM'), ('billion', 'NUM'), ('*U*', 'X'), ('has', 'VERB'), ('prompted', 'VERB'), ('speculation', 'NOUN'), ('*ICH*-2', 'X'), ('in', 'ADP'), ('the', 'DET'), ('market', 'NOUN'), ('that', 'ADP'), ('investors', 'NOUN'), ('redeeming', 'NOUN'), ('the', 'DET'), ('bonds', 'NOUN'), ('will', 'VERB'), ('diversify', 'VERB'), ('into', 'ADP'), ('dollar-denominated', 'ADJ'), ('instruments', 'NOUN'), (',', '.'), ('according', 'VERB'), ('to', 'PRT'), ('Mr.', 'NOUN'), ('Madison', 'NOUN'), ('.', '.'), ('This', 'DET'), ('provision', 'NOUN'), ('amounts', 'NOUN'), ('to', 'PRT'), ('a', 'DET'), ('legislative', 'ADJ'), ('veto', 'NOUN'), ('over', 'ADP'), ('the', 'DET'), ('president', 'NOUN'), (\"'s\", 'PRT'), ('execution', 'NOUN'), ('of', 'ADP'), ('the', 'DET'), ('law', 'NOUN'), (',', '.'), ('since', 'ADP'), ('a', 'DET'), ('one-house', 'NOUN'), ('resolution', 'NOUN'), ('could', 'VERB'), ('be', 'VERB'), ('said', 'VERB'), ('*-1', 'X'), ('to', 'PRT'), ('be', 'VERB'), ('``', '.'), ('duly', 'ADV'), ('adopted', 'VERB'), (\"''\", '.'), ('even', 'ADV'), ('though', 'ADP'), ('it', 'PRON'), ('would', 'VERB'), ('require', 'VERB'), ('neither', 'DET'), ('bicameral', 'NOUN'), ('action', 'NOUN'), ('in', 'ADP'), ('Congress', 'NOUN'), ('nor', 'CONJ'), ('presentation', 'NOUN'), ('to', 'PRT'), ('the', 'DET'), ('president', 'NOUN'), ('for', 'ADP'), ('his', 'PRON'), ('signature', 'VERB'), ('or', 'CONJ'), ('veto', 'NOUN'), ('.', '.'), ('He', 'PRON'), ('and', 'CONJ'), ('other', 'ADJ'), ('critics', 'NOUN'), ('say', 'VERB'), ('0', 'X'), ('such', 'ADJ'), ('coaching', 'NOUN'), ('aids', 'NOUN'), ('can', 'VERB'), ('defeat', 'NOUN'), ('the', 'DET'), ('purpose', 'NOUN'), ('of', 'ADP'), ('standardized', 'ADJ'), ('tests', 'NOUN'), (',', '.'), ('which', 'DET'), ('*T*-104', 'NOUN'), ('is', 'VERB'), ('*', 'X'), ('to', 'PRT'), ('gauge', 'VERB'), ('learning', 'X'), ('progress', 'NOUN'), ('.', '.'), ('Railroad', 'NOUN'), ('companies', 'NOUN'), ('and', 'CONJ'), ('some', 'DET'), ('ports', 'NOUN'), ('are', 'VERB'), ('reaping', 'X'), ('a', 'DET'), ('sudden', 'ADJ'), ('windfall', 'NOUN'), ('of', 'ADP'), ('business', 'NOUN'), ('.', '.'), ('He', 'PRON'), ('also', 'ADV'), ('claims', 'VERB'), ('0', 'X'), ('the', 'DET'), ('carrier', 'NOUN'), ('costs', 'NOUN'), ('less', 'ADV'), ('and', 'CONJ'), ('takes', 'VERB'), ('up', 'ADV'), ('less', 'ADJ'), ('space', 'NOUN'), ('than', 'ADP'), ('most', 'ADJ'), ('paper', 'NOUN'), ('carriers', 'NOUN'), ('.', '.'), ('Although', 'ADP'), ('takeover', 'NOUN'), ('experts', 'NOUN'), ('said', 'VERB'), ('0', 'X'), ('they', 'PRON'), ('doubted', 'VERB'), ('0', 'X'), ('Mr.', 'NOUN'), ('Steinberg', 'NOUN'), ('will', 'VERB'), ('make', 'VERB'), ('a', 'DET'), ('bid', 'NOUN'), ('by', 'ADP'), ('himself', 'PRON'), (',', '.'), ('the', 'DET'), ('application', 'NOUN'), ('by', 'ADP'), ('his', 'PRON'), ('Reliance', 'NOUN'), ('Group', 'NOUN'), ('Holdings', 'NOUN'), ('Inc.', 'NOUN'), ('could', 'VERB'), ('signal', 'VERB'), ('his', 'PRON'), ('interest', 'NOUN'), ('in', 'ADP'), ('*', 'X'), ('helping', 'VERB'), ('*-1', 'X'), ('revive', 'VERB'), ('a', 'DET'), ('failed', 'VERB'), ('labor-management', 'NOUN'), ('bid', 'NOUN'), ('.', '.'), ('Gunmen', 'NOUN'), ('in', 'ADP'), ('Lebanon', 'DET'), ('assassinated', 'NOUN'), ('a', 'DET'), ('Saudi', 'NOUN'), ('Arabian', 'NOUN'), ('Embassy', 'NOUN'), ('employee', 'NOUN'), (',', '.'), ('and', 'CONJ'), ('the', 'DET'), ('pro-Iranian', 'NOUN'), ('Islamic', 'NOUN'), ('Jihad', 'NOUN'), ('took', 'VERB'), ('responsibility', 'NOUN'), ('for', 'ADP'), ('the', 'DET'), ('slaying', 'NOUN'), ('0', 'X'), ('*T*-1', 'X'), ('to', 'PRT'), ('avenge', 'VERB'), ('the', 'DET'), ('beheading', 'NOUN'), ('of', 'ADP'), ('16', 'NUM'), ('terrorists', 'NOUN'), ('by', 'ADP'), ('Riyadh', 'DET'), (\"'s\", 'VERB'), ('government', 'NOUN'), ('in', 'ADP'), ('September', 'NOUN'), ('.', '.'), ('All', 'DET'), ('the', 'DET'), ('contracts', 'NOUN'), ('were', 'VERB'), ('for', 'ADP'), ('computer-system-design', 'DET'), ('contracts', 'NOUN'), ('and', 'CONJ'), ('involved', 'VERB'), ('no', 'DET'), ('hardware', 'NOUN'), ('or', 'CONJ'), ('software', 'NOUN'), ('.', '.'), ('But', 'CONJ'), ('they', 'PRON'), ('have', 'VERB'), ('obtained', 'VERB'), ('8300', 'NUM'), ('forms', 'NOUN'), ('without', 'ADP'), ('court', 'NOUN'), ('permission', 'NOUN'), ('and', 'CONJ'), ('used', 'VERB'), ('the', 'DET'), ('information', 'NOUN'), ('*-1', 'X'), ('to', 'PRT'), ('help', 'VERB'), ('develop', 'VERB'), ('criminal', 'ADJ'), ('cases', 'NOUN'), ('.', '.'), ('And', 'CONJ'), ('unlike', 'ADJ'), ('some', 'DET'), ('trays', 'NOUN'), (',', '.'), ('there', 'DET'), (\"'s\", 'VERB'), ('no', 'DET'), ('place', 'NOUN'), ('for', 'ADP'), ('food', 'NOUN'), ('.', '.'), (\"Dunkin'\", 'NOUN'), ('is', 'VERB'), ('based', 'VERB'), ('*-1', 'X'), ('in', 'ADP'), ('Randolph', 'NOUN'), (',', '.'), ('Mass', 'NOUN'), ('.', '.'), ('I', 'PRON'), ('have', 'VERB'), ('seen', 'VERB'), ('one', 'NUM'), ('or', 'CONJ'), ('two', 'NUM'), ('men', 'NOUN'), ('die', 'VERB'), (',', '.'), ('*', 'X'), ('bless', 'VERB'), ('them', 'PRON'), ('.', '.'), ('The', 'DET'), ('training', 'NOUN'), ('wage', 'NOUN'), ('covers', 'VERB'), ('only', 'ADV'), ('workers', 'NOUN'), ('who', 'PRON'), ('*T*-260', 'VERB'), ('are', 'VERB'), ('16', 'NUM'), ('to', 'PRT'), ('19', 'NUM'), ('years', 'NOUN'), ('old', 'ADJ'), ('.', '.'), ('Sen.', 'NOUN'), ('Danforth', 'NOUN'), ('and', 'CONJ'), ('others', 'NOUN'), ('also', 'ADV'), ('want', 'VERB'), ('the', 'DET'), ('department', 'NOUN'), ('to', 'PRT'), ('require', 'VERB'), ('additional', 'ADJ'), ('safety', 'NOUN'), ('equipment', 'NOUN'), ('*ICH*-1', 'X'), ('in', 'ADP'), ('light', 'ADJ'), ('trucks', 'NOUN'), ('and', 'CONJ'), ('minivans', 'NOUN'), (',', '.'), ('including', 'VERB'), ('air', 'VERB'), ('bags', 'X'), ('or', 'CONJ'), ('automatic', 'ADJ'), ('seat', 'NOUN'), ('belts', 'NOUN'), ('in', 'ADP'), ('front', 'NOUN'), ('seats', 'NOUN'), ('and', 'CONJ'), ('improved', 'VERB'), ('side-crash', 'X'), ('protection', 'NOUN'), ('.', '.'), ('GOODY', 'NOUN'), ('PRODUCTS', 'NOUN'), ('Inc.', 'NOUN'), ('cut', 'VERB'), ('its', 'PRON'), ('quarterly', 'ADJ'), ('dividend', 'NOUN'), ('to', 'PRT'), ('five', 'NUM'), ('cents', 'NOUN'), ('a', 'DET'), ('share', 'NOUN'), ('from', 'ADP'), ('11.5', 'DET'), ('cents', 'NOUN'), ('a', 'DET'), ('share', 'NOUN'), ('.', '.'), ('In', 'ADP'), ('September', 'NOUN'), (',', '.'), ('she', 'PRON'), ('pleaded', 'VERB'), ('guilty', 'ADJ'), ('and', 'CONJ'), ('paid', 'VERB'), ('a', 'DET'), ('$', '.'), ('500', 'NUM'), ('*U*', 'X'), ('fine', 'NOUN'), ('.', '.'), ('She', 'PRON'), ('was', 'VERB'), ('untrained', 'X'), ('and', 'CONJ'), (',', '.'), ('in', 'ADP'), ('one', 'NUM'), ('botched', 'NOUN'), ('job', 'NOUN'), ('killed', 'VERB'), ('a', 'DET'), ('client', 'NOUN'), ('.', '.'), ('Yesterday', 'NOUN'), (',', '.'), ('Sea', 'NOUN'), ('Containers', 'NOUN'), (\"'\", 'PRT'), ('chief', 'NOUN'), ('executive', 'NOUN'), ('officer', 'NOUN'), (',', '.'), ('James', 'NOUN'), ('Sherwood', 'NOUN'), (',', '.'), ('said', 'VERB'), ('in', 'ADP'), ('an', 'DET'), ('interview', 'NOUN'), ('that', 'ADP'), (',', '.'), ('under', 'ADP'), ('the', 'DET'), ('asset-sale', 'NOUN'), ('plan', 'NOUN'), (',', '.'), ('Sea', 'NOUN'), ('Containers', 'NOUN'), ('would', 'VERB'), ('end', 'NOUN'), ('up', 'PRT'), ('with', 'ADP'), ('a', 'DET'), ('cash', 'NOUN'), ('surplus', 'NOUN'), ('of', 'ADP'), ('approximately', 'ADV'), ('$', '.'), ('620', 'NOUN'), ('million', 'NUM'), ('*U*', 'X'), ('.', '.'), ('The', 'DET'), ('St.', 'NOUN'), ('Louis', 'NOUN'), ('company', 'NOUN'), ('earned', 'VERB'), ('$', '.'), ('45.2', 'NOUN'), ('million', 'NUM'), ('*U*', 'X'), (',', '.'), ('or', 'CONJ'), ('65', 'NUM'), ('cents', 'NOUN'), ('a', 'DET'), ('share', 'NOUN'), (',', '.'), ('compared', 'VERB'), ('with', 'ADP'), ('$', '.'), ('84.9', 'NOUN'), ('million', 'NUM'), ('*U*', 'X'), (',', '.'), ('or', 'CONJ'), ('$', '.'), ('1.24', 'NOUN'), ('*U*', 'X'), ('a', 'DET'), ('share', 'NOUN'), (',', '.'), ('a', 'DET'), ('year', 'NOUN'), ('earlier', 'ADV'), ('.', '.'), ('In', 'ADP'), ('an', 'DET'), ('eight-count', 'NOUN'), ('indictment', 'NOUN'), (',', '.'), ('the', 'DET'), ('government', 'NOUN'), ('has', 'VERB'), ('charged', 'VERB'), ('GAF', 'NOUN'), (',', '.'), ('a', 'DET'), ('Wayne', 'NOUN'), (',', '.'), ('N.J.', 'NOUN'), (',', '.'), ('specialty', 'NOUN'), ('chemical', 'NOUN'), ('maker', 'NOUN'), (',', '.'), ('and', 'CONJ'), ('its', 'PRON'), ('Vice', 'VERB'), ('Chairman', 'NOUN'), ('James', 'NOUN'), ('T.', 'NOUN'), ('Sherwin', 'NOUN'), ('with', 'ADP'), ('*-2', 'X'), ('attempting', 'VERB'), ('*-1', 'X'), ('to', 'PRT'), ('manipulate', 'VERB'), ('the', 'DET'), ('common', 'ADJ'), ('stock', 'NOUN'), ('of', 'ADP'), ('Union', 'NOUN'), ('Carbide', 'NOUN'), ('Corp.', 'NOUN'), ('in', 'ADP'), ('advance', 'NOUN'), ('of', 'ADP'), ('GAF', 'NOUN'), (\"'s\", 'PRT'), ('planned', 'VERB'), ('sale', 'NOUN'), ('of', 'ADP'), ('a', 'DET'), ('large', 'ADJ'), ('block', 'NOUN'), ('of', 'ADP'), ('the', 'DET'), ('stock', 'NOUN'), ('in', 'ADP'), ('November', 'NOUN'), ('1986', 'NUM'), ('.', '.'), ('All', 'DET'), ('of', 'ADP'), ('the', 'DET'), ('changes', 'NOUN'), ('require', 'VERB'), ('regulatory', 'ADJ'), ('approval', 'NOUN'), (',', '.'), ('which', 'DET'), ('*T*-1', 'X'), ('is', 'VERB'), ('expected', 'VERB'), ('*-129', 'X'), ('shortly', 'ADV'), ('.', '.'), ('He', 'PRON'), ('has', 'VERB'), ('promised', 'X'), ('stiffer', 'VERB'), ('fines', 'NOUN'), (',', '.'), ('though', 'ADP'), ('the', 'DET'), ('size', 'NOUN'), ('of', 'ADP'), ('penalties', 'NOUN'), ('sought', 'VERB'), ('*', 'X'), ('by', 'ADP'), ('OSHA', 'NOUN'), ('have', 'VERB'), ('been', 'VERB'), ('rising', 'VERB'), ('in', 'ADP'), ('recent', 'ADJ'), ('years', 'NOUN'), ('even', 'ADV'), ('before', 'ADP'), ('he', 'PRON'), ('took', 'VERB'), ('office', 'NOUN'), ('this', 'DET'), ('year', 'NOUN'), ('.', '.'), ('Mr.', 'NOUN'), ('Phelan', 'NOUN'), ('said', 'VERB'), ('0', 'X'), ('the', 'DET'), ('Big', 'NOUN'), ('Board', 'NOUN'), ('is', 'VERB'), ('likely', 'ADJ'), ('*-1', 'X'), ('to', 'PRT'), ('study', 'NOUN'), ('the', 'DET'), ('program-trading', 'ADJ'), ('issue', 'NOUN'), ('.', '.'), ('Sales', 'NOUN'), ('rose', 'VERB'), ('4', 'NUM'), ('%', 'NOUN'), ('to', 'PRT'), ('$', '.'), ('3.28', 'NOUN'), ('billion', 'NUM'), ('*U*', 'X'), ('from', 'ADP'), ('$', '.'), ('3.16', 'NOUN'), ('billion', 'NUM'), ('*U*', 'X'), ('.', '.'), ('They', 'PRON'), ('succeed', 'VERB'), ('Daniel', 'NOUN'), ('M.', 'NOUN'), ('Rexinger', 'NOUN'), (',', '.'), ('retired', 'VERB'), ('Circuit', 'NOUN'), ('City', 'NOUN'), ('executive', 'NOUN'), ('vice', 'NOUN'), ('president', 'NOUN'), (',', '.'), ('and', 'CONJ'), ('Robert', 'NOUN'), ('R.', 'NOUN'), ('Glauber', 'NOUN'), (',', '.'), ('U.S.', 'NOUN'), ('Treasury', 'NOUN'), ('undersecretary', 'NOUN'), (',', '.'), ('on', 'ADP'), ('the', 'DET'), ('12-member', 'NOUN'), ('board', 'NOUN'), ('.', '.'), ('``', '.'), ('Even', 'ADV'), ('the', 'DET'), ('7.2', 'NUM'), ('%', 'NOUN'), ('return', 'NOUN'), ('from', 'ADP'), ('the', 'DET'), ('risk-free', 'NOUN'), ('three-month', 'ADJ'), ('Treasury', 'NOUN'), ('bill', 'NOUN'), ('has', 'VERB'), ('easily', 'ADV'), ('outdistanced', 'VERB'), ('the', 'DET'), ('4.1', 'NUM'), ('%', 'NOUN'), ('return', 'NOUN'), ('from', 'ADP'), ('junk', 'NOUN'), ('bonds', 'NOUN'), (',', '.'), (\"''\", '.'), ('wrote', 'VERB'), ('*T*-1', 'X'), ('Moody', 'NOUN'), (\"'s\", 'PRT'), ('economist', 'NOUN'), ('John', 'NOUN'), ('Lonski', 'NOUN'), ('in', 'ADP'), ('yesterday', 'NOUN'), (\"'s\", 'PRT'), ('market', 'NOUN'), ('report', 'NOUN'), ('.', '.'), ('In', 'ADP'), ('most', 'ADJ'), ('of', 'ADP'), ('the', 'DET'), ('British', 'ADJ'), ('transactions', 'NOUN'), (',', '.'), ('the', 'DET'), ('municipalities', 'NOUN'), ('agreed', 'VERB'), ('*-1', 'X'), ('to', 'PRT'), ('make', 'VERB'), ('floating-rate', 'ADJ'), ('payments', 'NOUN'), ('to', 'PRT'), ('banks', 'NOUN'), (',', '.'), ('which', 'DET'), ('*T*-62', 'X'), ('would', 'VERB'), ('make', 'VERB'), ('fixed-rate', 'ADJ'), ('payments', 'NOUN'), ('.', '.'), ('He', 'PRON'), ('said', 'VERB'), ('0', 'X'), ('USX', 'NOUN'), ('also', 'ADV'), ('appeared', 'VERB'), ('*-1', 'X'), ('to', 'PRT'), ('sell', 'VERB'), ('a', 'DET'), ('richer', 'NOUN'), ('mix', 'NOUN'), ('of', 'ADP'), ('steel', 'NOUN'), ('products', 'NOUN'), (',', '.'), ('such', 'ADJ'), ('as', 'ADP'), ('the', 'DET'), ('more', 'ADJ'), ('profitable', 'ADJ'), ('pipe', 'NOUN'), ('and', 'CONJ'), ('galvanized', 'NOUN'), ('coated', 'NOUN'), ('sheet', 'NOUN'), (',', '.'), ('than', 'ADP'), ('lower-priced', 'DET'), ('structural', 'NOUN'), ('goods', 'NOUN'), ('.', '.'), ('Says', 'VERB'), ('*ICH*-1', 'X'), ('Kathryn', 'VERB'), ('McAuley', 'X'), (',', '.'), ('an', 'DET'), ('analyst', 'NOUN'), ('at', 'ADP'), ('First', 'NOUN'), ('Manhattan', 'NOUN'), ('Co.', 'NOUN'), (':', '.'), ('``', '.'), ('This', 'DET'), ('is', 'VERB'), ('the', 'DET'), ('greatest', 'ADJ'), ('acquisition', 'NOUN'), ('challenge', 'NOUN'), ('0', 'X'), ('he', 'PRON'), ('has', 'VERB'), ('faced', 'VERB'), ('*T*-2', 'X'), ('.', '.'), ('The', 'DET'), ('ultimate', 'ADJ'), ('goal', 'NOUN'), ('of', 'ADP'), ('any', 'DET'), ('investor', 'NOUN'), ('is', 'VERB'), ('a', 'DET'), ('profit', 'NOUN'), ('motive', 'NOUN'), (',', '.'), ('and', 'CONJ'), ('regulators', 'NOUN'), ('should', 'VERB'), ('not', 'ADV'), ('concern', 'NOUN'), ('themselves', 'PRON'), ('with', 'ADP'), ('whether', 'ADP'), ('investors', 'NOUN'), ('are', 'VERB'), ('sufficiently', 'X'), ('focused', 'VERB'), ('on', 'ADP'), ('the', 'DET'), ('long', 'ADJ'), ('term', 'NOUN'), ('.', '.'), ('The', 'DET'), ('group', 'NOUN'), ('says', 'VERB'), ('0', 'X'), ('standardized', 'ADJ'), ('achievement', 'NOUN'), ('test', 'NOUN'), ('scores', 'NOUN'), ('are', 'VERB'), ('greatly', 'ADV'), ('inflated', 'VERB'), ('because', 'ADP'), ('teachers', 'NOUN'), ('often', 'ADV'), ('``', '.'), ('teach', 'VERB'), ('the', 'DET'), ('test', 'NOUN'), (\"''\", '.'), ('as', 'ADP'), ('Mrs.', 'NOUN'), ('Yeargin', 'NOUN'), ('did', 'VERB'), ('*?*', 'X'), (',', '.'), ('although', 'ADP'), ('most', 'ADJ'), ('are', 'VERB'), ('never', 'ADV'), ('caught', 'VERB'), ('*-1', 'X'), ('.', '.'), ('For', 'ADP'), ('the', 'DET'), ('fifth', 'ADJ'), ('consecutive', 'ADJ'), ('month', 'NOUN'), (',', '.'), ('purchasing', 'VERB'), ('managers', 'NOUN'), ('said', 'VERB'), ('0', 'X'), ('prices', 'NOUN'), ('for', 'ADP'), ('the', 'DET'), ('goods', 'NOUN'), ('0', 'X'), ('they', 'PRON'), ('purchased', 'VERB'), ('*T*-1', 'X'), ('fell', 'VERB'), ('.', '.'), ('The', 'DET'), ('latest', 'ADJ'), ('two', 'NUM'), ('funds', 'NOUN'), ('were', 'VERB'), ('assembled', 'VERB'), ('*-42', 'X'), ('jointly', 'ADV'), ('by', 'ADP'), ('Goldman', 'NOUN'), (',', '.'), ('Sachs', 'NOUN'), ('&', 'CONJ'), ('Co.', 'NOUN'), ('of', 'ADP'), ('the', 'DET'), ('U.S.', 'NOUN'), ('and', 'CONJ'), ('Japan', 'NOUN'), (\"'s\", 'PRT'), ('Daiwa', 'NOUN'), ('Securities', 'NOUN'), ('Co', 'NOUN'), ('.', '.'), ('Buick', 'NOUN'), ('approached', 'NOUN'), ('American', 'NOUN'), ('Express', 'NOUN'), ('about', 'ADP'), ('a', 'DET'), ('joint', 'ADJ'), ('promotion', 'NOUN'), ('because', 'ADP'), ('its', 'PRON'), ('card', 'NOUN'), ('holders', 'NOUN'), ('generally', 'ADV'), ('have', 'VERB'), ('a', 'DET'), ('``', '.'), ('good', 'ADJ'), ('credit', 'NOUN'), ('history', 'NOUN'), (\"''\", '.'), ('and', 'CONJ'), ('are', 'VERB'), ('``', '.'), ('good', 'ADJ'), ('at', 'ADP'), ('*', 'X'), ('making', 'VERB'), ('payments', 'NOUN'), (',', '.'), (\"''\", '.'), ('says', 'VERB'), ('*T*-1', 'X'), ('a', 'DET'), ('spokeswoman', 'NOUN'), ('for', 'ADP'), ('the', 'DET'), ('division', 'NOUN'), ('.', '.'), ('*-1', 'X'), ('Asked', 'VERB'), ('*-2', 'X'), ('whether', 'ADP'), ('the', 'DET'), ('bidding', 'NOUN'), ('flap', 'NOUN'), ('would', 'VERB'), ('hurt', 'VERB'), ('U.S.-Japan', 'X'), ('relations', 'NOUN'), (',', '.'), ('Mr.', 'NOUN'), ('Yamamoto', 'NOUN'), ('said', 'VERB'), (',', '.'), ('``', '.'), ('this', 'DET'), ('will', 'VERB'), ('be', 'VERB'), ('a', 'DET'), ('minus', 'CONJ'), ('factor', 'NOUN'), ('.', '.'), (\"''\", '.'), ('As', 'ADP'), ('a', 'DET'), ('result', 'NOUN'), (',', '.'), ('the', 'DET'), ('market', 'NOUN'), (\"'s\", 'PRT'), ('dividend', 'NOUN'), ('yield', 'VERB'), ('--', '.'), ('dividends', 'NOUN'), ('as', 'ADP'), ('a', 'DET'), ('percentage', 'NOUN'), ('of', 'ADP'), ('price', 'NOUN'), ('--', '.'), ('has', 'VERB'), ('slid', 'VERB'), ('to', 'PRT'), ('a', 'DET'), ('level', 'NOUN'), ('that', 'ADP'), ('*T*-232', 'DET'), ('is', 'VERB'), ('fairly', 'ADV'), ('low', 'ADJ'), ('and', 'CONJ'), ('unenticing', 'NOUN'), ('by', 'ADP'), ('historical', 'ADJ'), ('standards', 'NOUN'), ('.', '.'), ('More', 'ADV'), ('often', 'ADV'), ('than', 'ADP'), ('not', 'ADV'), (',', '.'), ('ringers', 'NOUN'), ('think', 'VERB'), ('of', 'ADP'), ('the', 'DET'), ('church', 'NOUN'), ('as', 'ADP'), ('something', 'NOUN'), ('stuck', 'NOUN'), ('*', 'X'), ('on', 'ADP'), ('the', 'DET'), ('bottom', 'NOUN'), ('of', 'ADP'), ('the', 'DET'), ('belfry', 'NOUN'), ('.', '.'), ('This', 'DET'), ('trial', 'NOUN'), ('is', 'VERB'), ('expected', 'VERB'), ('*-1', 'X'), ('to', 'PRT'), ('last', 'ADJ'), ('five', 'NUM'), ('weeks', 'NOUN'), ('.', '.'), ('Campbell', 'NOUN'), ('Soup', 'NOUN'), ('forced', 'VERB'), ('out', 'PRT'), ('its', 'PRON'), ('president', 'NOUN'), ('and', 'CONJ'), ('chief', 'NOUN'), ('executive', 'NOUN'), (',', '.'), ('R.', 'NOUN'), ('Gordon', 'NOUN'), ('McGovern', 'NOUN'), (',', '.'), ('the', 'DET'), ('strongest', 'ADJ'), ('indication', 'NOUN'), ('*ICH*-1', 'X'), ('yet', 'ADV'), ('that', 'ADP'), ('the', 'DET'), ('Dorrance', 'NOUN'), ('family', 'NOUN'), ('plans', 'VERB'), ('*', 'X'), ('to', 'PRT'), ('take', 'VERB'), ('charge', 'NOUN'), ('of', 'ADP'), ('*', 'X'), ('reshaping', 'VERB'), ('the', 'DET'), ('troubled', 'ADJ'), ('food', 'NOUN'), ('company', 'NOUN'), ('.', '.'), ('Besides', 'ADP'), (',', '.'), ('Eggers', 'NOUN'), ('says', 'VERB'), ('0', 'X'), ('*T*-1', 'X'), (',', '.'), ('grain', 'NOUN'), ('elevators', 'NOUN'), ('are', 'VERB'), ('worth', 'ADJ'), ('*', 'X'), ('preserving', 'VERB'), ('for', 'ADP'), ('aesthetic', 'DET'), ('reasons', 'NOUN'), ('--', '.'), ('one', 'NUM'), ('famed', 'NOUN'), ('architect', 'NOUN'), ('compared', 'VERB'), ('them', 'PRON'), ('to', 'PRT'), ('the', 'DET'), ('pyramids', 'NOUN'), ('of', 'ADP'), ('Egypt', 'NOUN'), ('.', '.'), ('He', 'PRON'), ('declined', 'VERB'), ('*-1', 'X'), ('to', 'PRT'), ('discuss', 'VERB'), ('other', 'ADJ'), ('terms', 'NOUN'), ('of', 'ADP'), ('the', 'DET'), ('issue', 'NOUN'), ('.', '.'), ('*', 'X'), ('SWITCHING', 'VERB'), ('TO', 'X'), ('THE', 'DET'), ('DEFENSE', 'NOUN'), (':', '.'), ('Ratners', 'NOUN'), ('Group', 'NOUN'), ('PLC', 'NOUN'), (',', '.'), ('a', 'DET'), ('fast-growing', 'NOUN'), (',', '.'), ('acquisition-minded', 'NOUN'), ('London-based', 'ADJ'), ('jeweler', 'NOUN'), (',', '.'), ('raised', 'VERB'), ('its', 'PRON'), ('price', 'NOUN'), ('for', 'ADP'), ('Seattle-based', 'DET'), ('specialty', 'NOUN'), ('jeweler', 'NOUN'), ('Weisfield', 'NOUN'), (\"'s\", 'PRT'), ('Inc.', 'NOUN'), ('to', 'PRT'), ('$', '.'), ('57.50', 'NUM'), ('*U*', 'X'), ('a', 'DET'), ('share', 'NOUN'), (',', '.'), ('or', 'CONJ'), ('$', '.'), ('62.1', 'NOUN'), ('million', 'NUM'), ('*U*', 'X'), (',', '.'), ('from', 'ADP'), ('$', '.'), ('50', 'NUM'), ('*U*', 'X'), ('a', 'DET'), ('share', 'NOUN'), (',', '.'), ('or', 'CONJ'), ('$', '.'), ('55', 'NUM'), ('million', 'NUM'), ('*U*', 'X'), (',', '.'), ('after', 'ADP'), ('another', 'DET'), ('concern', 'NOUN'), ('said', 'VERB'), ('0', 'X'), ('it', 'PRON'), ('would', 'VERB'), ('be', 'VERB'), ('prepared', 'VERB'), ('*-1', 'X'), ('to', 'PRT'), ('outbid', 'VERB'), ('Ratners', 'NOUN'), (\"'s\", 'PRT'), ('initial', 'ADJ'), ('offer', 'NOUN'), ('.', '.'), ('It', 'PRON'), ('plans', 'VERB'), ('*-1', 'X'), ('to', 'PRT'), ('sell', 'VERB'), ('the', 'DET'), ('ad', 'NOUN'), ('time', 'NOUN'), ('to', 'PRT'), ('its', 'PRON'), ('clients', 'NOUN'), ('at', 'ADP'), ('a', 'DET'), ('discount', 'NOUN'), ('.', '.'), ('While', 'ADP'), ('researchers', 'NOUN'), ('believe', 'VERB'), ('0', 'X'), ('such', 'ADJ'), ('transplants', 'NOUN'), ('could', 'VERB'), ('help', 'VERB'), ('*-1', 'X'), ('treat', 'VERB'), ('diseases', 'NOUN'), ('like', 'ADP'), ('Alzheimer', 'NOUN'), (\"'s\", 'PRT'), (',', '.'), ('anti-abortionists', 'NOUN'), ('oppose', 'VERB'), ('the', 'DET'), ('research', 'NOUN'), ('.', '.'), ('Economists', 'NOUN'), ('say', 'VERB'), ('0', 'X'), ('a', 'DET'), ('buildup', 'NOUN'), ('in', 'ADP'), ('inventories', 'NOUN'), ('can', 'VERB'), ('provoke', 'X'), ('cutbacks', 'NOUN'), ('in', 'ADP'), ('production', 'NOUN'), ('that', 'ADP'), ('*T*-48', 'X'), ('can', 'VERB'), ('lead', 'VERB'), ('to', 'PRT'), ('a', 'DET'), ('recession', 'NOUN'), ('.', '.'), ('*-1', 'X'), ('Bucking', 'VERB'), ('the', 'DET'), ('market', 'NOUN'), ('trend', 'NOUN'), (',', '.'), ('an', 'DET'), ('issue', 'NOUN'), ('of', 'ADP'), ('$', '.'), ('130', 'NUM'), ('million', 'NUM'), ('*U*', 'X'), ('general', 'ADJ'), ('obligation', 'NOUN'), ('distributable', 'ADJ'), ('state', 'NOUN'), ('aid', 'NOUN'), ('bonds', 'NOUN'), ('from', 'ADP'), ('Detroit', 'NOUN'), (',', '.'), ('Mich.', 'NOUN'), (',', '.'), ('apparently', 'ADV'), ('drew', 'VERB'), ('solid', 'ADJ'), ('investor', 'NOUN'), ('interest', 'NOUN'), ('.', '.'), ('By', 'ADP'), ('*', 'X'), ('addressing', 'VERB'), ('those', 'DET'), ('problems', 'NOUN'), (',', '.'), ('Mr.', 'NOUN'), ('Maxwell', 'NOUN'), ('said', 'VERB'), ('0', 'X'), ('*T*-1', 'X'), (',', '.'), ('the', 'DET'), ('new', 'ADJ'), ('funds', 'NOUN'), ('have', 'VERB'), ('become', 'VERB'), ('``', '.'), ('extremely', 'ADV'), ('attractive', 'ADJ'), ('to', 'PRT'), ('Japanese', 'ADJ'), ('and', 'CONJ'), ('other', 'ADJ'), ('investors', 'NOUN'), ('outside', 'ADP'), ('the', 'DET'), ('U.S.', 'NOUN'), ('.', '.'), (\"''\", '.'), ('*-1', 'X'), ('Rated', 'VERB'), ('*-2', 'X'), ('triple-A', 'ADJ'), ('by', 'ADP'), ('both', 'DET'), ('Moody', 'NOUN'), (\"'s\", 'PRT'), ('Investors', 'NOUN'), ('Service', 'NOUN'), ('Inc.', 'NOUN'), ('and', 'CONJ'), ('Standard', 'NOUN'), ('&', 'CONJ'), ('Poor', 'NOUN'), (\"'s\", 'PRT'), ('Corp.', 'NOUN'), (',', '.'), ('the', 'DET'), ('issue', 'NOUN'), ('will', 'VERB'), ('be', 'VERB'), ('sold', 'VERB'), ('*-1', 'X'), ('through', 'ADP'), ('underwriters', 'NOUN'), ('led', 'VERB'), ('*', 'X'), ('by', 'ADP'), ('Salomon', 'NOUN'), ('Brothers', 'NOUN'), ('Inc', 'NOUN'), ('.', '.'), ('``', '.'), ('I', 'PRON'), ('live', 'VERB'), ('in', 'ADP'), ('hopes', 'NOUN'), ('that', 'ADP'), ('the', 'DET'), ('ringers', 'NOUN'), ('themselves', 'PRON'), ('will', 'VERB'), ('be', 'VERB'), ('drawn', 'VERB'), ('*-139', 'X'), ('into', 'ADP'), ('that', 'DET'), ('fuller', 'NOUN'), ('life', 'NOUN'), ('.', '.'), (\"''\", '.'), ('Concurrent', 'NOUN'), ('with', 'ADP'), ('Mr.', 'NOUN'), ('Nichol', 'NOUN'), (\"'s\", 'PRT'), ('appointment', 'NOUN'), (',', '.'), ('Comprehensive', 'NOUN'), ('Care', 'NOUN'), ('moved', 'VERB'), ('its', 'PRON'), ('corporate', 'ADJ'), ('headquarters', 'NOUN'), ('from', 'ADP'), ('Irvine', 'NOUN'), (',', '.'), ('Calif.', 'NOUN'), (',', '.'), ('to', 'PRT'), ('St.', 'NOUN'), ('Louis', 'NOUN'), (',', '.'), ('where', 'ADV'), ('the', 'DET'), ('company', 'NOUN'), ('maintained', 'VERB'), ('its', 'PRON'), ('contract', 'NOUN'), ('services', 'NOUN'), ('offices', 'NOUN'), ('*T*-1', 'X'), ('.', '.'), ('And', 'CONJ'), ('many', 'ADJ'), ('emerging', 'NOUN'), ('markets', 'NOUN'), ('have', 'VERB'), ('outpaced', 'X'), ('more', 'ADV'), ('mature', 'VERB'), ('markets', 'NOUN'), (',', '.'), ('such', 'ADJ'), ('as', 'ADP'), ('the', 'DET'), ('U.S.', 'NOUN'), ('and', 'CONJ'), ('Japan', 'NOUN'), ('.', '.'), ('Common', 'NOUN'), ('shares', 'NOUN'), ('outstanding', 'ADJ'), (':', '.'), ('19.6', 'NUM'), ('million', 'NUM'), ('In', 'ADP'), ('the', 'DET'), ('past', 'ADJ'), ('five', 'NUM'), ('years', 'NOUN'), (',', '.'), ('Japanese', 'ADJ'), ('companies', 'NOUN'), ('have', 'VERB'), ('tripled', 'VERB'), ('their', 'PRON'), ('commitments', 'NOUN'), ('in', 'ADP'), ('Asia', 'NOUN'), ('to', 'PRT'), ('$', '.'), ('5.57', 'NOUN'), ('billion', 'NUM'), ('*U*', 'X'), ('.', '.'), ('Ed', 'NOUN'), ('Macheski', 'NOUN'), (',', '.'), ('a', 'DET'), ('Wilton', 'NOUN'), (',', '.'), ('Conn.', 'NOUN'), (',', '.'), ('money', 'NOUN'), ('manager', 'NOUN'), ('who', 'PRON'), ('*T*-120', 'VERB'), ('follows', 'VERB'), ('bank', 'NOUN'), ('stocks', 'NOUN'), (',', '.'), ('said', 'VERB'), ('0', 'X'), ('the', 'DET'), ('announcement', 'NOUN'), ('effectively', 'ADV'), ('gives', 'VERB'), ('the', 'DET'), ('deal', 'NOUN'), ('``', '.'), ('the', 'DET'), ('green', 'ADJ'), ('light', 'ADJ'), ('.', '.'), (\"''\", '.'), ('There', 'DET'), ('are', 'VERB'), ('no', 'DET'), ('signs', 'NOUN'), (',', '.'), ('however', 'ADV'), (',', '.'), ('of', 'ADP'), ('China', 'NOUN'), (\"'s\", 'PRT'), ('yielding', 'VERB'), ('on', 'ADP'), ('key', 'ADJ'), ('issues', 'NOUN'), ('.', '.'), ('By', 'ADP'), ('*-3', 'X'), ('using', 'VERB'), ('them', 'PRON'), (',', '.'), ('teachers', 'NOUN'), ('--', '.'), ('with', 'ADP'), ('administrative', 'ADJ'), ('blessing', 'NOUN'), ('--', '.'), ('telegraph', 'NOUN'), ('to', 'PRT'), ('students', 'NOUN'), ('beforehand', 'NOUN'), ('the', 'DET'), ('precise', 'NOUN'), ('areas', 'NOUN'), ('on', 'ADP'), ('which', 'DET'), ('a', 'DET'), ('test', 'NOUN'), ('will', 'VERB'), ('concentrate', 'VERB'), ('*T*-1', 'X'), (',', '.'), ('and', 'CONJ'), ('sometimes', 'ADV'), ('give', 'VERB'), ('away', 'ADV'), ('a', 'DET'), ('few', 'ADJ'), ('exact', 'ADJ'), ('questions', 'NOUN'), ('and', 'CONJ'), ('answers', 'NOUN'), ('.', '.'), ('Montedison', 'NOUN'), ('currently', 'ADV'), ('owns', 'VERB'), ('about', 'ADP'), ('72', 'NUM'), ('%', 'NOUN'), ('of', 'ADP'), ('Erbamont', 'NOUN'), (\"'s\", 'PRT'), ('common', 'ADJ'), ('shares', 'NOUN'), ('outstanding', 'ADJ'), ('.', '.'), ('Savin', 'NOUN'), ('cited', 'VERB'), ('``', '.'), ('a', 'DET'), ('general', 'ADJ'), ('softening', 'VERB'), ('in', 'ADP'), ('the', 'DET'), ('demand', 'NOUN'), ('for', 'ADP'), ('office', 'NOUN'), ('products', 'NOUN'), ('in', 'ADP'), ('the', 'DET'), ('market', 'NOUN'), ('segments', 'NOUN'), ('in', 'ADP'), ('which', 'DET'), ('Savin', 'NOUN'), ('competes', 'VERB'), ('*T*-1', 'X'), ('.', '.'), ('We', 'PRON'), (\"'re\", 'VERB'), ('seeing', 'VERB'), ('it', 'PRON'), ('partly', 'ADV'), ('because', 'ADP'), ('older', 'ADJ'), ('vintages', 'NOUN'), ('are', 'VERB'), ('growing', 'VERB'), ('more', 'ADV'), ('scarce', 'VERB'), ('.', '.'), (\"''\", '.'), ('``', '.'), ('Public', 'NOUN'), ('policy', 'NOUN'), ('favors', 'NOUN'), ('the', 'DET'), ('development', 'NOUN'), ('and', 'CONJ'), ('marketing', 'NOUN'), ('of', 'ADP'), ('beneficial', 'ADJ'), ('new', 'ADJ'), ('drugs', 'NOUN'), (',', '.'), ('even', 'ADV'), ('though', 'ADP'), ('some', 'DET'), ('risks', 'NOUN'), (',', '.'), ('perhaps', 'ADV'), ('serious', 'ADJ'), ('ones', 'NOUN'), (',', '.'), ('might', 'VERB'), ('accompany', 'X'), ('their', 'PRON'), ('introduction', 'NOUN'), ('because', 'ADP'), ('drugs', 'NOUN'), ('can', 'VERB'), ('save', 'VERB'), ('lives', 'VERB'), ('and', 'CONJ'), ('reduce', 'VERB'), ('pain', 'X'), ('and', 'CONJ'), ('suffering', 'NOUN'), (',', '.'), (\"''\", '.'), ('the', 'DET'), ('unanimous', 'NOUN'), ('court', 'NOUN'), ('said', 'VERB'), ('*T*-1', 'X'), ('.', '.'), ('Investors', 'NOUN'), ('switched', 'VERB'), ('trading', 'NOUN'), ('focus', 'VERB'), ('quickly', 'ADV'), ('as', 'ADP'), ('they', 'PRON'), ('did', 'VERB'), ('Tuesday', 'NOUN'), (',', '.'), ('*-1', 'X'), ('reflecting', 'VERB'), ('uncertainty', 'NOUN'), ('about', 'ADP'), ('long-term', 'ADJ'), ('commitments', 'NOUN'), ('to', 'PRT'), ('any', 'DET'), ('issue', 'NOUN'), ('or', 'CONJ'), ('sector', 'NOUN'), (',', '.'), ('traders', 'NOUN'), ('said', 'VERB'), ('0', 'X'), ('*T*-2', 'X'), ('.', '.'), ('The', 'DET'), ('company', 'NOUN'), ('said', 'VERB'), ('0', 'X'), ('Mr.', 'NOUN'), ('Stronach', 'NOUN'), ('will', 'VERB'), ('personally', 'X'), ('direct', 'VERB'), ('the', 'DET'), ('restructuring', 'NOUN'), (',', '.'), ('*-1', 'X'), ('assisted', 'VERB'), ('*-2', 'X'), ('by', 'ADP'), ('Manfred', 'DET'), ('Gingl', 'NOUN'), (',', '.'), ('president', 'NOUN'), ('and', 'CONJ'), ('chief', 'NOUN'), ('executive', 'NOUN'), ('.', '.'), ('The', 'DET'), ('Sacramento-based', 'NOUN'), ('S&L', 'NOUN'), (',', '.'), ('which', 'DET'), ('*T*-110', 'NOUN'), ('has', 'VERB'), ('44', 'NUM'), ('branch', 'NOUN'), ('offices', 'NOUN'), ('in', 'ADP'), ('north', 'DET'), ('central', 'ADJ'), ('California', 'NOUN'), (',', '.'), ('had', 'VERB'), ('assets', 'NOUN'), ('of', 'ADP'), ('$', '.'), ('2.4', 'NUM'), ('billion', 'NUM'), ('*U*', 'X'), ('at', 'ADP'), ('the', 'DET'), ('end', 'NOUN'), ('of', 'ADP'), ('September', 'NOUN'), ('.', '.'), ('And', 'CONJ'), ('I', 'PRON'), ('apparently', 'ADV'), ('had', 'VERB'), ('no', 'DET'), ('right', 'NOUN'), ('*', 'X'), ('to', 'PRT'), ('print', 'VERB'), ('hither', 'X'), ('what', 'PRON'), ('the', 'DET'), ('Voice', 'NOUN'), ('was', 'VERB'), ('booming', 'VERB'), ('*T*-2', 'X'), ('to', 'PRT'), ('yon', 'VERB'), ('.', '.'), ('*-1', 'X'), ('To', 'PRT'), ('offset', 'VERB'), ('the', 'DET'), ('reduction', 'NOUN'), (',', '.'), ('Congress', 'NOUN'), ('approved', 'VERB'), ('a', 'DET'), ('$', '.'), ('20,000', 'NUM'), ('*U*', 'X'), ('fee', 'NOUN'), ('that', 'ADP'), ('investors', 'NOUN'), ('and', 'CONJ'), ('companies', 'NOUN'), ('will', 'VERB'), ('have', 'VERB'), ('*-3', 'X'), ('to', 'PRT'), ('pay', 'VERB'), ('*T*-2', 'X'), ('each', 'DET'), ('time', 'NOUN'), ('0', 'X'), ('they', 'PRON'), ('make', 'VERB'), ('required', 'VERB'), ('filings', 'NOUN'), ('to', 'PRT'), ('antitrust', 'ADJ'), ('regulators', 'NOUN'), ('about', 'ADP'), ('mergers', 'NOUN'), (',', '.'), ('acquisitions', 'NOUN'), ('and', 'CONJ'), ('certain', 'ADJ'), ('other', 'ADJ'), ('transactions', 'NOUN'), ('*T*-4', 'X'), ('.', '.'), ('Still', 'ADV'), (',', '.'), ('some', 'DET'), ('market', 'NOUN'), ('analysts', 'NOUN'), ('say', 'VERB'), ('0', 'X'), ('the', 'DET'), ('current', 'ADJ'), ('3.3', 'NUM'), ('%', 'NOUN'), ('reading', 'NOUN'), ('is', 'VERB'), (\"n't\", 'ADV'), ('as', 'ADP'), ('troublesome', 'DET'), ('as', 'ADP'), ('it', 'PRON'), ('might', 'VERB'), ('have', 'VERB'), ('been', 'VERB'), ('*?*', 'X'), ('in', 'ADP'), ('years', 'NOUN'), ('past', 'NOUN'), ('.', '.'), ('In', 'ADP'), ('1970', 'NUM'), (',', '.'), ('Mr.', 'NOUN'), ('Hahn', 'NOUN'), ('called', 'VERB'), ('in', 'ADP'), ('state', 'NOUN'), ('police', 'NOUN'), ('to', 'PRT'), ('arrest', 'VERB'), ('student', 'NOUN'), ('protesters', 'NOUN'), ('who', 'PRON'), ('*T*-3', 'X'), ('were', 'VERB'), ('occupying', 'X'), ('a', 'DET'), ('university', 'NOUN'), ('building', 'NOUN'), ('.', '.'), ('Nevertheless', 'ADV'), (',', '.'), ('said', 'VERB'), ('*T*-1', 'X'), ('Brenda', 'VERB'), ('Malizia', 'X'), ('Negus', 'VERB'), (',', '.'), ('editor', 'NOUN'), ('of', 'ADP'), ('Money', 'NOUN'), ('Fund', 'NOUN'), ('Report', 'NOUN'), (',', '.'), ('yields', 'NOUN'), ('``', '.'), ('may', 'VERB'), ('blip', 'X'), ('up', 'PRT'), ('again', 'ADV'), ('before', 'ADP'), ('they', 'PRON'), ('blip', 'VERB'), ('down', 'ADV'), (\"''\", '.'), ('because', 'ADP'), ('of', 'ADP'), ('recent', 'ADJ'), ('rises', 'NOUN'), ('in', 'ADP'), ('short-term', 'ADJ'), ('interest', 'NOUN'), ('rates', 'NOUN'), ('.', '.'), ('Faulding', 'NOUN'), ('said', 'VERB'), ('0', 'X'), ('it', 'PRON'), ('owns', 'VERB'), ('33', 'NUM'), ('%', 'NOUN'), ('of', 'ADP'), ('Moleculon', 'NOUN'), (\"'s\", 'PRT'), ('voting', 'NOUN'), ('stock', 'NOUN'), ('and', 'CONJ'), ('has', 'VERB'), ('an', 'DET'), ('agreement', 'NOUN'), ('*', 'X'), ('to', 'PRT'), ('acquire', 'VERB'), ('an', 'DET'), ('additional', 'ADJ'), ('19', 'NUM'), ('%', 'NOUN'), ('.', '.'), ('The', 'DET'), ('Bush', 'NOUN'), ('administration', 'NOUN'), ('has', 'VERB'), ('threatened', 'VERB'), ('*-1', 'X'), ('to', 'PRT'), ('veto', 'NOUN'), ('such', 'ADJ'), ('a', 'DET'), ('bill', 'NOUN'), ('because', 'ADP'), ('of', 'ADP'), ('what', 'PRON'), ('it', 'PRON'), ('views', 'NOUN'), ('*T*-2', 'X'), ('as', 'ADP'), ('an', 'DET'), ('undesirable', 'NOUN'), ('intrusion', 'NOUN'), ('into', 'ADP'), ('the', 'DET'), ('affairs', 'NOUN'), ('of', 'ADP'), ('industry', 'NOUN'), (',', '.'), ('but', 'CONJ'), ('the', 'DET'), ('300-113', 'NOUN'), ('vote', 'NOUN'), ('suggests', 'VERB'), ('that', 'ADP'), ('supporters', 'NOUN'), ('have', 'VERB'), ('the', 'DET'), ('potential', 'ADJ'), ('0', 'X'), ('*', 'X'), ('to', 'PRT'), ('override', 'VERB'), ('a', 'DET'), ('veto', 'NOUN'), ('*T*-3', 'X'), ('.', '.'), ('During', 'ADP'), ('the', 'DET'), ('current', 'ADJ'), ('crop', 'NOUN'), ('year', 'NOUN'), (',', '.'), ('Brazil', 'NOUN'), ('was', 'VERB'), ('expected', 'VERB'), ('*-1', 'X'), ('to', 'PRT'), ('produce', 'VERB'), ('6.9', 'NUM'), ('million', 'NUM'), ('tons', 'NOUN'), ('of', 'ADP'), ('sugar', 'NOUN'), (',', '.'), ('a', 'DET'), ('drop', 'NOUN'), ('from', 'ADP'), ('8.1', 'NUM'), ('million', 'NUM'), ('tons', 'NOUN'), ('in', 'ADP'), ('1988-89', 'DET'), ('.', '.'), ('They', 'PRON'), ('mature', 'VERB'), ('in', 'ADP'), ('2005', 'NUM'), (',', '.'), ('2009', 'NUM'), ('and', 'CONJ'), ('2029', 'NUM'), ('.', '.'), ('An', 'DET'), ('index', 'NOUN'), ('of', 'ADP'), ('economic', 'ADJ'), ('activity', 'NOUN'), ('drawn', 'VERB'), ('*', 'X'), ('from', 'ADP'), ('the', 'DET'), ('survey', 'NOUN'), ('stood', 'VERB'), ('last', 'ADJ'), ('month', 'NOUN'), ('at', 'ADP'), ('47.6', 'NUM'), ('%', 'NOUN'), (';', '.'), ('a', 'DET'), ('reading', 'NOUN'), ('above', 'ADP'), ('50', 'NUM'), ('%', 'NOUN'), ('would', 'VERB'), ('have', 'VERB'), ('indicated', 'VERB'), ('that', 'ADP'), ('the', 'DET'), ('manufacturing', 'NOUN'), ('sector', 'NOUN'), ('was', 'VERB'), ('improving', 'VERB'), ('.', '.'), ('Something', 'NOUN'), ('like', 'ADP'), ('one-third', 'NOUN'), ('of', 'ADP'), ('the', 'DET'), ('nation', 'NOUN'), (\"'s\", 'PRT'), ('60', 'NUM'), ('largest', 'ADJ'), ('cities', 'NOUN'), ('*ICH*-1', 'X'), ('are', 'VERB'), ('thinking', 'VERB'), ('about', 'ADP'), ('new', 'ADJ'), ('stadiums', 'NOUN'), (',', '.'), ('ranging', 'NOUN'), ('from', 'ADP'), ('Cleveland', 'NOUN'), ('to', 'PRT'), ('San', 'NOUN'), ('Antonio', 'NOUN'), ('and', 'CONJ'), ('St.', 'NOUN'), ('Petersburg', 'NOUN'), ('.', '.'), ('It', 'PRON'), ('also', 'ADV'), ('hopes', 'VERB'), ('for', 'ADP'), ('ultimate', 'ADJ'), ('gains', 'NOUN'), ('of', 'ADP'), ('as', 'ADP'), ('much', 'ADJ'), ('as', 'ADP'), ('$', '.'), ('300', 'NUM'), ('million', 'NUM'), ('*U*', 'X'), ('on', 'ADP'), ('equity', 'NOUN'), ('investments', 'NOUN'), ('in', 'ADP'), ('buy-outs', 'NOUN'), ('and', 'CONJ'), ('restructurings', 'NOUN'), ('.', '.'), ('A', 'DET'), ('Shearson', 'NOUN'), ('spokesman', 'NOUN'), ('had', 'VERB'), ('no', 'DET'), ('comment', 'NOUN'), ('.', '.'), ('There', 'DET'), (\"'s\", 'VERB'), ('never', 'ADV'), ('been', 'VERB'), ('an', 'DET'), ('exception', 'NOUN'), (',', '.'), (\"''\", '.'), ('says', 'VERB'), ('0', 'X'), ('*T*-1', 'X'), ('Gerald', 'NOUN'), ('W.', 'NOUN'), ('Perritt', 'NOUN'), (',', '.'), ('a', 'DET'), ('Chicago', 'NOUN'), ('investment', 'NOUN'), ('adviser', 'NOUN'), ('and', 'CONJ'), ('money', 'NOUN'), ('manager', 'NOUN'), (',', '.'), ('based', 'VERB'), ('on', 'ADP'), ('a', 'DET'), ('review', 'NOUN'), ('of', 'ADP'), ('six', 'NUM'), ('decades', 'NOUN'), ('of', 'ADP'), ('stock-market', 'NOUN'), ('data', 'NOUN'), ('.', '.'), ('The', 'DET'), ('March', 'NOUN'), ('delivery', 'NOUN'), (',', '.'), ('which', 'DET'), ('*T*-1', 'X'), ('has', 'VERB'), ('no', 'DET'), ('limits', 'NOUN'), (',', '.'), ('settled', 'VERB'), ('at', 'ADP'), ('14.53', 'DET'), ('cents', 'NOUN'), (',', '.'), ('up', 'ADV'), ('0.56', 'VERB'), ('cent', 'NOUN'), ('a', 'DET'), ('pound', 'NOUN'), ('.', '.'), ('The', 'DET'), ('total', 'ADJ'), ('marks', 'NOUN'), ('the', 'DET'), ('sixth', 'ADJ'), ('consecutive', 'ADJ'), ('monthly', 'ADJ'), ('decline', 'NOUN'), ('.', '.'), ('``', '.'), ('After', 'ADP'), ('two', 'NUM'), ('months', 'NOUN'), ('of', 'ADP'), ('talks', 'NOUN'), (',', '.'), ('our', 'PRON'), ('rating', 'NOUN'), ('was', 'VERB'), ('maintained', 'VERB'), ('*-1', 'X'), ('.', '.'), (\"''\", '.'), ('``', '.'), ('Do', 'VERB'), ('you', 'PRON'), ('make', 'VERB'), ('sweatshirts', 'X'), ('or', 'CONJ'), ('sparkplugs', 'NOUN'), ('?', '.'), ('The', 'DET'), ('judge', 'NOUN'), ('declined', 'VERB'), ('*-1', 'X'), ('to', 'PRT'), ('discuss', 'VERB'), ('his', 'PRON'), ('salary', 'NOUN'), ('in', 'ADP'), ('detail', 'DET'), (',', '.'), ('but', 'CONJ'), ('said', 'VERB'), (':', '.'), ('``', '.'), ('I', 'PRON'), (\"'m\", 'VERB'), ('going', 'VERB'), ('*-2', 'X'), ('to', 'PRT'), ('be', 'VERB'), ('a', 'DET'), ('high-priced', 'ADJ'), ('lawyer', 'NOUN'), ('.', '.'), (\"''\", '.'), ('Relations', 'NOUN'), ('between', 'ADP'), ('China', 'NOUN'), ('and', 'CONJ'), ('the', 'DET'), ('U.S.', 'NOUN'), ('have', 'VERB'), ('been', 'VERB'), ('tense', 'ADJ'), ('since', 'ADP'), ('June', 'NOUN'), ('7', 'NUM'), (',', '.'), ('when', 'ADV'), ('Chinese', 'ADJ'), ('dissident', 'NOUN'), ('Fang', 'NOUN'), ('Lizhi', 'NOUN'), ('and', 'CONJ'), ('his', 'PRON'), ('wife', 'NOUN'), (',', '.'), ('Li', 'NOUN'), ('Shuxian', 'NOUN'), (',', '.'), ('took', 'VERB'), ('refuge', 'X'), ('in', 'ADP'), ('the', 'DET'), ('U.S.', 'NOUN'), ('Embassy', 'NOUN'), ('in', 'ADP'), ('Beijing', 'NOUN'), ('*T*-1', 'X'), ('.', '.'), ('How', 'ADV'), ('does', 'VERB'), ('a', 'DET'), ('nice', 'ADJ'), ('new', 'ADJ'), ('tax', 'NOUN'), (',', '.'), ('say', 'VERB'), ('5', 'NUM'), ('%', 'NOUN'), (',', '.'), ('on', 'ADP'), ('any', 'DET'), ('financial', 'ADJ'), ('transaction', 'NOUN'), ('sound', 'NOUN'), ('*T*-1', 'X'), ('?', '.'), ('He', 'PRON'), ('earned', 'VERB'), ('his', 'PRON'), ('doctorate', 'VERB'), ('in', 'ADP'), ('nuclear', 'ADJ'), ('physics', 'NOUN'), ('from', 'ADP'), ('the', 'DET'), ('Massachusetts', 'NOUN'), ('Institute', 'NOUN'), ('of', 'ADP'), ('Technology', 'NOUN'), ('.', '.'), ('Propaganda', 'NOUN'), ('is', 'VERB'), ('just', 'ADV'), ('information', 'NOUN'), ('0', 'X'), ('*T*-1', 'X'), ('to', 'PRT'), ('support', 'VERB'), ('a', 'DET'), ('viewpoint', 'NOUN'), (',', '.'), ('and', 'CONJ'), ('the', 'DET'), ('beauty', 'NOUN'), ('of', 'ADP'), ('a', 'DET'), ('democracy', 'NOUN'), ('is', 'VERB'), ('that', 'ADP'), ('it', 'PRON'), ('enables', 'VERB'), ('you', 'PRON'), ('to', 'PRT'), ('hear', 'VERB'), ('or', 'CONJ'), ('read', 'VERB'), ('every', 'DET'), ('viewpoint', 'NOUN'), ('and', 'CONJ'), ('then', 'ADV'), ('make', 'VERB'), ('up', 'ADV'), ('your', 'PRON'), ('own', 'ADJ'), ('mind', 'VERB'), ('on', 'ADP'), ('an', 'DET'), ('issue', 'NOUN'), ('.', '.'), ('Also', 'ADV'), (',', '.'), ('Mr.', 'NOUN'), ('Canepa', 'NOUN'), ('received', 'VERB'), ('a', 'DET'), ('two-week', 'ADJ'), ('suspension', 'NOUN'), ('``', '.'), ('in', 'ADP'), ('a', 'DET'), ('principal', 'NOUN'), ('capacity', 'NOUN'), ('.', '.'), (\"''\", '.'), ('The', 'DET'), ('Nasdaq', 'NOUN'), ('100', 'NUM'), ('index', 'NOUN'), ('of', 'ADP'), ('the', 'DET'), ('biggest', 'ADJ'), ('nonfinancial', 'NOUN'), ('stocks', 'NOUN'), ('gained', 'VERB'), ('1.39', 'X'), ('to', 'PRT'), ('446.62', 'VERB'), ('.', '.'), ('``', '.'), ('When', 'ADV'), ('the', 'DET'), ('sell', 'VERB'), ('programs', 'NOUN'), ('hit', 'VERB'), ('*T*-1', 'X'), (',', '.'), ('you', 'PRON'), ('can', 'VERB'), ('hear', 'VERB'), ('the', 'DET'), ('order', 'NOUN'), ('printers', 'NOUN'), ('start', 'VERB'), ('*-2', 'X'), ('to', 'PRT'), ('go', 'VERB'), (\"''\", '.'), ('on', 'ADP'), ('the', 'DET'), ('Big', 'NOUN'), ('Board', 'NOUN'), ('trading', 'NOUN'), ('floor', 'NOUN'), (',', '.'), ('says', 'VERB'), ('0', 'X'), ('*T*-3', 'X'), ('one', 'NUM'), ('specialist', 'NOUN'), ('there', 'DET'), ('.', '.'), ('Rep.', 'NOUN'), ('John', 'NOUN'), ('Dingell', 'NOUN'), (',', '.'), ('an', 'DET'), ('important', 'ADJ'), ('sponsor', 'NOUN'), ('of', 'ADP'), ('President', 'NOUN'), ('Bush', 'NOUN'), (\"'s\", 'PRT'), ('clean-air', 'ADJ'), ('bill', 'NOUN'), (',', '.'), ('plans', 'NOUN'), ('*-2', 'X'), ('to', 'PRT'), ('unveil', 'VERB'), ('a', 'DET'), ('surprise', 'NOUN'), ('proposal', 'NOUN'), ('that', 'ADP'), ('*T*-1', 'X'), ('would', 'VERB'), ('break', 'VERB'), ('with', 'ADP'), ('the', 'DET'), ('White', 'NOUN'), ('House', 'NOUN'), ('on', 'ADP'), ('a', 'DET'), ('centerpiece', 'NOUN'), ('issue', 'NOUN'), (':', '.'), ('acid', 'NOUN'), ('rain', 'NOUN'), ('.', '.'), ('Even', 'ADV'), ('before', 'ADP'), ('those', 'DET'), ('moves', 'NOUN'), ('added', 'VERB'), ('fuel', 'VERB'), (',', '.'), ('the', 'DET'), ('fires', 'NOUN'), ('of', 'ADP'), ('discontent', 'DET'), ('had', 'VERB'), ('been', 'VERB'), ('well', 'ADV'), ('stoked', 'VERB'), ('*-1', 'X'), ('by', 'ADP'), ('the', 'DET'), ('highly', 'ADV'), ('publicized', 'VERB'), ('experience', 'NOUN'), ('in', 'ADP'), ('Japan', 'NOUN'), ('of', 'ADP'), ('one', 'NUM'), ('U.S.', 'NOUN'), ('investor', 'NOUN'), (',', '.'), ('T.', 'NOUN'), ('Boone', 'NOUN'), ('Pickens', 'NOUN'), ('Jr', 'NOUN'), ('.', '.'), ('This', 'DET'), ('compares', 'VERB'), ('with', 'ADP'), ('estimates', 'NOUN'), ('that', 'ADP'), ('the', 'DET'), ('U.S.', 'NOUN'), ('``', '.'), ('derivatives', 'NOUN'), (\"''\", '.'), ('market', 'NOUN'), ('is', 'VERB'), ('perhaps', 'ADV'), ('four', 'NUM'), ('times', 'NOUN'), ('as', 'ADP'), ('large', 'ADJ'), ('as', 'ADP'), ('the', 'DET'), ('underlying', 'ADJ'), ('domestic', 'ADJ'), ('market', 'NOUN'), ('.', '.'), ('Besides', 'ADP'), ('*-1', 'X'), ('being', 'VERB'), ('a', 'DET'), ('``', '.'), ('minority-owned', 'NOUN'), ('company', 'NOUN'), (\"''\", '.'), ('Wedtech', 'NOUN'), ('was', 'VERB'), ('located', 'VERB'), ('*-1', 'X'), ('in', 'ADP'), ('the', 'DET'), ('South', 'NOUN'), ('Bronx', 'NOUN'), (',', '.'), ('a', 'DET'), ('blighted', 'NOUN'), ('area', 'NOUN'), (',', '.'), ('made', 'VERB'), ('*', 'X'), ('famous', 'VERB'), ('by', 'ADP'), ('Jimmy', 'DET'), ('Carter', 'NOUN'), ('in', 'ADP'), ('his', 'PRON'), ('1976', 'NUM'), ('presidential', 'ADJ'), ('campaign', 'NOUN'), ('.', '.'), ('Standard', 'NOUN'), ('&', 'CONJ'), ('Poor', 'NOUN'), (\"'s\", 'PRT'), ('500-Stock', 'VERB'), ('Index', 'NOUN'), ('added', 'VERB'), ('0.84', 'X'), ('to', 'PRT'), ('341.20', 'VERB'), (';', '.'), ('the', 'DET'), ('rise', 'NOUN'), ('was', 'VERB'), ('equivalent', 'NOUN'), ('to', 'PRT'), ('a', 'DET'), ('gain', 'NOUN'), ('of', 'ADP'), ('about', 'ADP'), ('six', 'NUM'), ('points', 'NOUN'), ('in', 'ADP'), ('the', 'DET'), ('industrial', 'ADJ'), ('average', 'ADJ'), ('.', '.'), ('The', 'DET'), ('House', 'NOUN'), ('has', 'VERB'), ('voted', 'VERB'), ('*-1', 'X'), ('to', 'PRT'), ('raise', 'VERB'), ('the', 'DET'), ('ceiling', 'NOUN'), ('to', 'PRT'), ('$', '.'), ('3.1', 'NUM'), ('trillion', 'NUM'), ('*U*', 'X'), (',', '.'), ('but', 'CONJ'), ('the', 'DET'), ('Senate', 'NOUN'), ('is', 'VERB'), (\"n't\", 'ADV'), ('expected', 'VERB'), ('*-2', 'X'), ('to', 'PRT'), ('act', 'VERB'), ('until', 'ADP'), ('next', 'ADJ'), ('week', 'NOUN'), ('at', 'ADP'), ('the', 'DET'), ('earliest', 'NOUN'), ('.', '.'), ('There', 'DET'), ('is', 'VERB'), ('something', 'NOUN'), ('inherently', 'NOUN'), ('suspect', 'VERB'), ('about', 'ADP'), ('Congress', 'NOUN'), (\"'s\", 'PRT'), ('prohibiting', 'VERB'), ('the', 'DET'), ('executive', 'ADJ'), ('from', 'ADP'), ('*-1', 'X'), ('even', 'ADV'), ('studying', 'VERB'), ('whether', 'ADP'), ('public', 'ADJ'), ('funds', 'NOUN'), ('are', 'VERB'), ('being', 'VERB'), ('wasted', 'X'), ('*-57', 'X'), ('in', 'ADP'), ('some', 'DET'), ('favored', 'ADJ'), ('program', 'NOUN'), ('or', 'CONJ'), ('other', 'ADJ'), ('.', '.'), ('Or', 'CONJ'), (',', '.'), ('as', 'ADP'), ('Dorothy', 'NOUN'), ('Arighi', 'NOUN'), (',', '.'), ('an', 'DET'), ('interior', 'NOUN'), ('decorator', 'NOUN'), ('in', 'ADP'), ('Arnold', 'NOUN'), (',', '.'), ('Calif.', 'NOUN'), (',', '.'), ('puts', 'VERB'), ('it', 'PRON'), (':', '.'), ('``', '.'), ('All', 'DET'), ('kinds', 'NOUN'), ('of', 'ADP'), ('funny', 'ADJ'), ('things', 'NOUN'), ('spook', 'NOUN'), ('the', 'DET'), ('market', 'NOUN'), ('these', 'DET'), ('days', 'NOUN'), ('.', '.'), (\"''\", '.'), ('Copperweld', 'NOUN'), ('said', 'VERB'), ('0', 'X'), ('it', 'PRON'), ('does', 'VERB'), (\"n't\", 'ADV'), ('expect', 'VERB'), ('a', 'DET'), ('protracted', 'ADJ'), ('strike', 'NOUN'), ('.', '.'), ('In', 'ADP'), ('the', 'DET'), ('1970s', 'NUM'), (',', '.'), ('scientists', 'NOUN'), ('reported', 'VERB'), ('cancer', 'NOUN'), ('cases', 'NOUN'), ('among', 'ADP'), ('the', 'DET'), ('daughters', 'NOUN'), ('of', 'ADP'), ('DES', 'NOUN'), ('users', 'NOUN'), ('.', '.'), ('Douglas', 'NOUN'), ('Madison', 'NOUN'), (',', '.'), ('a', 'DET'), ('corporate', 'ADJ'), ('trader', 'NOUN'), ('with', 'ADP'), ('Bank', 'NOUN'), ('of', 'ADP'), ('America', 'NOUN'), ('in', 'ADP'), ('Los', 'NOUN'), ('Angeles', 'NOUN'), (',', '.'), ('traced', 'NOUN'), ('the', 'DET'), ('dollar', 'NOUN'), (\"'s\", 'PRT'), ('recent', 'ADJ'), ('solid', 'ADJ'), ('performance', 'NOUN'), ('against', 'ADP'), ('the', 'DET'), ('yen', 'NOUN'), ('to', 'PRT'), ('purchases', 'NOUN'), ('of', 'ADP'), ('securities', 'NOUN'), ('by', 'ADP'), ('Japanese', 'ADJ'), ('insurance', 'NOUN'), ('companies', 'NOUN'), ('and', 'CONJ'), ('trust', 'NOUN'), ('banks', 'NOUN'), ('and', 'CONJ'), ('the', 'DET'), ('sense', 'NOUN'), ('that', 'ADP'), ('another', 'DET'), ('wave', 'NOUN'), ('of', 'ADP'), ('investment', 'NOUN'), ('is', 'VERB'), ('waiting', 'VERB'), ('in', 'ADP'), ('the', 'DET'), ('wings', 'NOUN'), ('.', '.'), ('Dealers', 'NOUN'), ('said', 'VERB'), ('0', 'X'), ('most', 'ADV'), ('investor', 'NOUN'), ('interest', 'NOUN'), ('was', 'VERB'), ('focused', 'VERB'), ('*-1', 'X'), ('on', 'ADP'), ('defensive', 'ADJ'), ('blue-chip', 'ADJ'), ('stocks', 'NOUN'), (',', '.'), ('particularly', 'ADV'), ('those', 'DET'), ('with', 'ADP'), ('limited', 'ADJ'), ('U.K.', 'NOUN'), ('exposure', 'NOUN'), ('.', '.'), ('The', 'DET'), ('rest', 'NOUN'), ('were', 'VERB'), ('history', 'NOUN'), (',', '.'), ('sociology', 'NOUN'), (',', '.'), ('finance', 'NOUN'), ('--', '.'), ('subjects', 'NOUN'), ('0', 'X'), ('they', 'PRON'), ('never', 'ADV'), ('had', 'VERB'), ('*T*-1', 'X'), ('.', '.'), (\"''\", '.'), ('On', 'ADP'), ('London', 'NOUN'), (\"'s\", 'PRT'), ('Stock', 'NOUN'), ('Exchange', 'NOUN'), (',', '.'), ('Reuters', 'NOUN'), ('shares', 'NOUN'), ('rose', 'VERB'), ('five', 'NUM'), ('pence', 'NOUN'), ('to', 'PRT'), ('913', 'VERB'), ('pence', 'NOUN'), ('-LRB-', '.'), ('$', '.'), ('14.43', 'NOUN'), ('*U*', 'X'), ('-RRB-', '.'), ('.', '.'), ('That', 'DET'), ('sounded', 'VERB'), ('a', 'DET'), ('lot', 'NOUN'), ('like', 'ADP'), ('censorship', 'NOUN'), (',', '.'), ('so', 'ADV'), ('after', 'ADP'), ('years', 'NOUN'), ('of', 'ADP'), ('letters', 'NOUN'), ('and', 'CONJ'), ('conversations', 'NOUN'), ('that', 'ADP'), ('*T*-22', 'X'), ('went', 'VERB'), ('nowhere', 'ADV'), (',', '.'), ('I', 'PRON'), ('sued', 'VERB'), ('.', '.'), ('Crane', 'NOUN'), ('&', 'CONJ'), ('Co.', 'NOUN'), ('Securities', 'NOUN'), ('Inc.', 'NOUN'), (',', '.'), ('of', 'ADP'), ('Mount', 'DET'), ('Clemens', 'NOUN'), (',', '.'), ('Mich.', 'NOUN'), (',', '.'), ('and', 'CONJ'), ('its', 'PRON'), ('president', 'NOUN'), (',', '.'), ('Glenn', 'NOUN'), ('R.', 'NOUN'), ('Crane', 'NOUN'), (',', '.'), ('of', 'ADP'), ('Sterling', 'NOUN'), ('Heights', 'NOUN'), (',', '.'), ('Mich.', 'NOUN'), (',', '.'), ('consented', 'VERB'), ('to', 'PRT'), ('a', 'DET'), ('joint', 'ADJ'), ('fine', 'NOUN'), ('of', 'ADP'), ('$', '.'), ('10,000', 'NUM'), ('*U*', 'X'), ('.', '.'), ('The', 'DET'), ('United', 'NOUN'), ('Kingdom', 'NOUN'), ('High', 'NOUN'), ('Court', 'NOUN'), ('declared', 'VERB'), ('illegal', 'ADJ'), ('a', 'DET'), ('variety', 'NOUN'), ('of', 'ADP'), ('interest-rate', 'NOUN'), ('swap', 'NOUN'), ('transactions', 'NOUN'), ('and', 'CONJ'), ('options', 'NOUN'), ('deals', 'NOUN'), ('between', 'ADP'), ('a', 'DET'), ('London', 'NOUN'), ('borough', 'NOUN'), ('council', 'NOUN'), ('and', 'CONJ'), ('commercial', 'ADJ'), ('banks', 'NOUN'), ('.', '.'), ('There', 'DET'), ('is', 'VERB'), ('also', 'ADV'), ('speculation', 'NOUN'), ('that', 'ADP'), ('Mr.', 'NOUN'), ('Newhouse', 'NOUN'), ('could', 'VERB'), ('bring', 'VERB'), ('in', 'ADP'), ('a', 'DET'), ('powerhouse', 'NOUN'), ('businessman', 'NOUN'), ('or', 'CONJ'), ('another', 'DET'), ('Newhouse', 'NOUN'), ('family', 'NOUN'), ('member', 'NOUN'), ('0', 'X'), ('*T*-1', 'X'), ('to', 'PRT'), ('run', 'VERB'), ('the', 'DET'), ('business', 'NOUN'), ('side', 'NOUN'), (',', '.'), ('in', 'ADP'), ('combination', 'NOUN'), ('with', 'ADP'), ('a', 'DET'), ('publishing', 'NOUN'), ('executive', 'NOUN'), ('like', 'ADP'), ('Robert', 'NOUN'), ('Gottlieb', 'NOUN'), (',', '.'), ('who', 'PRON'), ('*T*-38', 'X'), ('left', 'VERB'), ('Random', 'NOUN'), ('House', 'NOUN'), (\"'s\", 'PRT'), ('Alfred', 'NOUN'), ('A.', 'NOUN'), ('Knopf', 'NOUN'), ('*-2', 'X'), ('to', 'PRT'), ('run', 'VERB'), ('the', 'DET'), ('New', 'NOUN'), ('Yorker', 'NOUN'), (',', '.'), ('also', 'ADV'), ('owned', 'VERB'), ('*', 'X'), ('by', 'ADP'), ('the', 'DET'), ('Newhouse', 'NOUN'), ('family', 'NOUN'), ('.', '.'), ('Typically', 'ADV'), (',', '.'), ('money-fund', 'NOUN'), ('yields', 'NOUN'), ('beat', 'VERB'), ('comparable', 'ADJ'), ('short-term', 'ADJ'), ('investments', 'NOUN'), ('because', 'ADP'), ('portfolio', 'NOUN'), ('managers', 'NOUN'), ('can', 'VERB'), ('vary', 'VERB'), ('maturities', 'NOUN'), ('and', 'CONJ'), ('go', 'VERB'), ('after', 'ADP'), ('the', 'DET'), ('highest', 'ADJ'), ('rates', 'NOUN'), ('.', '.'), ('They', 'PRON'), ('want', 'VERB'), ('assets', 'NOUN'), (',', '.'), ('they', 'PRON'), ('want', 'VERB'), ('a', 'DET'), ('balance', 'NOUN'), ('sheet', 'NOUN'), (',', '.'), ('which', 'DET'), ('*T*-194', 'NOUN'), ('has', 'VERB'), ('no', 'DET'), ('relation', 'NOUN'), ('to', 'PRT'), ('the', 'DET'), ('business', 'NOUN'), ('0', 'X'), ('a', 'DET'), ('company', 'NOUN'), ('can', 'VERB'), ('generate', 'X'), ('*T*-1', 'X'), ('.', '.'), (\"''\", '.'), ('Seoul', 'NOUN'), ('also', 'ADV'), ('has', 'VERB'), ('instituted', 'VERB'), ('effective', 'ADJ'), ('search-and-seizure', 'NOUN'), ('procedures', 'NOUN'), ('0', 'X'), ('*', 'X'), ('to', 'PRT'), ('aid', 'NOUN'), ('these', 'DET'), ('teams', 'NOUN'), ('*T*-2', 'X'), (',', '.'), ('she', 'PRON'), ('said', 'VERB'), ('0', 'X'), ('*T*-1', 'X'), ('.', '.'), ('The', 'DET'), ('plan', 'NOUN'), ('was', 'VERB'), ('filed', 'VERB'), ('*-1', 'X'), ('jointly', 'ADV'), ('with', 'ADP'), ('unsecured', 'ADJ'), ('creditors', 'NOUN'), ('in', 'ADP'), ('federal', 'ADJ'), ('bankruptcy', 'NOUN'), ('court', 'NOUN'), ('in', 'ADP'), ('New', 'NOUN'), ('York', 'NOUN'), ('and', 'CONJ'), ('must', 'VERB'), ('be', 'VERB'), ('approved', 'VERB'), ('*-1', 'X'), ('by', 'ADP'), ('the', 'DET'), ('court', 'NOUN'), ('.', '.'), ('Some', 'DET'), ('analysts', 'NOUN'), ('say', 'VERB'), ('0', 'X'), ('investors', 'NOUN'), ('should', 'VERB'), ('run', 'VERB'), ('for', 'ADP'), ('the', 'DET'), ('exits', 'NOUN'), ('if', 'ADP'), ('a', 'DET'), ('sustained', 'VERB'), ('market', 'NOUN'), ('rebound', 'VERB'), ('pushes', 'X'), ('the', 'DET'), ('yield', 'NOUN'), ('below', 'ADP'), ('3', 'NUM'), ('%', 'NOUN'), ('.', '.'), ('An', 'DET'), ('official', 'NOUN'), ('for', 'ADP'), ('the', 'DET'), ('lead', 'NOUN'), ('underwriter', 'NOUN'), ('declined', 'VERB'), ('*-1', 'X'), ('to', 'PRT'), ('comment', 'VERB'), ('on', 'ADP'), ('the', 'DET'), ('reason', 'NOUN'), ('for', 'ADP'), ('the', 'DET'), ('delay', 'VERB'), (',', '.'), ('but', 'CONJ'), ('market', 'NOUN'), ('participants', 'NOUN'), ('speculated', 'VERB'), ('that', 'ADP'), ('a', 'DET'), ('number', 'NOUN'), ('of', 'ADP'), ('factors', 'NOUN'), (',', '.'), ('including', 'VERB'), ('a', 'DET'), ('lack', 'NOUN'), ('of', 'ADP'), ('investor', 'NOUN'), ('interest', 'NOUN'), (',', '.'), ('were', 'VERB'), ('responsible', 'ADJ'), ('.', '.'), ('Always', 'NOUN'), ('.', '.'), ('The', 'DET'), ('department', 'NOUN'), ('proposed', 'VERB'), ('*', 'X'), ('requiring', 'VERB'), ('stronger', 'ADJ'), ('roofs', 'NOUN'), ('for', 'ADP'), ('light', 'ADJ'), ('trucks', 'NOUN'), ('and', 'CONJ'), ('minivans', 'NOUN'), (',', '.'), ('*', 'X'), ('beginning', 'VERB'), ('with', 'ADP'), ('1992', 'NUM'), ('models', 'NOUN'), ('.', '.'), ('For', 'ADP'), ('the', 'DET'), ('year', 'NOUN'), ('ended', 'VERB'), ('Sept.', 'NOUN'), ('30', 'NUM'), (',', '.'), ('Ralston', 'NOUN'), ('earned', 'VERB'), ('$', '.'), ('422.5', 'NOUN'), ('million', 'NUM'), ('*U*', 'X'), (',', '.'), ('or', 'CONJ'), ('$', '.'), ('6.44', 'NOUN'), ('*U*', 'X'), ('a', 'DET'), ('share', 'NOUN'), (',', '.'), ('up', 'ADV'), ('8.9', 'VERB'), ('%', 'NOUN'), ('from', 'ADP'), ('$', '.'), ('387.8', 'NOUN'), ('million', 'NUM'), ('*U*', 'X'), (',', '.'), ('or', 'CONJ'), ('$', '.'), ('5.63', 'NOUN'), ('*U*', 'X'), ('a', 'DET'), ('share', 'NOUN'), ('.', '.'), ('``', '.'), ('What', 'PRON'), ('*T*-14', 'X'), ('matters', 'NOUN'), ('is', 'VERB'), ('what', 'PRON'), ('advertisers', 'NOUN'), ('are', 'VERB'), ('paying', 'VERB'), ('*T*-15', 'X'), ('per', 'ADP'), ('page', 'NOUN'), (',', '.'), ('and', 'CONJ'), ('in', 'ADP'), ('that', 'DET'), ('department', 'NOUN'), ('we', 'PRON'), ('are', 'VERB'), ('doing', 'VERB'), ('fine', 'NOUN'), ('this', 'DET'), ('fall', 'NOUN'), (',', '.'), (\"''\", '.'), ('said', 'VERB'), ('*T*-1', 'X'), ('Mr.', 'NOUN'), ('Spoon', 'NOUN'), ('.', '.'), ('Your', 'PRON'), ('$', '.'), ('15,000', 'NUM'), ('*U*', 'X'), ('will', 'VERB'), ('help', 'VERB'), ('*-1', 'X'), ('keep', 'VERB'), ('a', 'DET'), ('needy', 'NOUN'), ('savings', 'NOUN'), ('and', 'CONJ'), ('loan', 'NOUN'), ('solvent', 'NOUN'), ('--', '.'), ('and', 'CONJ'), ('out', 'ADP'), ('of', 'ADP'), ('the', 'DET'), ('federal', 'ADJ'), ('budget', 'NOUN'), ('deficit', 'NOUN'), ('.', '.'), ('About', 'ADP'), ('$', '.'), ('490', 'NOUN'), ('million', 'NUM'), ('*U*', 'X'), ('of', 'ADP'), ('that', 'DET'), ('would', 'VERB'), ('be', 'VERB'), ('allocated', 'VERB'), ('*-87', 'X'), ('to', 'PRT'), ('the', 'DET'), ('buy-back', 'ADJ'), (',', '.'), ('*', 'X'), ('leaving', 'VERB'), ('about', 'ADP'), ('$', '.'), ('130', 'NUM'), ('million', 'NUM'), ('*U*', 'X'), (',', '.'), ('he', 'PRON'), ('said', 'VERB'), ('0', 'X'), ('*T*-1', 'X'), ('.', '.'), ('To', 'PRT'), ('the', 'DET'), ('surprise', 'NOUN'), ('of', 'ADP'), ('some', 'DET'), ('analysts', 'NOUN'), (',', '.'), ('net', 'ADJ'), ('cash', 'NOUN'), ('income', 'NOUN'), ('rose', 'VERB'), ('in', 'ADP'), ('some', 'DET'), ('of', 'ADP'), ('the', 'DET'), ('hardest-hit', 'NOUN'), ('states', 'NOUN'), (',', '.'), ('including', 'VERB'), ('Indiana', 'NOUN'), (',', '.'), ('Illinois', 'NOUN'), (',', '.'), ('Nebraska', 'NOUN'), ('and', 'CONJ'), ('the', 'DET'), ('Dakotas', 'NOUN'), ('.', '.'), ('In', 'ADP'), ('the', 'DET'), ('last', 'ADJ'), ('year', 'NOUN'), ('or', 'CONJ'), ('so', 'ADV'), (',', '.'), ('however', 'ADV'), (',', '.'), ('this', 'DET'), ('exclusive', 'ADJ'), ('club', 'NOUN'), ('has', 'VERB'), ('taken', 'VERB'), ('in', 'ADP'), ('a', 'DET'), ('host', 'NOUN'), ('of', 'ADP'), ('flashy', 'DET'), ('new', 'ADJ'), ('members', 'NOUN'), ('.', '.'), ('By', 'ADP'), ('1997', 'DET'), (',', '.'), ('almost', 'ADV'), ('all', 'DET'), ('remaining', 'VERB'), ('uses', 'VERB'), ('of', 'ADP'), ('cancer-causing', 'DET'), ('asbestos', 'NOUN'), ('will', 'VERB'), ('be', 'VERB'), ('outlawed', 'X'), ('*-6', 'X'), ('.', '.'), ('IBM', 'NOUN'), (',', '.'), ('the', 'DET'), ('giant', 'ADJ'), ('computer', 'NOUN'), ('maker', 'NOUN'), (',', '.'), ('offered', 'VERB'), ('$', '.'), ('750', 'NUM'), ('million', 'NUM'), ('*U*', 'X'), ('of', 'ADP'), ('non-callable', 'ADJ'), ('30-year', 'ADJ'), ('debentures', 'NOUN'), ('priced', 'VERB'), ('*', 'X'), ('*-1', 'X'), ('to', 'PRT'), ('yield', 'VERB'), ('8.47', 'NUM'), ('%', 'NOUN'), (',', '.'), ('or', 'CONJ'), ('about', 'ADP'), ('1\\\\/2', 'NUM'), ('percentage', 'NOUN'), ('point', 'NOUN'), ('higher', 'ADJ'), ('than', 'ADP'), ('the', 'DET'), ('yield', 'NOUN'), ('on', 'ADP'), ('30-year', 'ADJ'), ('Treasury', 'NOUN'), ('bonds', 'NOUN'), ('.', '.'), ('Big', 'NOUN'), ('Board', 'NOUN'), ('volume', 'NOUN'), ('totaled', 'VERB'), ('154.2', 'X'), ('million', 'NUM'), ('shares', 'NOUN'), ('.', '.'), ('Bears', 'NOUN'), ('have', 'VERB'), ('targeted', 'VERB'), ('Columbia', 'NOUN'), (\"'s\", 'PRT'), ('stock', 'NOUN'), ('because', 'ADP'), ('of', 'ADP'), ('the', 'DET'), ('thrift', 'NOUN'), (\"'s\", 'PRT'), ('exposure', 'NOUN'), ('to', 'PRT'), ('the', 'DET'), ('shaky', 'NOUN'), ('junk', 'NOUN'), ('market', 'NOUN'), ('.', '.'), ('Freeport-McMoRan', 'NOUN'), ('Inc.', 'NOUN'), ('said', 'VERB'), ('0', 'X'), ('it', 'PRON'), ('will', 'VERB'), ('convert', 'X'), ('its', 'PRON'), ('Freeport-McMoRan', 'NOUN'), ('Energy', 'NOUN'), ('Partners', 'NOUN'), ('Ltd.', 'NOUN'), ('partnership', 'NOUN'), ('into', 'ADP'), ('a', 'DET'), ('publicly', 'ADV'), ('traded', 'VERB'), ('company', 'NOUN'), ('through', 'ADP'), ('the', 'DET'), ('exchange', 'NOUN'), ('of', 'ADP'), ('units', 'NOUN'), ('of', 'ADP'), ('the', 'DET'), ('partnership', 'NOUN'), ('for', 'ADP'), ('common', 'ADJ'), ('shares', 'NOUN'), ('.', '.'), ('Similar', 'NOUN'), ('levels', 'NOUN'), ('hamstrung', 'NOUN'), ('barge', 'NOUN'), ('shipments', 'NOUN'), ('last', 'ADJ'), ('year', 'NOUN'), ('in', 'ADP'), ('the', 'DET'), ('wake', 'NOUN'), ('of', 'ADP'), ('the', 'DET'), ('worst', 'ADJ'), ('drought', 'NOUN'), ('in', 'ADP'), ('50', 'NUM'), ('years', 'NOUN'), ('.', '.'), ('All', 'DET'), ('came', 'VERB'), ('from', 'ADP'), ('Cray', 'NOUN'), ('Research', 'NOUN'), ('.', '.'), ('``', '.'), ('I', 'PRON'), (\"'m\", 'VERB'), ('very', 'ADV'), ('alarmed', 'VERB'), ('*-2', 'X'), ('to', 'PRT'), ('see', 'VERB'), ('these', 'DET'), ('rich', 'ADJ'), ('valuations', 'NOUN'), (',', '.'), (\"''\", '.'), ('says', 'VERB'), ('*T*-1', 'X'), ('Smith', 'NOUN'), ('Barney', 'NOUN'), (\"'s\", 'PRT'), ('Mr.', 'NOUN'), ('Porter', 'NOUN'), ('.', '.'), ('More', 'ADV'), ('than', 'ADP'), ('a', 'DET'), ('few', 'ADJ'), ('CEOs', 'NOUN'), ('say', 'VERB'), ('0', 'X'), ('the', 'DET'), ('red-carpet', 'NOUN'), ('treatment', 'NOUN'), ('tempts', 'NOUN'), ('them', 'PRON'), ('to', 'PRT'), ('return', 'NOUN'), ('to', 'PRT'), ('a', 'DET'), ('heartland', 'NOUN'), ('city', 'NOUN'), ('for', 'ADP'), ('future', 'ADJ'), ('meetings', 'NOUN'), ('.', '.'), ('Until', 'ADP'), ('such', 'ADJ'), ('action', 'NOUN'), ('takes', 'VERB'), ('places', 'VERB'), (',', '.'), ('the', 'DET'), ('Treasury', 'NOUN'), ('has', 'VERB'), ('no', 'DET'), ('ability', 'NOUN'), ('*', 'X'), ('to', 'PRT'), ('issue', 'NOUN'), ('new', 'ADJ'), ('debt', 'NOUN'), ('of', 'ADP'), ('any', 'DET'), ('kind', 'NOUN'), ('.', '.'), ('Under', 'ADP'), ('a', 'DET'), ('1934', 'NOUN'), ('law', 'NOUN'), (',', '.'), ('the', 'DET'), ('Johnson', 'NOUN'), ('Debt', 'NOUN'), ('Default', 'NOUN'), ('Act', 'NOUN'), (',', '.'), ('as', 'ADP'), ('*', 'X'), ('amended', 'VERB'), ('*-1', 'X'), (',', '.'), ('it', 'PRON'), ('*EXP*-2', 'X'), (\"'s\", 'PRT'), ('illegal', 'ADJ'), ('for', 'ADP'), ('Americans', 'NOUN'), ('to', 'PRT'), ('extend', 'VERB'), ('credit', 'NOUN'), ('to', 'PRT'), ('countries', 'NOUN'), ('in', 'ADP'), ('default', 'NOUN'), ('to', 'PRT'), ('the', 'DET'), ('U.S.', 'NOUN'), ('government', 'NOUN'), (',', '.'), ('unless', 'ADP'), ('they', 'PRON'), ('are', 'VERB'), ('members', 'NOUN'), ('of', 'ADP'), ('the', 'DET'), ('World', 'NOUN'), ('Bank', 'NOUN'), ('and', 'CONJ'), ('International', 'NOUN'), ('Monetary', 'NOUN'), ('Fund', 'NOUN'), ('.', '.'), ('Standard', 'NOUN'), ('&', 'CONJ'), ('Poor', 'NOUN'), (\"'s\", 'PRT'), ('Corp.', 'NOUN'), ('lowered', 'VERB'), ('to', 'PRT'), ('double-C', 'VERB'), ('from', 'ADP'), ('triple-C', 'DET'), ('the', 'DET'), ('rating', 'NOUN'), ('on', 'ADP'), ('about', 'ADP'), ('$', '.'), ('130', 'NUM'), ('million', 'NUM'), ('*U*', 'X'), ('of', 'ADP'), ('debt', 'NOUN'), ('.', '.'), ('Of', 'ADP'), ('course', 'NOUN'), (',', '.'), ('regulators', 'NOUN'), ('would', 'VERB'), ('have', 'VERB'), ('*-1', 'X'), ('to', 'PRT'), ('approve', 'VERB'), ('Columbia', 'NOUN'), (\"'s\", 'PRT'), ('reorganization', 'NOUN'), ('.', '.'), ('In', 'ADP'), ('another', 'DET'), ('reflection', 'NOUN'), ('that', 'ADP'), ('the', 'DET'), ('growth', 'NOUN'), ('of', 'ADP'), ('the', 'DET'), ('economy', 'NOUN'), ('is', 'VERB'), ('leveling', 'VERB'), ('off', 'PRT'), (',', '.'), ('the', 'DET'), ('government', 'NOUN'), ('said', 'VERB'), ('that', 'ADP'), ('orders', 'NOUN'), ('for', 'ADP'), ('manufactured', 'VERB'), ('goods', 'NOUN'), ('and', 'CONJ'), ('spending', 'NOUN'), ('on', 'ADP'), ('construction', 'NOUN'), ('failed', 'VERB'), ('*-1', 'X'), ('to', 'PRT'), ('rise', 'VERB'), ('in', 'ADP'), ('September', 'NOUN'), ('.', '.'), ('Activity', 'NOUN'), ('was', 'VERB'), ('light', 'ADJ'), ('in', 'ADP'), ('derivative', 'DET'), ('markets', 'NOUN'), (',', '.'), ('with', 'ADP'), ('no', 'DET'), ('new', 'ADJ'), ('issues', 'NOUN'), ('priced', 'VERB'), ('*-1', 'X'), ('.', '.'), ('``', '.'), ('*', 'X'), ('Having', 'VERB'), ('the', 'DET'), ('dividend', 'NOUN'), ('increases', 'NOUN'), ('is', 'VERB'), ('a', 'DET'), ('supportive', 'NOUN'), ('element', 'NOUN'), ('in', 'ADP'), ('the', 'DET'), ('market', 'NOUN'), ('outlook', 'NOUN'), (',', '.'), ('but', 'CONJ'), ('I', 'PRON'), ('do', 'VERB'), (\"n't\", 'ADV'), ('think', 'VERB'), ('0', 'X'), ('it', 'PRON'), (\"'s\", 'VERB'), ('a', 'DET'), ('main', 'ADJ'), ('consideration', 'NOUN'), (',', '.'), (\"''\", '.'), ('he', 'PRON'), ('says', 'VERB'), ('*T*-1', 'X'), ('.', '.'), ('But', 'CONJ'), ('since', 'ADP'), ('the', 'DET'), ('1990', 'NUM'), ('model', 'NOUN'), ('year', 'NOUN'), ('began', 'VERB'), ('Oct.', 'NOUN'), ('1', 'NUM'), (',', '.'), ('Buick', 'NOUN'), ('sales', 'NOUN'), ('have', 'VERB'), ('plunged', 'VERB'), ('33', 'NUM'), ('%', 'NOUN'), ('.', '.'), ('Futures', 'NOUN'), ('traders', 'NOUN'), ('respond', 'VERB'), ('that', 'ADP'), ('low', 'ADJ'), ('margins', 'NOUN'), ('help', 'VERB'), ('*-1', 'X'), ('keep', 'VERB'), ('their', 'PRON'), ('markets', 'NOUN'), ('active', 'ADJ'), ('.', '.'), ('Sales', 'NOUN'), ('rose', 'VERB'), ('to', 'PRT'), ('$', '.'), ('9.8', 'NUM'), ('million', 'NUM'), ('*U*', 'X'), ('from', 'ADP'), ('$', '.'), ('8.9', 'NOUN'), ('million', 'NUM'), ('*U*', 'X'), ('.', '.'), ('He', 'PRON'), ('and', 'CONJ'), ('his', 'PRON'), ('successor', 'NOUN'), (',', '.'), ('Mary', 'NOUN'), ('Anne', 'NOUN'), ('Dolan', 'NOUN'), (',', '.'), ('restored', 'NOUN'), ('respect', 'NOUN'), ('for', 'ADP'), ('the', 'DET'), ('editorial', 'NOUN'), ('product', 'NOUN'), (',', '.'), ('and', 'CONJ'), ('though', 'ADP'), ('in', 'ADP'), ('recent', 'ADJ'), ('years', 'NOUN'), ('the', 'DET'), ('paper', 'NOUN'), ('had', 'VERB'), ('been', 'VERB'), ('limping', 'X'), ('along', 'ADP'), ('on', 'ADP'), ('limited', 'ADJ'), ('resources', 'NOUN'), (',', '.'), ('its', 'PRON'), ('accomplishments', 'VERB'), ('were', 'VERB'), ('notable', 'X'), ('.', '.'), ('The', 'DET'), ('Treasury', 'NOUN'), ('plans', 'VERB'), ('*-1', 'X'), ('to', 'PRT'), ('sell', 'VERB'), ('$', '.'), ('30', 'NUM'), ('billion', 'NUM'), ('*U*', 'X'), ('in', 'ADP'), ('notes', 'NOUN'), ('and', 'CONJ'), ('bonds', 'NOUN'), ('next', 'ADP'), ('week', 'NOUN'), ('but', 'CONJ'), ('will', 'VERB'), ('delay', 'VERB'), ('the', 'DET'), ('auction', 'NOUN'), ('unless', 'ADP'), ('Congress', 'NOUN'), ('quickly', 'ADV'), ('raises', 'VERB'), ('the', 'DET'), ('debt', 'NOUN'), ('ceiling', 'NOUN'), ('.', '.'), ('The', 'DET'), ('biggest', 'ADJ'), ('firms', 'NOUN'), ('still', 'ADV'), ('retain', 'VERB'), ('the', 'DET'), ('highest', 'ADJ'), ('ratings', 'NOUN'), ('on', 'ADP'), ('their', 'PRON'), ('commercial', 'ADJ'), ('paper', 'NOUN'), ('.', '.'), ('More', 'ADV'), ('than', 'ADP'), ('three', 'NUM'), ('in', 'ADP'), ('five', 'NUM'), ('said', 'VERB'), ('0', 'X'), ('they', 'PRON'), ('are', 'VERB'), ('under', 'ADP'), ('a', 'DET'), ('great', 'ADJ'), ('deal', 'NOUN'), ('of', 'ADP'), ('stress', 'DET'), ('most', 'ADJ'), ('of', 'ADP'), ('the', 'DET'), ('time', 'NOUN'), (',', '.'), ('compared', 'VERB'), ('with', 'ADP'), ('less', 'ADJ'), ('than', 'ADP'), ('one', 'NUM'), ('in', 'ADP'), ('two', 'NUM'), ('U.S.', 'NOUN'), ('consumers', 'NOUN'), ('and', 'CONJ'), ('one', 'NUM'), ('in', 'ADP'), ('four', 'NUM'), ('in', 'ADP'), ('Japan', 'NOUN'), ('.', '.'), ('--', '.'), ('Dorothy', 'NOUN'), ('L.', 'NOUN'), ('Sayers', 'NOUN'), (',', '.'), ('``', '.'), ('The', 'DET'), ('Nine', 'NOUN'), ('Tailors', 'NOUN'), (\"''\", '.'), ('Some', 'DET'), ('U.S.', 'NOUN'), ('firms', 'NOUN'), (',', '.'), ('notably', 'ADV'), ('Salomon', 'NOUN'), ('Inc.', 'NOUN'), ('and', 'CONJ'), ('Morgan', 'NOUN'), ('Stanley', 'NOUN'), ('Group', 'NOUN'), ('Inc.', 'NOUN'), (',', '.'), ('have', 'VERB'), ('reaped', 'X'), ('a', 'DET'), ('hefty', 'ADJ'), ('chunk', 'NOUN'), ('of', 'ADP'), ('their', 'PRON'), ('Japanese', 'ADJ'), ('earnings', 'NOUN'), ('from', 'ADP'), ('index', 'NOUN'), ('arbitrage', 'NOUN'), (',', '.'), ('both', 'DET'), ('for', 'ADP'), ('customers', 'NOUN'), ('and', 'CONJ'), ('for', 'ADP'), ('their', 'PRON'), ('own', 'ADJ'), ('accounts', 'NOUN'), ('.', '.'), ('Typical', 'NOUN'), ('rates', 'NOUN'), ('in', 'ADP'), ('the', 'DET'), ('secondary', 'ADJ'), ('market', 'NOUN'), (':', '.'), ('8.60', 'NOUN'), ('%', 'NOUN'), ('one', 'NUM'), ('month', 'NOUN'), (';', '.'), ('8.55', 'NUM'), ('%', 'NOUN'), ('three', 'NUM'), ('months', 'NOUN'), (';', '.'), ('8.35', 'NOUN'), ('%', 'NOUN'), ('six', 'NUM'), ('months', 'NOUN'), ('.', '.'), ('``', '.'), ('The', 'DET'), ('disturbing', 'ADJ'), ('thing', 'NOUN'), ('about', 'ADP'), ('this', 'DET'), ('abortion', 'NOUN'), ('issue', 'NOUN'), ('is', 'VERB'), ('that', 'ADP'), ('the', 'DET'), ('debate', 'NOUN'), ('has', 'VERB'), ('become', 'VERB'), ('polarized', 'X'), ('*-1', 'X'), (',', '.'), ('so', 'ADV'), ('that', 'ADP'), ('no', 'DET'), ('mechanism', 'NOUN'), ('*ICH*-2', 'X'), ('exists', 'VERB'), (\"''\", '.'), ('for', 'ADP'), ('*', 'X'), ('finding', 'VERB'), ('a', 'DET'), ('middle', 'NOUN'), ('ground', 'NOUN'), ('.', '.'), ('As', 'ADP'), ('an', 'DET'), ('actor', 'NOUN'), (',', '.'), ('Charles', 'NOUN'), ('Lane', 'NOUN'), ('is', 'VERB'), (\"n't\", 'ADV'), ('the', 'DET'), ('inheritor', 'NOUN'), ('of', 'ADP'), ('Charlie', 'DET'), ('Chaplin', 'NOUN'), (\"'s\", 'PRT'), ('spirit', 'NOUN'), ('.', '.'), ('Rudolph', 'NOUN'), ('Agnew', 'NOUN'), (',', '.'), ('55', 'NUM'), ('years', 'NOUN'), ('old', 'ADJ'), ('and', 'CONJ'), ('former', 'ADJ'), ('chairman', 'NOUN'), ('of', 'ADP'), ('Consolidated', 'NOUN'), ('Gold', 'NOUN'), ('Fields', 'NOUN'), ('PLC', 'NOUN'), (',', '.'), ('was', 'VERB'), ('named', 'VERB'), ('*-1', 'X'), ('a', 'DET'), ('nonexecutive', 'ADJ'), ('director', 'NOUN'), ('of', 'ADP'), ('this', 'DET'), ('British', 'ADJ'), ('industrial', 'ADJ'), ('conglomerate', 'NOUN'), ('.', '.'), ('The', 'DET'), ('new', 'ADJ'), (',', '.'), ('seven-year', 'NOUN'), ('funds', 'NOUN'), ('--', '.'), ('one', 'NUM'), ('offering', 'NOUN'), ('a', 'DET'), ('fixed-rate', 'ADJ'), ('return', 'NOUN'), ('and', 'CONJ'), ('the', 'DET'), ('other', 'ADJ'), ('with', 'ADP'), ('a', 'DET'), ('floating-rate', 'ADJ'), ('return', 'NOUN'), ('linked', 'VERB'), ('*', 'X'), ('to', 'PRT'), ('the', 'DET'), ('London', 'NOUN'), ('interbank', 'NOUN'), ('offered', 'VERB'), ('rate', 'NOUN'), ('--', '.'), ('offer', 'NOUN'), ('two', 'NUM'), ('key', 'ADJ'), ('advantages', 'NOUN'), ('to', 'PRT'), ('Japanese', 'ADJ'), ('investors', 'NOUN'), ('.', '.'), ('A', 'DET'), ('White', 'NOUN'), ('House', 'NOUN'), ('spokesman', 'NOUN'), ('said', 'VERB'), ('last', 'ADJ'), ('week', 'NOUN'), ('that', 'ADP'), ('the', 'DET'), ('president', 'NOUN'), ('is', 'VERB'), ('considering', 'VERB'), ('*-1', 'X'), ('declaring', 'VERB'), ('that', 'ADP'), ('the', 'DET'), ('Constitution', 'NOUN'), ('implicitly', 'NOUN'), ('gives', 'VERB'), ('him', 'PRON'), ('the', 'DET'), ('authority', 'NOUN'), ('for', 'ADP'), ('a', 'DET'), ('line-item', 'ADJ'), ('veto', 'NOUN'), ('*-2', 'X'), ('to', 'PRT'), ('provoke', 'VERB'), ('a', 'DET'), ('test', 'NOUN'), ('case', 'NOUN'), ('.', '.'), ('But', 'CONJ'), ('she', 'PRON'), ('did', 'VERB'), (\"n't\", 'ADV'), ('deserve', 'VERB'), ('*-1', 'X'), ('to', 'PRT'), ('have', 'VERB'), ('her', 'PRON'), ('head', 'NOUN'), ('chopped', 'NOUN'), ('*-2', 'X'), ('off', 'PRT'), ('.', '.'), ('The', 'DET'), ('report', 'NOUN'), ('from', 'ADP'), ('the', 'DET'), ('Fed', 'NOUN'), ('found', 'VERB'), ('that', 'ADP'), ('manufacturing', 'NOUN'), (',', '.'), ('in', 'ADP'), ('particular', 'ADJ'), (',', '.'), ('has', 'VERB'), ('been', 'VERB'), ('weak', 'ADJ'), ('in', 'ADP'), ('recent', 'ADJ'), ('weeks', 'NOUN'), ('.', '.'), ('Characters', 'NOUN'), ('drink', 'VERB'), ('Salty', 'X'), ('Dogs', 'VERB'), (',', '.'), ('whistle', 'NOUN'), ('``', '.'), ('Johnny', 'NOUN'), ('B.', 'NOUN'), ('Goode', 'NOUN'), (\"''\", '.'), ('and', 'CONJ'), ('watch', 'VERB'), ('Bugs', 'X'), ('Bunny', 'VERB'), ('reruns', 'NOUN'), ('.', '.'), ('Many', 'ADJ'), ('Asians', 'NOUN'), ('regard', 'VERB'), ('a', 'DET'), ('U.S.', 'NOUN'), ('presence', 'NOUN'), ('as', 'ADP'), ('a', 'DET'), ('desirable', 'ADJ'), ('counterweight', 'NOUN'), ('to', 'PRT'), ('Japanese', 'ADJ'), ('influence', 'NOUN'), ('.', '.'), ('1', 'NUM'), ('.', '.'), ('*', 'X'), ('Buy', 'VERB'), ('a', 'DET'), ('new', 'ADJ'), ('Chevrolet', 'NOUN'), ('.', '.'), ('Elisabeth', 'NOUN'), ('Rubinfien', 'NOUN'), ('contributed', 'VERB'), ('to', 'PRT'), ('this', 'DET'), ('article', 'NOUN'), ('.', '.'), ('``', '.'), ('You', 'PRON'), ('either', 'ADV'), ('believe', 'VERB'), ('0', 'X'), ('Seymour', 'NOUN'), ('can', 'VERB'), ('do', 'VERB'), ('it', 'PRON'), ('again', 'ADV'), ('or', 'CONJ'), ('you', 'PRON'), ('do', 'VERB'), (\"n't\", 'ADV'), ('*?*', 'X'), ('.', '.'), (\"''\", '.'), ('There', 'DET'), ('have', 'VERB'), ('been', 'VERB'), ('only', 'ADV'), ('seven', 'NUM'), ('other', 'ADJ'), ('times', 'NOUN'), ('--', '.'), ('in', 'ADP'), ('1929', 'NUM'), (',', '.'), ('1933', 'NOUN'), (',', '.'), ('1961', 'NOUN'), (',', '.'), ('1965', 'NUM'), (',', '.'), ('1968', 'NOUN'), (',', '.'), ('1971', 'NUM'), ('and', 'CONJ'), ('1972', 'NUM'), ('--', '.'), ('when', 'ADV'), ('the', 'DET'), ('yield', 'NOUN'), ('on', 'ADP'), ('the', 'DET'), ('S&P', 'NOUN'), ('500', 'NUM'), ('dropped', 'VERB'), ('below', 'ADP'), ('3', 'NUM'), ('%', 'NOUN'), ('for', 'ADP'), ('at', 'ADP'), ('least', 'ADJ'), ('two', 'NUM'), ('consecutive', 'ADJ'), ('months', 'NOUN'), ('*T*-1', 'X'), (',', '.'), ('Mr.', 'NOUN'), ('Perritt', 'NOUN'), ('found', 'VERB'), ('0', 'X'), ('*T*-2', 'X'), ('.', '.'), ('Earnings', 'NOUN'), ('were', 'VERB'), ('hurt', 'VERB'), ('*-1', 'X'), ('by', 'ADP'), ('disposal', 'NOUN'), ('of', 'ADP'), ('operations', 'NOUN'), ('in', 'ADP'), ('its', 'PRON'), ('restructuring', 'NOUN'), (',', '.'), ('Reed', 'NOUN'), ('said', 'VERB'), ('0', 'X'), ('*T*-2', 'X'), ('.', '.'), ('Back', 'NOUN'), ('downtown', 'NOUN'), (',', '.'), ('the', 'DET'), ('execs', 'NOUN'), ('squeezed', 'VERB'), ('in', 'ADP'), ('a', 'DET'), ('few', 'ADJ'), ('meetings', 'NOUN'), ('at', 'ADP'), ('the', 'DET'), ('hotel', 'NOUN'), ('before', 'ADP'), ('*-1', 'X'), ('boarding', 'VERB'), ('the', 'DET'), ('buses', 'NOUN'), ('again', 'ADV'), ('.', '.'), ('Proponents', 'NOUN'), ('of', 'ADP'), ('the', 'DET'), ('funding', 'NOUN'), ('arrangement', 'NOUN'), ('predict', 'VERB'), ('that', 'ADP'), (',', '.'), ('based', 'VERB'), ('on', 'ADP'), ('recent', 'ADJ'), ('filing', 'NOUN'), ('levels', 'NOUN'), ('of', 'ADP'), ('more', 'ADJ'), ('than', 'ADP'), ('2,000', 'NUM'), ('a', 'DET'), ('year', 'NOUN'), (',', '.'), ('the', 'DET'), ('fees', 'NOUN'), ('will', 'VERB'), ('yield', 'VERB'), ('at', 'ADP'), ('least', 'ADJ'), ('$', '.'), ('40', 'NUM'), ('million', 'NUM'), ('*U*', 'X'), ('*ICH*-1', 'X'), ('this', 'DET'), ('fiscal', 'ADJ'), ('year', 'NOUN'), (',', '.'), ('or', 'CONJ'), ('$', '.'), ('10', 'NUM'), ('million', 'NUM'), ('*U*', 'X'), ('more', 'ADV'), ('than', 'ADP'), ('the', 'DET'), ('budget', 'NOUN'), ('cuts', 'NOUN'), ('.', '.'), ('President', 'NOUN'), ('Bush', 'NOUN'), ('should', 'VERB'), ('set', 'VERB'), ('things', 'NOUN'), ('straight', 'ADV'), ('.', '.'), ('Rick', 'NOUN'), ('Brownell', 'NOUN'), (',', '.'), ('senior', 'ADJ'), ('editor', 'NOUN'), ('of', 'ADP'), ('Scoring', 'NOUN'), ('High', 'NOUN'), (',', '.'), ('says', 'VERB'), ('that', 'ADP'), ('Messrs.', 'NOUN'), ('Kaminski', 'NOUN'), ('and', 'CONJ'), ('Mehrens', 'NOUN'), ('are', 'VERB'), ('ignoring', 'VERB'), ('``', '.'), ('the', 'DET'), ('need', 'NOUN'), ('0', 'X'), ('students', 'NOUN'), ('have', 'VERB'), ('*T*-1', 'X'), ('for', 'ADP'), ('*', 'X'), ('becoming', 'VERB'), ('familiar', 'ADJ'), ('with', 'ADP'), ('tests', 'NOUN'), ('and', 'CONJ'), ('testing', 'NOUN'), ('format', 'NOUN'), ('.', '.'), (\"''\", '.'), ('Rockwell', 'NOUN'), ('International', 'NOUN'), ('Corp.', 'NOUN'), ('won', 'VERB'), ('a', 'DET'), ('$', '.'), ('130.7', 'NOUN'), ('million', 'NUM'), ('*U*', 'X'), ('Air', 'NOUN'), ('Force', 'NOUN'), ('contract', 'NOUN'), ('for', 'ADP'), ('AC-130U', 'DET'), ('gunship', 'NOUN'), ('replacement', 'NOUN'), ('aircraft', 'NOUN'), ('.', '.'), ('On', 'ADP'), ('one', 'NUM'), ('side', 'NOUN'), ('of', 'ADP'), ('this', 'DET'), ('power', 'NOUN'), ('struggle', 'NOUN'), ('stand', 'VERB'), ('*T*-1', 'X'), ('the', 'DET'), ('forces', 'NOUN'), ('in', 'ADP'), ('ascendency', 'DET'), ('on', 'ADP'), ('Wall', 'NOUN'), ('Street', 'NOUN'), ('--', '.'), ('the', 'DET'), ('New', 'NOUN'), ('Guard', 'NOUN'), ('--', '.'), ('consisting', 'NOUN'), ('of', 'ADP'), ('high-tech', 'ADJ'), ('computer', 'NOUN'), ('wizards', 'NOUN'), ('at', 'ADP'), ('the', 'DET'), ('major', 'ADJ'), ('brokerage', 'NOUN'), ('firms', 'NOUN'), (',', '.'), ('their', 'PRON'), ('pension', 'NOUN'), ('fund', 'NOUN'), ('clients', 'NOUN'), ('with', 'ADP'), ('immense', 'DET'), ('pools', 'NOUN'), ('of', 'ADP'), ('money', 'NOUN'), (',', '.'), ('and', 'CONJ'), ('the', 'DET'), ('traders', 'NOUN'), ('at', 'ADP'), ('the', 'DET'), ('fast-growing', 'NOUN'), ('Chicago', 'NOUN'), ('futures', 'NOUN'), ('exchanges', 'NOUN'), ('.', '.'), ('Viacom', 'NOUN'), (\"'s\", 'PRT'), ('move', 'VERB'), ('comes', 'VERB'), ('as', 'ADP'), ('the', 'DET'), ('syndication', 'NOUN'), ('market', 'NOUN'), ('is', 'VERB'), ('being', 'VERB'), ('flooded', 'X'), ('*-76', 'X'), ('with', 'ADP'), ('situation', 'NOUN'), ('comedies', 'NOUN'), ('that', 'ADP'), ('*T*-152', 'DET'), ('are', 'VERB'), ('still', 'ADV'), ('running', 'VERB'), ('on', 'ADP'), ('the', 'DET'), ('networks', 'NOUN'), ('.', '.'), ('What', 'PRON'), ('*T*-234', 'VERB'), ('will', 'VERB'), ('happen', 'VERB'), ('to', 'PRT'), ('dividend', 'NOUN'), ('growth', 'NOUN'), ('next', 'ADP'), ('year', 'NOUN'), ('?', '.'), ('``', '.'), ('Insurance', 'NOUN'), ('agents', 'NOUN'), ('have', 'VERB'), ('been', 'VERB'), ('forced', 'VERB'), ('*-158', 'X'), ('by', 'ADP'), ('their', 'PRON'), ('companies', 'NOUN'), ('into', 'ADP'), ('*-2', 'X'), ('becoming', 'VERB'), ('registered', 'VERB'), ('reps', 'X'), (',', '.'), (\"''\", '.'), ('he', 'PRON'), ('said', 'VERB'), ('*T*-1', 'X'), (',', '.'), ('``', '.'), ('but', 'CONJ'), ('they', 'PRON'), ('are', 'VERB'), ('not', 'ADV'), ('providing', 'VERB'), ('compliance', 'NOUN'), ('and', 'CONJ'), ('security-type', 'NOUN'), ('training', 'NOUN'), ('so', 'ADV'), ('that', 'ADP'), ('we', 'PRON'), ('can', 'VERB'), ('avoid', 'VERB'), ('stupid', 'ADJ'), ('mistakes', 'NOUN'), ('.', '.'), (\"''\", '.'), ('Workers', 'NOUN'), ('described', 'VERB'), ('``', '.'), ('clouds', 'NOUN'), ('of', 'ADP'), ('blue', 'ADJ'), ('dust', 'NOUN'), (\"''\", '.'), ('that', 'DET'), ('*T*-1', 'X'), ('hung', 'VERB'), ('over', 'ADP'), ('parts', 'NOUN'), ('of', 'ADP'), ('the', 'DET'), ('factory', 'NOUN'), (',', '.'), ('even', 'ADV'), ('though', 'ADP'), ('exhaust', 'VERB'), ('fans', 'NOUN'), ('ventilated', 'NOUN'), ('the', 'DET'), ('area', 'NOUN'), ('.', '.')]\n"
     ]
    }
   ],
   "source": [
    "print(\"Time taken in seconds: \", difference)\n",
    "print(tagged_seq)"
   ]
  },
  {
   "cell_type": "code",
   "execution_count": 59,
   "metadata": {},
   "outputs": [],
   "source": [
    "# accuracy\n",
    "check = [i for i, j in zip(tagged_seq, validation_tagged_words) if i == j] "
   ]
  },
  {
   "cell_type": "code",
   "execution_count": 60,
   "metadata": {},
   "outputs": [],
   "source": [
    "accuracy = len(check)/len(tagged_seq)"
   ]
  },
  {
   "cell_type": "code",
   "execution_count": 61,
   "metadata": {},
   "outputs": [
    {
     "data": {
      "text/plain": [
       "0.9360262456428132"
      ]
     },
     "execution_count": 61,
     "metadata": {},
     "output_type": "execute_result"
    }
   ],
   "source": [
    "accuracy"
   ]
  },
  {
   "cell_type": "code",
   "execution_count": 62,
   "metadata": {},
   "outputs": [],
   "source": [
    "incorrect_tagged_cases = [[validation_tagged_words[i-1],j] for i, j in enumerate(zip(tagged_seq, validation_tagged_words)) if j[0]!=j[1]]"
   ]
  },
  {
   "cell_type": "code",
   "execution_count": 63,
   "metadata": {},
   "outputs": [
    {
     "data": {
      "text/plain": [
       "[[('shares', 'NOUN'), (('*T*-121', 'NOUN'), ('*T*-121', 'X'))],\n",
       " [('*T*-121', 'X'), (('trade', 'NOUN'), ('trade', 'VERB'))],\n",
       " [('producing', 'VERB'), (('early', 'ADV'), ('early', 'ADJ'))],\n",
       " [('be', 'VERB'), (('refunded', 'X'), ('refunded', 'VERB'))],\n",
       " [('a', 'DET'), (('disembodied', 'NOUN'), ('disembodied', 'ADJ'))],\n",
       " [('.', '.'), (('Otherwise', 'NOUN'), ('Otherwise', 'ADV'))],\n",
       " [('the', 'DET'), (('300-day', 'NOUN'), ('300-day', 'ADJ'))],\n",
       " [('oldest', 'ADJ'), (('bell-ringing', 'NOUN'), ('bell-ringing', 'ADJ'))],\n",
       " [('in', 'ADP'), (('1637', 'DET'), ('1637', 'NUM'))],\n",
       " [('remains', 'VERB'), (('male-only', 'X'), ('male-only', 'ADJ'))],\n",
       " [('fact', 'NOUN'), (('that', 'ADP'), ('that', 'DET'))],\n",
       " [('that', 'DET'), (('*T*-230', 'DET'), ('*T*-230', 'X'))],\n",
       " [('particularly', 'ADV'), (('galling', 'VERB'), ('galling', 'ADJ'))],\n",
       " [('the', 'DET'), (('sole', 'NOUN'), ('sole', 'ADJ'))],\n",
       " [(\"'s\", 'PRT'), (('Cathedral', 'VERB'), ('Cathedral', 'NOUN'))],\n",
       " [(\"'s\", 'PRT'), (('short-lived', 'VERB'), ('short-lived', 'ADJ'))],\n",
       " [('Communists', 'NOUN'), (('seized', 'NOUN'), ('seized', 'VERB'))],\n",
       " [('in', 'ADP'), (('1917', 'DET'), ('1917', 'NUM'))],\n",
       " [('funds', 'NOUN'), (('mirrors', 'NOUN'), ('mirrors', 'VERB'))],\n",
       " [('the', 'DET'), (('1920s', 'NUM'), ('1920s', 'NOUN'))],\n",
       " [('when', 'ADV'), (('narrowly', 'VERB'), ('narrowly', 'ADV'))],\n",
       " [('grew', 'VERB'), (('wildly', 'X'), ('wildly', 'ADV'))],\n",
       " [(',', '.'), (('as', 'ADP'), ('as', 'ADV'))],\n",
       " [('possible', 'ADJ'), (('white', 'NOUN'), ('white', 'ADJ'))],\n",
       " [('an', 'DET'), (('undisclosed', 'NOUN'), ('undisclosed', 'ADJ'))],\n",
       " [('for', 'ADP'), (('Great', 'NOUN'), ('Great', 'ADJ'))],\n",
       " [('will', 'VERB'), (('diminish', 'X'), ('diminish', 'VERB'))],\n",
       " [('the', 'DET'), (('East', 'NOUN'), ('East', 'ADJ'))],\n",
       " [('East', 'ADJ'), (('Anglian', 'NOUN'), ('Anglian', 'ADJ'))],\n",
       " [('group', 'NOUN'), (('that', 'ADP'), ('that', 'DET'))],\n",
       " [('that', 'DET'), (('*T*-223', 'DET'), ('*T*-223', 'X'))],\n",
       " [('bells', 'NOUN'), (('pealing', 'NOUN'), ('pealing', 'VERB'))],\n",
       " [('folks', 'NOUN'), (('that', 'ADP'), ('that', 'DET'))],\n",
       " [('that', 'DET'), (('*T*-153', 'DET'), ('*T*-153', 'X'))],\n",
       " [('a', 'DET'), (('gigantic', 'NOUN'), ('gigantic', 'ADJ'))],\n",
       " [('A', 'DET'), (('buffet', 'VERB'), ('buffet', 'NOUN'))],\n",
       " [('buffet', 'NOUN'), (('breakfast', 'X'), ('breakfast', 'NOUN'))],\n",
       " [('to', 'PRT'), (('everyday', 'VERB'), ('everyday', 'ADJ'))],\n",
       " [('reruns', 'NOUN'), (('*T*-151', 'NOUN'), ('*T*-151', 'X'))],\n",
       " [('The', 'DET'), (('forthcoming', 'NOUN'), ('forthcoming', 'ADJ'))],\n",
       " [('a', 'DET'), (('10-year', 'ADJ'), ('10-year', 'NUM'))],\n",
       " [('government', 'NOUN'),\n",
       "  (('yen-denominated', 'NOUN'), ('yen-denominated', 'ADJ'))],\n",
       " [('at', 'ADP'), (('about', 'ADP'), ('about', 'ADV'))],\n",
       " [('investors', 'NOUN'), (('redeeming', 'NOUN'), ('redeeming', 'VERB'))],\n",
       " [('provision', 'NOUN'), (('amounts', 'NOUN'), ('amounts', 'VERB'))],\n",
       " [('a', 'DET'), (('one-house', 'NOUN'), ('one-house', 'ADJ'))],\n",
       " [('neither', 'DET'), (('bicameral', 'NOUN'), ('bicameral', 'ADJ'))],\n",
       " [('his', 'PRON'), (('signature', 'VERB'), ('signature', 'NOUN'))],\n",
       " [('can', 'VERB'), (('defeat', 'NOUN'), ('defeat', 'VERB'))],\n",
       " [('which', 'DET'), (('*T*-104', 'NOUN'), ('*T*-104', 'X'))],\n",
       " [('gauge', 'VERB'), (('learning', 'X'), ('learning', 'NOUN'))],\n",
       " [('are', 'VERB'), (('reaping', 'X'), ('reaping', 'VERB'))],\n",
       " [('carrier', 'NOUN'), (('costs', 'NOUN'), ('costs', 'VERB'))],\n",
       " [('costs', 'VERB'), (('less', 'ADV'), ('less', 'ADJ'))],\n",
       " [('takes', 'VERB'), (('up', 'ADV'), ('up', 'PRT'))],\n",
       " [('failed', 'VERB'),\n",
       "  (('labor-management', 'NOUN'), ('labor-management', 'ADJ'))],\n",
       " [('in', 'ADP'), (('Lebanon', 'DET'), ('Lebanon', 'NOUN'))],\n",
       " [('Lebanon', 'NOUN'), (('assassinated', 'NOUN'), ('assassinated', 'VERB'))],\n",
       " [('the', 'DET'), (('pro-Iranian', 'NOUN'), ('pro-Iranian', 'ADJ'))],\n",
       " [('by', 'ADP'), (('Riyadh', 'DET'), ('Riyadh', 'NOUN'))],\n",
       " [('Riyadh', 'NOUN'), ((\"'s\", 'VERB'), (\"'s\", 'PRT'))],\n",
       " [('for', 'ADP'),\n",
       "  (('computer-system-design', 'DET'), ('computer-system-design', 'ADJ'))],\n",
       " [('obtained', 'VERB'), (('8300', 'NUM'), ('8300', 'ADJ'))],\n",
       " [('And', 'CONJ'), (('unlike', 'ADJ'), ('unlike', 'ADP'))],\n",
       " [('covers', 'VERB'), (('only', 'ADV'), ('only', 'ADJ'))],\n",
       " [('who', 'PRON'), (('*T*-260', 'VERB'), ('*T*-260', 'X'))],\n",
       " [('including', 'VERB'), (('air', 'VERB'), ('air', 'NOUN'))],\n",
       " [('air', 'NOUN'), (('bags', 'X'), ('bags', 'NOUN'))],\n",
       " [('in', 'ADP'), (('front', 'NOUN'), ('front', 'ADJ'))],\n",
       " [('improved', 'VERB'), (('side-crash', 'X'), ('side-crash', 'ADJ'))],\n",
       " [('from', 'ADP'), (('11.5', 'DET'), ('11.5', 'NUM'))],\n",
       " [('was', 'VERB'), (('untrained', 'X'), ('untrained', 'ADJ'))],\n",
       " [('one', 'NUM'), (('botched', 'NOUN'), ('botched', 'ADJ'))],\n",
       " [(\"'\", 'PRT'), (('chief', 'NOUN'), ('chief', 'ADJ'))],\n",
       " [('the', 'DET'), (('asset-sale', 'NOUN'), ('asset-sale', 'ADJ'))],\n",
       " [('would', 'VERB'), (('end', 'NOUN'), ('end', 'VERB'))],\n",
       " [('$', '.'), (('620', 'NOUN'), ('620', 'NUM'))],\n",
       " [('$', '.'), (('45.2', 'NOUN'), ('45.2', 'NUM'))],\n",
       " [('$', '.'), (('84.9', 'NOUN'), ('84.9', 'NUM'))],\n",
       " [('$', '.'), (('1.24', 'NOUN'), ('1.24', 'NUM'))],\n",
       " [('year', 'NOUN'), (('earlier', 'ADV'), ('earlier', 'ADJ'))],\n",
       " [('an', 'DET'), (('eight-count', 'NOUN'), ('eight-count', 'ADJ'))],\n",
       " [('its', 'PRON'), (('Vice', 'VERB'), ('Vice', 'NOUN'))],\n",
       " [(\"'s\", 'PRT'), (('planned', 'VERB'), ('planned', 'ADJ'))],\n",
       " [('has', 'VERB'), (('promised', 'X'), ('promised', 'VERB'))],\n",
       " [('promised', 'VERB'), (('stiffer', 'VERB'), ('stiffer', 'ADJ'))],\n",
       " [('to', 'PRT'), (('study', 'NOUN'), ('study', 'VERB'))],\n",
       " [('$', '.'), (('3.28', 'NOUN'), ('3.28', 'NUM'))],\n",
       " [('$', '.'), (('3.16', 'NOUN'), ('3.16', 'NUM'))],\n",
       " [('City', 'NOUN'), (('executive', 'NOUN'), ('executive', 'ADJ'))],\n",
       " [('the', 'DET'), (('12-member', 'NOUN'), ('12-member', 'ADJ'))],\n",
       " [('the', 'DET'), (('risk-free', 'NOUN'), ('risk-free', 'ADJ'))],\n",
       " [('a', 'DET'), (('richer', 'NOUN'), ('richer', 'ADJ'))],\n",
       " [('the', 'DET'), (('more', 'ADJ'), ('more', 'ADV'))],\n",
       " [('and', 'CONJ'), (('galvanized', 'NOUN'), ('galvanized', 'ADJ'))],\n",
       " [('galvanized', 'ADJ'), (('coated', 'NOUN'), ('coated', 'VERB'))],\n",
       " [('than', 'ADP'), (('lower-priced', 'DET'), ('lower-priced', 'ADJ'))],\n",
       " [('lower-priced', 'ADJ'), (('structural', 'NOUN'), ('structural', 'ADJ'))],\n",
       " [('*ICH*-1', 'X'), (('Kathryn', 'VERB'), ('Kathryn', 'NOUN'))],\n",
       " [('Kathryn', 'NOUN'), (('McAuley', 'X'), ('McAuley', 'NOUN'))],\n",
       " [('not', 'ADV'), (('concern', 'NOUN'), ('concern', 'VERB'))],\n",
       " [('are', 'VERB'), (('sufficiently', 'X'), ('sufficiently', 'ADV'))],\n",
       " [('Buick', 'NOUN'), (('approached', 'NOUN'), ('approached', 'VERB'))],\n",
       " [('hurt', 'VERB'), (('U.S.-Japan', 'X'), ('U.S.-Japan', 'ADJ'))],\n",
       " [('a', 'DET'), (('minus', 'CONJ'), ('minus', 'NOUN'))],\n",
       " [('dividend', 'NOUN'), (('yield', 'VERB'), ('yield', 'NOUN'))],\n",
       " [('level', 'NOUN'), (('that', 'ADP'), ('that', 'DET'))],\n",
       " [('that', 'DET'), (('*T*-232', 'DET'), ('*T*-232', 'X'))],\n",
       " [('and', 'CONJ'), (('unenticing', 'NOUN'), ('unenticing', 'ADJ'))],\n",
       " [('something', 'NOUN'), (('stuck', 'NOUN'), ('stuck', 'VERB'))],\n",
       " [('to', 'PRT'), (('last', 'ADJ'), ('last', 'VERB'))],\n",
       " [('are', 'VERB'), (('worth', 'ADJ'), ('worth', 'ADP'))],\n",
       " [('for', 'ADP'), (('aesthetic', 'DET'), ('aesthetic', 'ADJ'))],\n",
       " [('one', 'NUM'), (('famed', 'NOUN'), ('famed', 'ADJ'))],\n",
       " [('SWITCHING', 'VERB'), (('TO', 'X'), ('TO', 'PRT'))],\n",
       " [('a', 'DET'), (('fast-growing', 'NOUN'), ('fast-growing', 'ADJ'))],\n",
       " [(',', '.'), (('acquisition-minded', 'NOUN'), ('acquisition-minded', 'ADJ'))],\n",
       " [('for', 'ADP'), (('Seattle-based', 'DET'), ('Seattle-based', 'ADJ'))],\n",
       " [('$', '.'), (('62.1', 'NOUN'), ('62.1', 'NUM'))],\n",
       " [('can', 'VERB'), (('provoke', 'X'), ('provoke', 'VERB'))],\n",
       " [('production', 'NOUN'), (('that', 'ADP'), ('that', 'DET'))],\n",
       " [('that', 'DET'), (('fuller', 'NOUN'), ('fuller', 'ADJ'))],\n",
       " [(\"''\", '.'), (('Concurrent', 'NOUN'), ('Concurrent', 'ADJ'))],\n",
       " [('many', 'ADJ'), (('emerging', 'NOUN'), ('emerging', 'VERB'))],\n",
       " [('have', 'VERB'), (('outpaced', 'X'), ('outpaced', 'VERB'))],\n",
       " [('more', 'ADV'), (('mature', 'VERB'), ('mature', 'ADJ'))],\n",
       " [('.', '.'), (('Common', 'NOUN'), ('Common', 'ADJ'))],\n",
       " [('$', '.'), (('5.57', 'NOUN'), ('5.57', 'NUM'))],\n",
       " [('who', 'PRON'), (('*T*-120', 'VERB'), ('*T*-120', 'X'))],\n",
       " [('green', 'ADJ'), (('light', 'ADJ'), ('light', 'NOUN'))],\n",
       " [(\"'s\", 'PRT'), (('yielding', 'VERB'), ('yielding', 'NOUN'))],\n",
       " [('--', '.'), (('telegraph', 'NOUN'), ('telegraph', 'VERB'))],\n",
       " [('students', 'NOUN'), (('beforehand', 'NOUN'), ('beforehand', 'ADV'))],\n",
       " [('the', 'DET'), (('precise', 'NOUN'), ('precise', 'ADJ'))],\n",
       " [('give', 'VERB'), (('away', 'ADV'), ('away', 'PRT'))],\n",
       " [('general', 'ADJ'), (('softening', 'VERB'), ('softening', 'NOUN'))],\n",
       " [('more', 'ADV'), (('scarce', 'VERB'), ('scarce', 'ADJ'))],\n",
       " [('``', '.'), (('Public', 'NOUN'), ('Public', 'ADJ'))],\n",
       " [('policy', 'NOUN'), (('favors', 'NOUN'), ('favors', 'VERB'))],\n",
       " [('might', 'VERB'), (('accompany', 'X'), ('accompany', 'VERB'))],\n",
       " [('save', 'VERB'), (('lives', 'VERB'), ('lives', 'NOUN'))],\n",
       " [('reduce', 'VERB'), (('pain', 'X'), ('pain', 'NOUN'))],\n",
       " [('the', 'DET'), (('unanimous', 'NOUN'), ('unanimous', 'ADJ'))],\n",
       " [('trading', 'NOUN'), (('focus', 'VERB'), ('focus', 'NOUN'))],\n",
       " [('will', 'VERB'), (('personally', 'X'), ('personally', 'ADV'))],\n",
       " [('by', 'ADP'), (('Manfred', 'DET'), ('Manfred', 'NOUN'))],\n",
       " [('The', 'DET'), (('Sacramento-based', 'NOUN'), ('Sacramento-based', 'ADJ'))],\n",
       " [('which', 'DET'), (('*T*-110', 'NOUN'), ('*T*-110', 'X'))],\n",
       " [('in', 'ADP'), (('north', 'DET'), ('north', 'ADJ'))],\n",
       " [('print', 'VERB'), (('hither', 'X'), ('hither', 'ADV'))],\n",
       " [('to', 'PRT'), (('yon', 'VERB'), ('yon', 'ADV'))],\n",
       " [(\"n't\", 'ADV'), (('as', 'ADP'), ('as', 'ADV'))],\n",
       " [('as', 'ADV'), (('troublesome', 'DET'), ('troublesome', 'ADJ'))],\n",
       " [('called', 'VERB'), (('in', 'ADP'), ('in', 'PRT'))],\n",
       " [('were', 'VERB'), (('occupying', 'X'), ('occupying', 'VERB'))],\n",
       " [('*T*-1', 'X'), (('Brenda', 'VERB'), ('Brenda', 'NOUN'))],\n",
       " [('Brenda', 'NOUN'), (('Malizia', 'X'), ('Malizia', 'NOUN'))],\n",
       " [('Malizia', 'NOUN'), (('Negus', 'VERB'), ('Negus', 'NOUN'))],\n",
       " [('may', 'VERB'), (('blip', 'X'), ('blip', 'VERB'))],\n",
       " [('blip', 'VERB'), (('down', 'ADV'), ('down', 'PRT'))],\n",
       " [('to', 'PRT'), (('veto', 'NOUN'), ('veto', 'VERB'))],\n",
       " [('veto', 'VERB'), (('such', 'ADJ'), ('such', 'DET'))],\n",
       " [('it', 'PRON'), (('views', 'NOUN'), ('views', 'VERB'))],\n",
       " [('an', 'DET'), (('undesirable', 'NOUN'), ('undesirable', 'ADJ'))],\n",
       " [('the', 'DET'), (('300-113', 'NOUN'), ('300-113', 'NUM'))],\n",
       " [('the', 'DET'), (('potential', 'ADJ'), ('potential', 'NOUN'))],\n",
       " [('in', 'ADP'), (('1988-89', 'DET'), ('1988-89', 'NUM'))],\n",
       " [('the', 'DET'), (('manufacturing', 'NOUN'), ('manufacturing', 'VERB'))],\n",
       " [(',', '.'), (('ranging', 'NOUN'), ('ranging', 'VERB'))],\n",
       " [('of', 'ADP'), (('as', 'ADP'), ('as', 'ADV'))],\n",
       " [('at', 'ADP'), (('14.53', 'DET'), ('14.53', 'NUM'))],\n",
       " [('up', 'ADV'), (('0.56', 'VERB'), ('0.56', 'NUM'))],\n",
       " [('The', 'DET'), (('total', 'ADJ'), ('total', 'NOUN'))],\n",
       " [('total', 'NOUN'), (('marks', 'NOUN'), ('marks', 'VERB'))],\n",
       " [('make', 'VERB'), (('sweatshirts', 'X'), ('sweatshirts', 'NOUN'))],\n",
       " [('in', 'ADP'), (('detail', 'DET'), ('detail', 'NOUN'))],\n",
       " [('took', 'VERB'), (('refuge', 'X'), ('refuge', 'NOUN'))],\n",
       " [('transaction', 'NOUN'), (('sound', 'NOUN'), ('sound', 'VERB'))],\n",
       " [('his', 'PRON'), (('doctorate', 'VERB'), ('doctorate', 'NOUN'))],\n",
       " [('make', 'VERB'), (('up', 'ADV'), ('up', 'PRT'))],\n",
       " [('own', 'ADJ'), (('mind', 'VERB'), ('mind', 'NOUN'))],\n",
       " [('a', 'DET'), (('principal', 'NOUN'), ('principal', 'ADJ'))],\n",
       " [('biggest', 'ADJ'), (('nonfinancial', 'NOUN'), ('nonfinancial', 'ADJ'))],\n",
       " [('gained', 'VERB'), (('1.39', 'X'), ('1.39', 'NUM'))],\n",
       " [('to', 'PRT'), (('446.62', 'VERB'), ('446.62', 'NUM'))],\n",
       " [('the', 'DET'), (('sell', 'VERB'), ('sell', 'NOUN'))],\n",
       " [('specialist', 'NOUN'), (('there', 'DET'), ('there', 'ADV'))],\n",
       " [(',', '.'), (('plans', 'NOUN'), ('plans', 'VERB'))],\n",
       " [('proposal', 'NOUN'), (('that', 'ADP'), ('that', 'DET'))],\n",
       " [(':', '.'), (('acid', 'NOUN'), ('acid', 'ADJ'))],\n",
       " [('added', 'VERB'), (('fuel', 'VERB'), ('fuel', 'NOUN'))],\n",
       " [('of', 'ADP'), (('discontent', 'DET'), ('discontent', 'NOUN'))],\n",
       " [('times', 'NOUN'), (('as', 'ADP'), ('as', 'ADV'))],\n",
       " [('the', 'DET'), (('underlying', 'ADJ'), ('underlying', 'VERB'))],\n",
       " [('``', '.'), (('minority-owned', 'NOUN'), ('minority-owned', 'ADJ'))],\n",
       " [('a', 'DET'), (('blighted', 'NOUN'), ('blighted', 'ADJ'))],\n",
       " [('*', 'X'), (('famous', 'VERB'), ('famous', 'ADJ'))],\n",
       " [('by', 'ADP'), (('Jimmy', 'DET'), ('Jimmy', 'NOUN'))],\n",
       " [(\"'s\", 'PRT'), (('500-Stock', 'VERB'), ('500-Stock', 'NOUN'))],\n",
       " [('added', 'VERB'), (('0.84', 'X'), ('0.84', 'NUM'))],\n",
       " [('to', 'PRT'), (('341.20', 'VERB'), ('341.20', 'NUM'))],\n",
       " [('was', 'VERB'), (('equivalent', 'NOUN'), ('equivalent', 'ADJ'))],\n",
       " [('industrial', 'ADJ'), (('average', 'ADJ'), ('average', 'NOUN'))],\n",
       " [('the', 'DET'), (('earliest', 'NOUN'), ('earliest', 'ADJ'))],\n",
       " [('something', 'NOUN'), (('inherently', 'NOUN'), ('inherently', 'ADV'))],\n",
       " [('inherently', 'ADV'), (('suspect', 'VERB'), ('suspect', 'ADJ'))],\n",
       " [('the', 'DET'), (('executive', 'ADJ'), ('executive', 'NOUN'))],\n",
       " [('being', 'VERB'), (('wasted', 'X'), ('wasted', 'VERB'))],\n",
       " [('some', 'DET'), (('favored', 'ADJ'), ('favored', 'VERB'))],\n",
       " [('an', 'DET'), (('interior', 'NOUN'), ('interior', 'ADJ'))],\n",
       " [('things', 'NOUN'), (('spook', 'NOUN'), ('spook', 'VERB'))],\n",
       " [(',', '.'), (('traced', 'NOUN'), ('traced', 'VERB'))],\n",
       " [('0', 'X'), (('most', 'ADV'), ('most', 'ADJ'))],\n",
       " [('to', 'PRT'), (('913', 'VERB'), ('913', 'NUM'))],\n",
       " [('$', '.'), (('14.43', 'NOUN'), ('14.43', 'NUM'))],\n",
       " [('conversations', 'NOUN'), (('that', 'ADP'), ('that', 'DET'))],\n",
       " [('of', 'ADP'), (('Mount', 'DET'), ('Mount', 'NOUN'))],\n",
       " [('which', 'DET'), (('*T*-194', 'NOUN'), ('*T*-194', 'X'))],\n",
       " [('can', 'VERB'), (('generate', 'X'), ('generate', 'VERB'))],\n",
       " [('effective', 'ADJ'),\n",
       "  (('search-and-seizure', 'NOUN'), ('search-and-seizure', 'ADJ'))],\n",
       " [('to', 'PRT'), (('aid', 'NOUN'), ('aid', 'VERB'))],\n",
       " [('market', 'NOUN'), (('rebound', 'VERB'), ('rebound', 'NOUN'))],\n",
       " [('rebound', 'NOUN'), (('pushes', 'X'), ('pushes', 'VERB'))],\n",
       " [('the', 'DET'), (('delay', 'VERB'), ('delay', 'NOUN'))],\n",
       " [('.', '.'), (('Always', 'NOUN'), ('Always', 'ADV'))],\n",
       " [('$', '.'), (('422.5', 'NOUN'), ('422.5', 'NUM'))],\n",
       " [('$', '.'), (('6.44', 'NOUN'), ('6.44', 'NUM'))],\n",
       " [('up', 'ADV'), (('8.9', 'VERB'), ('8.9', 'NUM'))],\n",
       " [('$', '.'), (('387.8', 'NOUN'), ('387.8', 'NUM'))],\n",
       " [('$', '.'), (('5.63', 'NOUN'), ('5.63', 'NUM'))],\n",
       " [('*T*-14', 'X'), (('matters', 'NOUN'), ('matters', 'VERB'))],\n",
       " [('doing', 'VERB'), (('fine', 'NOUN'), ('fine', 'ADV'))],\n",
       " [('a', 'DET'), (('needy', 'NOUN'), ('needy', 'ADJ'))],\n",
       " [('loan', 'NOUN'), (('solvent', 'NOUN'), ('solvent', 'ADJ'))],\n",
       " [('$', '.'), (('490', 'NOUN'), ('490', 'NUM'))],\n",
       " [('the', 'DET'), (('buy-back', 'ADJ'), ('buy-back', 'NOUN'))],\n",
       " [('the', 'DET'), (('hardest-hit', 'NOUN'), ('hardest-hit', 'ADJ'))],\n",
       " [('of', 'ADP'), (('flashy', 'DET'), ('flashy', 'ADJ'))],\n",
       " [('By', 'ADP'), (('1997', 'DET'), ('1997', 'NUM'))],\n",
       " [('remaining', 'VERB'), (('uses', 'VERB'), ('uses', 'NOUN'))],\n",
       " [('of', 'ADP'), (('cancer-causing', 'DET'), ('cancer-causing', 'ADJ'))],\n",
       " [('be', 'VERB'), (('outlawed', 'X'), ('outlawed', 'VERB'))],\n",
       " [('totaled', 'VERB'), (('154.2', 'X'), ('154.2', 'NUM'))],\n",
       " [('the', 'DET'), (('shaky', 'NOUN'), ('shaky', 'ADJ'))],\n",
       " [('will', 'VERB'), (('convert', 'X'), ('convert', 'VERB'))],\n",
       " [('.', '.'), (('Similar', 'NOUN'), ('Similar', 'ADJ'))],\n",
       " [('levels', 'NOUN'), (('hamstrung', 'NOUN'), ('hamstrung', 'VERB'))],\n",
       " [('.', '.'), (('More', 'ADV'), ('More', 'ADJ'))],\n",
       " [('the', 'DET'), (('red-carpet', 'NOUN'), ('red-carpet', 'ADJ'))],\n",
       " [('treatment', 'NOUN'), (('tempts', 'NOUN'), ('tempts', 'VERB'))],\n",
       " [('to', 'PRT'), (('return', 'NOUN'), ('return', 'VERB'))],\n",
       " [('takes', 'VERB'), (('places', 'VERB'), ('places', 'NOUN'))],\n",
       " [('to', 'PRT'), (('issue', 'NOUN'), ('issue', 'VERB'))],\n",
       " [('a', 'DET'), (('1934', 'NOUN'), ('1934', 'NUM'))],\n",
       " [(',', '.'), (('as', 'ADP'), ('as', 'ADV'))],\n",
       " [('*EXP*-2', 'X'), ((\"'s\", 'PRT'), (\"'s\", 'VERB'))],\n",
       " [('to', 'PRT'), (('double-C', 'VERB'), ('double-C', 'NOUN'))],\n",
       " [('from', 'ADP'), (('triple-C', 'DET'), ('triple-C', 'NOUN'))],\n",
       " [('in', 'ADP'), (('derivative', 'DET'), ('derivative', 'ADJ'))],\n",
       " [('a', 'DET'), (('supportive', 'NOUN'), ('supportive', 'ADJ'))],\n",
       " [('$', '.'), (('8.9', 'NOUN'), ('8.9', 'NUM'))],\n",
       " [(',', '.'), (('restored', 'NOUN'), ('restored', 'VERB'))],\n",
       " [('been', 'VERB'), (('limping', 'X'), ('limping', 'VERB'))],\n",
       " [('on', 'ADP'), (('limited', 'ADJ'), ('limited', 'VERB'))],\n",
       " [('its', 'PRON'), (('accomplishments', 'VERB'), ('accomplishments', 'NOUN'))],\n",
       " [('were', 'VERB'), (('notable', 'X'), ('notable', 'ADJ'))],\n",
       " [('.', '.'), (('More', 'ADV'), ('More', 'ADJ'))],\n",
       " [('of', 'ADP'), (('stress', 'DET'), ('stress', 'NOUN'))],\n",
       " [('The', 'DET'), (('Nine', 'NOUN'), ('Nine', 'NUM'))],\n",
       " [('have', 'VERB'), (('reaped', 'X'), ('reaped', 'VERB'))],\n",
       " [('.', '.'), (('Typical', 'NOUN'), ('Typical', 'ADJ'))],\n",
       " [(':', '.'), (('8.60', 'NOUN'), ('8.60', 'NUM'))],\n",
       " [(';', '.'), (('8.35', 'NOUN'), ('8.35', 'NUM'))],\n",
       " [('become', 'VERB'), (('polarized', 'X'), ('polarized', 'VERB'))],\n",
       " [(',', '.'), (('so', 'ADV'), ('so', 'ADP'))],\n",
       " [('a', 'DET'), (('middle', 'NOUN'), ('middle', 'ADJ'))],\n",
       " [('of', 'ADP'), (('Charlie', 'DET'), ('Charlie', 'NOUN'))],\n",
       " [(',', '.'), (('seven-year', 'NOUN'), ('seven-year', 'ADJ'))],\n",
       " [('one', 'NUM'), (('offering', 'NOUN'), ('offering', 'VERB'))],\n",
       " [('--', '.'), (('offer', 'NOUN'), ('offer', 'VERB'))],\n",
       " [('Constitution', 'NOUN'), (('implicitly', 'NOUN'), ('implicitly', 'ADV'))],\n",
       " [('head', 'NOUN'), (('chopped', 'NOUN'), ('chopped', 'VERB'))],\n",
       " [('drink', 'VERB'), (('Salty', 'X'), ('Salty', 'NOUN'))],\n",
       " [('Salty', 'NOUN'), (('Dogs', 'VERB'), ('Dogs', 'NOUN'))],\n",
       " [(',', '.'), (('whistle', 'NOUN'), ('whistle', 'VERB'))],\n",
       " [('watch', 'VERB'), (('Bugs', 'X'), ('Bugs', 'NOUN'))],\n",
       " [('Bugs', 'NOUN'), (('Bunny', 'VERB'), ('Bunny', 'NOUN'))],\n",
       " [('.', '.'), (('1', 'NUM'), ('1', 'X'))],\n",
       " [('--', '.'), (('in', 'ADP'), ('in', 'NOUN'))],\n",
       " [(',', '.'), (('1933', 'NOUN'), ('1933', 'NUM'))],\n",
       " [(',', '.'), (('1961', 'NOUN'), ('1961', 'NUM'))],\n",
       " [(',', '.'), (('1968', 'NOUN'), ('1968', 'NUM'))],\n",
       " [('.', '.'), (('Back', 'NOUN'), ('Back', 'ADV'))],\n",
       " [('squeezed', 'VERB'), (('in', 'ADP'), ('in', 'PRT'))],\n",
       " [('*U*', 'X'), (('more', 'ADV'), ('more', 'ADJ'))],\n",
       " [('$', '.'), (('130.7', 'NOUN'), ('130.7', 'NUM'))],\n",
       " [('for', 'ADP'), (('AC-130U', 'DET'), ('AC-130U', 'NOUN'))],\n",
       " [('in', 'ADP'), (('ascendency', 'DET'), ('ascendency', 'NOUN'))],\n",
       " [('--', '.'), (('consisting', 'NOUN'), ('consisting', 'VERB'))],\n",
       " [('with', 'ADP'), (('immense', 'DET'), ('immense', 'NOUN'))],\n",
       " [('the', 'DET'), (('fast-growing', 'NOUN'), ('fast-growing', 'ADJ'))],\n",
       " [(\"'s\", 'PRT'), (('move', 'VERB'), ('move', 'NOUN'))],\n",
       " [('being', 'VERB'), (('flooded', 'X'), ('flooded', 'VERB'))],\n",
       " [('comedies', 'NOUN'), (('that', 'ADP'), ('that', 'DET'))],\n",
       " [('that', 'DET'), (('*T*-152', 'DET'), ('*T*-152', 'X'))],\n",
       " [('What', 'PRON'), (('*T*-234', 'VERB'), ('*T*-234', 'X'))],\n",
       " [('growth', 'NOUN'), (('next', 'ADP'), ('next', 'ADJ'))],\n",
       " [('registered', 'VERB'), (('reps', 'X'), ('reps', 'NOUN'))],\n",
       " [('and', 'CONJ'), (('security-type', 'NOUN'), ('security-type', 'ADJ'))],\n",
       " [('training', 'NOUN'), (('so', 'ADV'), ('so', 'ADP'))],\n",
       " [('though', 'ADP'), (('exhaust', 'VERB'), ('exhaust', 'NOUN'))],\n",
       " [('fans', 'NOUN'), (('ventilated', 'NOUN'), ('ventilated', 'VERB'))]]"
      ]
     },
     "execution_count": 63,
     "metadata": {},
     "output_type": "execute_result"
    }
   ],
   "source": [
    "incorrect_tagged_cases"
   ]
  },
  {
   "cell_type": "code",
   "execution_count": 64,
   "metadata": {},
   "outputs": [
    {
     "name": "stdout",
     "output_type": "stream",
     "text": [
      "312\n"
     ]
    }
   ],
   "source": [
    "print(len(incorrect_tagged_cases))"
   ]
  },
  {
   "cell_type": "markdown",
   "metadata": {},
   "source": [
    "### Compare the tagging accuracies of the modifications with the vanilla Viterbi algorithm"
   ]
  },
  {
   "cell_type": "code",
   "execution_count": 65,
   "metadata": {},
   "outputs": [],
   "source": [
    "# POS -Tagging\n",
    "# Approach            Accuracy(%)   Wrong_tagged_words    Comments\n",
    "#------------------------------------------------------------------\n",
    "# Vanila Viterbi      90.7          453                   This approach uses basic viterbi heuristic\n",
    "# ------------------------------------------------------------------------------------------------\n",
    "# Approach 1          94.8          254                   This approach uses the viterbi approach \n",
    "#                                                         for known words and rule based approach \n",
    "#                                                         for unknown words\n",
    "# ------------------------------------------------------------------------------------------------\n",
    "# Approach 2          93.6          312                   This approach uses vanilla viterbi approach\n",
    "#                                                         for known words and uses on transition probability\n",
    "#                                                         for calculating state probability of unknown words\n",
    "# ------------------------------------------------------------------------------------------------\n",
    "\n",
    "# Approach 1 improves the accuracy by 4.1%\n",
    "# Approach 2 improves the accuracy by 2.9% \n",
    "                                                                \n"
   ]
  },
  {
   "cell_type": "markdown",
   "metadata": {},
   "source": [
    "### List down cases which were incorrectly tagged by original POS tagger and got corrected by your modifications"
   ]
  },
  {
   "cell_type": "code",
   "execution_count": 66,
   "metadata": {},
   "outputs": [],
   "source": [
    "# Correct tagged list of words in test_sequences file\n",
    "# Android - Noun, 2011 - number, 2013 - number, 2015 - number, 2018 - number, 21st - number, Cup - noun, FIFA - noun, \n",
    "# Google - noun, ICESAT-2 - noun, NASA - noun, OS - noun, Satellite- noun, Twitter - noun, Twitters - noun, arriving - verb,\n",
    "# best-selling - adjective, contested - verb, domineering - adjective, firehose - noun, interact - verb, invented - verb,\n",
    "# messages - noun, online - adjective, personality - noun, smartphones - noun, tournament - noun, trips - noun, tweets - noun\n",
    "# worldwide - noun, etc..."
   ]
  },
  {
   "cell_type": "code",
   "execution_count": 67,
   "metadata": {},
   "outputs": [
    {
     "name": "stdout",
     "output_type": "stream",
     "text": [
      "[('Android', '.'), ('OS', '.'), ('worldwide', '.'), ('smartphones', '.'), ('2011', '.'), ('2013', '.'), ('Google', '.'), ('Twitter', '.'), ('2015', '.'), ('Google', '.'), (\"Twitter's\", '.'), ('firehose', '.'), ('Twitter', '.'), ('online', '.'), ('interact', '.'), ('messages', '.'), ('tweets', '.'), ('domineering', '.'), ('personality', '.'), ('2018', '.'), ('FIFA', '.'), ('Cup', '.'), ('21st', '.'), ('FIFA', '.'), ('Cup', '.'), ('tournament', '.'), ('contested', '.'), ('Cup', '.'), ('trips', '.'), ('arriving', '.'), ('NASA', '.'), ('invited', '.'), ('ICESAT-2', '.'), ('Satellite', '.')]\n"
     ]
    }
   ],
   "source": [
    "# Vanilla Viterbi\n",
    "tagged_seq = Viterbi(unknown_words_in_file)\n",
    "print(tagged_seq)"
   ]
  },
  {
   "cell_type": "code",
   "execution_count": 68,
   "metadata": {},
   "outputs": [],
   "source": [
    "# Vanilla viterbi tags each unknown word as a . (as emission probability is \n",
    "# 0 hence, assigns arbitrarily a tag which is '.')"
   ]
  },
  {
   "cell_type": "code",
   "execution_count": 69,
   "metadata": {},
   "outputs": [
    {
     "name": "stdout",
     "output_type": "stream",
     "text": [
      "[('Android', 'NOUN'), ('OS', 'NOUN'), ('worldwide', 'NOUN'), ('smartphones', 'NOUN'), ('2011', 'NUM'), ('2013', 'NUM'), ('Google', 'NOUN'), ('Twitter', 'NOUN'), ('2015', 'NUM'), ('Google', 'NOUN'), (\"Twitter's\", 'NOUN'), ('firehose', 'NOUN'), ('Twitter', 'NOUN'), ('online', 'NOUN'), ('interact', 'NOUN'), ('messages', 'NOUN'), ('tweets', 'NOUN'), ('domineering', 'VERB'), ('personality', 'NOUN'), ('2018', 'NUM'), ('FIFA', 'NOUN'), ('Cup', 'NOUN'), ('21st', 'NOUN'), ('FIFA', 'NOUN'), ('Cup', 'NOUN'), ('tournament', 'NOUN'), ('contested', 'VERB'), ('Cup', 'NOUN'), ('trips', 'NOUN'), ('arriving', 'VERB'), ('NASA', 'NOUN'), ('invited', 'VERB'), ('ICESAT-2', 'NOUN'), ('Satellite', 'NOUN')]\n"
     ]
    }
   ],
   "source": [
    "# Approach 1 to modify viterbi\n",
    "tagged_seq = Viterbi_modified_1(unknown_words_in_file)\n",
    "print(tagged_seq)"
   ]
  },
  {
   "cell_type": "code",
   "execution_count": 70,
   "metadata": {},
   "outputs": [],
   "source": [
    "# Cases that were incorrectly tagged by original POS tagger and got corrected by modifications\n",
    "# word          tag_by_original    tag_after_modification\n",
    "# -------------------------------------------------------\n",
    "# 2011          .                  NUM\n",
    "# 2013          .                  NUM\n",
    "# -------------------------------------------------------\n",
    "# Cup           .                  NOUN\n",
    "# Android       .                  NOUN\n",
    "# Satellite     .                  NOUN\n",
    "# -------------------------------------------------------\n",
    "# Contested     .                  VERB\n",
    "# Invited       .                  VERB\n"
   ]
  },
  {
   "cell_type": "code",
   "execution_count": 71,
   "metadata": {},
   "outputs": [
    {
     "name": "stdout",
     "output_type": "stream",
     "text": [
      "[('Android', 'NOUN'), ('OS', 'NOUN'), ('worldwide', 'NOUN'), ('smartphones', 'NOUN'), ('2011', 'NOUN'), ('2013', 'NOUN'), ('Google', 'NOUN'), ('Twitter', 'NOUN'), ('2015', 'NOUN'), ('Google', 'NOUN'), (\"Twitter's\", 'NOUN'), ('firehose', 'NOUN'), ('Twitter', 'NOUN'), ('online', 'NOUN'), ('interact', 'NOUN'), ('messages', 'NOUN'), ('tweets', 'NOUN'), ('domineering', 'NOUN'), ('personality', 'NOUN'), ('2018', 'NOUN'), ('FIFA', 'NOUN'), ('Cup', 'NOUN'), ('21st', 'NOUN'), ('FIFA', 'NOUN'), ('Cup', 'NOUN'), ('tournament', 'NOUN'), ('contested', 'NOUN'), ('Cup', 'NOUN'), ('trips', 'NOUN'), ('arriving', 'NOUN'), ('NASA', 'NOUN'), ('invited', 'NOUN'), ('ICESAT-2', 'NOUN'), ('Satellite', 'NOUN')]\n"
     ]
    }
   ],
   "source": [
    "# Approach 2 to modify Vanilla viterbi\n",
    "tagged_seq = Viterbi_modified_2(unknown_words_in_file)\n",
    "print(tagged_seq)"
   ]
  },
  {
   "cell_type": "code",
   "execution_count": 72,
   "metadata": {},
   "outputs": [],
   "source": [
    "# Cases that were incorrectly tagged by original POS tagger and got corrected by modifications\n",
    "# word          tag_by_original    tag_after_modification\n",
    "# OS            .                  NOUN\n",
    "# tweets        .                  NOUN\n",
    "# Google        .                  NOUN"
   ]
  },
  {
   "cell_type": "code",
   "execution_count": null,
   "metadata": {},
   "outputs": [],
   "source": [
    "# Hence, we saw unknown words are assigned a random tag arbitrarily with vanilla viterbi and when we modify\n",
    "# and use a different approach for unknown words like finding the patterns in words or by checking the \n",
    "# previous tag of word or by not using emission probablility for unknown words, the accuracy improves\n",
    "# because for known words it is viterbi and for unknown it is now better that random."
   ]
  }
 ],
 "metadata": {
  "kernelspec": {
   "display_name": "Python 3",
   "language": "python",
   "name": "python3"
  },
  "language_info": {
   "codemirror_mode": {
    "name": "ipython",
    "version": 3
   },
   "file_extension": ".py",
   "mimetype": "text/x-python",
   "name": "python",
   "nbconvert_exporter": "python",
   "pygments_lexer": "ipython3",
   "version": "3.6.4"
  }
 },
 "nbformat": 4,
 "nbformat_minor": 2
}
